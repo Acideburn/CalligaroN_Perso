{
 "cells": [
  {
   "cell_type": "markdown",
   "metadata": {},
   "source": [
    "# Calligaro Nicolas\n",
    "## Affichage d'une carte et des données\n",
    "Readme :\\\n",
    "Ce jupyter se concentre sur l'affichage du carte et d'élément dessus.\n",
    "Runner l'ensemble du jupyter"
   ]
  },
  {
   "cell_type": "code",
   "execution_count": 1,
   "metadata": {},
   "outputs": [
    {
     "data": {
      "text/plain": [
       "((33, 22), (4142, 23))"
      ]
     },
     "execution_count": 1,
     "metadata": {},
     "output_type": "execute_result"
    }
   ],
   "source": [
    "import pandas as pd\n",
    "import ipyleaflet\n",
    "from ipyleaflet import basemaps,Map,Marker,AntPath,FullScreenControl, Popup, Polyline,LayersControl\n",
    "import ipywidgets as widgets\n",
    "import pickle\n",
    "import seaborn as sns\n",
    "df_clas=pickle.Unpickler(open(\"df_clas.pkl\",'rb')).load()\n",
    "df_tech=pickle.Unpickler(open(\"df_tech.pkl\",'rb')).load()\n",
    "df_tech.shape,df_clas.shape"
   ]
  },
  {
   "cell_type": "markdown",
   "metadata": {},
   "source": [
    "# Création d'un ant_path sur une carte"
   ]
  },
  {
   "cell_type": "code",
   "execution_count": 3,
   "metadata": {},
   "outputs": [],
   "source": [
    "def Ant_Path_Skipper(list_skipper):\n",
    "    \"\"\"\n",
    "    On produit des ant_path : chemin animé\n",
    "    pour chaque skipper passé dans la liste\n",
    "    attention : fait vite ramer\n",
    "    \"\"\"\n",
    "    path = {}\n",
    "    for i in list_skipper:#df['N°'].unique(): #on n'en fait qu'un seul pour test\n",
    "        pos_skip= []\n",
    "        for x,y in zip(list(df_clas.loc[df_clas['Num_voile'] == i]['Latitude']),list(df_clas.loc[df_clas['Num_voile'] == i]['Longitude'])):\n",
    "            if (x and y) :#protection contre les False si donnée manquante\n",
    "                pos_skip.append([x,y])\n",
    "        path[i] = AntPath(\n",
    "                         locations=[\n",
    "                             pos_skip\n",
    "                         ]\n",
    "                        ,use = 'polyline' #‘polyline’, ‘polygon’, ‘rectangle’ and ‘circle’ \n",
    "                        ,radius= 10 #Radius of the circle, if use is set to ‘circle’\n",
    "                        ,weight =5 #Epaisseur du trait\n",
    "                        ,dash_array=[10, 100] #nb de fourmi sur le chemin\n",
    "                        ,delay=1000 #vitesse des fourmis\n",
    "                        ,color='#7590ba' #couleur de fond\n",
    "                        ,pulse_color='#3f6fba' #couleur de la fourmi\n",
    "                        ,name=df_tech.loc[i].Skipper\n",
    "                        )\n",
    "    return path"
   ]
  },
  {
   "cell_type": "code",
   "execution_count": 4,
   "metadata": {},
   "outputs": [],
   "source": [
    "def polyline_skipper(list_skipper):\n",
    "    \"\"\"\n",
    "    On produit des polyline, comme ant_path mais non animé\n",
    "    \"\"\"\n",
    "    df_clas.Skipper\n",
    "    pal = sns.color_palette('rainbow', 20)\n",
    "    pal2= sns.color_palette(\"Spectral\", as_cmap=True)\n",
    "    line={}\n",
    "    for i in list_skipper:\n",
    "        pos_skip= []\n",
    "        for x,y in zip(list(df_clas.loc[df_clas['Num_voile'] == i]['Latitude']),list(df_clas.loc[df_clas['Num_voile'] == i]['Longitude'])):\n",
    "            if (x and y) :#protection contre les False si données manquantes\n",
    "                pos_skip.append([x,y])\n",
    "                \n",
    "        line[i] = Polyline(locations=[pos_skip]\n",
    "                           ,color= pal.as_hex()[i%20] #Couleur\n",
    "                           ,fill=False\n",
    "                           ,stroke = True #Bordure\n",
    "                           ,opacity=1.0\n",
    "                           ,weight=1 #largeur en pixel\n",
    "                           #,fill_color = None #couleur du remplissage\n",
    "                           #,fill_opacity = 0.2 #opacité du remplissage\n",
    "                           #,dash_array = None\n",
    "                           #,line_cap = 'round'\n",
    "                           #,line_join = 'round'\n",
    "                           ,name=df_tech.loc[i].Skipper\n",
    "                          )\n",
    "    return line"
   ]
  },
  {
   "cell_type": "code",
   "execution_count": 5,
   "metadata": {},
   "outputs": [
    {
     "data": {
      "text/plain": [
       "'#e0d377'"
      ]
     },
     "execution_count": 5,
     "metadata": {},
     "output_type": "execute_result"
    }
   ],
   "source": [
    "import seaborn as sns\n",
    "pal = sns.color_palette('rainbow', 15)\n",
    "pal.as_hex()[10]"
   ]
  },
  {
   "cell_type": "code",
   "execution_count": 5,
   "metadata": {},
   "outputs": [],
   "source": [
    "#On calcul tous les trajet en Ant_path et en polyline\n",
    "top3 = list(df_clas.sort_values(by=['Date full','Rang'],ascending=[False,True])['Num_voile'].head(3))\n",
    "last10 = list(df_clas.sort_values(by=['Date full','Rang'],ascending=[False,True])['Num_voile'])[3:13]\n",
    "other = list(df_clas[~df_clas.Num_voile.isin(top3)]['Num_voile'].unique())\n",
    "full = list(df_clas.Num_voile.unique())\n",
    "antpath = Ant_Path_Skipper(top3)\n",
    "polyline = polyline_skipper(last10)"
   ]
  },
  {
   "cell_type": "code",
   "execution_count": 6,
   "metadata": {
    "scrolled": false
   },
   "outputs": [
    {
     "data": {
      "application/vnd.jupyter.widget-view+json": {
       "model_id": "902080dda8a74125afc56c3b459a2ec4",
       "version_major": 2,
       "version_minor": 0
      },
      "text/plain": [
       "Map(center=[46, -1], controls=(ZoomControl(options=['position', 'zoom_in_text', 'zoom_in_title', 'zoom_out_tex…"
      ]
     },
     "metadata": {},
     "output_type": "display_data"
    }
   ],
   "source": [
    "#On affiche les 3 premiers en ant_path.\n",
    "#Le reste en polyline.\n",
    "\n",
    "m = Map(center=(46, -1), zoom=2, basemap = basemaps.Stamen.Watercolor)\n",
    "\n",
    "#Le ant path affice les 3 premiers dans l'ordre\n",
    "for key in antpath.keys():\n",
    "    m.add_layer(antpath[key])\n",
    "    \n",
    "#le polyline n'a pas d'ordre\n",
    "for key in polyline.keys():\n",
    "    m.add_layer(polyline[key])  \n",
    "\n",
    "m.add_control(LayersControl(position='topright'))\n",
    "\n",
    "m.add_control(FullScreenControl())\n",
    "\n",
    "display(m)"
   ]
  }
 ],
 "metadata": {
  "kernelspec": {
   "display_name": "Python 3",
   "language": "python",
   "name": "python3"
  },
  "language_info": {
   "codemirror_mode": {
    "name": "ipython",
    "version": 3
   },
   "file_extension": ".py",
   "mimetype": "text/x-python",
   "name": "python",
   "nbconvert_exporter": "python",
   "pygments_lexer": "ipython3",
   "version": "3.7.7"
  }
 },
 "nbformat": 4,
 "nbformat_minor": 4
}
