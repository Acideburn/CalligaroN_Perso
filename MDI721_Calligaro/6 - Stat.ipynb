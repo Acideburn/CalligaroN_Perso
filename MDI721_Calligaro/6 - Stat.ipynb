{
 "cells": [
  {
   "cell_type": "markdown",
   "metadata": {},
   "source": [
    "# Calligaro Nicolas\n",
    "## Statistique sur les données de la course"
   ]
  },
  {
   "cell_type": "markdown",
   "metadata": {},
   "source": [
    "## Idée :\n",
    "pour chaque skipper :\n",
    "Donner ses boxplot vitesse, vmg, distance\n",
    "Top 3\n",
    "Meilleur sprinteur (Vmax)\n",
    "Plus efficiant (VMG max)\n"
   ]
  },
  {
   "cell_type": "code",
   "execution_count": 1,
   "metadata": {},
   "outputs": [
    {
     "data": {
      "text/plain": [
       "((4142, 23), (33, 22))"
      ]
     },
     "execution_count": 1,
     "metadata": {},
     "output_type": "execute_result"
    }
   ],
   "source": [
    "import pandas as pd\n",
    "import datetime as dt\n",
    "import pickle\n",
    "import matplotlib.pyplot as plt\n",
    "import seaborn as sns\n",
    "import ipywidgets as iws\n",
    "df_clas=pickle.Unpickler(open(\"df_clas.pkl\",'rb')).load()\n",
    "df_tech=pickle.Unpickler(open(\"df_tech.pkl\",'rb')).load()\n",
    "df_clas.shape,df_tech.shape"
   ]
  },
  {
   "cell_type": "markdown",
   "metadata": {},
   "source": [
    "# Top3"
   ]
  },
  {
   "cell_type": "code",
   "execution_count": 3,
   "metadata": {},
   "outputs": [
    {
     "data": {
      "text/plain": [
       "charlie dalin       4\n",
       "jeremie beyou       1\n",
       "nicolas troussel    1\n",
       "Name: Skipper, dtype: int64"
      ]
     },
     "execution_count": 3,
     "metadata": {},
     "output_type": "execute_result"
    }
   ],
   "source": [
    "df_clean= df_clas.drop(df_clas.columns[[1,4,5,6,8,9,22]],axis=1)\n",
    "df_clean.sort_values(by = '2 Vitesse',ascending = False).iloc[0:10]['Skipper'].value_counts().head(3)"
   ]
  },
  {
   "cell_type": "markdown",
   "metadata": {},
   "source": [
    "#### On voit le classement du skipper le plus rapide le plus grand nombre de fois"
   ]
  },
  {
   "cell_type": "code",
   "execution_count": 4,
   "metadata": {},
   "outputs": [
    {
     "data": {
      "text/plain": [
       "charlie dalin    5\n",
       "thomas ruyant    4\n",
       "alex thomson     1\n",
       "Name: Skipper, dtype: int64"
      ]
     },
     "execution_count": 4,
     "metadata": {},
     "output_type": "execute_result"
    }
   ],
   "source": [
    "df_clean.sort_values(by = '2 VMG',ascending = False).iloc[0:10]['Skipper'].value_counts().head(3)"
   ]
  },
  {
   "cell_type": "markdown",
   "metadata": {},
   "source": [
    "#### On voit le classement du skipper qui suit généralement la meilleur trajectoire"
   ]
  },
  {
   "cell_type": "markdown",
   "metadata": {},
   "source": [
    "# Stat par skipper"
   ]
  },
  {
   "cell_type": "code",
   "execution_count": 5,
   "metadata": {},
   "outputs": [
    {
     "data": {
      "application/vnd.jupyter.widget-view+json": {
       "model_id": "e20ee10c2d9e445c9b5c9a4f1f74d9fb",
       "version_major": 2,
       "version_minor": 0
      },
      "text/plain": [
       "Dropdown(description='Choix du Skipper:', options=('jean le cam', 'armel tripon', 'sebastien simon', 'nicolas …"
      ]
     },
     "metadata": {},
     "output_type": "display_data"
    }
   ],
   "source": [
    "choice = iws.Dropdown(\n",
    "    options=list(df_tech.Skipper),\n",
    "    value=list(df_tech.Skipper)[0],\n",
    "    description='Choix du Skipper:',\n",
    "    disabled=False,\n",
    ")\n",
    "display(choice)"
   ]
  },
  {
   "cell_type": "code",
   "execution_count": 6,
   "metadata": {},
   "outputs": [
    {
     "data": {
      "image/png": "[encoded data removed]",
      "text/plain": [
       "<Figure size 432x288 with 1 Axes>"
      ]
     },
     "metadata": {
      "needs_background": "light"
     },
     "output_type": "display_data"
    }
   ],
   "source": [
    "skipper = df_tech[df_tech.Skipper == choice.value].index[0]\n",
    "df_group = df_clean.groupby('Num_voile')\n",
    "#plt.boxplot ([df_group.get_group(skipper)['2 Vitesse'],df_group.get_group(2)['2 VMG']]);\n",
    "\n",
    "\n",
    "(df_group.get_group(skipper)[['2 Vitesse','2 VMG']]).plot(kind='box'\n",
    "                                                          ,notch=True\n",
    "                                                          ,widths =0.2\n",
    "                                                          ,title = f'Stat de vitesse sur :\\n{choice.value.capitalize()}'\n",
    "                                                         );"
   ]
  },
  {
   "cell_type": "code",
   "execution_count": 7,
   "metadata": {},
   "outputs": [
    {
     "data": {
      "image/png": "[encoded data removed]",
      "text/plain": [
       "<Figure size 360x360 with 1 Axes>"
      ]
     },
     "metadata": {
      "needs_background": "light"
     },
     "output_type": "display_data"
    }
   ],
   "source": [
    "df_group.get_group(skipper)['Rang'].plot(kind='box'\n",
    "                                         ,figsize=(5,5)\n",
    "                                         ,notch=True\n",
    "                                        ,title = f'Stat sur le rang de :\\n{choice.value.capitalize()}'\n",
    "                                        );"
   ]
  },
  {
   "cell_type": "code",
   "execution_count": null,
   "metadata": {},
   "outputs": [],
   "source": []
  },
  {
   "cell_type": "code",
   "execution_count": null,
   "metadata": {},
   "outputs": [],
   "source": []
  }
 ],
 "metadata": {
  "kernelspec": {
   "display_name": "Python 3",
   "language": "python",
   "name": "python3"
  },
  "language_info": {
   "codemirror_mode": {
    "name": "ipython",
    "version": 3
   },
   "file_extension": ".py",
   "mimetype": "text/x-python",
   "name": "python",
   "nbconvert_exporter": "python",
   "pygments_lexer": "ipython3",
   "version": "3.7.7"
  }
 },
 "nbformat": 4,
 "nbformat_minor": 4
}
