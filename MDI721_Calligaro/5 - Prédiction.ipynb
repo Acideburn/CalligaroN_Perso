{
 "cells": [
  {
   "cell_type": "markdown",
   "metadata": {},
   "source": [
    "# Calligaro Nicolas\n",
    "## Prédiction et Classification\n",
    "Readme :\\\n",
    "Ce jupyter se concentre sur la production de jeu de donnée afin d'appliquer des algos de prédiction et de classement."
   ]
  },
  {
   "cell_type": "code",
   "execution_count": 1,
   "metadata": {},
   "outputs": [
    {
     "data": {
      "text/plain": [
       "((4142, 23), (33, 22))"
      ]
     },
     "execution_count": 1,
     "metadata": {},
     "output_type": "execute_result"
    }
   ],
   "source": [
    "import pandas as pd\n",
    "import pickle\n",
    "import numpy as np\n",
    "import ipywidgets as iws\n",
    "from sklearn.linear_model import LinearRegression\n",
    "from sklearn.linear_model import SGDClassifier\n",
    "from sklearn.metrics import r2_score\n",
    "df_clas=pickle.Unpickler(open(\"df_clas.pkl\",'rb')).load()\n",
    "df_tech=pickle.Unpickler(open(\"df_tech.pkl\",'rb')).load()\n",
    "df_clas.shape,df_tech.shape"
   ]
  },
  {
   "cell_type": "markdown",
   "metadata": {},
   "source": [
    "# Prédiction par skipper\n",
    "### On veut répondre à la question :\n",
    "#### Quel classement aura ce skipper au vu de ses performances et de celle des autres pour le dernier créneau horaire."
   ]
  },
  {
   "cell_type": "code",
   "execution_count": 16,
   "metadata": {},
   "outputs": [],
   "source": [
    "#Colonne sur lesquels on va travailler\n",
    "df_clean= df_clas.drop(df_clas.columns[[1,3,4,6,7,8,12,16,22]],axis=1)"
   ]
  },
  {
   "cell_type": "code",
   "execution_count": 5,
   "metadata": {},
   "outputs": [
    {
     "data": {
      "application/vnd.jupyter.widget-view+json": {
       "model_id": "e9c414cd4f8d411caf92466033bb4853",
       "version_major": 2,
       "version_minor": 0
      },
      "text/plain": [
       "Dropdown(description='Choix du Skipper:', options=('jean le cam', 'armel tripon', 'sebastien simon', 'nicolas …"
      ]
     },
     "metadata": {},
     "output_type": "display_data"
    }
   ],
   "source": [
    "choice = iws.Dropdown(\n",
    "    options=list(df_tech.Skipper),\n",
    "    value=list(df_tech.Skipper)[0],\n",
    "    description='Choix du Skipper:',\n",
    "    disabled=False,\n",
    ")\n",
    "display(choice)"
   ]
  },
  {
   "cell_type": "code",
   "execution_count": 6,
   "metadata": {},
   "outputs": [
    {
     "data": {
      "text/plain": [
       "(128, 23)"
      ]
     },
     "execution_count": 6,
     "metadata": {},
     "output_type": "execute_result"
    }
   ],
   "source": [
    "#Création des données :\n",
    "#Pour chaque créneau horaire. on prend les infos du skipper + la moyenne des infos des autres skippers\n",
    "#info : Vitess,VMG,Distance sur le créneau + Vitesse,VMG,Distance sur 24h\n",
    "#On créé une ligne par créneau horaire.\n",
    "skipper = df_tech[df_tech.Skipper == choice.value].index[0]\n",
    "\n",
    "df_group = df_clean.groupby('Date full')\n",
    "\n",
    "#On choisit un skipper\n",
    "\n",
    "df_sol = pd.DataFrame(columns=[])\n",
    "\n",
    "for i in df_group.groups.keys():\n",
    "    df_tmp = df_group.get_group(i)\n",
    "    df_cst =list(df_tmp[df_tmp['Num_voile']==skipper].iloc [:,3:].mean())\n",
    "    df_cst.extend(list(df_tmp[df_tmp['Num_voile']!=skipper].iloc [:,3:].mean()))\n",
    "    df_cst.extend(list(df_tmp[df_tmp['Num_voile']==skipper]['Rang']))\n",
    "    df_sol = df_sol.append([df_cst])\n",
    "\n",
    "df_sol.shape"
   ]
  },
  {
   "cell_type": "code",
   "execution_count": 7,
   "metadata": {},
   "outputs": [
    {
     "data": {
      "text/plain": [
       "((128, 23), (128, 22), (127, 22), (1, 22), (127,), (1,))"
      ]
     },
     "execution_count": 7,
     "metadata": {},
     "output_type": "execute_result"
    }
   ],
   "source": [
    "#Création du jeu d'entrainement\n",
    "#On prends toutes les lignes créneaux temporel skipper + moyenne des autres \n",
    "#sauf la dernière (qui représente le dernier créneau horraire)\n",
    "#Création du jeu de test\n",
    "#On prend la dernière ligne \n",
    "\n",
    "dfX = df_sol[df_sol.columns[:-1]] #Toutes les colonnes sauf la dernière\n",
    "dfy = df_sol[df_sol.columns[-1]]  #LA dernière colone qui représente le classement\n",
    "X_train= dfX.iloc[:-1,]           #toutes les lignes sauf la dernière\n",
    "y_train= dfy.iloc[:-1,]           #\n",
    "X_test = dfX.iloc[-1:,]           #LA dernière ligne qui représente le dernier créneau horraire\n",
    "y_test = dfy.iloc[-1:,]           #\n",
    "\n",
    "reg_model = LinearRegression().fit(X_train,y_train)\n",
    "df_sol.shape, dfX.shape,X_train.shape,X_test.shape,y_train.shape,y_test.shape"
   ]
  },
  {
   "cell_type": "code",
   "execution_count": 8,
   "metadata": {},
   "outputs": [],
   "source": [
    "reg_model = LinearRegression().fit(X_train,y_train)\n",
    "test= list(np.floor(reg_model.predict(X_train)))\n",
    "test[:5],list(y_train)[:5]\n",
    "r2 = r2_score(list(y_train),test)"
   ]
  },
  {
   "cell_type": "code",
   "execution_count": 9,
   "metadata": {},
   "outputs": [
    {
     "name": "stdout",
     "output_type": "stream",
     "text": [
      "prédiction : 1, réalité : 3, Taux de fiabilité : 74.0%\n"
     ]
    }
   ],
   "source": [
    "#On prédis le classement du skipper en fct de ces résultats et de celles des autres. on compare avec le classement effectif\n",
    "prediction = list(np.floor(reg_model.predict(X_test)))\n",
    "print(f\"prédiction : {int(prediction[0])}, réalité : {y_test[0]}, Taux de fiabilité : {np.around(r2*100)}%\")"
   ]
  },
  {
   "cell_type": "markdown",
   "metadata": {},
   "source": [
    "#### Notre prédicteur à un taux de fiabilité de 74% (ce qui est franchement mauvais...) il faudrait faire une étude plus poussé sur les variables retenus ou en produire d'autre."
   ]
  },
  {
   "cell_type": "markdown",
   "metadata": {},
   "source": [
    "# Classification\n",
    ">Y = Spoil or not Spoil\\\n",
    ">X = Vitesse, VMG,Distance, classement du skipper\n",
    "### On veux répondre à la questions: \n",
    "#### Est ce que ce skipper a un foils sur son bateau au vu de ses performances ?"
   ]
  },
  {
   "cell_type": "code",
   "execution_count": 17,
   "metadata": {},
   "outputs": [],
   "source": [
    "#On retire les colonnes inutiles pour notre cas.\n",
    "df_clean= df_clas.drop(df_clas.columns[[1,3,4,6,7,8,12,16,22]],axis=1)\n",
    "#On rajoute la colonne foils pour la classification\n",
    "df_upgrade = pd.DataFrame.join (df_clean,df_tech['foils']\n",
    "                 ,on='Num_voile'\n",
    "                )"
   ]
  },
  {
   "cell_type": "code",
   "execution_count": 18,
   "metadata": {
    "scrolled": true
   },
   "outputs": [],
   "source": [
    "#Colones étudiés :\n",
    "df_upgrade = df_upgrade.iloc [:,[0,1,3,4,5,6,7,8,9,11,13,14]]#18 = Foils"
   ]
  },
  {
   "cell_type": "code",
   "execution_count": 13,
   "metadata": {},
   "outputs": [
    {
     "data": {
      "text/plain": [
       "((4142, 10), (128, 10))"
      ]
     },
     "execution_count": 13,
     "metadata": {},
     "output_type": "execute_result"
    }
   ],
   "source": [
    "#Création du jeu de donnée. on prend tout le DF (créneau horraire - skipper à l'étude)\n",
    "df_group = df_upgrade.groupby('Num_voile')\n",
    "\n",
    "skipper = 56\n",
    "\n",
    "df_sol = pd.DataFrame(columns=[])\n",
    "\n",
    "for i in df_group.groups.keys():\n",
    "    if i == skipper:#On va créer le Xytest ici\n",
    "        df_tmp = df_group.get_group(i)\n",
    "        Xytest = df_tmp.drop(df_tmp.columns[[1,2]],axis=1)\n",
    "    df_tmp = df_group.get_group(i)\n",
    "    df_cst = df_tmp.drop(df_tmp.columns[[1,2]],axis=1)\n",
    "    df_sol = df_sol.append([df_cst])\n",
    "\n",
    "df_sol.shape,Xytest.shape"
   ]
  },
  {
   "cell_type": "code",
   "execution_count": 14,
   "metadata": {},
   "outputs": [
    {
     "data": {
      "text/plain": [
       "((4142, 10), (4142, 9), (4142,), (128, 10), (128, 9), (128,))"
      ]
     },
     "execution_count": 14,
     "metadata": {},
     "output_type": "execute_result"
    }
   ],
   "source": [
    "#création du jeu d'entrainement :\n",
    "#toutes les données sauf celle concernant le skipper en question\n",
    "#Création du jeu de test :\n",
    "#Toutes les données du skipper en question (on ferra une moyenne de ces données)\n",
    "\n",
    "X_train = df_sol[df_sol.columns[:-1]] #Toutes les colonnes sauf la dernière\n",
    "y_train = df_sol[df_sol.columns[-1]]  #LA dernière colone\n",
    "\n",
    "X_test = Xytest[df_sol.columns[:-1]]  #LA dernière ligne\n",
    "y_test = Xytest[df_sol.columns[-1]]   #LA dernière colone\n",
    "\n",
    "clas_model = SGDClassifier(max_iter=1000, tol=1e-3).fit(X_train,y_train)\n",
    "\n",
    "#model = LinearRegression().fit(X_train,y_train)\n",
    "df_sol.shape, X_train.shape,y_train.shape,Xytest.shape,X_test.shape,y_test.shape"
   ]
  },
  {
   "cell_type": "code",
   "execution_count": 15,
   "metadata": {},
   "outputs": [
    {
     "name": "stdout",
     "output_type": "stream",
     "text": [
      "prédiction False, Réalité : True\n"
     ]
    }
   ],
   "source": [
    "#On définit si le bateau du skipper au vu de ses résultats est équipé de foils ou non\n",
    "prediction = clas_model.predict(X_test)\n",
    "j=0\n",
    "for i in prediction:\n",
    "    if i :\n",
    "        j+1\n",
    "print (f\"prédiction {j>len(prediction)}, Réalité : {list(y_test)[-1]}\")"
   ]
  }
 ],
 "metadata": {
  "kernelspec": {
   "display_name": "Python 3",
   "language": "python",
   "name": "python3"
  },
  "language_info": {
   "codemirror_mode": {
    "name": "ipython",
    "version": 3
   },
   "file_extension": ".py",
   "mimetype": "text/x-python",
   "name": "python",
   "nbconvert_exporter": "python",
   "pygments_lexer": "ipython3",
   "version": "3.7.7"
  }
 },
 "nbformat": 4,
 "nbformat_minor": 4
}
