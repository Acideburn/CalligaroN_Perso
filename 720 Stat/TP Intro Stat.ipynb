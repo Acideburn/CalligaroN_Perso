{
 "cells": [
  {
   "cell_type": "markdown",
   "metadata": {},
   "source": [
    "#  TP1 Stat 2 Oct 2020 \n",
    "    Calligaro Nicolas"
   ]
  },
  {
   "cell_type": "code",
   "execution_count": 1,
   "metadata": {},
   "outputs": [],
   "source": [
    "from math import *\n",
    "import string\n",
    "import numpy as np\n",
    "from sklearn import linear_model\n",
    "import matplotlib.pyplot as plt\n",
    "%matplotlib inline"
   ]
  },
  {
   "cell_type": "code",
   "execution_count": null,
   "metadata": {},
   "outputs": [],
   "source": []
  },
  {
   "cell_type": "code",
   "execution_count": null,
   "metadata": {},
   "outputs": [],
   "source": []
  },
  {
   "cell_type": "markdown",
   "metadata": {},
   "source": [
    "# Question 1"
   ]
  },
  {
   "cell_type": "markdown",
   "metadata": {},
   "source": [
    "#### 1)\n",
    ">Écrire une fonction nextpower qui calcule la première puissance de 2 supérieure ou égale à un\n",
    "nombre n (on veillera à ce que le type de sortie soit un int, tester cela avec type par exemple)."
   ]
  },
  {
   "cell_type": "code",
   "execution_count": 33,
   "metadata": {},
   "outputs": [],
   "source": [
    "def nextpower (x):\n",
    "    for i in range (100) :\n",
    "        j = pow (2,i)\n",
    "        if (j >= x):\n",
    "            return int(i)\n",
    "        \n",
    "    "
   ]
  },
  {
   "cell_type": "code",
   "execution_count": 34,
   "metadata": {},
   "outputs": [
    {
     "data": {
      "text/plain": [
       "3"
      ]
     },
     "execution_count": 34,
     "metadata": {},
     "output_type": "execute_result"
    }
   ],
   "source": [
    "nextpower (5)"
   ]
  },
  {
   "cell_type": "markdown",
   "metadata": {},
   "source": [
    "#### 2)\n",
    ">En partant du mot contenant toutes les lettres de l’alphabet, générer par une opération de slicing\n",
    "la chaîne de caractère cfilorux et, de deux façons différentes, la chaîne de caractère vxz."
   ]
  },
  {
   "cell_type": "code",
   "execution_count": null,
   "metadata": {},
   "outputs": [],
   "source": []
  },
  {
   "cell_type": "markdown",
   "metadata": {},
   "source": [
    "#### 3)\n",
    ">Afficher le nombre $\\pi$ avec 9 décimales après la virgule."
   ]
  },
  {
   "cell_type": "code",
   "execution_count": 35,
   "metadata": {},
   "outputs": [
    {
     "data": {
      "text/plain": [
       "Decimal('1.020000000000000017763568394002504646778106689453125')"
      ]
     },
     "execution_count": 35,
     "metadata": {},
     "output_type": "execute_result"
    }
   ],
   "source": [
    "from decimal import *\n",
    "\n",
    "getcontext().prec = 1\n",
    "#Decimal(pi)\n",
    "Decimal(1.02)"
   ]
  },
  {
   "cell_type": "code",
   "execution_count": 36,
   "metadata": {},
   "outputs": [
    {
     "data": {
      "text/plain": [
       "Decimal('0.1428571')"
      ]
     },
     "execution_count": 36,
     "metadata": {},
     "output_type": "execute_result"
    }
   ],
   "source": [
    "getcontext().prec = 7\n",
    "Decimal(1) / Decimal(7)\n",
    "\n"
   ]
  },
  {
   "cell_type": "code",
   "execution_count": 37,
   "metadata": {},
   "outputs": [
    {
     "data": {
      "text/plain": [
       "Decimal('0.1428571428571428571428571429')"
      ]
     },
     "execution_count": 37,
     "metadata": {},
     "output_type": "execute_result"
    }
   ],
   "source": [
    "getcontext().prec = 28\n",
    "Decimal(1) / Decimal(7)"
   ]
  },
  {
   "cell_type": "markdown",
   "metadata": {},
   "source": [
    "#### 4)\n",
    ">Compter le nombre d’occurrences de chaque caractère dans la chaîne de caractères\n",
    "s=\"HelLo WorLd!!\". On renverra un dictionnaire qui à chaque lettre associe son nombre d’occurrences."
   ]
  },
  {
   "cell_type": "code",
   "execution_count": 38,
   "metadata": {},
   "outputs": [
    {
     "data": {
      "text/plain": [
       "{'H': 1,\n",
       " 'e': 1,\n",
       " 'l': 1,\n",
       " 'L': 2,\n",
       " 'o': 2,\n",
       " ' ': 1,\n",
       " 'W': 1,\n",
       " 'r': 1,\n",
       " 'd': 1,\n",
       " '!': 2}"
      ]
     },
     "execution_count": 38,
     "metadata": {},
     "output_type": "execute_result"
    }
   ],
   "source": [
    "s=\"HelLo WorLd!!\"\n",
    "dico = {}\n",
    "for i in s:\n",
    "   \n",
    "    dico[i] = dico.get(i, 0) + 1\n",
    "dico\n",
    "\n"
   ]
  },
  {
   "cell_type": "markdown",
   "metadata": {},
   "source": [
    "#### 5)\n",
    ">Écrire une fonction de codage par inversion de lettres (code de caesar) :\\\n",
    "chaque lettre d’un mot est remplacée par\n",
    "une (et une seule) autre. On se servira de la fonction shuffle sur la chaîne de caractères contenant\n",
    "tout l’alphabet pour associer les lettres codées."
   ]
  },
  {
   "cell_type": "code",
   "execution_count": 39,
   "metadata": {},
   "outputs": [],
   "source": [
    "def codage (s):\n",
    "    my_list=[]\n",
    "    for i in s:\n",
    "        if i == 'z' :\n",
    "            i = chr(96)\n",
    "        elif i == 'Z':\n",
    "            i = chr(64)\n",
    "        my_list.append(chr(ord(i)+1))\n",
    "    return my_list\n",
    "    \n",
    "    "
   ]
  },
  {
   "cell_type": "code",
   "execution_count": 40,
   "metadata": {},
   "outputs": [],
   "source": [
    "a = codage ('abcdefghijklmnopqrstuvwxyzABCDEFGHIJKLMNOPQRSTUVWXYZ')\n"
   ]
  },
  {
   "cell_type": "code",
   "execution_count": 41,
   "metadata": {},
   "outputs": [],
   "source": [
    "import random\n",
    "mylist = [string.ascii_lowercase]\n",
    "mylist = random.shuffle(mylist)\n",
    "mylist\n"
   ]
  },
  {
   "cell_type": "markdown",
   "metadata": {},
   "source": [
    "#### 6)\n",
    ">Calculer\n",
    "$2\\overset{\\infty}{\\underset{k=1}{\\prod}}\\frac{4k^2}{4k^2-1}$\n",
    "efficacement. On pourra utiliser time (ou %timeit) pour déterminer la rapidité\n",
    "de votre méthode. Proposer une version avec et une version sans boucle"
   ]
  },
  {
   "cell_type": "code",
   "execution_count": 42,
   "metadata": {},
   "outputs": [],
   "source": [
    "def mon_calcul (limite):\n",
    "    k=1\n",
    "    for i in range (1,limite):\n",
    "        j = (4*pow(i,2))/(4*pow(i,2)-1)\n",
    "        k = k*j\n",
    "    k=2*k\n",
    "    return k"
   ]
  },
  {
   "cell_type": "code",
   "execution_count": 43,
   "metadata": {},
   "outputs": [],
   "source": [
    "def mon_calcul_numpy (limite):\n",
    "    sol = np.arange(1, limite)\n",
    "    sol = sol**2\n",
    "    sol = 4*sol/(4*sol-1.)\n",
    "    return 2*np.prod(sol)\n",
    "    "
   ]
  },
  {
   "cell_type": "code",
   "execution_count": 44,
   "metadata": {},
   "outputs": [
    {
     "data": {
      "text/plain": [
       "False"
      ]
     },
     "execution_count": 44,
     "metadata": {},
     "output_type": "execute_result"
    }
   ],
   "source": [
    "limite = 100000\n",
    "mon_calcul_numpy(limite)==mon_calcul(limite)"
   ]
  },
  {
   "cell_type": "code",
   "execution_count": 45,
   "metadata": {},
   "outputs": [
    {
     "name": "stdout",
     "output_type": "stream",
     "text": [
      "Wall time: 2 ms\n"
     ]
    },
    {
     "data": {
      "text/plain": [
       "Decimal('-0')"
      ]
     },
     "execution_count": 45,
     "metadata": {},
     "output_type": "execute_result"
    }
   ],
   "source": [
    "%%time\n",
    "Decimal(mon_calcul_numpy (limite))"
   ]
  },
  {
   "cell_type": "code",
   "execution_count": 46,
   "metadata": {},
   "outputs": [
    {
     "name": "stdout",
     "output_type": "stream",
     "text": [
      "Wall time: 56.5 ms\n"
     ]
    },
    {
     "data": {
      "text/plain": [
       "Decimal('3.1415847995787071766926601412706077098846435546875')"
      ]
     },
     "execution_count": 46,
     "metadata": {},
     "output_type": "execute_result"
    }
   ],
   "source": [
    "%%time\n",
    "Decimal(mon_calcul(limite))"
   ]
  },
  {
   "cell_type": "markdown",
   "metadata": {},
   "source": [
    "#### 7)\n",
    ">Créer une fonction quicksort qui trie une liste, en remplissant les éléments manquants dans le code\n",
    "suivant. On testera que la fonction est correcte sur l’exemple quicksort([-2, 3, 5, 1, 3]) :\n",
    "\n"
   ]
  },
  {
   "cell_type": "code",
   "execution_count": 47,
   "metadata": {},
   "outputs": [],
   "source": [
    "def quicksort(LaListe):\n",
    "    \"\"\" a sorting algorithm with a pivot value\"\"\"\n",
    "    if len(LaListe) <= 1:\n",
    "        return LaListe\n",
    "    else:\n",
    "        pivot = LaListe.pop() #pivot = last element of the list ll\n",
    "        \n",
    "    less = []\n",
    "    greater = []\n",
    "    for x in LaListe:\n",
    "        if x <= pivot:\n",
    "            less.append(x)# append 'x' to 'less'\n",
    "        else:\n",
    "            greater.append(x)# append 'x' to 'greater'\n",
    "\n",
    "    return (quicksort(less)+[pivot]+quicksort(greater)) # concatenate quicksort(less), pivot and quicksort(greater)"
   ]
  },
  {
   "cell_type": "markdown",
   "metadata": {},
   "source": [
    ">Indices : la longueur d’une liste est donnée par len(l) deux listes peuvent être concaténées avec\n",
    "l1 + l2 et l.pop() retire le dernier élément d’une liste."
   ]
  },
  {
   "cell_type": "code",
   "execution_count": 48,
   "metadata": {},
   "outputs": [
    {
     "data": {
      "text/plain": [
       "[1, 1, 2, 3, 4, 4, 4, 5, 6, 8, 8, 41, 92, 485, 874, 3251, 6987]"
      ]
     },
     "execution_count": 48,
     "metadata": {},
     "output_type": "execute_result"
    }
   ],
   "source": [
    "a = quicksort([2,3,4,4,8,92,1,5,6,1,4,8,41,485,6987,3251,874])\n",
    "a"
   ]
  },
  {
   "cell_type": "markdown",
   "metadata": {},
   "source": [
    "#### 8)\n",
    ">Sans utiliser de boucles for / while : créer une matrice \\\n",
    "$M\\in\\mathbb{R}^{5\\times6} $\\\n",
    "aléatoire à coefficients uniformes\n",
    "dans r\u00011; 1s, puis remplacer une colonne sur deux par sa valeur moins le double de la colonne\n",
    "suivante. Remplacer enfin les valeurs négatives par 0 en utilisant un masque binaire."
   ]
  },
  {
   "cell_type": "markdown",
   "metadata": {},
   "source": [
    "# Question 2"
   ]
  },
  {
   "cell_type": "markdown",
   "metadata": {},
   "source": [
    "#### 1)\n",
    ">Le terme régression a été introduit par Sir Francis Galton (cousin de C. Darwin) alors qu’il étudiait\n",
    "la taille des individus au sein d’une descendance. Il tentait de comprendre pourquoi les grands individus\n",
    "d’une population semblaient avoir des enfants d’une taille plus petite, plus proche de la taille moyenne\n",
    "de la population ; d’où l’introduction du terme “régression”. Dans la suite on va s’intéresser aux données\n",
    "récoltées par Galton."
   ]
  },
  {
   "cell_type": "code",
   "execution_count": 124,
   "metadata": {},
   "outputs": [],
   "source": [
    "import pandas as pd\n",
    "raw_df = pd.read_csv('Galton.txt', sep = '\\t')\n",
    "pd.set_option('precision', 0)\n",
    "raw_df\n",
    "i=1"
   ]
  },
  {
   "cell_type": "code",
   "execution_count": 91,
   "metadata": {},
   "outputs": [
    {
     "data": {
      "text/html": [
       "<div>\n",
       "<style scoped>\n",
       "    .dataframe tbody tr th:only-of-type {\n",
       "        vertical-align: middle;\n",
       "    }\n",
       "\n",
       "    .dataframe tbody tr th {\n",
       "        vertical-align: top;\n",
       "    }\n",
       "\n",
       "    .dataframe thead th {\n",
       "        text-align: right;\n",
       "    }\n",
       "</style>\n",
       "<table border=\"1\" class=\"dataframe\">\n",
       "  <thead>\n",
       "    <tr style=\"text-align: right;\">\n",
       "      <th></th>\n",
       "      <th>Family</th>\n",
       "      <th>Father</th>\n",
       "      <th>Mother</th>\n",
       "      <th>Gender</th>\n",
       "      <th>Height</th>\n",
       "      <th>Kids</th>\n",
       "    </tr>\n",
       "  </thead>\n",
       "  <tbody>\n",
       "    <tr>\n",
       "      <th>0</th>\n",
       "      <td>1</td>\n",
       "      <td>199</td>\n",
       "      <td>170</td>\n",
       "      <td>M</td>\n",
       "      <td>185</td>\n",
       "      <td>4</td>\n",
       "    </tr>\n",
       "    <tr>\n",
       "      <th>1</th>\n",
       "      <td>1</td>\n",
       "      <td>199</td>\n",
       "      <td>170</td>\n",
       "      <td>F</td>\n",
       "      <td>175</td>\n",
       "      <td>4</td>\n",
       "    </tr>\n",
       "    <tr>\n",
       "      <th>2</th>\n",
       "      <td>1</td>\n",
       "      <td>199</td>\n",
       "      <td>170</td>\n",
       "      <td>F</td>\n",
       "      <td>175</td>\n",
       "      <td>4</td>\n",
       "    </tr>\n",
       "    <tr>\n",
       "      <th>3</th>\n",
       "      <td>1</td>\n",
       "      <td>199</td>\n",
       "      <td>170</td>\n",
       "      <td>F</td>\n",
       "      <td>175</td>\n",
       "      <td>4</td>\n",
       "    </tr>\n",
       "    <tr>\n",
       "      <th>4</th>\n",
       "      <td>2</td>\n",
       "      <td>191</td>\n",
       "      <td>168</td>\n",
       "      <td>M</td>\n",
       "      <td>186</td>\n",
       "      <td>4</td>\n",
       "    </tr>\n",
       "    <tr>\n",
       "      <th>...</th>\n",
       "      <td>...</td>\n",
       "      <td>...</td>\n",
       "      <td>...</td>\n",
       "      <td>...</td>\n",
       "      <td>...</td>\n",
       "      <td>...</td>\n",
       "    </tr>\n",
       "    <tr>\n",
       "      <th>893</th>\n",
       "      <td>136A</td>\n",
       "      <td>173</td>\n",
       "      <td>165</td>\n",
       "      <td>M</td>\n",
       "      <td>173</td>\n",
       "      <td>8</td>\n",
       "    </tr>\n",
       "    <tr>\n",
       "      <th>894</th>\n",
       "      <td>136A</td>\n",
       "      <td>173</td>\n",
       "      <td>165</td>\n",
       "      <td>M</td>\n",
       "      <td>171</td>\n",
       "      <td>8</td>\n",
       "    </tr>\n",
       "    <tr>\n",
       "      <th>895</th>\n",
       "      <td>136A</td>\n",
       "      <td>173</td>\n",
       "      <td>165</td>\n",
       "      <td>F</td>\n",
       "      <td>162</td>\n",
       "      <td>8</td>\n",
       "    </tr>\n",
       "    <tr>\n",
       "      <th>896</th>\n",
       "      <td>136A</td>\n",
       "      <td>173</td>\n",
       "      <td>165</td>\n",
       "      <td>F</td>\n",
       "      <td>161</td>\n",
       "      <td>8</td>\n",
       "    </tr>\n",
       "    <tr>\n",
       "      <th>897</th>\n",
       "      <td>136A</td>\n",
       "      <td>173</td>\n",
       "      <td>165</td>\n",
       "      <td>F</td>\n",
       "      <td>160</td>\n",
       "      <td>8</td>\n",
       "    </tr>\n",
       "  </tbody>\n",
       "</table>\n",
       "<p>898 rows × 6 columns</p>\n",
       "</div>"
      ],
      "text/plain": [
       "    Family  Father  Mother Gender  Height  Kids\n",
       "0        1     199     170      M     185     4\n",
       "1        1     199     170      F     175     4\n",
       "2        1     199     170      F     175     4\n",
       "3        1     199     170      F     175     4\n",
       "4        2     191     168      M     186     4\n",
       "..     ...     ...     ...    ...     ...   ...\n",
       "893   136A     173     165      M     173     8\n",
       "894   136A     173     165      M     171     8\n",
       "895   136A     173     165      F     162     8\n",
       "896   136A     173     165      F     161     8\n",
       "897   136A     173     165      F     160     8\n",
       "\n",
       "[898 rows x 6 columns]"
      ]
     },
     "execution_count": 91,
     "metadata": {},
     "output_type": "execute_result"
    }
   ],
   "source": [
    "raw_df"
   ]
  },
  {
   "cell_type": "code",
   "execution_count": 4,
   "metadata": {},
   "outputs": [],
   "source": [
    "inc_ratio = 2.54"
   ]
  },
  {
   "cell_type": "code",
   "execution_count": 71,
   "metadata": {},
   "outputs": [],
   "source": [
    "\n",
    "if i : \n",
    "    i=0\n",
    "    raw_df[[\"Father\",\"Mother\",\"Height\"]] = raw_df[[\"Father\",\"Mother\",\"Height\"]]*inc_ratio\n",
    "\n",
    "    #raw_df[\"Mother\"] = raw_df[\"Mother\"]*inc_ratio\n",
    "#raw_df[\"Height\"] = raw_df[\"Height\"]*inc_ratio"
   ]
  },
  {
   "cell_type": "code",
   "execution_count": 72,
   "metadata": {},
   "outputs": [
    {
     "name": "stdout",
     "output_type": "stream",
     "text": [
      "<class 'pandas.core.frame.DataFrame'>\n",
      "RangeIndex: 898 entries, 0 to 897\n",
      "Data columns (total 6 columns):\n",
      " #   Column  Non-Null Count  Dtype \n",
      "---  ------  --------------  ----- \n",
      " 0   Family  898 non-null    object\n",
      " 1   Father  898 non-null    int32 \n",
      " 2   Mother  898 non-null    int32 \n",
      " 3   Gender  898 non-null    object\n",
      " 4   Height  898 non-null    int32 \n",
      " 5   Kids    898 non-null    int64 \n",
      "dtypes: int32(3), int64(1), object(2)\n",
      "memory usage: 31.7+ KB\n"
     ]
    }
   ],
   "source": [
    "raw_df.info()"
   ]
  },
  {
   "cell_type": "code",
   "execution_count": 7,
   "metadata": {},
   "outputs": [
    {
     "data": {
      "text/plain": [
       "Family    False\n",
       "Father    False\n",
       "Mother    False\n",
       "Gender    False\n",
       "Height    False\n",
       "Kids      False\n",
       "dtype: bool"
      ]
     },
     "execution_count": 7,
     "metadata": {},
     "output_type": "execute_result"
    }
   ],
   "source": [
    "raw_df.isnull().any(axis=0)"
   ]
  },
  {
   "cell_type": "code",
   "execution_count": 8,
   "metadata": {},
   "outputs": [],
   "source": [
    "df = raw_df.copy()"
   ]
  },
  {
   "cell_type": "markdown",
   "metadata": {},
   "source": [
    "#### 3)\n",
    ">Afficher sur un même graphe un estimateur de la densité (on utilisera une méthode à noyaux avec\n",
    "un noyau gaussien) de la taille des pères en bleu, et de celles des mères en orange"
   ]
  },
  {
   "cell_type": "code",
   "execution_count": 9,
   "metadata": {},
   "outputs": [],
   "source": [
    "import matplotlib.pyplot as plt\n",
    "import numpy as np\n",
    "from scipy.stats import gaussian_kde"
   ]
  },
  {
   "cell_type": "code",
   "execution_count": 10,
   "metadata": {},
   "outputs": [],
   "source": [
    "\n",
    "#On créer les estimateurs père et mère\n",
    "\n",
    "kde_F1 = gaussian_kde(df['Father'])\n",
    "kde_M1 = gaussian_kde(df['Mother'])\n"
   ]
  },
  {
   "cell_type": "code",
   "execution_count": 11,
   "metadata": {
    "scrolled": false
   },
   "outputs": [
    {
     "data": {
      "image/png": "[encoded data removed]",
      "text/plain": [
       "<Figure size 1080x720 with 1 Axes>"
      ]
     },
     "metadata": {
      "needs_background": "light"
     },
     "output_type": "display_data"
    }
   ],
   "source": [
    "#on affiche l'estimateur avec les croix pour indiquer les val il faudrait faire un histo\n",
    "fig = plt.figure(figsize=(15, 10))\n",
    "\n",
    "ax = fig.add_subplot(111)\n",
    "#ax.plot(Father_size, np.zeros(Father_size.shape), 'b+')  # rug plot\n",
    "#ax.plot(Mother_size, np.zeros(Mother_size.shape), 'r+')  # rug plot\n",
    "père_dot = np.linspace(df[\"Father\"].min(),df[\"Father\"].max(), num=1000)\n",
    "mère_dot = np.linspace(df[\"Mother\"].min(),df[\"Mother\"].max(), num=500)\n",
    "\n",
    "ax.plot(père_dot,kde_F1(père_dot),'b-',label = \"Père\")\n",
    "ax.plot(mère_dot,kde_M1(mère_dot),'r-',label = \"Mère\")\n",
    "\n",
    "plt.title('estimateur de densité par méthode du noyau gaussien')\n",
    "plt.xlabel(\"Taille\")\n",
    "plt.ylabel(\"répartition\")\n",
    "plt.legend()\n",
    "plt.show()"
   ]
  },
  {
   "cell_type": "code",
   "execution_count": 78,
   "metadata": {},
   "outputs": [
    {
     "name": "stdout",
     "output_type": "stream",
     "text": [
      "[0.07887666] 163.01234062755645\n"
     ]
    }
   ],
   "source": [
    "#Création de prédiction par moindre carré\n",
    "from sklearn import linear_model\n",
    "reg = linear_model.LinearRegression()\n",
    "\n",
    "\n",
    "père = df[\"Father\"]\n",
    "mère = df[\"Mother\"]\n",
    "reg.fit(df[[\"Mother\"]],père)\n",
    "\n",
    "print (reg.coef_,reg.intercept_)\n",
    "\n"
   ]
  },
  {
   "cell_type": "markdown",
   "metadata": {},
   "source": [
    "#### 4)\n",
    ">Afficher la taille du père en fonction de la taille de la mère pour les n observations figurant dans les\n",
    "données. Ajouter la droite de prédiction obtenue par la méthode des moindres carrés (avec constante\n",
    "et sans centrage/normalisation)."
   ]
  },
  {
   "cell_type": "code",
   "execution_count": 79,
   "metadata": {},
   "outputs": [
    {
     "data": {
      "image/png": "[encoded data removed]",
      "text/plain": [
       "<Figure size 1080x720 with 1 Axes>"
      ]
     },
     "metadata": {
      "needs_background": "light"
     },
     "output_type": "display_data"
    }
   ],
   "source": [
    "#Taille du père en fct de la mère\n",
    "fig2 = plt.figure(figsize=(15, 10))\n",
    "\n",
    "plt.scatter(df[\"Mother\"],df[\"Father\"], alpha=0.5,label = 'Père / Mère (y=f(x))')\n",
    "plt.plot (mère,reg.predict(df[[\"Mother\"]]),'r')\n",
    "plt.title('taille père / taille mère')\n",
    "plt.xlabel(\"Mère\")\n",
    "plt.ylabel(\"Père\")\n",
    "plt.legend()\n",
    "plt.show()"
   ]
  },
  {
   "cell_type": "markdown",
   "metadata": {},
   "source": [
    "#### 5)\n",
    ">Affichage du nombre  d'enfant par famille dans un histogramme\n",
    ">on va utiliser matplotlib.pyplot.hist()"
   ]
  },
  {
   "cell_type": "code",
   "execution_count": 80,
   "metadata": {
    "scrolled": false
   },
   "outputs": [
    {
     "data": {
      "image/png": "[encoded data removed]",
      "text/plain": [
       "<Figure size 720x360 with 1 Axes>"
      ]
     },
     "metadata": {
      "needs_background": "light"
     },
     "output_type": "display_data"
    }
   ],
   "source": [
    "import matplotlib.pyplot as plt\n",
    "import matplotlib.axes as ax\n",
    "\n",
    "fig3 = plt.figure(figsize = (10,5))\n",
    "\n",
    "Nb_Kids=df.groupby(['Family']).mean()[\"Kids\"]\n",
    "\n",
    "plt.hist(Nb_Kids, bins=range(1,Nb_Kids.max()+2), color='y',\\\n",
    "         edgecolor='r',align='left',rwidth = 0.8,hatch = '/')\n",
    "#matplotlib.axes.Axes.set_xticks\n",
    "\n",
    "plt.tick_params(axis = 'both', labelsize = 10)\n",
    "\n",
    "axes = plt.gca() #on récupère l'objet axes qui correspond aux axes\n",
    "axes.set_xticks(range(0,16),minor = True) #On force l'affichage des traits de 0 à 15\n",
    "axes.xaxis.set_ticklabels(range(0,16), minor = True)#Ecrit les chiffres de 0 à 16 sur l'axe des x\n",
    "\n",
    "plt.title('nb enfant par famille')\n",
    "plt.xlabel(\"Nb Enfant\")\n",
    "plt.ylabel(\"Feq Apparition\")\n",
    "\n",
    "plt.show()"
   ]
  },
  {
   "cell_type": "markdown",
   "metadata": {},
   "source": [
    "#### 6)\n",
    ">Créer une colonne supplémentaire appelée 'MidParents' qui contient la taille du « parent moyen »,\n",
    "et valant ('Father'+ 1.08 $\\times$ 'Mother')/2."
   ]
  },
  {
   "cell_type": "code",
   "execution_count": 133,
   "metadata": {},
   "outputs": [
    {
     "data": {
      "text/html": [
       "<div>\n",
       "<style scoped>\n",
       "    .dataframe tbody tr th:only-of-type {\n",
       "        vertical-align: middle;\n",
       "    }\n",
       "\n",
       "    .dataframe tbody tr th {\n",
       "        vertical-align: top;\n",
       "    }\n",
       "\n",
       "    .dataframe thead th {\n",
       "        text-align: right;\n",
       "    }\n",
       "</style>\n",
       "<table border=\"1\" class=\"dataframe\">\n",
       "  <thead>\n",
       "    <tr style=\"text-align: right;\">\n",
       "      <th></th>\n",
       "      <th>Family</th>\n",
       "      <th>Father</th>\n",
       "      <th>Mother</th>\n",
       "      <th>Gender</th>\n",
       "      <th>Height</th>\n",
       "      <th>Kids</th>\n",
       "      <th>MidParents</th>\n",
       "      <th>y_i</th>\n",
       "      <th>x_i</th>\n",
       "      <th>yi</th>\n",
       "      <th>xi</th>\n",
       "    </tr>\n",
       "  </thead>\n",
       "  <tbody>\n",
       "    <tr>\n",
       "      <th>0</th>\n",
       "      <td>1</td>\n",
       "      <td>199</td>\n",
       "      <td>170</td>\n",
       "      <td>M</td>\n",
       "      <td>186</td>\n",
       "      <td>4</td>\n",
       "      <td>192</td>\n",
       "      <td>186</td>\n",
       "      <td>192</td>\n",
       "      <td>186</td>\n",
       "      <td>192</td>\n",
       "    </tr>\n",
       "    <tr>\n",
       "      <th>1</th>\n",
       "      <td>1</td>\n",
       "      <td>199</td>\n",
       "      <td>170</td>\n",
       "      <td>F</td>\n",
       "      <td>176</td>\n",
       "      <td>4</td>\n",
       "      <td>192</td>\n",
       "      <td>176</td>\n",
       "      <td>192</td>\n",
       "      <td>176</td>\n",
       "      <td>192</td>\n",
       "    </tr>\n",
       "    <tr>\n",
       "      <th>2</th>\n",
       "      <td>1</td>\n",
       "      <td>199</td>\n",
       "      <td>170</td>\n",
       "      <td>F</td>\n",
       "      <td>175</td>\n",
       "      <td>4</td>\n",
       "      <td>192</td>\n",
       "      <td>175</td>\n",
       "      <td>192</td>\n",
       "      <td>175</td>\n",
       "      <td>192</td>\n",
       "    </tr>\n",
       "    <tr>\n",
       "      <th>3</th>\n",
       "      <td>1</td>\n",
       "      <td>199</td>\n",
       "      <td>170</td>\n",
       "      <td>F</td>\n",
       "      <td>175</td>\n",
       "      <td>4</td>\n",
       "      <td>192</td>\n",
       "      <td>175</td>\n",
       "      <td>192</td>\n",
       "      <td>175</td>\n",
       "      <td>192</td>\n",
       "    </tr>\n",
       "    <tr>\n",
       "      <th>4</th>\n",
       "      <td>2</td>\n",
       "      <td>192</td>\n",
       "      <td>169</td>\n",
       "      <td>M</td>\n",
       "      <td>187</td>\n",
       "      <td>4</td>\n",
       "      <td>187</td>\n",
       "      <td>187</td>\n",
       "      <td>187</td>\n",
       "      <td>187</td>\n",
       "      <td>187</td>\n",
       "    </tr>\n",
       "    <tr>\n",
       "      <th>...</th>\n",
       "      <td>...</td>\n",
       "      <td>...</td>\n",
       "      <td>...</td>\n",
       "      <td>...</td>\n",
       "      <td>...</td>\n",
       "      <td>...</td>\n",
       "      <td>...</td>\n",
       "      <td>...</td>\n",
       "      <td>...</td>\n",
       "      <td>...</td>\n",
       "      <td>...</td>\n",
       "    </tr>\n",
       "    <tr>\n",
       "      <th>893</th>\n",
       "      <td>136A</td>\n",
       "      <td>174</td>\n",
       "      <td>165</td>\n",
       "      <td>M</td>\n",
       "      <td>174</td>\n",
       "      <td>8</td>\n",
       "      <td>176</td>\n",
       "      <td>174</td>\n",
       "      <td>176</td>\n",
       "      <td>174</td>\n",
       "      <td>176</td>\n",
       "    </tr>\n",
       "    <tr>\n",
       "      <th>894</th>\n",
       "      <td>136A</td>\n",
       "      <td>174</td>\n",
       "      <td>165</td>\n",
       "      <td>M</td>\n",
       "      <td>172</td>\n",
       "      <td>8</td>\n",
       "      <td>176</td>\n",
       "      <td>172</td>\n",
       "      <td>176</td>\n",
       "      <td>172</td>\n",
       "      <td>176</td>\n",
       "    </tr>\n",
       "    <tr>\n",
       "      <th>895</th>\n",
       "      <td>136A</td>\n",
       "      <td>174</td>\n",
       "      <td>165</td>\n",
       "      <td>F</td>\n",
       "      <td>163</td>\n",
       "      <td>8</td>\n",
       "      <td>176</td>\n",
       "      <td>163</td>\n",
       "      <td>176</td>\n",
       "      <td>163</td>\n",
       "      <td>176</td>\n",
       "    </tr>\n",
       "    <tr>\n",
       "      <th>896</th>\n",
       "      <td>136A</td>\n",
       "      <td>174</td>\n",
       "      <td>165</td>\n",
       "      <td>F</td>\n",
       "      <td>161</td>\n",
       "      <td>8</td>\n",
       "      <td>176</td>\n",
       "      <td>161</td>\n",
       "      <td>176</td>\n",
       "      <td>161</td>\n",
       "      <td>176</td>\n",
       "    </tr>\n",
       "    <tr>\n",
       "      <th>897</th>\n",
       "      <td>136A</td>\n",
       "      <td>174</td>\n",
       "      <td>165</td>\n",
       "      <td>F</td>\n",
       "      <td>160</td>\n",
       "      <td>8</td>\n",
       "      <td>176</td>\n",
       "      <td>160</td>\n",
       "      <td>176</td>\n",
       "      <td>160</td>\n",
       "      <td>176</td>\n",
       "    </tr>\n",
       "  </tbody>\n",
       "</table>\n",
       "<p>898 rows × 11 columns</p>\n",
       "</div>"
      ],
      "text/plain": [
       "    Family  Father  Mother Gender  Height  Kids  MidParents  y_i  x_i   yi  \\\n",
       "0        1     199     170      M     186     4         192  186  192  186   \n",
       "1        1     199     170      F     176     4         192  176  192  176   \n",
       "2        1     199     170      F     175     4         192  175  192  175   \n",
       "3        1     199     170      F     175     4         192  175  192  175   \n",
       "4        2     192     169      M     187     4         187  187  187  187   \n",
       "..     ...     ...     ...    ...     ...   ...         ...  ...  ...  ...   \n",
       "893   136A     174     165      M     174     8         176  174  176  174   \n",
       "894   136A     174     165      M     172     8         176  172  176  172   \n",
       "895   136A     174     165      F     163     8         176  163  176  163   \n",
       "896   136A     174     165      F     161     8         176  161  176  161   \n",
       "897   136A     174     165      F     160     8         176  160  176  160   \n",
       "\n",
       "      xi  \n",
       "0    192  \n",
       "1    192  \n",
       "2    192  \n",
       "3    192  \n",
       "4    187  \n",
       "..   ...  \n",
       "893  176  \n",
       "894  176  \n",
       "895  176  \n",
       "896  176  \n",
       "897  176  \n",
       "\n",
       "[898 rows x 11 columns]"
      ]
     },
     "execution_count": 133,
     "metadata": {},
     "output_type": "execute_result"
    }
   ],
   "source": [
    "df[\"MidParents\"] = (df[\"Father\"]+1.08*df[\"Mother\"])/2\n",
    "yi = df[\"Height\"]\n",
    "xi = df[\"MidParents\"]\n",
    "df"
   ]
  },
  {
   "cell_type": "markdown",
   "metadata": {},
   "source": [
    "#### 7)\n",
    ">Estimer $\\theta _0,\\theta _1$, par $\\hat{\\theta}_0, \\hat{\\theta}_1 $\n",
    "en utilisant la fonction LinearRegression de sklearn, puis vérifier\n",
    "numériquement les formules vues en cours pour le cas unidimensionnel\n",
    "\n"
   ]
  },
  {
   "cell_type": "markdown",
   "metadata": {},
   "source": [
    "<div style=\"text-align:center;\">\n",
    "$\\hat{\\theta}_0 = \\bar{y}_n - \\hat{\\theta}_1\\bar{x}_n,$                    \n",
    "$\\hat{\\theta}_1 =\\frac{\\overset{n}{\\underset{i=1}{\\sum}}(x_i - \\bar{x}_n)(y_i - \\bar{y}_n)}{\\overset{n}{\\underset{i=1}{\\sum}}(x_i - \\bar{x}_n)^2}$\n",
    "<div>"
   ]
  },
  {
   "cell_type": "markdown",
   "metadata": {},
   "source": [
    ">On fera attention aux normalisations utilisées pour la variance qui peuvent changer selon les packages"
   ]
  },
  {
   "cell_type": "code",
   "execution_count": 113,
   "metadata": {},
   "outputs": [
    {
     "name": "stdout",
     "output_type": "stream",
     "text": [
      "Theta 0 56.83556243483079 -242731.0\n",
      "Theta 1 0.6411903795908169 1388.0\n"
     ]
    }
   ],
   "source": [
    "#$\\theta_0 et \\theta_1$ de sklearn \n",
    "reg.fit(df[[\"MidParents\"]],yi)\n",
    "theta_1 = reg.coef_\n",
    "theta_0 = reg.intercept_\n",
    "#x barre : moyenne empirique : somme de tous les xi/n\n",
    "xbarre = int((xi.sum()/xi.size))\n",
    "ybarre = int(yi.mean())\n",
    "#calcul de theta_0 et 1 numériquement\n",
    "theta_1_num = (((xi-xbarre)*(yi-xbarre))//((xi-xbarre)**2)).sum()\n",
    "theta_0_num = ybarre-theta_1_num*x_barre\n",
    "print(\"Theta 0\",theta_0 , theta_0_num)\n",
    "print(\"Theta 1\",theta_1[0] , theta_1_num)"
   ]
  },
  {
   "cell_type": "markdown",
   "metadata": {},
   "source": [
    "Le résultat est faux car une série - un val donne une valeur abhérante"
   ]
  },
  {
   "cell_type": "markdown",
   "metadata": {},
   "source": [
    "#### 8)\n",
    ">Calculer et visualiser les valeurs prédites \n",
    "$\\hat{y_i} = \\hat\\theta_0+\\hat\\theta_1x_1$ et les $y_i$ sur un même graphique. On affichera\n",
    "de couleurs différentes les données correspondant aux garçons et celles correspondant aux filles."
   ]
  },
  {
   "cell_type": "code",
   "execution_count": 153,
   "metadata": {},
   "outputs": [],
   "source": [
    "model = linear_model.LinearRegression()\n",
    "model.fit(df[[\"MidParents\"]],yi)\n",
    "\n",
    "y_chap = model.intercept_ + model.coef_*xi\n",
    "\n",
    "xiM=df[\"MidParents\"].loc[df[\"Gender\"]=='M']\n",
    "yiM=df[\"Height\"].loc[df[\"Gender\"]=='M']\n",
    "y_chapM = model.intercept_ + model.coef_*xiM\n",
    "\n",
    "xiF=df[\"MidParents\"].loc[df[\"Gender\"]=='F']\n",
    "yiF=df[\"Height\"].loc[df[\"Gender\"]=='F']\n",
    "y_chapF = model.intercept_ + model.coef_*xiF\n"
   ]
  },
  {
   "cell_type": "code",
   "execution_count": 180,
   "metadata": {},
   "outputs": [
    {
     "data": {
      "image/png": "[encoded data removed]",
      "text/plain": [
       "<Figure size 1080x720 with 1 Axes>"
      ]
     },
     "metadata": {
      "needs_background": "light"
     },
     "output_type": "display_data"
    }
   ],
   "source": [
    "fig2 = plt.figure(figsize=(15, 10))\n",
    "\n",
    "plt.scatter(xiM,y_chapM,c='b',alpha=0.2)\n",
    "plt.scatter(xiF,y_chapF,c='r',alpha=0.2)\n",
    "\n",
    "plt.scatter(xiF,yiF,c='g',alpha=0.5)\n",
    "plt.scatter(xiM,yiM,c='y',alpha=0.5)\n",
    "\n",
    "plt.show()"
   ]
  },
  {
   "cell_type": "markdown",
   "metadata": {},
   "source": [
    "#### 9)\n",
    ">Visualiser un estimateur de la densité des résidus \n",
    "$ ri = y_i - \\hat{y}_i $. L’hypothèse de normalité est-elle\n",
    "crédible selon vous ? Calculer ensuite $\\alpha_g$ (resp. $\\alpha_f$ ) les proportions de garçons (resp. de filles) dans\n",
    "la population. On ajoutera ensuite sur le graphique précédent, les fonctions $\\alpha_g p_g$ et $\\alpha_f p_f$ , avec $p_g$(resp. $p_f$ ) les densités des résidus pour les garçons (resp. pour les filles)."
   ]
  },
  {
   "cell_type": "code",
   "execution_count": 185,
   "metadata": {},
   "outputs": [
    {
     "data": {
      "text/plain": [
       "<function matplotlib.pyplot.show(close=None, block=None)>"
      ]
     },
     "execution_count": 185,
     "metadata": {},
     "output_type": "execute_result"
    },
    {
     "data": {
      "image/png": "[encoded data removed]",
      "text/plain": [
       "<Figure size 1080x720 with 1 Axes>"
      ]
     },
     "metadata": {
      "needs_background": "light"
     },
     "output_type": "display_data"
    }
   ],
   "source": [
    "fig = plt.figure(figsize=(15, 10))\n",
    "ax = fig.add_subplot(111)\n",
    "\n",
    "ri = yi-y_chap\n",
    "riM = yiM-y_chapM\n",
    "riF = yiF-y_chapF\n",
    "\n",
    "ag = df.loc[df[\"Gender\"]=='M'].shape[0]/df.shape[0]\n",
    "af = df.loc[df[\"Gender\"]=='F'].shape[0]/df.shape[0]\n",
    "\n",
    "kde_r = gaussian_kde(ri)\n",
    "residu_dot = np.linspace(ri.min(),ri.max(), num=1000)\n",
    "ax.plot(residu_dot,kde_r(residuM_dot),'b-',label = \"résidu\")\n",
    "\n",
    "kde_rM = gaussian_kde(riM)\n",
    "residuM_dot = np.linspace(riM.min(),riM.max(), num=1000)\n",
    "ax.plot(residuM_dot,ag*kde_rM(residuM_dot),'g-',label = \"aphaG pG\")\n",
    "\n",
    "kde_rF = gaussian_kde(riF)\n",
    "residuF_dot = np.linspace(riF.min(),riF.max(), num=1000)\n",
    "ax.plot(residuF_dot,af*kde_rF(residuF_dot),'y-',label = \"alphaF pF\")\n",
    "\n",
    "plt.title('densité des résidus Garçon/Fille')\n",
    "plt.xlabel(\"résidu\")\n",
    "plt.ylabel(\"Feq Apparition\")\n",
    "plt.legend()\n",
    "plt.show"
   ]
  },
  {
   "cell_type": "code",
   "execution_count": 182,
   "metadata": {},
   "outputs": [
    {
     "data": {
      "text/plain": [
       "(0.5178173719376392, 0.4821826280623608, 1.0)"
      ]
     },
     "execution_count": 182,
     "metadata": {},
     "output_type": "execute_result"
    }
   ],
   "source": [
    "ag = df.loc[df[\"Gender\"]=='M'].shape[0]/df.shape[0]\n",
    "af = df.loc[df[\"Gender\"]=='F'].shape[0]/df.shape[0]\n",
    "ag,af,ag+af"
   ]
  },
  {
   "cell_type": "code",
   "execution_count": 178,
   "metadata": {},
   "outputs": [
    {
     "data": {
      "text/plain": [
       "898"
      ]
     },
     "execution_count": 178,
     "metadata": {},
     "output_type": "execute_result"
    }
   ],
   "source": []
  }
 ],
 "metadata": {
  "kernelspec": {
   "display_name": "Python 3",
   "language": "python",
   "name": "python3"
  },
  "language_info": {
   "codemirror_mode": {
    "name": "ipython",
    "version": 3
   },
   "file_extension": ".py",
   "mimetype": "text/x-python",
   "name": "python",
   "nbconvert_exporter": "python",
   "pygments_lexer": "ipython3",
   "version": "3.7.6"
  }
 },
 "nbformat": 4,
 "nbformat_minor": 4
}
