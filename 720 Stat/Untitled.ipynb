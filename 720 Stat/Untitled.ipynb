{
 "cells": [
  {
   "cell_type": "markdown",
   "metadata": {},
   "source": [
    "Exo 2"
   ]
  },
  {
   "cell_type": "code",
   "execution_count": 1,
   "metadata": {},
   "outputs": [],
   "source": [
    "import pandas as pd\n",
    "import matplotlib.pyplot as plt\n",
    "from sklearn import linear_model\n",
    "import numpy as np\n",
    "%matplotlib inline\n",
    "\n",
    "df= pd.read_csv('Galton.txt', sep = '\\t')\n",
    "inc_ratio = 2.54\n",
    "#df[[\"Father\",\"Mother\",\"Height\"]] = df[[\"Father\",\"Mother\",\"Height\"]]*inc_ratio\n",
    "df[\"MidParents\"] = (df[\"Father\"]+1.08*df[\"Mother\"])/2\n",
    "\n",
    "yi = df[\"Height\"]\n",
    "xi = df[\"MidParents\"]\n"
   ]
  },
  {
   "cell_type": "code",
   "execution_count": 2,
   "metadata": {},
   "outputs": [
    {
     "name": "stdout",
     "output_type": "stream",
     "text": [
      "22.37620568300423 [0.64119038]\n"
     ]
    }
   ],
   "source": [
    "#$\\theta_0 et \\theta_1$ de sklearn \n",
    "reg = linear_model.LinearRegression()\n",
    "reg.fit(df[[\"MidParents\"]],df[\"Height\"])\n",
    "theta_1 = reg.coef_\n",
    "theta_0 = reg.intercept_\n",
    "print(theta_0,theta_1)"
   ]
  },
  {
   "cell_type": "code",
   "execution_count": 3,
   "metadata": {},
   "outputs": [
    {
     "data": {
      "text/plain": [
       "(69.22200668151434, 66.76069042316252)"
      ]
     },
     "execution_count": 3,
     "metadata": {},
     "output_type": "execute_result"
    }
   ],
   "source": [
    "xbar = df[\"MidParents\"].mean()\n",
    "ybar = df[\"Height\"].mean()\n",
    "xbar,ybar"
   ]
  },
  {
   "cell_type": "code",
   "execution_count": 4,
   "metadata": {},
   "outputs": [
    {
     "data": {
      "text/plain": [
       "(967.6836296608069, array([0.64119038]))"
      ]
     },
     "execution_count": 4,
     "metadata": {},
     "output_type": "execute_result"
    }
   ],
   "source": [
    "theta_1_num=(((xi-xbar)*(yi-xbar))/((xi-xbar)**2)).sum()\n",
    "theta_1_num,theta_1"
   ]
  },
  {
   "cell_type": "code",
   "execution_count": 11,
   "metadata": {},
   "outputs": [
    {
     "data": {
      "text/plain": [
       "0       0.640786\n",
       "1      -0.003545\n",
       "2      -0.035761\n",
       "3      -0.035761\n",
       "4       0.963948\n",
       "         ...    \n",
       "893    -5.640972\n",
       "894   -11.891298\n",
       "895   -40.799057\n",
       "896   -44.705511\n",
       "897   -48.611965\n",
       "Length: 898, dtype: float64"
      ]
     },
     "execution_count": 11,
     "metadata": {},
     "output_type": "execute_result"
    }
   ],
   "source": [
    "(xi-xbar)*(yi-xbar)/(xi-xbar)**2"
   ]
  },
  {
   "cell_type": "code",
   "execution_count": 5,
   "metadata": {},
   "outputs": [
    {
     "data": {
      "text/plain": [
       "array([22.37620568])"
      ]
     },
     "execution_count": 5,
     "metadata": {},
     "output_type": "execute_result"
    }
   ],
   "source": [
    "ybar-(theta_1*xbar)"
   ]
  },
  {
   "cell_type": "code",
   "execution_count": null,
   "metadata": {},
   "outputs": [],
   "source": []
  },
  {
   "cell_type": "code",
   "execution_count": null,
   "metadata": {},
   "outputs": [],
   "source": []
  },
  {
   "cell_type": "code",
   "execution_count": null,
   "metadata": {},
   "outputs": [],
   "source": []
  },
  {
   "cell_type": "code",
   "execution_count": null,
   "metadata": {},
   "outputs": [],
   "source": []
  },
  {
   "cell_type": "code",
   "execution_count": null,
   "metadata": {},
   "outputs": [],
   "source": []
  },
  {
   "cell_type": "code",
   "execution_count": null,
   "metadata": {},
   "outputs": [],
   "source": []
  },
  {
   "cell_type": "code",
   "execution_count": null,
   "metadata": {},
   "outputs": [],
   "source": []
  },
  {
   "cell_type": "code",
   "execution_count": null,
   "metadata": {},
   "outputs": [],
   "source": []
  },
  {
   "cell_type": "code",
   "execution_count": 6,
   "metadata": {},
   "outputs": [
    {
     "ename": "NameError",
     "evalue": "name 'xbarre' is not defined",
     "output_type": "error",
     "traceback": [
      "\u001b[1;31m---------------------------------------------------------------------------\u001b[0m",
      "\u001b[1;31mNameError\u001b[0m                                 Traceback (most recent call last)",
      "\u001b[1;32m<ipython-input-6-6003d52a6fdc>\u001b[0m in \u001b[0;36m<module>\u001b[1;34m\u001b[0m\n\u001b[0;32m      1\u001b[0m \u001b[1;31m#calcul de theta_0 et 1 numériquement\u001b[0m\u001b[1;33m\u001b[0m\u001b[1;33m\u001b[0m\u001b[1;33m\u001b[0m\u001b[0m\n\u001b[1;32m----> 2\u001b[1;33m \u001b[0mtheta_1_num\u001b[0m \u001b[1;33m=\u001b[0m \u001b[1;33m(\u001b[0m\u001b[1;33m(\u001b[0m\u001b[1;33m(\u001b[0m\u001b[0mxi\u001b[0m\u001b[1;33m-\u001b[0m\u001b[0mxbarre\u001b[0m\u001b[1;33m)\u001b[0m\u001b[1;33m*\u001b[0m\u001b[1;33m(\u001b[0m\u001b[0myi\u001b[0m\u001b[1;33m-\u001b[0m\u001b[0mxbarre\u001b[0m\u001b[1;33m)\u001b[0m\u001b[1;33m)\u001b[0m\u001b[1;33m//\u001b[0m\u001b[1;33m(\u001b[0m\u001b[1;33m(\u001b[0m\u001b[0mxi\u001b[0m\u001b[1;33m-\u001b[0m\u001b[0mxbarre\u001b[0m\u001b[1;33m)\u001b[0m\u001b[1;33m**\u001b[0m\u001b[1;36m2\u001b[0m\u001b[1;33m)\u001b[0m\u001b[1;33m)\u001b[0m\u001b[1;33m.\u001b[0m\u001b[0msum\u001b[0m\u001b[1;33m(\u001b[0m\u001b[1;33m)\u001b[0m\u001b[1;33m\u001b[0m\u001b[1;33m\u001b[0m\u001b[0m\n\u001b[0m\u001b[0;32m      3\u001b[0m \u001b[0mtheta_0_num\u001b[0m \u001b[1;33m=\u001b[0m \u001b[0mybarre\u001b[0m\u001b[1;33m-\u001b[0m\u001b[0mtheta_1_num\u001b[0m\u001b[1;33m*\u001b[0m\u001b[0mx_barre\u001b[0m\u001b[1;33m\u001b[0m\u001b[1;33m\u001b[0m\u001b[0m\n\u001b[0;32m      4\u001b[0m \u001b[0mprint\u001b[0m\u001b[1;33m(\u001b[0m\u001b[1;34m\"Theta 0\"\u001b[0m\u001b[1;33m,\u001b[0m\u001b[0mtheta_0\u001b[0m \u001b[1;33m,\u001b[0m \u001b[0mtheta_0_num\u001b[0m\u001b[1;33m)\u001b[0m\u001b[1;33m\u001b[0m\u001b[1;33m\u001b[0m\u001b[0m\n\u001b[0;32m      5\u001b[0m \u001b[0mprint\u001b[0m\u001b[1;33m(\u001b[0m\u001b[1;34m\"Theta 1\"\u001b[0m\u001b[1;33m,\u001b[0m\u001b[0mtheta_1\u001b[0m\u001b[1;33m[\u001b[0m\u001b[1;36m0\u001b[0m\u001b[1;33m]\u001b[0m \u001b[1;33m,\u001b[0m \u001b[0mtheta_1_num\u001b[0m\u001b[1;33m)\u001b[0m\u001b[1;33m\u001b[0m\u001b[1;33m\u001b[0m\u001b[0m\n",
      "\u001b[1;31mNameError\u001b[0m: name 'xbarre' is not defined"
     ]
    }
   ],
   "source": [
    "\n",
    "#calcul de theta_0 et 1 numériquement\n",
    "theta_1_num = (((xi-xbarre)*(yi-xbarre))//((xi-xbarre)**2)).sum()\n",
    "theta_0_num = ybarre-theta_1_num*x_barre\n",
    "print(\"Theta 0\",theta_0 , theta_0_num)\n",
    "print(\"Theta 1\",theta_1[0] , theta_1_num)"
   ]
  },
  {
   "cell_type": "code",
   "execution_count": null,
   "metadata": {},
   "outputs": [],
   "source": []
  },
  {
   "cell_type": "code",
   "execution_count": null,
   "metadata": {},
   "outputs": [],
   "source": []
  },
  {
   "cell_type": "code",
   "execution_count": null,
   "metadata": {},
   "outputs": [],
   "source": []
  },
  {
   "cell_type": "code",
   "execution_count": null,
   "metadata": {},
   "outputs": [],
   "source": [
    "reg = linear_model.LinearRegression()\n",
    "reg.fit(df[[\"MidParents\"]],yi)\n",
    "\n",
    "y_chap = reg.intercept_ + reg.coef_*xi\n",
    "\n",
    "fig2 = plt.figure(figsize=(15, 10))\n",
    "\n",
    "x_std = np.linspace(xi.min(),xi.max(), num=yi.size)\n",
    "\n",
    "#plt.plot (xi,y_chap,'r')\n",
    "plt.scatter(xi,y_chap,c='b')\n",
    "plt.scatter(xi,yi,c='g')\n",
    "#plt.plot (x_std,yi,'b')\n",
    "\n",
    "plt.show()"
   ]
  },
  {
   "cell_type": "code",
   "execution_count": null,
   "metadata": {},
   "outputs": [],
   "source": [
    "df[\"sex\"]\n"
   ]
  }
 ],
 "metadata": {
  "kernelspec": {
   "display_name": "Python 3",
   "language": "python",
   "name": "python3"
  },
  "language_info": {
   "codemirror_mode": {
    "name": "ipython",
    "version": 3
   },
   "file_extension": ".py",
   "mimetype": "text/x-python",
   "name": "python",
   "nbconvert_exporter": "python",
   "pygments_lexer": "ipython3",
   "version": "3.7.6"
  }
 },
 "nbformat": 4,
 "nbformat_minor": 4
}
