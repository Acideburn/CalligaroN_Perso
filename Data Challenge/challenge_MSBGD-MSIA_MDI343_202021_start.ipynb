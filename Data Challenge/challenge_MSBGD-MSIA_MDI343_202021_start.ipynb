{
 "cells": [
  {
   "cell_type": "markdown",
   "metadata": {},
   "source": [
    "# Introduction\n"
   ]
  },
  {
   "cell_type": "markdown",
   "metadata": {},
   "source": [
    "## Data Challenge for the course Machine Learning and Data Mining\n",
    "\n",
    "### Authors: \n",
    "#### Pavlo Mozharovskyi (pavlo.mozharovskyi@telecom-paris.fr), Awais Hussain Sani, Stephan Clémençon\n"
   ]
  },
  {
   "cell_type": "markdown",
   "metadata": {},
   "source": [
    "# Supervised anomaly detection\n",
    "\n",
    "**Anomaly detection** (or **outlier detection**) comprises the **machine learning** methods aimed at identification of observations that exhibit suspicious behaviour and are very likely to cause a problem. \n",
    "\n",
    "This data set is provided by Valeo, the French one of the largest Original Equipment Manufacturer. It regards the task of the supervised anomaly detection on a production line. For each of the produced items, a set of properties are measured, and finally a special testing procedure verifies that the item is intact. Thus, all the observations are labeled as normal or defect (anomalies), with anomalies being rare.\n",
    "\n",
    "Statistically, this is formalized as the supervised anomaly detection, because the correct labels are given during training. This can also be seen as a task of supervised classification with two very dis-equilibrated classes.\n",
    "\n",
    "You are suggested to construct an anomaly detection rule which, for each new observation, provides an anomaly score, that is the score is higher for more abnormal observation. This would allow to detect anomaly just based on measured parameters of the item without running a mechanical testing procedure."
   ]
  },
  {
   "cell_type": "markdown",
   "metadata": {},
   "source": [
    "# The properties of the dataset:\n"
   ]
  },
  {
   "cell_type": "markdown",
   "metadata": {},
   "source": [
    "The data set is provided by Valeo and consistst of the measures of 27 properties of produced items and their labels identifying whether an item is intact or defect (= anomaly)."
   ]
  },
  {
   "cell_type": "markdown",
   "metadata": {},
   "source": [
    "### Training data: "
   ]
  },
  {
   "cell_type": "markdown",
   "metadata": {},
   "source": [
    "The training set consists of files, **valeo_xtrain.csv** and **valeo_ytrain.csv**.\n",
    "\n",
    "File **valeo_xtrain.csv** contains one observation per row, each observation having 27 entries.\n",
    "\n",
    "File **valeo_ytrain.csv** contains one observation per row, each observation having 1 entry identifying whether it is an anomay (**1**) or not (**0**).\n",
    "\n",
    "There are in total **27586** training observations."
   ]
  },
  {
   "cell_type": "markdown",
   "metadata": {},
   "source": [
    "### Test data:"
   ]
  },
  {
   "cell_type": "markdown",
   "metadata": {},
   "source": [
    "The testing set consists of one file, **valeo_xtest.csv**, which has the same structure as file **valeo_xtrain.csv**.\n",
    "\n",
    "There are in total **27587** test observations."
   ]
  },
  {
   "cell_type": "markdown",
   "metadata": {},
   "source": [
    "### Remark:"
   ]
  },
  {
   "cell_type": "markdown",
   "metadata": {},
   "source": [
    "The task of the **supervised anomaly detection** can be difficult, in the sense that the classes are heavily disequilibrated."
   ]
  },
  {
   "cell_type": "markdown",
   "metadata": {},
   "source": [
    "## The performance criterion:"
   ]
  },
  {
   "cell_type": "markdown",
   "metadata": {},
   "source": [
    "You should submit a file that contains in each row anomaly score (a real vaule) for the observation in the corresponding row of the file **valeo_xtest.csv**. For a sample submission please see the code below. Please note, that your score should provide ordering which allows to identify anomalies, i.e., the higher the value of the score, the **more abnormal** the observation should be considered.\n",
    "\n",
    "The performance criterion is the **Area Under the Receiver Operating Characteristic** (AUC), see also:\n",
    "https://en.wikipedia.org/wiki/Receiver_operating_characteristic#Area_under_the_curve"
   ]
  },
  {
   "cell_type": "markdown",
   "metadata": {},
   "source": [
    "# Training Data"
   ]
  },
  {
   "cell_type": "markdown",
   "metadata": {},
   "source": [
    "Training data, input (file **valeo_xtrain.csv**): https://partage.imt.fr/index.php/s/W3WDoTmB6jJrPZp"
   ]
  },
  {
   "cell_type": "markdown",
   "metadata": {},
   "source": [
    "Training data, input (file **valeo_ytrain.csv**): https://partage.imt.fr/index.php/s/YAXDEXx6XJtf3X8"
   ]
  },
  {
   "cell_type": "markdown",
   "metadata": {},
   "source": [
    "# Test Data "
   ]
  },
  {
   "cell_type": "markdown",
   "metadata": {},
   "source": [
    "Training data, output (file **valeo_xtest.csv**): https://partage.imt.fr/index.php/s/TCoKd6DMegpmmqL"
   ]
  },
  {
   "cell_type": "markdown",
   "metadata": {},
   "source": [
    "# Example submission"
   ]
  },
  {
   "cell_type": "code",
   "execution_count": 1,
   "metadata": {},
   "outputs": [],
   "source": [
    "import pandas as pd\n",
    "import numpy as np\n",
    "\n",
    "import matplotlib.pyplot as plt"
   ]
  },
  {
   "cell_type": "markdown",
   "metadata": {},
   "source": [
    "### Load and investigate the data"
   ]
  },
  {
   "cell_type": "code",
   "execution_count": 2,
   "metadata": {
    "scrolled": true
   },
   "outputs": [
    {
     "name": "stdout",
     "output_type": "stream",
     "text": [
      "(27586, 27)\n"
     ]
    },
    {
     "data": {
      "text/html": [
       "<div>\n",
       "<style scoped>\n",
       "    .dataframe tbody tr th:only-of-type {\n",
       "        vertical-align: middle;\n",
       "    }\n",
       "\n",
       "    .dataframe tbody tr th {\n",
       "        vertical-align: top;\n",
       "    }\n",
       "\n",
       "    .dataframe thead th {\n",
       "        text-align: right;\n",
       "    }\n",
       "</style>\n",
       "<table border=\"1\" class=\"dataframe\">\n",
       "  <thead>\n",
       "    <tr style=\"text-align: right;\">\n",
       "      <th></th>\n",
       "      <th>START2_OP020_V_1angle</th>\n",
       "      <th>START2_OP020_V_1torque</th>\n",
       "      <th>START2_OP020_V_2angle</th>\n",
       "      <th>START2_OP020_V_2torque</th>\n",
       "      <th>START2_OP040_Vision_cosseprog</th>\n",
       "      <th>START2_OP050_Vision_paliermodel</th>\n",
       "      <th>START2_OP050_Vision_palierpresencedouille</th>\n",
       "      <th>START2_OP060_Vision_tirantcouleur</th>\n",
       "      <th>START2_OP070_V_1angle</th>\n",
       "      <th>START2_OP070_V_1prog</th>\n",
       "      <th>...</th>\n",
       "      <th>START2_OP090_SnapRingFinalStroke</th>\n",
       "      <th>START2_OP090_SnapRingMidPointForce</th>\n",
       "      <th>START2_OP090_SnapRingPeakForce</th>\n",
       "      <th>START2_OP090_StartLinePeakForce</th>\n",
       "      <th>START2_OP100_Capuchon_insertionmesure</th>\n",
       "      <th>START2_OP110_Vissage_M8angle</th>\n",
       "      <th>START2_OP110_Vissage_M8prog</th>\n",
       "      <th>START2_OP110_Vissage_M8torque</th>\n",
       "      <th>START2_OP120_RodageI_mesure</th>\n",
       "      <th>START2_OP120_RodageU_mesure</th>\n",
       "    </tr>\n",
       "  </thead>\n",
       "  <tbody>\n",
       "    <tr>\n",
       "      <th>0</th>\n",
       "      <td>35.7</td>\n",
       "      <td>3.76</td>\n",
       "      <td>49.1</td>\n",
       "      <td>3.78</td>\n",
       "      <td>300.0</td>\n",
       "      <td>1.0</td>\n",
       "      <td>1.0</td>\n",
       "      <td>2.0</td>\n",
       "      <td>111.7</td>\n",
       "      <td>8.0</td>\n",
       "      <td>...</td>\n",
       "      <td>11.60</td>\n",
       "      <td>71.52</td>\n",
       "      <td>122.23</td>\n",
       "      <td>20.57</td>\n",
       "      <td>0.55</td>\n",
       "      <td>34.7</td>\n",
       "      <td>2.0</td>\n",
       "      <td>9.54</td>\n",
       "      <td>126.96</td>\n",
       "      <td>11.97</td>\n",
       "    </tr>\n",
       "    <tr>\n",
       "      <th>1</th>\n",
       "      <td>47.2</td>\n",
       "      <td>3.77</td>\n",
       "      <td>50.3</td>\n",
       "      <td>3.76</td>\n",
       "      <td>30.0</td>\n",
       "      <td>1.0</td>\n",
       "      <td>1.0</td>\n",
       "      <td>2.0</td>\n",
       "      <td>106.0</td>\n",
       "      <td>8.0</td>\n",
       "      <td>...</td>\n",
       "      <td>11.82</td>\n",
       "      <td>67.38</td>\n",
       "      <td>163.78</td>\n",
       "      <td>18.73</td>\n",
       "      <td>0.55</td>\n",
       "      <td>38.7</td>\n",
       "      <td>2.0</td>\n",
       "      <td>9.54</td>\n",
       "      <td>133.88</td>\n",
       "      <td>11.97</td>\n",
       "    </tr>\n",
       "    <tr>\n",
       "      <th>2</th>\n",
       "      <td>52.7</td>\n",
       "      <td>3.78</td>\n",
       "      <td>40.4</td>\n",
       "      <td>3.78</td>\n",
       "      <td>300.0</td>\n",
       "      <td>1.0</td>\n",
       "      <td>1.0</td>\n",
       "      <td>2.0</td>\n",
       "      <td>103.4</td>\n",
       "      <td>8.0</td>\n",
       "      <td>...</td>\n",
       "      <td>11.86</td>\n",
       "      <td>89.09</td>\n",
       "      <td>207.73</td>\n",
       "      <td>26.39</td>\n",
       "      <td>0.55</td>\n",
       "      <td>30.2</td>\n",
       "      <td>2.0</td>\n",
       "      <td>9.66</td>\n",
       "      <td>135.28</td>\n",
       "      <td>11.97</td>\n",
       "    </tr>\n",
       "    <tr>\n",
       "      <th>3</th>\n",
       "      <td>34.9</td>\n",
       "      <td>3.77</td>\n",
       "      <td>34.9</td>\n",
       "      <td>3.78</td>\n",
       "      <td>1000.0</td>\n",
       "      <td>2.0</td>\n",
       "      <td>1.0</td>\n",
       "      <td>1.0</td>\n",
       "      <td>146.0</td>\n",
       "      <td>7.0</td>\n",
       "      <td>...</td>\n",
       "      <td>11.47</td>\n",
       "      <td>93.45</td>\n",
       "      <td>177.31</td>\n",
       "      <td>25.73</td>\n",
       "      <td>0.59</td>\n",
       "      <td>17.6</td>\n",
       "      <td>1.0</td>\n",
       "      <td>12.06</td>\n",
       "      <td>116.51</td>\n",
       "      <td>11.97</td>\n",
       "    </tr>\n",
       "    <tr>\n",
       "      <th>4</th>\n",
       "      <td>50.0</td>\n",
       "      <td>3.77</td>\n",
       "      <td>41.9</td>\n",
       "      <td>3.75</td>\n",
       "      <td>400.0</td>\n",
       "      <td>1.0</td>\n",
       "      <td>1.0</td>\n",
       "      <td>2.0</td>\n",
       "      <td>115.8</td>\n",
       "      <td>8.0</td>\n",
       "      <td>...</td>\n",
       "      <td>11.88</td>\n",
       "      <td>85.17</td>\n",
       "      <td>174.73</td>\n",
       "      <td>21.50</td>\n",
       "      <td>0.42</td>\n",
       "      <td>52.0</td>\n",
       "      <td>1.0</td>\n",
       "      <td>12.12</td>\n",
       "      <td>140.92</td>\n",
       "      <td>11.98</td>\n",
       "    </tr>\n",
       "  </tbody>\n",
       "</table>\n",
       "<p>5 rows × 27 columns</p>\n",
       "</div>"
      ],
      "text/plain": [
       "   START2_OP020_V_1angle  START2_OP020_V_1torque  START2_OP020_V_2angle  \\\n",
       "0                   35.7                    3.76                   49.1   \n",
       "1                   47.2                    3.77                   50.3   \n",
       "2                   52.7                    3.78                   40.4   \n",
       "3                   34.9                    3.77                   34.9   \n",
       "4                   50.0                    3.77                   41.9   \n",
       "\n",
       "   START2_OP020_V_2torque  START2_OP040_Vision_cosseprog  \\\n",
       "0                    3.78                          300.0   \n",
       "1                    3.76                           30.0   \n",
       "2                    3.78                          300.0   \n",
       "3                    3.78                         1000.0   \n",
       "4                    3.75                          400.0   \n",
       "\n",
       "   START2_OP050_Vision_paliermodel  START2_OP050_Vision_palierpresencedouille  \\\n",
       "0                              1.0                                        1.0   \n",
       "1                              1.0                                        1.0   \n",
       "2                              1.0                                        1.0   \n",
       "3                              2.0                                        1.0   \n",
       "4                              1.0                                        1.0   \n",
       "\n",
       "   START2_OP060_Vision_tirantcouleur  START2_OP070_V_1angle  \\\n",
       "0                                2.0                  111.7   \n",
       "1                                2.0                  106.0   \n",
       "2                                2.0                  103.4   \n",
       "3                                1.0                  146.0   \n",
       "4                                2.0                  115.8   \n",
       "\n",
       "   START2_OP070_V_1prog  ...  START2_OP090_SnapRingFinalStroke  \\\n",
       "0                   8.0  ...                             11.60   \n",
       "1                   8.0  ...                             11.82   \n",
       "2                   8.0  ...                             11.86   \n",
       "3                   7.0  ...                             11.47   \n",
       "4                   8.0  ...                             11.88   \n",
       "\n",
       "   START2_OP090_SnapRingMidPointForce  START2_OP090_SnapRingPeakForce  \\\n",
       "0                               71.52                          122.23   \n",
       "1                               67.38                          163.78   \n",
       "2                               89.09                          207.73   \n",
       "3                               93.45                          177.31   \n",
       "4                               85.17                          174.73   \n",
       "\n",
       "   START2_OP090_StartLinePeakForce  START2_OP100_Capuchon_insertionmesure  \\\n",
       "0                            20.57                                   0.55   \n",
       "1                            18.73                                   0.55   \n",
       "2                            26.39                                   0.55   \n",
       "3                            25.73                                   0.59   \n",
       "4                            21.50                                   0.42   \n",
       "\n",
       "   START2_OP110_Vissage_M8angle  START2_OP110_Vissage_M8prog  \\\n",
       "0                          34.7                          2.0   \n",
       "1                          38.7                          2.0   \n",
       "2                          30.2                          2.0   \n",
       "3                          17.6                          1.0   \n",
       "4                          52.0                          1.0   \n",
       "\n",
       "   START2_OP110_Vissage_M8torque  START2_OP120_RodageI_mesure  \\\n",
       "0                           9.54                       126.96   \n",
       "1                           9.54                       133.88   \n",
       "2                           9.66                       135.28   \n",
       "3                          12.06                       116.51   \n",
       "4                          12.12                       140.92   \n",
       "\n",
       "   START2_OP120_RodageU_mesure  \n",
       "0                        11.97  \n",
       "1                        11.97  \n",
       "2                        11.97  \n",
       "3                        11.97  \n",
       "4                        11.98  \n",
       "\n",
       "[5 rows x 27 columns]"
      ]
     },
     "execution_count": 2,
     "metadata": {},
     "output_type": "execute_result"
    }
   ],
   "source": [
    "xtrain = pd.read_csv(\"valeo_xtrain.csv\")\n",
    "print(xtrain.shape)\n",
    "xtrain.head()"
   ]
  },
  {
   "cell_type": "code",
   "execution_count": 3,
   "metadata": {},
   "outputs": [
    {
     "name": "stdout",
     "output_type": "stream",
     "text": [
      "(27586, 1)\n"
     ]
    },
    {
     "data": {
      "text/html": [
       "<div>\n",
       "<style scoped>\n",
       "    .dataframe tbody tr th:only-of-type {\n",
       "        vertical-align: middle;\n",
       "    }\n",
       "\n",
       "    .dataframe tbody tr th {\n",
       "        vertical-align: top;\n",
       "    }\n",
       "\n",
       "    .dataframe thead th {\n",
       "        text-align: right;\n",
       "    }\n",
       "</style>\n",
       "<table border=\"1\" class=\"dataframe\">\n",
       "  <thead>\n",
       "    <tr style=\"text-align: right;\">\n",
       "      <th></th>\n",
       "      <th>Anomaly</th>\n",
       "    </tr>\n",
       "  </thead>\n",
       "  <tbody>\n",
       "    <tr>\n",
       "      <th>0</th>\n",
       "      <td>0</td>\n",
       "    </tr>\n",
       "    <tr>\n",
       "      <th>1</th>\n",
       "      <td>0</td>\n",
       "    </tr>\n",
       "    <tr>\n",
       "      <th>2</th>\n",
       "      <td>0</td>\n",
       "    </tr>\n",
       "    <tr>\n",
       "      <th>3</th>\n",
       "      <td>0</td>\n",
       "    </tr>\n",
       "    <tr>\n",
       "      <th>4</th>\n",
       "      <td>0</td>\n",
       "    </tr>\n",
       "  </tbody>\n",
       "</table>\n",
       "</div>"
      ],
      "text/plain": [
       "   Anomaly\n",
       "0        0\n",
       "1        0\n",
       "2        0\n",
       "3        0\n",
       "4        0"
      ]
     },
     "execution_count": 3,
     "metadata": {},
     "output_type": "execute_result"
    }
   ],
   "source": [
    "ytrain = pd.read_csv(\"valeo_ytrain.csv\")\n",
    "print(ytrain.shape)\n",
    "ytrain.head()"
   ]
  },
  {
   "cell_type": "code",
   "execution_count": 4,
   "metadata": {},
   "outputs": [
    {
     "data": {
      "text/plain": [
       "0    0.974879\n",
       "1    0.025121\n",
       "Name: Anomaly, dtype: float64"
      ]
     },
     "execution_count": 4,
     "metadata": {},
     "output_type": "execute_result"
    }
   ],
   "source": [
    "ytrain[\"Anomaly\"].value_counts() / len(ytrain)"
   ]
  },
  {
   "cell_type": "markdown",
   "metadata": {},
   "source": [
    "Read in the test data"
   ]
  },
  {
   "cell_type": "code",
   "execution_count": 5,
   "metadata": {},
   "outputs": [
    {
     "name": "stdout",
     "output_type": "stream",
     "text": [
      "(27587, 27)\n"
     ]
    },
    {
     "data": {
      "text/html": [
       "<div>\n",
       "<style scoped>\n",
       "    .dataframe tbody tr th:only-of-type {\n",
       "        vertical-align: middle;\n",
       "    }\n",
       "\n",
       "    .dataframe tbody tr th {\n",
       "        vertical-align: top;\n",
       "    }\n",
       "\n",
       "    .dataframe thead th {\n",
       "        text-align: right;\n",
       "    }\n",
       "</style>\n",
       "<table border=\"1\" class=\"dataframe\">\n",
       "  <thead>\n",
       "    <tr style=\"text-align: right;\">\n",
       "      <th></th>\n",
       "      <th>START2_OP020_V_1angle</th>\n",
       "      <th>START2_OP020_V_1torque</th>\n",
       "      <th>START2_OP020_V_2angle</th>\n",
       "      <th>START2_OP020_V_2torque</th>\n",
       "      <th>START2_OP040_Vision_cosseprog</th>\n",
       "      <th>START2_OP050_Vision_paliermodel</th>\n",
       "      <th>START2_OP050_Vision_palierpresencedouille</th>\n",
       "      <th>START2_OP060_Vision_tirantcouleur</th>\n",
       "      <th>START2_OP070_V_1angle</th>\n",
       "      <th>START2_OP070_V_1prog</th>\n",
       "      <th>...</th>\n",
       "      <th>START2_OP090_SnapRingFinalStroke</th>\n",
       "      <th>START2_OP090_SnapRingMidPointForce</th>\n",
       "      <th>START2_OP090_SnapRingPeakForce</th>\n",
       "      <th>START2_OP090_StartLinePeakForce</th>\n",
       "      <th>START2_OP100_Capuchon_insertionmesure</th>\n",
       "      <th>START2_OP110_Vissage_M8angle</th>\n",
       "      <th>START2_OP110_Vissage_M8prog</th>\n",
       "      <th>START2_OP110_Vissage_M8torque</th>\n",
       "      <th>START2_OP120_RodageI_mesure</th>\n",
       "      <th>START2_OP120_RodageU_mesure</th>\n",
       "    </tr>\n",
       "  </thead>\n",
       "  <tbody>\n",
       "    <tr>\n",
       "      <th>0</th>\n",
       "      <td>35.1</td>\n",
       "      <td>3.78</td>\n",
       "      <td>37.4</td>\n",
       "      <td>3.77</td>\n",
       "      <td>700.0</td>\n",
       "      <td>2.0</td>\n",
       "      <td>1.0</td>\n",
       "      <td>1.0</td>\n",
       "      <td>144.1</td>\n",
       "      <td>7.0</td>\n",
       "      <td>...</td>\n",
       "      <td>11.58</td>\n",
       "      <td>78.73</td>\n",
       "      <td>137.70</td>\n",
       "      <td>27.91</td>\n",
       "      <td>0.41</td>\n",
       "      <td>15.0</td>\n",
       "      <td>1.0</td>\n",
       "      <td>12.14</td>\n",
       "      <td>114.68</td>\n",
       "      <td>11.97</td>\n",
       "    </tr>\n",
       "    <tr>\n",
       "      <th>1</th>\n",
       "      <td>35.2</td>\n",
       "      <td>3.75</td>\n",
       "      <td>33.2</td>\n",
       "      <td>3.75</td>\n",
       "      <td>1300.0</td>\n",
       "      <td>2.0</td>\n",
       "      <td>1.0</td>\n",
       "      <td>1.0</td>\n",
       "      <td>153.5</td>\n",
       "      <td>7.0</td>\n",
       "      <td>...</td>\n",
       "      <td>12.12</td>\n",
       "      <td>71.78</td>\n",
       "      <td>135.23</td>\n",
       "      <td>16.29</td>\n",
       "      <td>0.23</td>\n",
       "      <td>23.8</td>\n",
       "      <td>1.0</td>\n",
       "      <td>12.25</td>\n",
       "      <td>120.63</td>\n",
       "      <td>11.97</td>\n",
       "    </tr>\n",
       "    <tr>\n",
       "      <th>2</th>\n",
       "      <td>46.1</td>\n",
       "      <td>3.79</td>\n",
       "      <td>36.1</td>\n",
       "      <td>3.77</td>\n",
       "      <td>1100.0</td>\n",
       "      <td>2.0</td>\n",
       "      <td>1.0</td>\n",
       "      <td>1.0</td>\n",
       "      <td>131.1</td>\n",
       "      <td>7.0</td>\n",
       "      <td>...</td>\n",
       "      <td>11.92</td>\n",
       "      <td>67.03</td>\n",
       "      <td>161.63</td>\n",
       "      <td>20.99</td>\n",
       "      <td>0.12</td>\n",
       "      <td>16.8</td>\n",
       "      <td>1.0</td>\n",
       "      <td>12.17</td>\n",
       "      <td>142.24</td>\n",
       "      <td>11.97</td>\n",
       "    </tr>\n",
       "    <tr>\n",
       "      <th>3</th>\n",
       "      <td>35.0</td>\n",
       "      <td>3.76</td>\n",
       "      <td>43.7</td>\n",
       "      <td>3.79</td>\n",
       "      <td>1300.0</td>\n",
       "      <td>2.0</td>\n",
       "      <td>1.0</td>\n",
       "      <td>1.0</td>\n",
       "      <td>147.1</td>\n",
       "      <td>7.0</td>\n",
       "      <td>...</td>\n",
       "      <td>11.93</td>\n",
       "      <td>76.06</td>\n",
       "      <td>123.96</td>\n",
       "      <td>23.47</td>\n",
       "      <td>0.23</td>\n",
       "      <td>18.5</td>\n",
       "      <td>1.0</td>\n",
       "      <td>12.19</td>\n",
       "      <td>116.94</td>\n",
       "      <td>11.97</td>\n",
       "    </tr>\n",
       "    <tr>\n",
       "      <th>4</th>\n",
       "      <td>44.9</td>\n",
       "      <td>3.76</td>\n",
       "      <td>31.9</td>\n",
       "      <td>3.79</td>\n",
       "      <td>700.0</td>\n",
       "      <td>2.0</td>\n",
       "      <td>1.0</td>\n",
       "      <td>1.0</td>\n",
       "      <td>163.1</td>\n",
       "      <td>7.0</td>\n",
       "      <td>...</td>\n",
       "      <td>11.59</td>\n",
       "      <td>62.30</td>\n",
       "      <td>126.82</td>\n",
       "      <td>35.31</td>\n",
       "      <td>0.41</td>\n",
       "      <td>13.5</td>\n",
       "      <td>1.0</td>\n",
       "      <td>12.18</td>\n",
       "      <td>120.41</td>\n",
       "      <td>11.97</td>\n",
       "    </tr>\n",
       "  </tbody>\n",
       "</table>\n",
       "<p>5 rows × 27 columns</p>\n",
       "</div>"
      ],
      "text/plain": [
       "   START2_OP020_V_1angle  START2_OP020_V_1torque  START2_OP020_V_2angle  \\\n",
       "0                   35.1                    3.78                   37.4   \n",
       "1                   35.2                    3.75                   33.2   \n",
       "2                   46.1                    3.79                   36.1   \n",
       "3                   35.0                    3.76                   43.7   \n",
       "4                   44.9                    3.76                   31.9   \n",
       "\n",
       "   START2_OP020_V_2torque  START2_OP040_Vision_cosseprog  \\\n",
       "0                    3.77                          700.0   \n",
       "1                    3.75                         1300.0   \n",
       "2                    3.77                         1100.0   \n",
       "3                    3.79                         1300.0   \n",
       "4                    3.79                          700.0   \n",
       "\n",
       "   START2_OP050_Vision_paliermodel  START2_OP050_Vision_palierpresencedouille  \\\n",
       "0                              2.0                                        1.0   \n",
       "1                              2.0                                        1.0   \n",
       "2                              2.0                                        1.0   \n",
       "3                              2.0                                        1.0   \n",
       "4                              2.0                                        1.0   \n",
       "\n",
       "   START2_OP060_Vision_tirantcouleur  START2_OP070_V_1angle  \\\n",
       "0                                1.0                  144.1   \n",
       "1                                1.0                  153.5   \n",
       "2                                1.0                  131.1   \n",
       "3                                1.0                  147.1   \n",
       "4                                1.0                  163.1   \n",
       "\n",
       "   START2_OP070_V_1prog  ...  START2_OP090_SnapRingFinalStroke  \\\n",
       "0                   7.0  ...                             11.58   \n",
       "1                   7.0  ...                             12.12   \n",
       "2                   7.0  ...                             11.92   \n",
       "3                   7.0  ...                             11.93   \n",
       "4                   7.0  ...                             11.59   \n",
       "\n",
       "   START2_OP090_SnapRingMidPointForce  START2_OP090_SnapRingPeakForce  \\\n",
       "0                               78.73                          137.70   \n",
       "1                               71.78                          135.23   \n",
       "2                               67.03                          161.63   \n",
       "3                               76.06                          123.96   \n",
       "4                               62.30                          126.82   \n",
       "\n",
       "   START2_OP090_StartLinePeakForce  START2_OP100_Capuchon_insertionmesure  \\\n",
       "0                            27.91                                   0.41   \n",
       "1                            16.29                                   0.23   \n",
       "2                            20.99                                   0.12   \n",
       "3                            23.47                                   0.23   \n",
       "4                            35.31                                   0.41   \n",
       "\n",
       "   START2_OP110_Vissage_M8angle  START2_OP110_Vissage_M8prog  \\\n",
       "0                          15.0                          1.0   \n",
       "1                          23.8                          1.0   \n",
       "2                          16.8                          1.0   \n",
       "3                          18.5                          1.0   \n",
       "4                          13.5                          1.0   \n",
       "\n",
       "   START2_OP110_Vissage_M8torque  START2_OP120_RodageI_mesure  \\\n",
       "0                          12.14                       114.68   \n",
       "1                          12.25                       120.63   \n",
       "2                          12.17                       142.24   \n",
       "3                          12.19                       116.94   \n",
       "4                          12.18                       120.41   \n",
       "\n",
       "   START2_OP120_RodageU_mesure  \n",
       "0                        11.97  \n",
       "1                        11.97  \n",
       "2                        11.97  \n",
       "3                        11.97  \n",
       "4                        11.97  \n",
       "\n",
       "[5 rows x 27 columns]"
      ]
     },
     "execution_count": 5,
     "metadata": {},
     "output_type": "execute_result"
    }
   ],
   "source": [
    "xtest = pd.read_csv(\"valeo_xtest.csv\")\n",
    "print(xtest.shape)\n",
    "xtest.head()"
   ]
  },
  {
   "cell_type": "markdown",
   "metadata": {},
   "source": [
    "### Fit the prediction model"
   ]
  },
  {
   "cell_type": "code",
   "execution_count": 6,
   "metadata": {},
   "outputs": [
    {
     "data": {
      "text/plain": [
       "SGDClassifier(loss='log', random_state=42)"
      ]
     },
     "execution_count": 6,
     "metadata": {},
     "output_type": "execute_result"
    }
   ],
   "source": [
    "from sklearn.linear_model import SGDClassifier\n",
    "\n",
    "sgd_clf = SGDClassifier(loss='log', max_iter=1000, tol=1e-3, random_state=42)\n",
    "sgd_clf.fit(xtrain, ytrain.values.ravel())"
   ]
  },
  {
   "cell_type": "code",
   "execution_count": 7,
   "metadata": {},
   "outputs": [
    {
     "data": {
      "text/plain": [
       "LogisticRegression(max_iter=1000, solver='liblinear')"
      ]
     },
     "execution_count": 7,
     "metadata": {},
     "output_type": "execute_result"
    }
   ],
   "source": [
    "from sklearn.linear_model import LogisticRegression\n",
    "# Train the anomaly detector\n",
    "clf = LogisticRegression(solver='liblinear', max_iter=1000)\n",
    "clf.fit(xtrain, ytrain.values.ravel(), )\n"
   ]
  },
  {
   "cell_type": "code",
   "execution_count": null,
   "metadata": {},
   "outputs": [],
   "source": []
  },
  {
   "cell_type": "code",
   "execution_count": 8,
   "metadata": {},
   "outputs": [],
   "source": [
    "sscore = sgd_clf.decision_function(xtest)"
   ]
  },
  {
   "cell_type": "code",
   "execution_count": 9,
   "metadata": {
    "scrolled": true
   },
   "outputs": [
    {
     "data": {
      "text/plain": [
       "array([ -912.4139287 ,  -331.34268546,  -475.3622375 ,  -609.56123036,\n",
       "       -1406.98332814,  -390.84703435,  -238.53503941,  -502.40931293,\n",
       "         191.15829818,   419.89855687,  -421.19820258,  -309.76577504,\n",
       "         145.72661621,   -84.35325758,  -199.92239749,  -436.35773698,\n",
       "        -517.06599948,  -504.04019375,  -948.85166833,   512.34586851,\n",
       "        -785.56448134,  -303.59371121,  -297.4278979 ,   475.20559141,\n",
       "        -600.16062477])"
      ]
     },
     "execution_count": 9,
     "metadata": {},
     "output_type": "execute_result"
    }
   ],
   "source": [
    "sscore[:25]"
   ]
  },
  {
   "cell_type": "markdown",
   "metadata": {},
   "source": [
    "## Prepare a file for submission"
   ]
  },
  {
   "cell_type": "code",
   "execution_count": 10,
   "metadata": {},
   "outputs": [
    {
     "name": "stdout",
     "output_type": "stream",
     "text": [
      "(27587,)\n"
     ]
    }
   ],
   "source": [
    "# Save the anomaly scores to file\n",
    "print(sscore.shape)\n",
    "np.savetxt('ytest_challenge_student.csv', sscore, fmt = '%1.6f', delimiter=',')"
   ]
  },
  {
   "cell_type": "markdown",
   "metadata": {},
   "source": [
    "#### Now it's your turn. Good luck !  :) "
   ]
  }
 ],
 "metadata": {
  "anaconda-cloud": {},
  "kernelspec": {
   "display_name": "Python 3",
   "language": "python",
   "name": "python3"
  },
  "language_info": {
   "codemirror_mode": {
    "name": "ipython",
    "version": 3
   },
   "file_extension": ".py",
   "mimetype": "text/x-python",
   "name": "python",
   "nbconvert_exporter": "python",
   "pygments_lexer": "ipython3",
   "version": "3.7.6"
  }
 },
 "nbformat": 4,
 "nbformat_minor": 2
}
