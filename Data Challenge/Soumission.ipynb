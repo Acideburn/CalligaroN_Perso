{
 "cells": [
  {
   "cell_type": "code",
   "execution_count": 1,
   "metadata": {},
   "outputs": [],
   "source": [
    "import pandas as pd\n",
    "import numpy as np\n",
    "\n",
    "import matplotlib.pyplot as plt\n",
    "from sklearn.metrics import roc_auc_score\n",
    "from sklearn.model_selection import cross_val_predict\n",
    "from sklearn.utils import resample\n",
    "\n",
    "from sklearn.feature_selection import SelectFromModel\n",
    "\n",
    "from sklearn.linear_model import LogisticRegression\n",
    "from xgboost import XGBClassifier\n",
    "from sklearn.ensemble import GradientBoostingClassifier"
   ]
  },
  {
   "cell_type": "code",
   "execution_count": 2,
   "metadata": {},
   "outputs": [],
   "source": [
    "clf = GradientBoostingClassifier(criterion='mse', learning_rate=0.01, loss='deviance', max_depth=3, max_features='sqrt', n_estimators=1000)"
   ]
  },
  {
   "cell_type": "markdown",
   "metadata": {},
   "source": [
    "# Data normal"
   ]
  },
  {
   "cell_type": "code",
   "execution_count": null,
   "metadata": {},
   "outputs": [],
   "source": [
    "X_train = pd.read_csv(\"valeo_xtrain.csv\",header=None,skiprows=[0])\n",
    "y_train = pd.read_csv(\"valeo_ytrain.csv\").values.ravel()\n",
    "X_test = pd.read_csv(\"valeo_xtest.csv\",header=None,skiprows=[0])\n",
    "X_train.shape,y_train.shape,X_test.shape"
   ]
  },
  {
   "cell_type": "markdown",
   "metadata": {},
   "source": [
    "# Data resample"
   ]
  },
  {
   "cell_type": "code",
   "execution_count": 3,
   "metadata": {},
   "outputs": [],
   "source": [
    "X_train = pd.read_csv(\"valeo_xtrain.csv\",header=None,skiprows=[0])\n",
    "y_train = pd.read_csv(\"valeo_ytrain.csv\").values.ravel()\n",
    "X_test = pd.read_csv(\"valeo_xtest.csv\",header=None,skiprows=[0])\n",
    "X_train['target'] = y_train\n",
    "df_majority = X_train[X_train.target==0]\n",
    "df_minority = X_train[X_train.target==1]\n",
    "df_minority_upsampled = resample(df_minority, \n",
    "                                 replace=True,     \n",
    "                                 n_samples=df_majority.shape[0],    \n",
    "                                 random_state=0)\n",
    "df_upsampled = pd.concat([df_majority, df_minority_upsampled])\n",
    "y_train = df_upsampled.target\n",
    "X_train = df_upsampled.drop('target', axis=1)"
   ]
  },
  {
   "cell_type": "markdown",
   "metadata": {},
   "source": [
    "# Test d'origine"
   ]
  },
  {
   "cell_type": "code",
   "execution_count": null,
   "metadata": {},
   "outputs": [],
   "source": [
    "from sklearn.linear_model import LogisticRegression\n",
    "\n",
    "# Train the anomaly detector\n",
    "clf = LogisticRegression(solver='liblinear', max_iter=1000)\n",
    "score = cross_val_predict(clf, X_train, y_train, cv=3, method='decision_function')\n",
    "score\n",
    "#roc_auc_score(y_train, score)"
   ]
  },
  {
   "cell_type": "code",
   "execution_count": null,
   "metadata": {},
   "outputs": [],
   "source": [
    "from sklearn.ensemble import RandomForestClassifier\n",
    "\n",
    "# Train the anomaly detector\n",
    "clf = RandomForestClassifier()\n",
    "score = cross_val_predict(clf, X_train, y_train, cv=3, method='predict_proba')\n",
    "score\n",
    "#roc_auc_score(y_train, score)"
   ]
  },
  {
   "cell_type": "markdown",
   "metadata": {},
   "source": [
    "# Avec le meilleur modèle"
   ]
  },
  {
   "cell_type": "code",
   "execution_count": null,
   "metadata": {},
   "outputs": [],
   "source": [
    "clf = GradientBoostingClassifier()\n",
    "clf_dec_fct = cross_val_predict(clf, X_train, y_train, cv=10, method='decision_function')\n",
    "roc_auc_score(y_train, clf_dec_fct)"
   ]
  },
  {
   "cell_type": "markdown",
   "metadata": {},
   "source": []
  },
  {
   "cell_type": "markdown",
   "metadata": {},
   "source": [
    "# Choix du modèle avec les meilleurs param"
   ]
  },
  {
   "cell_type": "code",
   "execution_count": null,
   "metadata": {},
   "outputs": [],
   "source": [
    "clf = GradientBoostingClassifier(criterion='mse', learning_rate=0.01, loss='deviance', max_depth=3, max_features='sqrt', n_estimators=1000)\n",
    "clf_dec_fct = cross_val_predict(clf, X_train, y_train, cv=10, method='decision_function')\n",
    "roc_auc_score(y_train, clf_dec_fct)"
   ]
  },
  {
   "cell_type": "markdown",
   "metadata": {},
   "source": [
    "### Soumission1  : 0.7893625866\n",
    "### Soumission2 : 0.794577212266"
   ]
  },
  {
   "cell_type": "markdown",
   "metadata": {},
   "source": [
    "# Retrait de var par corrélation à 90%"
   ]
  },
  {
   "cell_type": "code",
   "execution_count": null,
   "metadata": {},
   "outputs": [],
   "source": [
    "X_train = pd.read_csv(\"valeo_xtrain.csv\",header=None,skiprows=[0])\n",
    "X_test = pd.read_csv(\"valeo_xtest.csv\",header=None,skiprows=[0])\n",
    "X_train = X_train[[0,1,2,3,4,6,8,11,12,15,16,17,18,19,20,21,22,23,24,25,26]]\n",
    "X_test = X_test[[0,1,2,3,4,6,8,11,12,15,16,17,18,19,20,21,22,23,24,25,26]]\n",
    "X_train.shape"
   ]
  },
  {
   "cell_type": "code",
   "execution_count": null,
   "metadata": {},
   "outputs": [],
   "source": [
    "clf_dec_fct = cross_val_predict(clf, X_train, y_train, cv=10, method='decision_function')\n",
    "roc_auc_score(y_train, clf_dec_fct)"
   ]
  },
  {
   "cell_type": "markdown",
   "metadata": {},
   "source": [
    "### Soumission1 : 0.791044780761\n",
    "### Soumission2 :0.795053973895"
   ]
  },
  {
   "cell_type": "markdown",
   "metadata": {},
   "source": [
    "# Retrait de var par corrélation à 80%"
   ]
  },
  {
   "cell_type": "code",
   "execution_count": null,
   "metadata": {},
   "outputs": [],
   "source": [
    "X_train = pd.read_csv(\"valeo_xtrain.csv\",header=None,skiprows=[0])\n",
    "X_train = X_train[[0,1,2,3,4,6,8,15,16,17,18,19,20,21,25,26]]\n",
    "X_test = pd.read_csv(\"valeo_xtest.csv\",header=None,skiprows=[0])\n",
    "X_test = X_test[[0,1,2,3,4,6,8,15,16,17,18,19,20,21,25,26]]\n",
    "X_train.shape"
   ]
  },
  {
   "cell_type": "code",
   "execution_count": null,
   "metadata": {},
   "outputs": [],
   "source": [
    "clf_dec_fct = cross_val_predict(clf, X_train, y_train, cv=10, method='decision_function')\n",
    "roc_auc_score(y_train, clf_dec_fct)"
   ]
  },
  {
   "cell_type": "markdown",
   "metadata": {},
   "source": [
    "### Soumission1 : 0.791105632919\n",
    "### Soumission2 : 0.796936969811"
   ]
  },
  {
   "cell_type": "markdown",
   "metadata": {},
   "source": [
    "# Par choix des var par RFE (2e choix, cv=10)"
   ]
  },
  {
   "cell_type": "code",
   "execution_count": null,
   "metadata": {},
   "outputs": [],
   "source": [
    "X_train = pd.read_csv(\"valeo_xtrain.csv\",header=None,skiprows=[0])\n",
    "X_train = X_train[[25, 19, 17, 21, 18, 14, 11, 20, 4, 0, 8, 22, 26]]\n",
    "X_train.shape"
   ]
  },
  {
   "cell_type": "code",
   "execution_count": null,
   "metadata": {},
   "outputs": [],
   "source": [
    "clf_dec_fct = cross_val_predict(clf, X_train, y_train, cv=10, method='decision_function')\n",
    "roc_auc_score(y_train, clf_dec_fct)"
   ]
  },
  {
   "cell_type": "markdown",
   "metadata": {},
   "source": [
    "### Soumission :  0.788268802747"
   ]
  },
  {
   "cell_type": "markdown",
   "metadata": {},
   "source": [
    "# Choix des variables par SelectFromModel saga opti\n",
    "[14, 15, 16, 17, 18, 20, 21, 25, 26]"
   ]
  },
  {
   "cell_type": "code",
   "execution_count": null,
   "metadata": {},
   "outputs": [],
   "source": [
    "\n",
    "X_train = pd.read_csv(\"valeo_xtrain.csv\",header=None,skiprows=[0])\n",
    "X_test = pd.read_csv(\"valeo_xtest.csv\",header=None,skiprows=[0])\n",
    "\n",
    "selector = SelectFromModel(estimator=LogisticRegression(\n",
    "    max_iter=1000, penalty='none', solver='saga')).fit(X_train, y_train)\n",
    "\n",
    "X_train = X_train.loc[:, selector.get_support()]\n",
    "X_test = X_test.loc[:, selector.get_support()]"
   ]
  },
  {
   "cell_type": "code",
   "execution_count": null,
   "metadata": {},
   "outputs": [],
   "source": [
    "clf_dec_fct = cross_val_predict(clf, X_train, y_train, cv=10, method='decision_function')\n",
    "roc_auc_score(y_train, clf_dec_fct)"
   ]
  },
  {
   "cell_type": "markdown",
   "metadata": {},
   "source": [
    "### Soumission : 0.800773662108"
   ]
  },
  {
   "cell_type": "markdown",
   "metadata": {},
   "source": [
    "# Choix des variables par SelectFromModel liblinear opti"
   ]
  },
  {
   "cell_type": "code",
   "execution_count": null,
   "metadata": {},
   "outputs": [],
   "source": [
    "X_train = pd.read_csv(\"valeo_xtrain.csv\",header=None,skiprows=[0])\n",
    "X_test = pd.read_csv(\"valeo_xtest.csv\",header=None,skiprows=[0])\n",
    "selector = SelectFromModel(estimator=LogisticRegression(\n",
    "    max_iter=1000, penalty='l1', solver='liblinear')).fit(X_train, y_train)\n",
    "\n",
    "X_train = X_train.loc[:, selector.get_support()]\n",
    "X_test = X_test.loc[:, selector.get_support()]"
   ]
  },
  {
   "cell_type": "code",
   "execution_count": null,
   "metadata": {},
   "outputs": [],
   "source": [
    "clf_dec_fct = cross_val_predict(clf, X_train, y_train, cv=10, method='decision_function')\n",
    "roc_auc_score(y_train, clf_dec_fct)"
   ]
  },
  {
   "cell_type": "markdown",
   "metadata": {},
   "source": [
    "### Soumission : 0.794990115412"
   ]
  },
  {
   "cell_type": "markdown",
   "metadata": {},
   "source": [
    "# Resampling des données avant entrainement"
   ]
  },
  {
   "cell_type": "code",
   "execution_count": null,
   "metadata": {},
   "outputs": [],
   "source": [
    "X_train = pd.read_csv(\"valeo_xtrain.csv\",header=None,skiprows=[0])\n",
    "y_train = pd.read_csv(\"valeo_ytrain.csv\").values.ravel()\n",
    "X_test = pd.read_csv(\"valeo_xtest.csv\",header=None,skiprows=[0])\n",
    "X_train['target'] = y_train\n",
    "df_majority = X_train[X_train.target==0]\n",
    "df_minority = X_train[X_train.target==1]\n",
    "df_minority_upsampled = resample(df_minority, \n",
    "                                 replace=True,     \n",
    "                                 n_samples=df_majority.shape[0],    \n",
    "                                 random_state=0)\n",
    "df_upsampled = pd.concat([df_majority, df_minority_upsampled])\n",
    "y_train = df_upsampled.target\n",
    "X_train = df_upsampled.drop('target', axis=1)"
   ]
  },
  {
   "cell_type": "code",
   "execution_count": null,
   "metadata": {},
   "outputs": [],
   "source": [
    "clf = GradientBoostingClassifier(criterion='mse', learning_rate=0.01, loss='deviance', max_depth=3, max_features='sqrt', n_estimators=1000)\n",
    "clf_dec_fct = cross_val_predict(clf, X_train, y_train, cv=10, method='decision_function')\n",
    "roc_auc_score(y_train, clf_dec_fct)"
   ]
  },
  {
   "cell_type": "markdown",
   "metadata": {},
   "source": [
    "### Soumission : 0.794224746613"
   ]
  },
  {
   "cell_type": "markdown",
   "metadata": {},
   "source": [
    "# Resampling + Var selectionné par FSM (ancienne version)\n",
    "[14, 15, 16, 17, 18, 20, 21, 25, 26]"
   ]
  },
  {
   "cell_type": "code",
   "execution_count": null,
   "metadata": {},
   "outputs": [],
   "source": [
    "X_train = pd.read_csv(\"valeo_xtrain.csv\",header=None,skiprows=[0])\n",
    "y_train = pd.read_csv(\"valeo_ytrain.csv\").values.ravel()\n",
    "X_train['target'] = y_train\n",
    "df_majority = X_train[X_train.target==0]\n",
    "df_minority = X_train[X_train.target==1]\n",
    "df_minority_upsampled = resample(df_minority, \n",
    "                                 replace=True,     \n",
    "                                 n_samples=df_majority.shape[0],    \n",
    "                                 random_state=0)\n",
    "df_upsampled = pd.concat([df_majority, df_minority_upsampled])\n",
    "y_train = df_upsampled.target\n",
    "X_train = df_upsampled.drop('target', axis=1)"
   ]
  },
  {
   "cell_type": "code",
   "execution_count": null,
   "metadata": {},
   "outputs": [],
   "source": [
    "X_train = X_train[[14, 15, 16, 17, 18, 20, 21, 25, 26]]\n",
    "X_test = X_test[[14, 15, 16, 17, 18, 20, 21, 25, 26]]"
   ]
  },
  {
   "cell_type": "code",
   "execution_count": null,
   "metadata": {},
   "outputs": [],
   "source": [
    "clf_dec_fct = cross_val_predict(clf, X_train, y_train, cv=10, method='decision_function')\n",
    "roc_auc_score(y_train, clf_dec_fct)"
   ]
  },
  {
   "cell_type": "code",
   "execution_count": null,
   "metadata": {},
   "outputs": [],
   "source": [
    "X2 = X_train\n",
    "y2 = y_train"
   ]
  },
  {
   "cell_type": "markdown",
   "metadata": {},
   "source": [
    "### Soumission : 0.799098413594"
   ]
  },
  {
   "cell_type": "markdown",
   "metadata": {},
   "source": [
    "# Resampling + Var selectionné par FSM "
   ]
  },
  {
   "cell_type": "code",
   "execution_count": null,
   "metadata": {},
   "outputs": [],
   "source": [
    "X_train = pd.read_csv(\"valeo_xtrain.csv\",header=None,skiprows=[0])\n",
    "y_train = pd.read_csv(\"valeo_ytrain.csv\").values.ravel()\n",
    "X_test = pd.read_csv(\"valeo_xtest.csv\",header=None,skiprows=[0])\n",
    "X_train['target'] = y_train\n",
    "df_majority = X_train[X_train.target==0]\n",
    "df_minority = X_train[X_train.target==1]\n",
    "df_minority_upsampled = resample(df_minority, \n",
    "                                 replace=True,     \n",
    "                                 n_samples=df_majority.shape[0],    \n",
    "                                 random_state=0)\n",
    "df_upsampled = pd.concat([df_majority, df_minority_upsampled])\n",
    "y_train = df_upsampled.target\n",
    "X_train = df_upsampled.drop('target', axis=1)\n"
   ]
  },
  {
   "cell_type": "code",
   "execution_count": null,
   "metadata": {},
   "outputs": [],
   "source": [
    "selector = SelectFromModel(estimator=LogisticRegression(\n",
    "    max_iter=1000, penalty='l1', solver='liblinear')).fit(X_train, y_train)\n",
    "\n",
    "X_train = X_train.loc[:, selector.get_support()]\n",
    "X_test = X_test.loc[:, selector.get_support()]"
   ]
  },
  {
   "cell_type": "code",
   "execution_count": null,
   "metadata": {},
   "outputs": [],
   "source": [
    "selector.get_support()"
   ]
  },
  {
   "cell_type": "code",
   "execution_count": null,
   "metadata": {},
   "outputs": [],
   "source": [
    "clf_dec_fct = cross_val_predict(clf, X_train, y_train, cv=10, method='predict_proba')\n",
    "roc_auc_score(y_train, clf_dec_fct)"
   ]
  },
  {
   "cell_type": "markdown",
   "metadata": {},
   "source": [
    "### Soumission : 0.79"
   ]
  },
  {
   "cell_type": "markdown",
   "metadata": {},
   "source": [
    "# Modèle XGBoost\n",
    "Avec les variables sélectionné "
   ]
  },
  {
   "cell_type": "code",
   "execution_count": null,
   "metadata": {},
   "outputs": [],
   "source": [
    "X_train = pd.read_csv(\"valeo_xtrain.csv\",header=None,skiprows=[0])\n",
    "y_train = pd.read_csv(\"valeo_ytrain.csv\").values.ravel()\n",
    "X_test = pd.read_csv(\"valeo_xtest.csv\",header=None,skiprows=[0])\n",
    "X_train['target'] = y_train\n",
    "df_majority = X_train[X_train.target==0]\n",
    "df_minority = X_train[X_train.target==1]\n",
    "df_minority_upsampled = resample(df_minority, \n",
    "                                 replace=True,     \n",
    "                                 n_samples=df_majority.shape[0],    \n",
    "                                 random_state=0)\n",
    "df_upsampled = pd.concat([df_majority, df_minority_upsampled])\n",
    "y_train = df_upsampled.target\n",
    "X_train = df_upsampled.drop('target', axis=1)"
   ]
  },
  {
   "cell_type": "code",
   "execution_count": null,
   "metadata": {},
   "outputs": [],
   "source": [
    "X_train = X_train[[25,19,18,11,8,20,0,2,17,22,24,1,3,10,4,21,13]]\n",
    "X_test = X_test[[25,19,18,11,8,20,0,2,17,22,24,1,3,10,4,21,13]]"
   ]
  },
  {
   "cell_type": "code",
   "execution_count": null,
   "metadata": {},
   "outputs": [],
   "source": [
    "boost = XGBClassifier(use_label_encoder=False)\n",
    "boost.fit(X_train, y_train)\n",
    "y_pred = cross_val_predict(boost, X_train, y_train, cv=10)\n",
    "roc_auc_score(y_train, y_pred)"
   ]
  },
  {
   "cell_type": "code",
   "execution_count": null,
   "metadata": {},
   "outputs": [],
   "source": [
    "roc_auc_score(y_train, y_pred)"
   ]
  },
  {
   "cell_type": "code",
   "execution_count": null,
   "metadata": {},
   "outputs": [],
   "source": [
    "X_train"
   ]
  },
  {
   "cell_type": "code",
   "execution_count": null,
   "metadata": {},
   "outputs": [],
   "source": [
    "submit = boost.fit(X_train,y_train).predict_proba(X_test)[:,1]\n",
    "submit"
   ]
  },
  {
   "cell_type": "markdown",
   "metadata": {},
   "source": [
    "### Soumission : 0.7"
   ]
  },
  {
   "cell_type": "markdown",
   "metadata": {},
   "source": [
    "# File to submit"
   ]
  },
  {
   "cell_type": "code",
   "execution_count": 4,
   "metadata": {},
   "outputs": [],
   "source": [
    "fitted_clif = clf.fit(X_train,y_train)"
   ]
  },
  {
   "cell_type": "code",
   "execution_count": 5,
   "metadata": {},
   "outputs": [],
   "source": [
    "submit = clf.decision_function(X_test)\n",
    "submit2 = clf.predict_proba(X_test)\n",
    "pred = clf.predict(X_test)"
   ]
  },
  {
   "cell_type": "code",
   "execution_count": 9,
   "metadata": {},
   "outputs": [],
   "source": [
    "sol = clf.predict_proba(X_test)[:,1]\n"
   ]
  },
  {
   "cell_type": "code",
   "execution_count": 6,
   "metadata": {},
   "outputs": [
    {
     "data": {
      "text/plain": [
       "(array([-0.87322559,  0.4301853 , -0.42050539, -1.22861291, -1.91408143]),\n",
       " array([[0.70541643, 0.29458357],\n",
       "        [0.39408208, 0.60591792],\n",
       "        [0.60360418, 0.39639582],\n",
       "        [0.77357571, 0.22642429],\n",
       "        [0.87147698, 0.12852302]]),\n",
       " array([0, 1, 0, 0, 0], dtype=int64))"
      ]
     },
     "execution_count": 6,
     "metadata": {},
     "output_type": "execute_result"
    }
   ],
   "source": [
    "submit[:5],submit2[:5],pred[:5]"
   ]
  },
  {
   "cell_type": "code",
   "execution_count": null,
   "metadata": {},
   "outputs": [],
   "source": [
    "submit3 = clf.fit(X_train,y_train).predict_proba(X_test)\n",
    "submit3"
   ]
  },
  {
   "cell_type": "code",
   "execution_count": null,
   "metadata": {},
   "outputs": [],
   "source": [
    "for (i,j,k) in zip(submit,submit2,submit3) :\n",
    "    print (i,j,k)"
   ]
  },
  {
   "cell_type": "code",
   "execution_count": null,
   "metadata": {},
   "outputs": [],
   "source": [
    "# Save the anomaly scores to file\n",
    "print(submit.shape)\n",
    "np.savetxt('ytest_challenge_calligaro.csv', submit, fmt = '%1.6f', delimiter=',')"
   ]
  },
  {
   "cell_type": "code",
   "execution_count": null,
   "metadata": {},
   "outputs": [],
   "source": []
  }
 ],
 "metadata": {
  "kernelspec": {
   "display_name": "Python 3",
   "language": "python",
   "name": "python3"
  },
  "language_info": {
   "codemirror_mode": {
    "name": "ipython",
    "version": 3
   },
   "file_extension": ".py",
   "mimetype": "text/x-python",
   "name": "python",
   "nbconvert_exporter": "python",
   "pygments_lexer": "ipython3",
   "version": "3.7.7"
  }
 },
 "nbformat": 4,
 "nbformat_minor": 4
}
