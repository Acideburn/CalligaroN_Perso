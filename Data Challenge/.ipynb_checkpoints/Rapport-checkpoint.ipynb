{
 "cells": [
  {
   "cell_type": "code",
   "execution_count": null,
   "metadata": {},
   "outputs": [],
   "source": [
    "essaie 1 \n",
    "Retirer les variables qui sont corrélé entre elle\n",
    "par la matrice de corrélation du DF.\n",
    "sns.heatmap(X_train.corr().abs())"
   ]
  },
  {
   "cell_type": "code",
   "execution_count": null,
   "metadata": {},
   "outputs": [],
   "source": [
    "essaie 2\n",
    "Voir les variables qui varie lors que l'anomalie est détecté.\n",
    "bien que les variables ont des comportements différent, le fait de les retirer ou de les prendre n'améliore pas le résultat"
   ]
  },
  {
   "cell_type": "code",
   "execution_count": null,
   "metadata": {},
   "outputs": [],
   "source": [
    "Essaie 3 :\n",
    "Tous les modèles en revu.\n",
    "Modèle prometteur: Adaboost / Gradiant boosting\n",
    "NB : normal, ce sont des modèles qui mettent l'accent sur les erreurs."
   ]
  },
  {
   "cell_type": "code",
   "execution_count": null,
   "metadata": {},
   "outputs": [],
   "source": [
    "Essaie 4 : \n",
    "Modèle SGD avec un grid search (Bon résultat)"
   ]
  },
  {
   "cell_type": "code",
   "execution_count": null,
   "metadata": {},
   "outputs": [],
   "source": [
    "Essaie 5 :\n",
    "Choisir les variables par la corréaltion (Bon résultat)"
   ]
  },
  {
   "cell_type": "code",
   "execution_count": null,
   "metadata": {},
   "outputs": [],
   "source": [
    "Etape 5.1\n",
    "Voir pour normaliser les données"
   ]
  },
  {
   "cell_type": "code",
   "execution_count": null,
   "metadata": {},
   "outputs": [],
   "source": [
    "Etape 6 :\n",
    "Essaie de sélection de variable par d'autre méthode :\n",
    "PCA non concluant\n",
    "RFE non concluant\n",
    "Model selection avec logistic regression saga opti concluant"
   ]
  },
  {
   "cell_type": "code",
   "execution_count": null,
   "metadata": {},
   "outputs": [],
   "source": [
    "Etape 7 :\n",
    "Resampling des données\n",
    "Changement de modèle XGBoost.\n"
   ]
  }
 ],
 "metadata": {
  "kernelspec": {
   "display_name": "Python 3",
   "language": "python",
   "name": "python3"
  },
  "language_info": {
   "codemirror_mode": {
    "name": "ipython",
    "version": 3
   },
   "file_extension": ".py",
   "mimetype": "text/x-python",
   "name": "python",
   "nbconvert_exporter": "python",
   "pygments_lexer": "ipython3",
   "version": "3.7.7"
  }
 },
 "nbformat": 4,
 "nbformat_minor": 4
}
