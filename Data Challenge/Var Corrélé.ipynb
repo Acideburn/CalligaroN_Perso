{
 "cells": [
  {
   "cell_type": "markdown",
   "metadata": {},
   "source": [
    "# Retrait des variables corrélé"
   ]
  },
  {
   "cell_type": "code",
   "execution_count": 102,
   "metadata": {},
   "outputs": [],
   "source": [
    "import pandas as pd\n",
    "import numpy as np\n",
    "\n",
    "import matplotlib.pyplot as plt\n",
    "import seaborn as sns\n",
    "\n",
    "from sklearn.ensemble import GradientBoostingClassifier\n",
    "from sklearn.model_selection import cross_val_predict,cross_validate\n",
    "from sklearn.metrics import roc_auc_score,confusion_matrix\n",
    "clf = GradientBoostingClassifier()"
   ]
  },
  {
   "cell_type": "code",
   "execution_count": 103,
   "metadata": {},
   "outputs": [
    {
     "data": {
      "text/plain": [
       "((27586, 27), (27586,))"
      ]
     },
     "execution_count": 103,
     "metadata": {},
     "output_type": "execute_result"
    }
   ],
   "source": [
    "X_train = pd.read_csv(\"valeo_xtrain.csv\",header=None,skiprows=[0])\n",
    "y_train = pd.read_csv(\"valeo_ytrain.csv\").values.ravel()\n",
    "X_test = pd.read_csv(\"valeo_xtest.csv\")\n",
    "\n",
    "X_train.shape,y_train.shape"
   ]
  },
  {
   "cell_type": "code",
   "execution_count": 98,
   "metadata": {},
   "outputs": [],
   "source": [
    "X_train = X_train.drop([14,5,7,9,10,13,23,12,11,22,24],axis=1)"
   ]
  },
  {
   "cell_type": "code",
   "execution_count": 17,
   "metadata": {
    "collapsed": true
   },
   "outputs": [
    {
     "data": {
      "text/plain": [
       "0       7.680003\n",
       "1       0.017038\n",
       "2       6.488604\n",
       "3       0.012722\n",
       "4     442.872201\n",
       "5       0.470019\n",
       "6       0.038524\n",
       "7       0.470019\n",
       "8      22.006941\n",
       "9       0.470556\n",
       "10      0.095668\n",
       "11     20.583791\n",
       "12      0.470556\n",
       "13      0.091749\n",
       "14      3.935215\n",
       "15      2.237438\n",
       "16      0.127719\n",
       "17      0.253366\n",
       "18     15.176692\n",
       "19     29.851088\n",
       "20     11.815632\n",
       "21      0.142146\n",
       "22     12.199751\n",
       "23      0.442411\n",
       "24      1.165320\n",
       "25     10.697002\n",
       "26      0.264335\n",
       "Name: std, dtype: float64"
      ]
     },
     "execution_count": 17,
     "metadata": {},
     "output_type": "execute_result"
    }
   ],
   "source": [
    "var_max=[0,2,4,8,11,14,15,18,19,20,22,24,26,12]\n",
    "X_train.describe().iloc[2]"
   ]
  },
  {
   "cell_type": "code",
   "execution_count": 4,
   "metadata": {
    "collapsed": true
   },
   "outputs": [
    {
     "data": {
      "text/plain": [
       "4     442.872201\n",
       "14      3.935215\n",
       "Name: std, dtype: float64"
      ]
     },
     "execution_count": 4,
     "metadata": {},
     "output_type": "execute_result"
    }
   ],
   "source": [
    "#4 Vs 14\n",
    "X_train.describe().iloc[2].loc[[4,14]]"
   ]
  },
  {
   "cell_type": "code",
   "execution_count": 5,
   "metadata": {
    "collapsed": true
   },
   "outputs": [
    {
     "data": {
      "text/plain": [
       "12    0.470556\n",
       "5     0.470019\n",
       "7     0.470019\n",
       "9     0.470556\n",
       "10    0.095668\n",
       "13    0.091749\n",
       "Name: std, dtype: float64"
      ]
     },
     "execution_count": 5,
     "metadata": {},
     "output_type": "execute_result"
    }
   ],
   "source": [
    "#12 VS 5,7,9,10,13\n",
    "X_train.describe().iloc[2].loc[[12,5,7,9,10,13]]"
   ]
  },
  {
   "cell_type": "code",
   "execution_count": 6,
   "metadata": {
    "collapsed": true
   },
   "outputs": [
    {
     "data": {
      "text/plain": [
       "24     1.165320\n",
       "22    12.199751\n",
       "Name: std, dtype: float64"
      ]
     },
     "execution_count": 6,
     "metadata": {},
     "output_type": "execute_result"
    }
   ],
   "source": [
    "#24 Vs 22\n",
    "X_train.describe().iloc[2].loc[[24,22]]"
   ]
  },
  {
   "cell_type": "code",
   "execution_count": 51,
   "metadata": {},
   "outputs": [
    {
     "data": {
      "text/plain": [
       "(0.8040055469649287,\n",
       " array([[26879,    14],\n",
       "        [  665,    28]], dtype=int64))"
      ]
     },
     "execution_count": 51,
     "metadata": {},
     "output_type": "execute_result"
    }
   ],
   "source": [
    "clf = GradientBoostingClassifier()\n",
    "scores = cross_validate(clf, X_train, y_train,scoring='roc_auc', cv=3,return_estimator=True)\n",
    "fitted_clf = scores['estimator'][1]\n",
    "scores['test_score'].mean(),confusion_matrix(y_train, fitted_clf.predict(X_train))"
   ]
  },
  {
   "cell_type": "markdown",
   "metadata": {},
   "source": [
    "# Toutes les var corrélé à 90%"
   ]
  },
  {
   "cell_type": "code",
   "execution_count": 118,
   "metadata": {},
   "outputs": [
    {
     "data": {
      "text/plain": [
       "(27586, 20)"
      ]
     },
     "execution_count": 118,
     "metadata": {},
     "output_type": "execute_result"
    }
   ],
   "source": [
    "X_train9 = X_train.drop([14,5,7,9,10,13,23],axis=1)\n",
    "X_train9.shape"
   ]
  },
  {
   "cell_type": "code",
   "execution_count": 108,
   "metadata": {},
   "outputs": [
    {
     "data": {
      "text/plain": [
       "(0.8008378410211434,\n",
       " array([[26875,    18],\n",
       "        [  663,    30]], dtype=int64))"
      ]
     },
     "execution_count": 108,
     "metadata": {},
     "output_type": "execute_result"
    }
   ],
   "source": [
    "scores9 = cross_validate(clf, X_train9, y_train,scoring='roc_auc', cv=3,return_estimator=True)\n",
    "scores9['test_score'].mean(),confusion_matrix(y_train, scores9['estimator'][1].predict(X_train9))"
   ]
  },
  {
   "cell_type": "markdown",
   "metadata": {},
   "source": [
    "# Toutes les var corrélé à 80%"
   ]
  },
  {
   "cell_type": "code",
   "execution_count": 26,
   "metadata": {
    "collapsed": true
   },
   "outputs": [
    {
     "data": {
      "text/plain": [
       "12     0.470556\n",
       "8     22.006941\n",
       "11    20.583791\n",
       "22    12.199751\n",
       "24     1.165320\n",
       "Name: std, dtype: float64"
      ]
     },
     "execution_count": 26,
     "metadata": {},
     "output_type": "execute_result"
    }
   ],
   "source": [
    "#8 VS 12,11,22,24\n",
    "X_train.describe().iloc[2].loc[[12,8,11,22,24]]"
   ]
  },
  {
   "cell_type": "code",
   "execution_count": 117,
   "metadata": {},
   "outputs": [
    {
     "data": {
      "text/plain": [
       "(27586, 16)"
      ]
     },
     "execution_count": 117,
     "metadata": {},
     "output_type": "execute_result"
    }
   ],
   "source": [
    "X_train8 = X_train9.drop([12,11,22,24],axis=1)\n",
    "X_train8.shape"
   ]
  },
  {
   "cell_type": "code",
   "execution_count": 114,
   "metadata": {},
   "outputs": [
    {
     "data": {
      "text/plain": [
       "(0.8054351434523546,\n",
       " array([[26867,    26],\n",
       "        [  664,    29]], dtype=int64))"
      ]
     },
     "execution_count": 114,
     "metadata": {},
     "output_type": "execute_result"
    }
   ],
   "source": [
    "scores8 = cross_validate(clf, X_train8, y_train,scoring='roc_auc', cv=3,return_estimator=True)\n",
    "scores8['test_score'].mean(),confusion_matrix(y_train, scores8['estimator'][1].predict(X_train8))"
   ]
  },
  {
   "cell_type": "markdown",
   "metadata": {},
   "source": [
    "# Toutes les var corrélé à 70%\n",
    "On stop là car on a perdu de la précision"
   ]
  },
  {
   "cell_type": "code",
   "execution_count": 54,
   "metadata": {
    "collapsed": true
   },
   "outputs": [
    {
     "data": {
      "text/plain": [
       "8     22.006941\n",
       "25    10.697002\n",
       "Name: std, dtype: float64"
      ]
     },
     "execution_count": 54,
     "metadata": {},
     "output_type": "execute_result"
    }
   ],
   "source": [
    "#4vs 21\n",
    "#8 vs 25\n",
    "X_train.describe().iloc[2].loc[[8,25]]"
   ]
  },
  {
   "cell_type": "code",
   "execution_count": 106,
   "metadata": {},
   "outputs": [],
   "source": [
    "X_train7 = X_train8.drop([21,25],axis=1)"
   ]
  },
  {
   "cell_type": "code",
   "execution_count": 116,
   "metadata": {},
   "outputs": [
    {
     "data": {
      "text/plain": [
       "(0.7932288323910958,\n",
       " array([[26874,    19],\n",
       "        [  666,    27]], dtype=int64))"
      ]
     },
     "execution_count": 116,
     "metadata": {},
     "output_type": "execute_result"
    }
   ],
   "source": [
    "scores7 = cross_validate(clf, X_train7, y_train,scoring='roc_auc', cv=3,return_estimator=True)\n",
    "scores7['test_score'].mean(),confusion_matrix(y_train, scores7['estimator'][1].predict(X_train7))"
   ]
  },
  {
   "cell_type": "markdown",
   "metadata": {},
   "source": [
    "# Toutes les var corrélé à 60%"
   ]
  },
  {
   "cell_type": "code",
   "execution_count": 58,
   "metadata": {
    "collapsed": true
   },
   "outputs": [
    {
     "data": {
      "text/plain": [
       "18    15.176692\n",
       "19    29.851088\n",
       "Name: std, dtype: float64"
      ]
     },
     "execution_count": 58,
     "metadata": {},
     "output_type": "execute_result"
    }
   ],
   "source": [
    "#0 vs 8\n",
    "#18 vs 19\n",
    "X_train.describe().iloc[2].loc[[18,19]]"
   ]
  },
  {
   "cell_type": "code",
   "execution_count": 59,
   "metadata": {},
   "outputs": [],
   "source": [
    "X_train6 = X_train7.drop([0,18],axis=1)"
   ]
  },
  {
   "cell_type": "code",
   "execution_count": 110,
   "metadata": {},
   "outputs": [
    {
     "data": {
      "text/plain": [
       "(0.7966887590528651,\n",
       " array([[26875,    18],\n",
       "        [  666,    27]], dtype=int64))"
      ]
     },
     "execution_count": 110,
     "metadata": {},
     "output_type": "execute_result"
    }
   ],
   "source": [
    "scores6 = cross_validate(clf, X_train6, y_train,scoring='roc_auc', cv=3,return_estimator=True)\n",
    "scores6['test_score'].mean(),confusion_matrix(y_train, scores6['estimator'][1].predict(X_train6))"
   ]
  },
  {
   "cell_type": "markdown",
   "metadata": {},
   "source": [
    "# Toutes les var corrélé à 50%"
   ]
  },
  {
   "cell_type": "code",
   "execution_count": 63,
   "metadata": {},
   "outputs": [],
   "source": [
    "X_train5 = X_train6.drop([8],axis=1)"
   ]
  },
  {
   "cell_type": "code",
   "execution_count": 111,
   "metadata": {},
   "outputs": [
    {
     "data": {
      "text/plain": [
       "(0.7962022812730719,\n",
       " array([[26867,    26],\n",
       "        [  667,    26]], dtype=int64))"
      ]
     },
     "execution_count": 111,
     "metadata": {},
     "output_type": "execute_result"
    }
   ],
   "source": [
    "scores5 = cross_validate(clf, X_train5, y_train,scoring='roc_auc', cv=3,return_estimator=True)\n",
    "scores5['test_score'].mean(),confusion_matrix(y_train, scores5['estimator'][1].predict(X_train5))"
   ]
  },
  {
   "cell_type": "markdown",
   "metadata": {},
   "source": [
    "# Toutes les var corrélé à 30%"
   ]
  },
  {
   "cell_type": "code",
   "execution_count": 68,
   "metadata": {},
   "outputs": [
    {
     "data": {
      "text/plain": [
       "17    0.253366\n",
       "16    0.127719\n",
       "Name: std, dtype: float64"
      ]
     },
     "execution_count": 68,
     "metadata": {},
     "output_type": "execute_result"
    }
   ],
   "source": [
    "#2 vs 4\n",
    "#17vs 16\n",
    "X_train.describe().iloc[2].loc[[17,16]]"
   ]
  },
  {
   "cell_type": "code",
   "execution_count": 69,
   "metadata": {},
   "outputs": [],
   "source": [
    "X_train = X_train.drop([2,16],axis=1)"
   ]
  },
  {
   "cell_type": "code",
   "execution_count": 70,
   "metadata": {},
   "outputs": [
    {
     "data": {
      "text/plain": [
       "(0.7988420173452737,\n",
       " array([[26875,    18],\n",
       "        [  666,    27]], dtype=int64))"
      ]
     },
     "execution_count": 70,
     "metadata": {},
     "output_type": "execute_result"
    }
   ],
   "source": [
    "\n",
    "scores = cross_validate(clf, X_train, y_train,scoring='roc_auc', cv=10,return_estimator=True)\n",
    "scores['test_score'].mean(),confusion_matrix(y_train, scores['estimator'][10].predict(X_train))"
   ]
  },
  {
   "cell_type": "markdown",
   "metadata": {},
   "source": [
    "# Toutes les var corrélé à 25%"
   ]
  },
  {
   "cell_type": "code",
   "execution_count": 73,
   "metadata": {},
   "outputs": [
    {
     "data": {
      "text/plain": [
       "15     2.237438\n",
       "20    11.815632\n",
       "Name: std, dtype: float64"
      ]
     },
     "execution_count": 73,
     "metadata": {},
     "output_type": "execute_result"
    }
   ],
   "source": [
    "#15 vs 20\n",
    "X_train.describe().iloc[2].loc[[15,20]]"
   ]
  },
  {
   "cell_type": "code",
   "execution_count": 74,
   "metadata": {},
   "outputs": [],
   "source": [
    "X_train = X_train.drop([15],axis=1)"
   ]
  },
  {
   "cell_type": "code",
   "execution_count": 75,
   "metadata": {},
   "outputs": [
    {
     "data": {
      "text/plain": [
       "(0.798412736731246,\n",
       " array([[26871,    22],\n",
       "        [  667,    26]], dtype=int64))"
      ]
     },
     "execution_count": 75,
     "metadata": {},
     "output_type": "execute_result"
    }
   ],
   "source": [
    "clf = GradientBoostingClassifier()\n",
    "scores = cross_validate(clf, X_train, y_train,scoring='roc_auc', cv=3,return_estimator=True)\n",
    "fitted_clf = scores['estimator'][1]\n",
    "scores['test_score'].mean(),confusion_matrix(y_train, fitted_clf.predict(X_train))"
   ]
  },
  {
   "cell_type": "markdown",
   "metadata": {},
   "source": [
    "# Toutes les var corrélé à 20%"
   ]
  },
  {
   "cell_type": "code",
   "execution_count": 77,
   "metadata": {},
   "outputs": [
    {
     "data": {
      "text/plain": [
       "4     442.872201\n",
       "17      0.253366\n",
       "19     29.851088\n",
       "20     11.815632\n",
       "Name: std, dtype: float64"
      ]
     },
     "execution_count": 77,
     "metadata": {},
     "output_type": "execute_result"
    }
   ],
   "source": [
    "#4,17,19,20\n",
    "X_train.describe().iloc[2].loc[[4,17,19,20]]"
   ]
  },
  {
   "cell_type": "code",
   "execution_count": 78,
   "metadata": {},
   "outputs": [],
   "source": [
    "X_train = X_train.drop([20],axis=1)"
   ]
  },
  {
   "cell_type": "code",
   "execution_count": 80,
   "metadata": {},
   "outputs": [
    {
     "data": {
      "text/plain": [
       "(0.8004918108004557,\n",
       " array([[26870,    23],\n",
       "        [  666,    27]], dtype=int64))"
      ]
     },
     "execution_count": 80,
     "metadata": {},
     "output_type": "execute_result"
    }
   ],
   "source": [
    "clf = GradientBoostingClassifier()\n",
    "scores = cross_validate(clf, X_train, y_train,scoring='roc_auc', cv=3,return_estimator=True)\n",
    "fitted_clf = scores['estimator'][1]\n",
    "scores['test_score'].mean(),confusion_matrix(y_train, fitted_clf.predict(X_train))"
   ]
  },
  {
   "cell_type": "markdown",
   "metadata": {},
   "source": [
    "# Toutes les var corrélé à 10%\n",
    "on re descend sous les 80"
   ]
  },
  {
   "cell_type": "code",
   "execution_count": 86,
   "metadata": {},
   "outputs": [
    {
     "data": {
      "text/plain": [
       "4     442.872201\n",
       "17      0.253366\n",
       "Name: std, dtype: float64"
      ]
     },
     "execution_count": 86,
     "metadata": {},
     "output_type": "execute_result"
    }
   ],
   "source": [
    "#3,4\n",
    "#4,17\n",
    "#19,17\n",
    "X_train.describe().iloc[2].loc[[4,17]]"
   ]
  },
  {
   "cell_type": "code",
   "execution_count": 88,
   "metadata": {},
   "outputs": [],
   "source": [
    "X_train = X_train.drop([3,17],axis=1)"
   ]
  },
  {
   "cell_type": "code",
   "execution_count": 90,
   "metadata": {},
   "outputs": [
    {
     "data": {
      "text/plain": [
       "(0.7818503452290506,\n",
       " array([[26870,    23],\n",
       "        [  667,    26]], dtype=int64))"
      ]
     },
     "execution_count": 90,
     "metadata": {},
     "output_type": "execute_result"
    }
   ],
   "source": [
    "clf = GradientBoostingClassifier()\n",
    "scores = cross_validate(clf, X_train, y_train,scoring='roc_auc', cv=3,return_estimator=True)\n",
    "fitted_clf = scores['estimator'][1]\n",
    "scores['test_score'].mean(),confusion_matrix(y_train, fitted_clf.predict(X_train))"
   ]
  },
  {
   "cell_type": "code",
   "execution_count": 92,
   "metadata": {},
   "outputs": [
    {
     "data": {
      "text/plain": [
       "4     442.872201\n",
       "1       0.017038\n",
       "19     29.851088\n",
       "6       0.038524\n",
       "Name: std, dtype: float64"
      ]
     },
     "execution_count": 92,
     "metadata": {},
     "output_type": "execute_result"
    }
   ],
   "source": [
    "#4,1,19,6\n",
    "\n",
    "X_train.describe().iloc[2].loc[[4,1,19,6]]"
   ]
  },
  {
   "cell_type": "code",
   "execution_count": 93,
   "metadata": {},
   "outputs": [],
   "source": [
    "X_train = X_train.drop([1,6,19],axis=1)"
   ]
  },
  {
   "cell_type": "code",
   "execution_count": 95,
   "metadata": {},
   "outputs": [
    {
     "data": {
      "text/plain": [
       "(0.7400341033331257,\n",
       " array([[26891,     2],\n",
       "        [  687,     6]], dtype=int64))"
      ]
     },
     "execution_count": 95,
     "metadata": {},
     "output_type": "execute_result"
    }
   ],
   "source": [
    "clf = GradientBoostingClassifier()\n",
    "scores = cross_validate(clf, X_train, y_train,scoring='roc_auc', cv=3,return_estimator=True)\n",
    "fitted_clf = scores['estimator'][1]\n",
    "scores['test_score'].mean(),confusion_matrix(y_train, fitted_clf.predict(X_train))"
   ]
  },
  {
   "cell_type": "code",
   "execution_count": 94,
   "metadata": {},
   "outputs": [
    {
     "data": {
      "image/png": "[encoded data removed]",
      "text/plain": [
       "<Figure size 1080x720 with 2 Axes>"
      ]
     },
     "metadata": {
      "needs_background": "light"
     },
     "output_type": "display_data"
    }
   ],
   "source": [
    "plt.figure(figsize=(15,10))\n",
    "sns.heatmap(X_train.corr().abs()>0.05);"
   ]
  },
  {
   "cell_type": "code",
   "execution_count": null,
   "metadata": {},
   "outputs": [],
   "source": []
  },
  {
   "cell_type": "code",
   "execution_count": 22,
   "metadata": {
    "collapsed": true
   },
   "outputs": [
    {
     "data": {
      "image/png": "[encoded data removed]",
      "text/plain": [
       "<Figure size 1080x720 with 2 Axes>"
      ]
     },
     "metadata": {
      "needs_background": "light"
     },
     "output_type": "display_data"
    }
   ],
   "source": [
    "var_max=[0,2,4,8,11,14,15,18,19,20,22,24,26,12]\n",
    "X_train2 = X_train[var_max]\n",
    "plt.figure(figsize=(15,10))\n",
    "sns.heatmap(X_train2.corr().abs()>0.9);"
   ]
  },
  {
   "cell_type": "code",
   "execution_count": 32,
   "metadata": {},
   "outputs": [
    {
     "data": {
      "text/plain": [
       "(0.8049543048824801,\n",
       " array([[26876,    17],\n",
       "        [  668,    25]], dtype=int64))"
      ]
     },
     "execution_count": 32,
     "metadata": {},
     "output_type": "execute_result"
    }
   ],
   "source": [
    "\n",
    "from sklearn.model_selection import cross_val_predict,cross_validate\n",
    "from sklearn.metrics import roc_auc_score,confusion_matrix\n",
    "\n",
    "clf = GradientBoostingClassifier()\n",
    "scores = cross_validate(clf, X_train, y_train,scoring='roc_auc', cv=3,return_estimator=True)\n",
    "fitted_clf = scores['estimator'][1]\n",
    "scores['test_score'].mean(),confusion_matrix(y_train, fitted_clf.predict(X_train))"
   ]
  },
  {
   "cell_type": "code",
   "execution_count": null,
   "metadata": {},
   "outputs": [],
   "source": []
  }
 ],
 "metadata": {
  "kernelspec": {
   "display_name": "Python 3",
   "language": "python",
   "name": "python3"
  },
  "language_info": {
   "codemirror_mode": {
    "name": "ipython",
    "version": 3
   },
   "file_extension": ".py",
   "mimetype": "text/x-python",
   "name": "python",
   "nbconvert_exporter": "python",
   "pygments_lexer": "ipython3",
   "version": "3.7.7"
  }
 },
 "nbformat": 4,
 "nbformat_minor": 4
}
