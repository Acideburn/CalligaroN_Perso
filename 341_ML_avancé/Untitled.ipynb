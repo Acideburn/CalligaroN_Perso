{
 "cells": [
  {
   "cell_type": "code",
   "execution_count": 3,
   "metadata": {},
   "outputs": [],
   "source": [
    "import numpy as np\n",
    "import matplotlib.pyplot as plt\n",
    "from sklearn import datasets"
   ]
  },
  {
   "cell_type": "code",
   "execution_count": 5,
   "metadata": {},
   "outputs": [],
   "source": [
    "def gamma(t):\n",
    "    return 1. / (100 + t)"
   ]
  },
  {
   "cell_type": "code",
   "execution_count": 6,
   "metadata": {},
   "outputs": [],
   "source": [
    "def decision_function(X, w):\n",
    "    \"\"\" fonction de prediction a partir d'un vecteur directeur\"\"\"\n",
    "    return np.dot(X, w[1:]) + w[0]"
   ]
  },
  {
   "cell_type": "code",
   "execution_count": 7,
   "metadata": {},
   "outputs": [],
   "source": [
    "def predict(X, w):\n",
    "    \"\"\" fonction de prediction de classe a partir d'un vecteur directeur\"\"\"\n",
    "    return np.sign(decision_function(X, w))"
   ]
  },
  {
   "cell_type": "code",
   "execution_count": 183,
   "metadata": {},
   "outputs": [],
   "source": [
    "def stochastic_gradient(X, y,gamma, n_iter, w_ini, loss=\"mse\",alpha=0, average=False):\n",
    "    \"\"\"Stochastic gradient algorithm\n",
    "\n",
    "    Parameters\n",
    "    ----------\n",
    "    X : array, shape (n_samples, n_features)\n",
    "        The data\n",
    "    y : array, shape (n_samples,)\n",
    "        The targets.\n",
    "    gamma : float | callable\n",
    "        The step size. Can be a constant float or a function\n",
    "        that allows to have a variable step size (QUESTION 5).\n",
    "    n_iter : int\n",
    "        The number of iterations\n",
    "    w_ini : array, shape (n_features + 1,)\n",
    "        The initial value of w.\n",
    "    loss : str\n",
    "        The type of loss function to use, e.g. \"hinge\" ou \"mse\".\n",
    "    alpha : float\n",
    "        The regularization coefficient.\n",
    "        QUESTION 3\n",
    "    average : bool\n",
    "        Do an averaged stochastic gradient.\n",
    "        QUESTION 2\n",
    "\n",
    "    Returns\n",
    "    -------\n",
    "    w : array, shape (n_features + 1,)\n",
    "        The final weights.\n",
    "    all_w : array, shape (n_iter, n_features + 1)\n",
    "        The weights across iterations.\n",
    "    pobj : array, shape (n_iter,)\n",
    "        The evolution of the cost function across iterations.\n",
    "    \"\"\"\n",
    "    n_samples = X.shape[0]\n",
    "    X = np.concatenate((np.ones((n_samples, 1)), X), axis=1)\n",
    "    all_w = np.zeros((n_iter, w_ini.size))\n",
    "    all_w[0] = w_ini\n",
    "    w = w_ini.copy()\n",
    "    pobj = np.zeros(n_iter)\n",
    "\n",
    "    if not callable(gamma):\n",
    "        # Turn gamma to a function for QUESTION ???\n",
    "\n",
    "        def gamma_func(t):\n",
    "            return gamma\n",
    "    else:\n",
    "        gamma_func = gamma\n",
    "\n",
    "    for t in range(n_iter):\n",
    "        idx = np.random.randint(n_samples)\n",
    "        if loss == \"mse\":\n",
    "            pobj[t] = 0.5 * np.mean((y - np.dot(X, w)) ** 2)\n",
    "            gradient = X[idx] * (np.dot(w,X[idx])-y[idx]); # QUESTIONS 2 et 3 ici on code W.T X\n",
    "                \n",
    "        elif loss == \"hinge\":\n",
    "            diff = 1-y[idx] * (X[idx] @ w) \n",
    "            if diff > 0 :\n",
    "                pobj[t] = diff\n",
    "                gradient = -y[idx]\n",
    "            else :\n",
    "                pobj[t] = 0.0\n",
    "                gradient = 0.0\n",
    "\n",
    "        \n",
    "        if average is True:\n",
    "            raise NotImplementedError('QUESTION 10')\n",
    "\n",
    "        if alpha > 0:\n",
    "            pobj[t]+= (alpha /2) * np.dot(w,w)\n",
    "            gradient += alpha * w \n",
    "            \n",
    "        w -= gamma_func(t) * gradient\n",
    "        \n",
    "        all_w[t] = w\n",
    "    return w, all_w, pobj"
   ]
  },
  {
   "cell_type": "code",
   "execution_count": null,
   "metadata": {},
   "outputs": [],
   "source": []
  },
  {
   "cell_type": "code",
   "execution_count": 217,
   "metadata": {},
   "outputs": [],
   "source": [
    "n_samples = 1000\n",
    "n_features = 1000\n",
    "n_iter = 1000  # number of iterations\n",
    "gamma = 0.1  # suggested step size\n",
    "alpha = 0"
   ]
  },
  {
   "cell_type": "code",
   "execution_count": 218,
   "metadata": {},
   "outputs": [],
   "source": [
    "X_toy = np.random.randn(n_samples, n_features)\n",
    "epsilon_toy = np.random.randn(n_samples) * 1e-5\n",
    "w_target = np.ones(n_features)\n",
    "y_toy = X_toy.dot(w_target) + epsilon_toy"
   ]
  },
  {
   "cell_type": "code",
   "execution_count": 219,
   "metadata": {},
   "outputs": [],
   "source": [
    "# Initialize w with just zeros\n",
    "w_ini = np.random.random(X_toy.shape[1] + 1)"
   ]
  },
  {
   "cell_type": "code",
   "execution_count": 220,
   "metadata": {},
   "outputs": [],
   "source": [
    "loss = 'mse'\n",
    "# loss = 'hinge'  # QUESTION 4"
   ]
  },
  {
   "cell_type": "code",
   "execution_count": 221,
   "metadata": {},
   "outputs": [
    {
     "name": "stderr",
     "output_type": "stream",
     "text": [
      "C:\\Dev\\Anaconda\\lib\\site-packages\\ipykernel_launcher.py:53: RuntimeWarning: overflow encountered in square\n",
      "C:\\Dev\\Anaconda\\lib\\site-packages\\numpy\\core\\_methods.py:160: RuntimeWarning: overflow encountered in reduce\n",
      "  ret = umr_sum(arr, axis, dtype, out, keepdims)\n",
      "C:\\Dev\\Anaconda\\lib\\site-packages\\ipykernel_launcher.py:54: RuntimeWarning: overflow encountered in multiply\n"
     ]
    }
   ],
   "source": [
    "w_toy, all_w, pobj = stochastic_gradient(X_toy, y_toy, gamma, n_iter, w_ini,\n",
    "                                         loss=loss, alpha=alpha, average=False)"
   ]
  },
  {
   "cell_type": "code",
   "execution_count": 222,
   "metadata": {
    "scrolled": true
   },
   "outputs": [
    {
     "data": {
      "image/png": "[encoded data removed]",
      "text/plain": [
       "<Figure size 432x288 with 1 Axes>"
      ]
     },
     "metadata": {
      "needs_background": "light"
     },
     "output_type": "display_data"
    }
   ],
   "source": [
    "plt.figure()\n",
    "plt.plot(pobj)\n",
    "plt.xlabel('t')\n",
    "plt.ylabel('cost')\n",
    "plt.title('%s stochastic (toy)' % loss)\n",
    "plt.show()"
   ]
  },
  {
   "cell_type": "code",
   "execution_count": 225,
   "metadata": {},
   "outputs": [],
   "source": [
    "iris = datasets.load_iris()\n",
    "X = iris.data\n",
    "y = iris.target"
   ]
  },
  {
   "cell_type": "code",
   "execution_count": 226,
   "metadata": {},
   "outputs": [],
   "source": [
    "X = X[y < 2]\n",
    "y = y[y < 2]\n",
    "y[y == 0] = -1\n",
    "X = X[:, :2]"
   ]
  },
  {
   "cell_type": "code",
   "execution_count": 227,
   "metadata": {},
   "outputs": [],
   "source": [
    "# A function for vizualizing the data and classification given by w\n",
    "def plot_2d(X, y, w=None):\n",
    "    \"\"\" Plot in 2D the dataset data, colors and symbols according to the\n",
    "    class given by the vector y (if given); the separating hyperplan w can\n",
    "    also be displayed if asked\"\"\"\n",
    "    plt.figure()\n",
    "    symlist = ['o', 's', '+', 'x', 'D', '*', 'p', 'v', '-', '^']\n",
    "    collist = ['blue', 'red', 'purple', 'orange', 'salmon', 'black', 'grey',\n",
    "               'fuchsia']\n",
    "\n",
    "    labs = np.unique(y)\n",
    "    idxbyclass = [y == labs[i] for i in range(len(labs))]\n",
    "\n",
    "    for i in range(len(labs)):\n",
    "        plt.plot(X[idxbyclass[i], 0], X[idxbyclass[i], 1], '+',\n",
    "                 color=collist[i % len(collist)], ls='None',\n",
    "                 marker=symlist[i % len(symlist)])\n",
    "    plt.ylim([np.min(X[:, 1]), np.max(X[:, 1])])\n",
    "    plt.xlim([np.min(X[:, 0]), np.max(X[:, 0])])\n",
    "    mx = np.min(X[:, 0])\n",
    "    maxx = np.max(X[:, 0])\n",
    "    if w is not None:\n",
    "        plt.plot([mx, maxx], [mx * -w[1] / w[2] - w[0] / w[2],\n",
    "                              maxx * -w[1] / w[2] - w[0] / w[2]],\n",
    "                 \"g\", alpha=1.)\n",
    "    plt.show()"
   ]
  },
  {
   "cell_type": "code",
   "execution_count": 228,
   "metadata": {},
   "outputs": [
    {
     "data": {
      "image/png": "[encoded data removed]",
      "text/plain": [
       "<Figure size 432x288 with 1 Axes>"
      ]
     },
     "metadata": {
      "needs_background": "light"
     },
     "output_type": "display_data"
    }
   ],
   "source": [
    "plot_2d(X[:, :2], y)"
   ]
  },
  {
   "cell_type": "code",
   "execution_count": 238,
   "metadata": {},
   "outputs": [],
   "source": [
    "# QUESTION 8\n",
    "gamma = 0.01  # step size\n",
    "n_iter = 100  # number of iterations"
   ]
  },
  {
   "cell_type": "code",
   "execution_count": 239,
   "metadata": {},
   "outputs": [],
   "source": [
    "loss = 'mse'\n",
    "# loss = 'hinge'  # QUESTION 11"
   ]
  },
  {
   "cell_type": "code",
   "execution_count": 241,
   "metadata": {},
   "outputs": [],
   "source": [
    "# Initialize w with just zeros\n",
    "w_ini = np.random.random(X.shape[1] + 1)"
   ]
  },
  {
   "cell_type": "code",
   "execution_count": 242,
   "metadata": {},
   "outputs": [],
   "source": [
    "w, all_w, pobj = stochastic_gradient(X, y, gamma, n_iter, w_ini, loss=loss)"
   ]
  },
  {
   "cell_type": "code",
   "execution_count": 246,
   "metadata": {},
   "outputs": [
    {
     "data": {
      "image/png": "[encoded data removed]",
      "text/plain": [
       "<Figure size 432x288 with 1 Axes>"
      ]
     },
     "metadata": {
      "needs_background": "light"
     },
     "output_type": "display_data"
    }
   ],
   "source": [
    "plot_2d(X, y, w)\n",
    "#plt.title('%s stochastic' % loss);"
   ]
  },
  {
   "cell_type": "code",
   "execution_count": 244,
   "metadata": {},
   "outputs": [
    {
     "data": {
      "image/png": "[encoded data removed]",
      "text/plain": [
       "<Figure size 432x288 with 1 Axes>"
      ]
     },
     "metadata": {
      "needs_background": "light"
     },
     "output_type": "display_data"
    }
   ],
   "source": [
    "plt.figure()\n",
    "plt.plot(pobj)\n",
    "plt.xlabel('t')\n",
    "plt.ylabel('cost')\n",
    "plt.title('%s stochastic' % loss)\n",
    "plt.show()"
   ]
  },
  {
   "cell_type": "code",
   "execution_count": null,
   "metadata": {},
   "outputs": [],
   "source": []
  },
  {
   "cell_type": "code",
   "execution_count": null,
   "metadata": {},
   "outputs": [],
   "source": []
  }
 ],
 "metadata": {
  "kernelspec": {
   "display_name": "Python 3",
   "language": "python",
   "name": "python3"
  },
  "language_info": {
   "codemirror_mode": {
    "name": "ipython",
    "version": 3
   },
   "file_extension": ".py",
   "mimetype": "text/x-python",
   "name": "python",
   "nbconvert_exporter": "python",
   "pygments_lexer": "ipython3",
   "version": "3.7.6"
  }
 },
 "nbformat": 4,
 "nbformat_minor": 4
}
