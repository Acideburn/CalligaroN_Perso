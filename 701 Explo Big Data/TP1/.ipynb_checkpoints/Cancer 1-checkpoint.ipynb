{
 "cells": [
  {
   "cell_type": "markdown",
   "metadata": {},
   "source": [
    "# Cancer Breast ML"
   ]
  },
  {
   "cell_type": "code",
   "execution_count": 179,
   "metadata": {},
   "outputs": [],
   "source": [
    "import pandas as pd\n",
    "import numpy as np\n",
    "import matplotlib.pyplot as plt\n",
    "\n",
    "#de quoi découper le Dataframe\n",
    "\n",
    "#permet de binarizer une colonne\n",
    "from sklearn.preprocessing import label_binarize\n",
    "\n",
    "#import le modèle \n",
    "\n",
    "#pour dessiner l'arbre\n",
    "from sklearn import tree\n",
    "\n",
    "#donne le score d'accuracy\n",
    "#permet d'avoir la courbe roc\n"
   ]
  },
  {
   "cell_type": "markdown",
   "metadata": {},
   "source": [
    "# Import et nettoyage"
   ]
  },
  {
   "cell_type": "code",
   "execution_count": 170,
   "metadata": {},
   "outputs": [
    {
     "data": {
      "text/html": [
       "<div>\n",
       "<style scoped>\n",
       "    .dataframe tbody tr th:only-of-type {\n",
       "        vertical-align: middle;\n",
       "    }\n",
       "\n",
       "    .dataframe tbody tr th {\n",
       "        vertical-align: top;\n",
       "    }\n",
       "\n",
       "    .dataframe thead th {\n",
       "        text-align: right;\n",
       "    }\n",
       "</style>\n",
       "<table border=\"1\" class=\"dataframe\">\n",
       "  <thead>\n",
       "    <tr style=\"text-align: right;\">\n",
       "      <th></th>\n",
       "      <th>Index</th>\n",
       "      <th>F1</th>\n",
       "      <th>F2</th>\n",
       "      <th>F3</th>\n",
       "      <th>F4</th>\n",
       "      <th>F5</th>\n",
       "      <th>F6</th>\n",
       "      <th>F7</th>\n",
       "      <th>F8</th>\n",
       "      <th>F9</th>\n",
       "      <th>Y</th>\n",
       "    </tr>\n",
       "  </thead>\n",
       "  <tbody>\n",
       "    <tr>\n",
       "      <th>0</th>\n",
       "      <td>1000025</td>\n",
       "      <td>5</td>\n",
       "      <td>1</td>\n",
       "      <td>1</td>\n",
       "      <td>1</td>\n",
       "      <td>2</td>\n",
       "      <td>1</td>\n",
       "      <td>3</td>\n",
       "      <td>1</td>\n",
       "      <td>1</td>\n",
       "      <td>2</td>\n",
       "    </tr>\n",
       "    <tr>\n",
       "      <th>1</th>\n",
       "      <td>1002945</td>\n",
       "      <td>5</td>\n",
       "      <td>4</td>\n",
       "      <td>4</td>\n",
       "      <td>5</td>\n",
       "      <td>7</td>\n",
       "      <td>10</td>\n",
       "      <td>3</td>\n",
       "      <td>2</td>\n",
       "      <td>1</td>\n",
       "      <td>2</td>\n",
       "    </tr>\n",
       "    <tr>\n",
       "      <th>2</th>\n",
       "      <td>1015425</td>\n",
       "      <td>3</td>\n",
       "      <td>1</td>\n",
       "      <td>1</td>\n",
       "      <td>1</td>\n",
       "      <td>2</td>\n",
       "      <td>2</td>\n",
       "      <td>3</td>\n",
       "      <td>1</td>\n",
       "      <td>1</td>\n",
       "      <td>2</td>\n",
       "    </tr>\n",
       "    <tr>\n",
       "      <th>3</th>\n",
       "      <td>1016277</td>\n",
       "      <td>6</td>\n",
       "      <td>8</td>\n",
       "      <td>8</td>\n",
       "      <td>1</td>\n",
       "      <td>3</td>\n",
       "      <td>4</td>\n",
       "      <td>3</td>\n",
       "      <td>7</td>\n",
       "      <td>1</td>\n",
       "      <td>2</td>\n",
       "    </tr>\n",
       "    <tr>\n",
       "      <th>4</th>\n",
       "      <td>1017023</td>\n",
       "      <td>4</td>\n",
       "      <td>1</td>\n",
       "      <td>1</td>\n",
       "      <td>3</td>\n",
       "      <td>2</td>\n",
       "      <td>1</td>\n",
       "      <td>3</td>\n",
       "      <td>1</td>\n",
       "      <td>1</td>\n",
       "      <td>2</td>\n",
       "    </tr>\n",
       "  </tbody>\n",
       "</table>\n",
       "</div>"
      ],
      "text/plain": [
       "     Index  F1  F2  F3  F4  F5  F6  F7  F8  F9  Y\n",
       "0  1000025   5   1   1   1   2   1   3   1   1  2\n",
       "1  1002945   5   4   4   5   7  10   3   2   1  2\n",
       "2  1015425   3   1   1   1   2   2   3   1   1  2\n",
       "3  1016277   6   8   8   1   3   4   3   7   1  2\n",
       "4  1017023   4   1   1   3   2   1   3   1   1  2"
      ]
     },
     "execution_count": 170,
     "metadata": {},
     "output_type": "execute_result"
    }
   ],
   "source": [
    "raw_data = pd.read_csv('breast-cancer-wisconsin.data', sep=',',header=None)\n",
    "#on rajoute une entête\n",
    "entete = [\"Index\", \"F1\", \"F2\", \"F3\", \"F4\", \"F5\", \"F6\", \"F7\", \"F8\", \"F9\",\"Y\"]\n",
    "raw_data.columns=entete\n",
    "#on change l'index\n",
    "raw_data.set_index=[\"Index\"]\n",
    "raw_data.head()\n",
    "#raw_data.info()\n",
    "\n"
   ]
  },
  {
   "cell_type": "code",
   "execution_count": 171,
   "metadata": {
    "collapsed": true
   },
   "outputs": [
    {
     "name": "stdout",
     "output_type": "stream",
     "text": [
      "<class 'pandas.core.frame.DataFrame'>\n",
      "RangeIndex: 699 entries, 0 to 698\n",
      "Data columns (total 11 columns):\n",
      " #   Column  Non-Null Count  Dtype \n",
      "---  ------  --------------  ----- \n",
      " 0   Index   699 non-null    int64 \n",
      " 1   F1      699 non-null    int64 \n",
      " 2   F2      699 non-null    int64 \n",
      " 3   F3      699 non-null    int64 \n",
      " 4   F4      699 non-null    int64 \n",
      " 5   F5      699 non-null    int64 \n",
      " 6   F6      699 non-null    object\n",
      " 7   F7      699 non-null    int64 \n",
      " 8   F8      699 non-null    int64 \n",
      " 9   F9      699 non-null    int64 \n",
      " 10  Y       699 non-null    int64 \n",
      "dtypes: int64(10), object(1)\n",
      "memory usage: 60.2+ KB\n",
      "la colone 6 a un mauvais type\n",
      " None\n",
      "la colonne a un soucis\n",
      " 1     402\n",
      "10    132\n",
      "5      30\n",
      "2      30\n",
      "3      28\n",
      "8      21\n",
      "4      19\n",
      "?      16\n",
      "9       9\n",
      "7       8\n",
      "6       4\n",
      "Name: F6, dtype: int64\n",
      "tout est ok\n",
      " 1     418\n",
      "10    132\n",
      "5      30\n",
      "2      30\n",
      "3      28\n",
      "8      21\n",
      "4      19\n",
      "9       9\n",
      "7       8\n",
      "6       4\n",
      "Name: F6, dtype: int64\n"
     ]
    }
   ],
   "source": [
    "#recherche de valeur abérante\n",
    "print (\"la colone 6 a un mauvais type\\n\",raw_data.info())\n",
    "#On voit que la colonne 6 a un pb\n",
    "print (\"la colonne a un soucis\\n\",raw_data[\"F6\"].value_counts())\n",
    "#on remplace ? par 1 ou rien\n",
    "raw_data[\"F6\"] = raw_data[\"F6\"].apply (lambda x : (1 if x == '?' else x))\n",
    "#On force le type int dans toute la colonne\n",
    "raw_data[\"F6\"] = raw_data[\"F6\"].astype(int)\n",
    "#On peut voir que la colonne est ok\n",
    "print (\"tout est ok\\n\",raw_data[\"F6\"].value_counts())"
   ]
  },
  {
   "cell_type": "code",
   "execution_count": 172,
   "metadata": {
    "collapsed": true
   },
   "outputs": [
    {
     "name": "stdout",
     "output_type": "stream",
     "text": [
      "<class 'pandas.core.frame.DataFrame'>\n",
      "RangeIndex: 699 entries, 0 to 698\n",
      "Data columns (total 11 columns):\n",
      " #   Column  Non-Null Count  Dtype\n",
      "---  ------  --------------  -----\n",
      " 0   Index   699 non-null    int64\n",
      " 1   F1      699 non-null    int64\n",
      " 2   F2      699 non-null    int64\n",
      " 3   F3      699 non-null    int64\n",
      " 4   F4      699 non-null    int64\n",
      " 5   F5      699 non-null    int64\n",
      " 6   F6      699 non-null    int32\n",
      " 7   F7      699 non-null    int64\n",
      " 8   F8      699 non-null    int64\n",
      " 9   F9      699 non-null    int64\n",
      " 10  Y       699 non-null    int64\n",
      "dtypes: int32(1), int64(10)\n",
      "memory usage: 57.5 KB\n",
      "des infos\n",
      " None\n"
     ]
    }
   ],
   "source": [
    "data= raw_data.copy()\n",
    "#print (\"la forme\",Data.shape)\n",
    "#print (\"les types de feature\\n\",Data.dtypes)\n",
    "print (\"des infos\\n\",data.info())\n",
    "#Data.describe()"
   ]
  },
  {
   "cell_type": "code",
   "execution_count": 173,
   "metadata": {},
   "outputs": [
    {
     "data": {
      "text/plain": [
       "0    458\n",
       "1    241\n",
       "Name: Y, dtype: int64"
      ]
     },
     "execution_count": 173,
     "metadata": {},
     "output_type": "execute_result"
    }
   ],
   "source": [
    "\n",
    "#On binarise la sortie : \n",
    "data[\"Y\"] = label_binarize (data[\"Y\"],classes = (2,4))\n",
    "\n",
    "#Data[\"Sol\"] = Data[\"Y\"].apply (lambda x : ('Maligne' if x > 2 else 'Benine'))\n",
    "data[\"Y\"].value_counts()"
   ]
  },
  {
   "cell_type": "markdown",
   "metadata": {},
   "source": [
    "## Création des dataset train & test / séparation Feature Classe"
   ]
  },
  {
   "cell_type": "code",
   "execution_count": 174,
   "metadata": {},
   "outputs": [
    {
     "data": {
      "text/plain": [
       "(((559, 10), (559,)), ((140, 10), (140,)))"
      ]
     },
     "execution_count": 174,
     "metadata": {},
     "output_type": "execute_result"
    }
   ],
   "source": [
    "from sklearn.model_selection import train_test_split\n",
    "\n",
    "#On fait un jeu de feature et un jeu solution ET on lui met 2 catégorie (vrai ou faux)\n",
    "data_sol = data[\"Y\"]\n",
    "data_feature = data.drop ([\"Y\"],axis=1)\n",
    "\n",
    "#on subdivise en un train et un test\n",
    "X_train, X_test, y_train, y_test = train_test_split(data_feature,data_sol,test_size=0.2,random_state=42)\n",
    "\n",
    "(X_train.shape,y_train.shape),(X_test.shape,y_test.shape)"
   ]
  },
  {
   "cell_type": "markdown",
   "metadata": {},
   "source": [
    "# Le modèle"
   ]
  },
  {
   "cell_type": "code",
   "execution_count": 206,
   "metadata": {},
   "outputs": [],
   "source": [
    "from sklearn.tree import DecisionTreeClassifier\n",
    "from sklearn.ensemble import RandomForestClassifier\n",
    "\n",
    "raw_model = DecisionTreeClassifier()\n",
    "raw_model_RFC = RandomForestClassifier()\n",
    "\n",
    "fitted_model = raw_model.fit(X_train,y_train)\n",
    "fitted_model_RFC = raw_model_RFC.fit(X_train,y_train)\n"
   ]
  },
  {
   "cell_type": "code",
   "execution_count": 177,
   "metadata": {},
   "outputs": [
    {
     "data": {
      "text/plain": [
       "(1.0, 0.9357142857142857)"
      ]
     },
     "execution_count": 177,
     "metadata": {},
     "output_type": "execute_result"
    }
   ],
   "source": [
    "#fct scoring du DTC (mean accuracy) entre train et test\n",
    "fitted_model.score(X_train,y_train) , fitted_model.score(X_test,y_test)\n"
   ]
  },
  {
   "cell_type": "code",
   "execution_count": 181,
   "metadata": {},
   "outputs": [],
   "source": [
    "Y_pred_train = fitted_model.predict(X_train)\n",
    "Y_pred_test  = fitted_model.predict(X_test)\n",
    "\n",
    "y_rfc_test == fitted_model_rfc.predict(X_test)"
   ]
  },
  {
   "cell_type": "code",
   "execution_count": 194,
   "metadata": {
    "scrolled": true
   },
   "outputs": [
    {
     "name": "stdout",
     "output_type": "stream",
     "text": [
      "le train 1.0 1.0\n",
      "le test 0.9175438596491228 0.9175438596491228\n"
     ]
    }
   ],
   "source": [
    "from sklearn.metrics import roc_curve,auc,roc_auc_score\n",
    "#On veux la courbe ROC\n",
    "fpr_train, tpr_train, thr_train = roc_curve(y_train,Y_pred_train)\n",
    "fpr_test, tpr_test, thr_test = roc_curve(y_test,Y_pred_test)\n",
    "#On calcul l'air avec la courbe\n",
    "auc_train2 = auc(fpr_train, tpr_train)\n",
    "auc_test2 = auc(fpr_test, tpr_test)\n",
    "\n",
    "#On veut l'air sous la courbe\n",
    "auc_train = roc_auc_score(y_train, Y_pred_train)\n",
    "auc_test = roc_auc_score(y_test, Y_pred_test)\n",
    "\n",
    "print (\"le train\",auc_train2,auc_train)\n",
    "print (\"le test\",auc_test2,auc_test)\n",
    "\n",
    "\n"
   ]
  },
  {
   "cell_type": "code",
   "execution_count": 202,
   "metadata": {},
   "outputs": [
    {
     "data": {
      "text/plain": [
       "<sklearn.metrics._plot.roc_curve.RocCurveDisplay at 0x2e92b8def08>"
      ]
     },
     "execution_count": 202,
     "metadata": {},
     "output_type": "execute_result"
    },
    {
     "data": {
      "image/png": "[encoded data removed]",
      "text/plain": [
       "<Figure size 432x288 with 1 Axes>"
      ]
     },
     "metadata": {
      "needs_background": "light"
     },
     "output_type": "display_data"
    }
   ],
   "source": [
    "from sklearn.metrics import plot_roc_curve\n",
    "#On dessine la courbe :\n",
    "plot_roc_curve(fitted_model,X_test,y_test,name='DTC')"
   ]
  },
  {
   "cell_type": "code",
   "execution_count": 209,
   "metadata": {},
   "outputs": [
    {
     "data": {
      "text/plain": [
       "<sklearn.metrics._plot.roc_curve.RocCurveDisplay at 0x2e92a665048>"
      ]
     },
     "execution_count": 209,
     "metadata": {},
     "output_type": "execute_result"
    },
    {
     "data": {
      "image/png": "[encoded data removed]",
      "text/plain": [
       "<Figure size 432x288 with 1 Axes>"
      ]
     },
     "metadata": {
      "needs_background": "light"
     },
     "output_type": "display_data"
    }
   ],
   "source": [
    "plot_roc_curve(fitted_model_RFC,X_test,y_test,name='RFC')"
   ]
  },
  {
   "cell_type": "markdown",
   "metadata": {},
   "source": [
    "# Train & Cross Validation hyperparameter tuning"
   ]
  },
  {
   "cell_type": "markdown",
   "metadata": {},
   "source": [
    "## Etape 5 :\n",
    "- Utiliser la 'Use-Validation' pour déterminer les bons paramètres\n",
    ">\n",
    "- Utiliser la 'Cross-Validation' pour déterminer les bons paramètres\n",
    ">\n",
    "- Quel est l'air sous la courbe ROC de ces nouveaux modèles, quel est l'accuracy, quel est le meilleur modèle\n",
    ">"
   ]
  },
  {
   "cell_type": "code",
   "execution_count": 210,
   "metadata": {},
   "outputs": [],
   "source": [
    "from sklearn.model_selection import GridSearchCV\n",
    "\n",
    "param_grid = {'bootstrap': [True],\n",
    "     'max_depth': [2, 3],\n",
    "     'max_features': ['auto', 'sqrt'],\n",
    "     'min_samples_leaf': [3, 5],\n",
    "     'min_samples_split': [4, 6],\n",
    "     'n_estimators': [100, 350]\n",
    "    }\n"
   ]
  },
  {
   "cell_type": "code",
   "execution_count": 211,
   "metadata": {},
   "outputs": [
    {
     "ename": "NameError",
     "evalue": "name 'rf' is not defined",
     "output_type": "error",
     "traceback": [
      "\u001b[1;31m---------------------------------------------------------------------------\u001b[0m",
      "\u001b[1;31mNameError\u001b[0m                                 Traceback (most recent call last)",
      "\u001b[1;32m<ipython-input-211-a4de2ab8b9f6>\u001b[0m in \u001b[0;36m<module>\u001b[1;34m\u001b[0m\n\u001b[1;32m----> 1\u001b[1;33m forest_grid_search = GridSearchCV(rf, param_grid, cv=5,\n\u001b[0m\u001b[0;32m      2\u001b[0m                                   \u001b[0mscoring\u001b[0m\u001b[1;33m=\u001b[0m\u001b[1;34m\"accuracy\"\u001b[0m\u001b[1;33m,\u001b[0m\u001b[1;33m\u001b[0m\u001b[1;33m\u001b[0m\u001b[0m\n\u001b[0;32m      3\u001b[0m                                   \u001b[0mreturn_train_score\u001b[0m\u001b[1;33m=\u001b[0m\u001b[1;32mTrue\u001b[0m\u001b[1;33m,\u001b[0m\u001b[1;33m\u001b[0m\u001b[1;33m\u001b[0m\u001b[0m\n\u001b[0;32m      4\u001b[0m                                   \u001b[0mverbose\u001b[0m\u001b[1;33m=\u001b[0m\u001b[1;32mTrue\u001b[0m\u001b[1;33m,\u001b[0m\u001b[1;33m\u001b[0m\u001b[1;33m\u001b[0m\u001b[0m\n\u001b[0;32m      5\u001b[0m                                   n_jobs=-1)\n",
      "\u001b[1;31mNameError\u001b[0m: name 'rf' is not defined"
     ]
    }
   ],
   "source": [
    "forest_grid_search = GridSearchCV(rf, param_grid, cv=5,\n",
    "                                  scoring=\"accuracy\",\n",
    "                                  return_train_score=True,\n",
    "                                  verbose=True,\n",
    "                                  n_jobs=-1)\n",
    "\n",
    "forest_grid_search.fit(X_train, y_train)"
   ]
  },
  {
   "cell_type": "code",
   "execution_count": 212,
   "metadata": {},
   "outputs": [
    {
     "data": {
      "text/plain": [
       "GridSearchCV(cv=5,\n",
       "             estimator=RandomForestClassifier(max_depth=2, random_state=0),\n",
       "             n_jobs=-1,\n",
       "             param_grid={'bootstrap': [True], 'max_depth': [2, 3],\n",
       "                         'max_features': ['auto', 'sqrt'],\n",
       "                         'min_samples_leaf': [3, 5],\n",
       "                         'min_samples_split': [4, 6],\n",
       "                         'n_estimators': [100, 350]},\n",
       "             return_train_score=True, scoring='accuracy', verbose=True)"
      ]
     },
     "execution_count": 212,
     "metadata": {},
     "output_type": "execute_result"
    }
   ],
   "source": [
    "GridSearchCV(cv=5,\n",
    "             estimator=RandomForestClassifier(max_depth=2, random_state=0),\n",
    "             n_jobs=-1,\n",
    "             param_grid={'bootstrap': [True], 'max_depth': [2, 3],\n",
    "                         'max_features': ['auto', 'sqrt'],\n",
    "                         'min_samples_leaf': [3, 5],\n",
    "                         'min_samples_split': [4, 6],\n",
    "                         'n_estimators': [100, 350]},\n",
    "             return_train_score=True, scoring='accuracy', verbose=True)"
   ]
  },
  {
   "cell_type": "code",
   "execution_count": 213,
   "metadata": {},
   "outputs": [
    {
     "ename": "NameError",
     "evalue": "name 'forest_grid_search' is not defined",
     "output_type": "error",
     "traceback": [
      "\u001b[1;31m---------------------------------------------------------------------------\u001b[0m",
      "\u001b[1;31mNameError\u001b[0m                                 Traceback (most recent call last)",
      "\u001b[1;32m<ipython-input-213-fb4647231724>\u001b[0m in \u001b[0;36m<module>\u001b[1;34m\u001b[0m\n\u001b[1;32m----> 1\u001b[1;33m \u001b[0mforest_grid_search\u001b[0m\u001b[1;33m.\u001b[0m\u001b[0mbest_params_\u001b[0m\u001b[1;33m\u001b[0m\u001b[1;33m\u001b[0m\u001b[0m\n\u001b[0m",
      "\u001b[1;31mNameError\u001b[0m: name 'forest_grid_search' is not defined"
     ]
    }
   ],
   "source": [
    "forest_grid_search.best_params_"
   ]
  },
  {
   "cell_type": "code",
   "execution_count": 214,
   "metadata": {},
   "outputs": [
    {
     "ename": "NameError",
     "evalue": "name 'forest_grid_search' is not defined",
     "output_type": "error",
     "traceback": [
      "\u001b[1;31m---------------------------------------------------------------------------\u001b[0m",
      "\u001b[1;31mNameError\u001b[0m                                 Traceback (most recent call last)",
      "\u001b[1;32m<ipython-input-214-81cd84fc29d2>\u001b[0m in \u001b[0;36m<module>\u001b[1;34m\u001b[0m\n\u001b[1;32m----> 1\u001b[1;33m \u001b[0mforest_grid_search\u001b[0m\u001b[1;33m.\u001b[0m\u001b[0mbest_estimator_\u001b[0m\u001b[1;33m\u001b[0m\u001b[1;33m\u001b[0m\u001b[0m\n\u001b[0m",
      "\u001b[1;31mNameError\u001b[0m: name 'forest_grid_search' is not defined"
     ]
    }
   ],
   "source": [
    "forest_grid_search.best_estimator_"
   ]
  },
  {
   "cell_type": "code",
   "execution_count": null,
   "metadata": {},
   "outputs": [],
   "source": []
  }
 ],
 "metadata": {
  "kernelspec": {
   "display_name": "Python 3",
   "language": "python",
   "name": "python3"
  },
  "language_info": {
   "codemirror_mode": {
    "name": "ipython",
    "version": 3
   },
   "file_extension": ".py",
   "mimetype": "text/x-python",
   "name": "python",
   "nbconvert_exporter": "python",
   "pygments_lexer": "ipython3",
   "version": "3.7.7"
  }
 },
 "nbformat": 4,
 "nbformat_minor": 4
}
