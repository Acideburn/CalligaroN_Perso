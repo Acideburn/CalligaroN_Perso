{
 "cells": [
  {
   "cell_type": "markdown",
   "metadata": {},
   "source": [
    "# Etape 5 \n",
    "### Utilisation de subprocess.\n",
    "#### On veux exécuter une cmd système, et gérer les flux d'entrée / sortie / erreur"
   ]
  },
  {
   "cell_type": "markdown",
   "metadata": {},
   "source": [
    "> https://docs.python.org/fr/3.8/library/subprocess.html#subprocess.call"
   ]
  },
  {
   "cell_type": "markdown",
   "metadata": {},
   "source": [
    "On utiliserai Run et popen. Call étant une ancienne commande < Python 3.5"
   ]
  },
  {
   "cell_type": "code",
   "execution_count": 1,
   "metadata": {},
   "outputs": [],
   "source": [
    "import os\n",
    "import subprocess"
   ]
  },
  {
   "cell_type": "code",
   "execution_count": 27,
   "metadata": {},
   "outputs": [
    {
     "data": {
      "text/plain": [
       "1"
      ]
     },
     "execution_count": 27,
     "metadata": {},
     "output_type": "execute_result"
    }
   ],
   "source": [
    "os.system(\"ls\")"
   ]
  },
  {
   "cell_type": "code",
   "execution_count": 1,
   "metadata": {},
   "outputs": [],
   "source": []
  },
  {
   "cell_type": "code",
   "execution_count": 125,
   "metadata": {},
   "outputs": [
    {
     "data": {
      "text/plain": [
       "CompletedProcess(args='dire', returncode=1)"
      ]
     },
     "execution_count": 125,
     "metadata": {},
     "output_type": "execute_result"
    }
   ],
   "source": [
    "subprocess.run(\"dire\",shell=True)\n"
   ]
  },
  {
   "cell_type": "code",
   "execution_count": 34,
   "metadata": {},
   "outputs": [
    {
     "data": {
      "text/plain": [
       "0"
      ]
     },
     "execution_count": 34,
     "metadata": {},
     "output_type": "execute_result"
    }
   ],
   "source": [
    "done.args\n",
    "done.returncode\n",
    "done.stdout\n",
    "done.stderr\n",
    "done.returncode"
   ]
  },
  {
   "cell_type": "code",
   "execution_count": 43,
   "metadata": {},
   "outputs": [
    {
     "data": {
      "text/plain": [
       "CompletedProcess(args='bla bla', returncode=1, stdout=b'', stderr=b\"'bla' n'est pas reconnu en tant que commande interne\\r\\nou externe, un programme ex\\x82cutable ou un fichier de commandes.\\r\\n\")"
      ]
     },
     "execution_count": 43,
     "metadata": {},
     "output_type": "execute_result"
    }
   ],
   "source": [
    "done = subprocess.run(\"bla bla\", shell=True, capture_output=True)\n",
    "done"
   ]
  },
  {
   "cell_type": "code",
   "execution_count": 87,
   "metadata": {},
   "outputs": [
    {
     "name": "stdout",
     "output_type": "stream",
     "text": [
      "Il y a eu un soucis\n",
      "cmd lancé : ls -l\n",
      "'ls' n'est pas reconnu en tant que commande interne\r\n",
      "ou externe, un programme exécutable ou un fichier de commandes.\r\n",
      "\n"
     ]
    }
   ],
   "source": [
    "import subprocess\n",
    "\n",
    "Mon_Process = subprocess.run('ls -l', shell=True, capture_output=True)\n",
    "if not Mon_Process.returncode :\n",
    "    print (\"tout ce passe bien\")\n",
    "    print (\"cmd lancé :\",Mon_Process.args)\n",
    "    print (Mon_Process.stdout.decode('cp850'))\n",
    "else :\n",
    "    print (\"Il y a eu un soucis\")\n",
    "    print (\"cmd lancé :\",Mon_Process.args)\n",
    "    print (Mon_Process.stderr.decode('cp850'))"
   ]
  },
  {
   "cell_type": "code",
   "execution_count": 29,
   "metadata": {},
   "outputs": [],
   "source": [
    "def exec_ok (dist_Process) :\n",
    "    print(\"Traitement du process distant\")\n",
    "    print (dist_Process)\n",
    "    a = subprocess.CompletedProcess('ls',0)\n",
    "    #a = dist_process\n",
    "    \n",
    "    print (dist_Process)\n",
    "    if not dist_Process.returncode :\n",
    "        print (\"le process distant est ok, voici la sortie\")\n",
    "        print (dist_Process.stdout.decode('cp850'))\n",
    "    else :\n",
    "        print (\"le process distant a eu un soucis, voici l'erreur\")\n",
    "        print (dist_Process.stderr.decode('cp850'))"
   ]
  },
  {
   "cell_type": "code",
   "execution_count": 30,
   "metadata": {},
   "outputs": [
    {
     "name": "stdout",
     "output_type": "stream",
     "text": [
      "CompletedProcess(args='python slave.py', returncode=0, stdout=b'CompletedProcess(args=\\'dire\\', returncode=1, stdout=b\\'\\', stderr=b\"\\'dire\\' n\\\\x92est pas reconnu en tant que commande interne\\\\r\\\\nou externe, un programme ex\\\\xe9cutable ou un fichier de commandes.\\\\r\\\\n\")\\r\\n', stderr=b'')\n",
      "le processus distant a été lancé avec succes\n",
      "Traitement du process distant\n",
      "b'CompletedProcess(args=\\'dire\\', returncode=1, stdout=b\\'\\', stderr=b\"\\'dire\\' n\\\\x92est pas reconnu en tant que commande interne\\\\r\\\\nou externe, un programme ex\\\\xe9cutable ou un fichier de commandes.\\\\r\\\\n\")\\r\\n'\n"
     ]
    },
    {
     "ename": "NameError",
     "evalue": "name 'dist_process' is not defined",
     "output_type": "error",
     "traceback": [
      "\u001b[1;31m---------------------------------------------------------------------------\u001b[0m",
      "\u001b[1;31mNameError\u001b[0m                                 Traceback (most recent call last)",
      "\u001b[1;32m<ipython-input-30-081e5dc50488>\u001b[0m in \u001b[0;36m<module>\u001b[1;34m\u001b[0m\n\u001b[0;32m      4\u001b[0m \u001b[1;32mif\u001b[0m \u001b[1;32mnot\u001b[0m \u001b[0mMon_Process\u001b[0m\u001b[1;33m.\u001b[0m\u001b[0mreturncode\u001b[0m \u001b[1;33m:\u001b[0m\u001b[1;33m\u001b[0m\u001b[1;33m\u001b[0m\u001b[0m\n\u001b[0;32m      5\u001b[0m     \u001b[0mprint\u001b[0m \u001b[1;33m(\u001b[0m\u001b[1;34m\"le processus distant a été lancé avec succes\"\u001b[0m\u001b[1;33m)\u001b[0m\u001b[1;33m\u001b[0m\u001b[1;33m\u001b[0m\u001b[0m\n\u001b[1;32m----> 6\u001b[1;33m     \u001b[0mexec_ok\u001b[0m\u001b[1;33m(\u001b[0m\u001b[0mMon_Process\u001b[0m\u001b[1;33m.\u001b[0m\u001b[0mstdout\u001b[0m\u001b[1;33m)\u001b[0m\u001b[1;33m\u001b[0m\u001b[1;33m\u001b[0m\u001b[0m\n\u001b[0m\u001b[0;32m      7\u001b[0m \u001b[1;32melse\u001b[0m \u001b[1;33m:\u001b[0m\u001b[1;33m\u001b[0m\u001b[1;33m\u001b[0m\u001b[0m\n\u001b[0;32m      8\u001b[0m     \u001b[0mprint\u001b[0m \u001b[1;33m(\u001b[0m\u001b[1;34m\"le processus distant n' pas été lancé\"\u001b[0m\u001b[1;33m)\u001b[0m\u001b[1;33m\u001b[0m\u001b[1;33m\u001b[0m\u001b[0m\n",
      "\u001b[1;32m<ipython-input-29-3299797ea732>\u001b[0m in \u001b[0;36mexec_ok\u001b[1;34m(dist_Process)\u001b[0m\n\u001b[0;32m      2\u001b[0m     \u001b[0mprint\u001b[0m\u001b[1;33m(\u001b[0m\u001b[1;34m\"Traitement du process distant\"\u001b[0m\u001b[1;33m)\u001b[0m\u001b[1;33m\u001b[0m\u001b[1;33m\u001b[0m\u001b[0m\n\u001b[0;32m      3\u001b[0m     \u001b[0mprint\u001b[0m \u001b[1;33m(\u001b[0m\u001b[0mdist_Process\u001b[0m\u001b[1;33m)\u001b[0m\u001b[1;33m\u001b[0m\u001b[1;33m\u001b[0m\u001b[0m\n\u001b[1;32m----> 4\u001b[1;33m     \u001b[0ma\u001b[0m \u001b[1;33m=\u001b[0m \u001b[0msubprocess\u001b[0m\u001b[1;33m.\u001b[0m\u001b[0mCompletedProcess\u001b[0m\u001b[1;33m(\u001b[0m\u001b[0mdist_process\u001b[0m\u001b[1;33m)\u001b[0m\u001b[1;33m\u001b[0m\u001b[1;33m\u001b[0m\u001b[0m\n\u001b[0m\u001b[0;32m      5\u001b[0m     \u001b[1;31m#a = dist_process\u001b[0m\u001b[1;33m\u001b[0m\u001b[1;33m\u001b[0m\u001b[1;33m\u001b[0m\u001b[0m\n\u001b[0;32m      6\u001b[0m \u001b[1;33m\u001b[0m\u001b[0m\n",
      "\u001b[1;31mNameError\u001b[0m: name 'dist_process' is not defined"
     ]
    }
   ],
   "source": [
    "Mon_Process = subprocess.run('python slave.py', shell=True, capture_output=True)\n",
    "#print (type(Mon_Process))\n",
    "print (Mon_Process)\n",
    "if not Mon_Process.returncode :\n",
    "    print (\"le processus distant a été lancé avec succes\")\n",
    "    exec_ok(Mon_Process.stdout)\n",
    "else :\n",
    "    print (\"le processus distant n' pas été lancé\")\n",
    "    print (Mon_Process.stderr.decode('cp850'))"
   ]
  },
  {
   "cell_type": "code",
   "execution_count": 22,
   "metadata": {},
   "outputs": [
    {
     "data": {
      "text/plain": [
       "CompletedProcess(args='ls', returncode=0)"
      ]
     },
     "execution_count": 22,
     "metadata": {},
     "output_type": "execute_result"
    }
   ],
   "source": [
    "a = subprocess.CompletedProcess(\"ls\",0)\n",
    "a"
   ]
  },
  {
   "cell_type": "code",
   "execution_count": null,
   "metadata": {},
   "outputs": [],
   "source": []
  }
 ],
 "metadata": {
  "kernelspec": {
   "display_name": "Python 3",
   "language": "python",
   "name": "python3"
  },
  "language_info": {
   "codemirror_mode": {
    "name": "ipython",
    "version": 3
   },
   "file_extension": ".py",
   "mimetype": "text/x-python",
   "name": "python",
   "nbconvert_exporter": "python",
   "pygments_lexer": "ipython3",
   "version": "3.7.7"
  }
 },
 "nbformat": 4,
 "nbformat_minor": 4
}
