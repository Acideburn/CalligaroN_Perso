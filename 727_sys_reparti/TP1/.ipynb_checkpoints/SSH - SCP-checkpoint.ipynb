{
 "cells": [
  {
   "cell_type": "markdown",
   "metadata": {},
   "source": [
    "# Transfert de fichier\n",
    ">Commande SCP\n",
    "https://documentation.online.net/fr/dedicated-server/rescue/scp"
   ]
  },
  {
   "cell_type": "markdown",
   "metadata": {},
   "source": [
    "scp /mon/fichier.txt monutilisateur@ip.dis.tan.te:~\\\n",
    "-r pour copier un dossier (récursivité)\\\n",
    "-p pour garder les dates\\\n",
    "man (1) scp Le manuel"
   ]
  },
  {
   "cell_type": "code",
   "execution_count": null,
   "metadata": {},
   "outputs": [],
   "source": []
  }
 ],
 "metadata": {
  "kernelspec": {
   "display_name": "Python 3",
   "language": "python",
   "name": "python3"
  },
  "language_info": {
   "codemirror_mode": {
    "name": "ipython",
    "version": 3
   },
   "file_extension": ".py",
   "mimetype": "text/x-python",
   "name": "python",
   "nbconvert_exporter": "python",
   "pygments_lexer": "ipython3",
   "version": "3.7.7"
  }
 },
 "nbformat": 4,
 "nbformat_minor": 4
}
