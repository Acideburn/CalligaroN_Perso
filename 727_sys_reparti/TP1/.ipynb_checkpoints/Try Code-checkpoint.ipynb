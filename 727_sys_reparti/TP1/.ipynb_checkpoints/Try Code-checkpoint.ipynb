{
 "cells": [
  {
   "cell_type": "markdown",
   "metadata": {},
   "source": [
    "# Etape 5 \n",
    "### Utilisation de subprocess.\n",
    "#### On veux exécuter une cmd système, et gérer les flux d'entrée / sortie / erreur"
   ]
  },
  {
   "cell_type": "markdown",
   "metadata": {},
   "source": [
    "> https://docs.python.org/fr/3.8/library/subprocess.html#subprocess.call"
   ]
  },
  {
   "cell_type": "markdown",
   "metadata": {},
   "source": [
    "On utiliserai Run et popen. Call étant une ancienne commande < Python 3.5"
   ]
  },
  {
   "cell_type": "code",
   "execution_count": 25,
   "metadata": {},
   "outputs": [],
   "source": [
    "import os"
   ]
  },
  {
   "cell_type": "code",
   "execution_count": 27,
   "metadata": {},
   "outputs": [
    {
     "data": {
      "text/plain": [
       "1"
      ]
     },
     "execution_count": 27,
     "metadata": {},
     "output_type": "execute_result"
    }
   ],
   "source": [
    "os.system(\"ls\")"
   ]
  },
  {
   "cell_type": "code",
   "execution_count": 1,
   "metadata": {},
   "outputs": [],
   "source": [
    "import subprocess"
   ]
  },
  {
   "cell_type": "code",
   "execution_count": 55,
   "metadata": {
    "collapsed": true
   },
   "outputs": [
    {
     "ename": "NameError",
     "evalue": "name 'PIPE' is not defined",
     "output_type": "error",
     "traceback": [
      "\u001b[1;31m---------------------------------------------------------------------------\u001b[0m",
      "\u001b[1;31mNameError\u001b[0m                                 Traceback (most recent call last)",
      "\u001b[1;32m<ipython-input-55-bb3cf98db04a>\u001b[0m in \u001b[0;36m<module>\u001b[1;34m\u001b[0m\n\u001b[1;32m----> 1\u001b[1;33m \u001b[0mdone\u001b[0m \u001b[1;33m=\u001b[0m \u001b[0msubprocess\u001b[0m\u001b[1;33m.\u001b[0m\u001b[0mrun\u001b[0m\u001b[1;33m(\u001b[0m\u001b[1;34m\"dir\"\u001b[0m\u001b[1;33m,\u001b[0m\u001b[0mshell\u001b[0m\u001b[1;33m=\u001b[0m\u001b[1;32mTrue\u001b[0m\u001b[1;33m,\u001b[0m\u001b[0mstdout\u001b[0m\u001b[1;33m=\u001b[0m\u001b[0mPIPE\u001b[0m\u001b[1;33m,\u001b[0m \u001b[0mstderr\u001b[0m\u001b[1;33m=\u001b[0m\u001b[0mb\u001b[0m\u001b[1;33m)\u001b[0m\u001b[1;33m\u001b[0m\u001b[1;33m\u001b[0m\u001b[0m\n\u001b[0m\u001b[0;32m      2\u001b[0m \u001b[0mdone\u001b[0m\u001b[1;33m\u001b[0m\u001b[1;33m\u001b[0m\u001b[0m\n",
      "\u001b[1;31mNameError\u001b[0m: name 'PIPE' is not defined"
     ]
    }
   ],
   "source": [
    "done = subprocess.run(\"dir\",shell=True)\n"
   ]
  },
  {
   "cell_type": "code",
   "execution_count": 27,
   "metadata": {
    "collapsed": true
   },
   "outputs": [
    {
     "data": {
      "text/plain": [
       "0"
      ]
     },
     "execution_count": 27,
     "metadata": {},
     "output_type": "execute_result"
    }
   ],
   "source": [
    "done.args\n",
    "done.returncode\n",
    "done.stdout\n",
    "done.stderr\n",
    "done.returncode"
   ]
  },
  {
   "cell_type": "code",
   "execution_count": 69,
   "metadata": {
    "collapsed": true
   },
   "outputs": [
    {
     "data": {
      "text/plain": [
       "CompletedProcess(args='bla bla', returncode=1, stdout=b'', stderr=b\"'bla' n\\x92est pas reconnu en tant que commande interne\\r\\nou externe, un programme ex\\xe9cutable ou un fichier de commandes.\\r\\n\")"
      ]
     },
     "execution_count": 69,
     "metadata": {},
     "output_type": "execute_result"
    }
   ],
   "source": [
    "done = subprocess.run(\"bla bla\", shell=True, capture_output=True)\n",
    "done"
   ]
  },
  {
   "cell_type": "code",
   "execution_count": 70,
   "metadata": {},
   "outputs": [
    {
     "name": "stdout",
     "output_type": "stream",
     "text": [
      "code de retour : 1\n",
      "Stderr : b\"'bla' n\\x92est pas reconnu en tant que commande interne\\r\\nou externe, un programme ex\\xe9cutable ou un fichier de commandes.\\r\\n\" \n",
      "Stdout : b''\n"
     ]
    }
   ],
   "source": [
    "print (f'\\\n",
    "code de retour : {done.returncode}\\n\\\n",
    "Stderr : {done.stderr} \\n\\\n",
    "Stdout : {done.stdout}\\\n",
    "')\n"
   ]
  },
  {
   "cell_type": "code",
   "execution_count": 26,
   "metadata": {},
   "outputs": [
    {
     "name": "stdout",
     "output_type": "stream",
     "text": [
      "<class 'bytes'>\n",
      "Il y a eu un soucis\n",
      "cmd lancé : ls -l\n",
      "'ls' n'est pas reconnu en tant que commande interne\r\n",
      "ou externe, un programme exécutable ou un fichier de commandes.\r\n",
      "\n"
     ]
    }
   ],
   "source": [
    "import subprocess\n",
    "\n",
    "Mon_Process = subprocess.run('ls -l', shell=True, capture_output=True)\n",
    "if not Mon_Process.returncode :\n",
    "    print (\"tout ce passe bien\")\n",
    "    print (\"cmd lancé :\",Mon_Process.args)\n",
    "    print (Mon_Process.stdout.decode('cp850'))\n",
    "else :\n",
    "    print (\"Il y a eu un soucis\")\n",
    "    print (\"cmd lancé :\",Mon_Process.args)\n",
    "    print (Mon_Process.stderr.decode('cp850'))"
   ]
  }
 ],
 "metadata": {
  "kernelspec": {
   "display_name": "Python 3",
   "language": "python",
   "name": "python3"
  },
  "language_info": {
   "codemirror_mode": {
    "name": "ipython",
    "version": 3
   },
   "file_extension": ".py",
   "mimetype": "text/x-python",
   "name": "python",
   "nbconvert_exporter": "python",
   "pygments_lexer": "ipython3",
   "version": "3.7.7"
  }
 },
 "nbformat": 4,
 "nbformat_minor": 4
}
