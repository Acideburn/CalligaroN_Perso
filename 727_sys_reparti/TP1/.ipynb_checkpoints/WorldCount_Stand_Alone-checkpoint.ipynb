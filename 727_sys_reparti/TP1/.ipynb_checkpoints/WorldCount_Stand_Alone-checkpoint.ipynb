{
 "cells": [
  {
   "cell_type": "markdown",
   "metadata": {},
   "source": [
    "#### Algo1\n",
    "Entrée : un fichier txt\n",
    "Sortie : un dictionnaire avec {mot : itération}"
   ]
  },
  {
   "cell_type": "markdown",
   "metadata": {},
   "source": [
    "## 1er Etape\n",
    "Lire un txt et en faire une string"
   ]
  },
  {
   "cell_type": "code",
   "execution_count": null,
   "metadata": {},
   "outputs": [],
   "source": [
    "with open('test/domaine_public_fluvial.Txt') as f:\n",
    "    text = f.read()"
   ]
  },
  {
   "cell_type": "code",
   "execution_count": null,
   "metadata": {
    "scrolled": true
   },
   "outputs": [],
   "source": [
    "%%time\n",
    "with open('test/Big File.wet', encoding=\"utf8\") as f:\n",
    "    text = f.read()"
   ]
  },
  {
   "cell_type": "markdown",
   "metadata": {},
   "source": [
    "## 2e Etape\n",
    "Transformer la string en mot dans un dictionnaire"
   ]
  },
  {
   "cell_type": "markdown",
   "metadata": {},
   "source": [
    "#### A compiler "
   ]
  },
  {
   "cell_type": "code",
   "execution_count": null,
   "metadata": {},
   "outputs": [],
   "source": [
    "#La string en mot\n",
    "def word_count(text):\n",
    "    words = text.split()\n",
    "    #chaque mot créé une clé dans le dico, si elle exsite déjà on incrément la val\n",
    "    dico = {}\n",
    "    for word in words:\n",
    "        word = word.lower()\n",
    "        dico[word] = dico.get(word, 0) + 1 #get retourne la val de la clé ou la créé sinon\n",
    "    return dico"
   ]
  },
  {
   "cell_type": "code",
   "execution_count": null,
   "metadata": {},
   "outputs": [],
   "source": [
    "def draw (dico) :\n",
    "    #print (dico)\n",
    "    return"
   ]
  },
  {
   "cell_type": "code",
   "execution_count": null,
   "metadata": {},
   "outputs": [],
   "source": [
    "def draw_alpha(dico):\n",
    "    \"\"\"Retourne le dictionnaire tiré par ordre alphanumérique\n",
    "    \"\"\"\n",
    "    new = sorted (dico.items(), key= lambda x : x[0],reverse = False)\n",
    " \n",
    "    return new\n",
    "\n",
    "\n"
   ]
  },
  {
   "cell_type": "code",
   "execution_count": null,
   "metadata": {},
   "outputs": [],
   "source": [
    "def draw_ite(dico) :\n",
    "    \"\"\"Retourne le dictionnaire trié par la Val (itération du mot)\n",
    "    \"\"\"\n",
    "    new = sorted(one.items(),key= lambda x : x[1],reverse = True)\n",
    "    return new"
   ]
  },
  {
   "cell_type": "markdown",
   "metadata": {},
   "source": [
    "#### A compiler"
   ]
  },
  {
   "cell_type": "code",
   "execution_count": null,
   "metadata": {
    "scrolled": true
   },
   "outputs": [],
   "source": [
    "#text"
   ]
  },
  {
   "cell_type": "code",
   "execution_count": null,
   "metadata": {},
   "outputs": [],
   "source": [
    "#print (word_count(text))\n"
   ]
  },
  {
   "cell_type": "code",
   "execution_count": null,
   "metadata": {},
   "outputs": [],
   "source": [
    "#les 5 1er mot\n",
    "one = word_count(text)\n",
    "two = draw_ite(one)\n",
    "\n",
    "for i in range (10):\n",
    "    print (two[i])"
   ]
  },
  {
   "cell_type": "markdown",
   "metadata": {},
   "source": [
    "#### Word Count et tri"
   ]
  },
  {
   "cell_type": "code",
   "execution_count": null,
   "metadata": {},
   "outputs": [],
   "source": [
    "\n",
    "print (len(text))"
   ]
  },
  {
   "cell_type": "code",
   "execution_count": null,
   "metadata": {},
   "outputs": [],
   "source": [
    "%%time\n",
    "for i in range(1):\n",
    "    one = word_count(text)"
   ]
  },
  {
   "cell_type": "code",
   "execution_count": null,
   "metadata": {},
   "outputs": [],
   "source": [
    "%%time\n",
    "for i in range(1):\n",
    "    draw_alpha(one)\n"
   ]
  },
  {
   "cell_type": "markdown",
   "metadata": {},
   "source": [
    "tps dans un fichier .py\n",
    "def chrono(in_filename):\n",
    "    import time\n",
    " \n",
    "    a = time.time()\n",
    "    wordcounttext_serie(str(in_filename))\n",
    "    b = time.time()print ('Temps de calcul en série pour fichier',str(in_filename),(b-a)*1000,\"ms\")\n"
   ]
  },
  {
   "cell_type": "code",
   "execution_count": null,
   "metadata": {},
   "outputs": [],
   "source": []
  }
 ],
 "metadata": {
  "kernelspec": {
   "display_name": "Python 3",
   "language": "python",
   "name": "python3"
  },
  "language_info": {
   "codemirror_mode": {
    "name": "ipython",
    "version": 3
   },
   "file_extension": ".py",
   "mimetype": "text/x-python",
   "name": "python",
   "nbconvert_exporter": "python",
   "pygments_lexer": "ipython3",
   "version": "3.7.7"
  }
 },
 "nbformat": 4,
 "nbformat_minor": 4
}
