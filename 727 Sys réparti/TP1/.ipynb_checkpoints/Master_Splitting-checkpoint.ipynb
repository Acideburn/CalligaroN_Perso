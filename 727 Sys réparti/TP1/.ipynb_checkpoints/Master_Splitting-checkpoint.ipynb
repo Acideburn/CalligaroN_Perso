{
 "cells": [
  {
   "cell_type": "markdown",
   "metadata": {},
   "source": [
    "Etape 0 je prend un split, j'en fait des sous split en fct du nb de machine"
   ]
  },
  {
   "cell_type": "code",
   "execution_count": 55,
   "metadata": {},
   "outputs": [],
   "source": [
    "import pickle"
   ]
  },
  {
   "cell_type": "code",
   "execution_count": 64,
   "metadata": {},
   "outputs": [
    {
     "name": "stdout",
     "output_type": "stream",
     "text": [
      "['Deer', 'libra', 'River', 'Car']\n",
      "['Car', 'River', 'Deer', 'Car']\n",
      "['Bear', 'Bear', 'Bear', 'car']\n",
      "[]\n"
     ]
    }
   ],
   "source": [
    "#lecture du split dans un fichier\n",
    "\n",
    "\n",
    "NbMachines = 3\n",
    "\n",
    "mots = []\n",
    "with open ('letexte.txt','r') as f :\n",
    "    text = f.read()\n",
    "for mot in text.split():\n",
    "    mots.append(mot)\n",
    "\n",
    "#print (mots)\n",
    "\n",
    "taille_split = len(mots)//NbMachines\n",
    "\n",
    "for i in range (NbMachines):\n",
    "    tmp = []\n",
    "    tmp = mots[:taille_split]\n",
    "    del (mots[:taille_split])\n",
    "    with open(f'Splits/S{i}.txt','wb') as f:\n",
    "        pickle.dump(tmp,f)\n",
    "    print (tmp)\n",
    "\n",
    "print (mots)\n",
    "#with open(f'S{j}.txt', 'w' as f :\n",
    " #   f.write(mots[i]+' ')\n",
    "    \n",
    "    "
   ]
  },
  {
   "cell_type": "code",
   "execution_count": 10,
   "metadata": {},
   "outputs": [
    {
     "data": {
      "text/plain": [
       "4"
      ]
     },
     "execution_count": 10,
     "metadata": {},
     "output_type": "execute_result"
    }
   ],
   "source": [
    "12//3\n"
   ]
  },
  {
   "cell_type": "code",
   "execution_count": null,
   "metadata": {},
   "outputs": [],
   "source": []
  },
  {
   "cell_type": "code",
   "execution_count": null,
   "metadata": {},
   "outputs": [],
   "source": []
  },
  {
   "cell_type": "code",
   "execution_count": null,
   "metadata": {},
   "outputs": [],
   "source": []
  }
 ],
 "metadata": {
  "kernelspec": {
   "display_name": "Python 3",
   "language": "python",
   "name": "python3"
  },
  "language_info": {
   "codemirror_mode": {
    "name": "ipython",
    "version": 3
   },
   "file_extension": ".py",
   "mimetype": "text/x-python",
   "name": "python",
   "nbconvert_exporter": "python",
   "pygments_lexer": "ipython3",
   "version": "3.7.7"
  }
 },
 "nbformat": 4,
 "nbformat_minor": 4
}
