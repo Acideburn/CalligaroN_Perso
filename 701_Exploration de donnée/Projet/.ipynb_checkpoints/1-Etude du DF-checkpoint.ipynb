{
 "cells": [
  {
   "cell_type": "markdown",
   "metadata": {},
   "source": [
    "# Thématique, Etudions le DF"
   ]
  },
  {
   "cell_type": "code",
   "execution_count": 1,
   "metadata": {},
   "outputs": [],
   "source": [
    "import pandas as pd\n",
    "import matplotlib.pyplot as plt\n",
    "import numpy as np\n",
    "from Algo_projet import *\n",
    "from collections import Counter"
   ]
  },
  {
   "cell_type": "code",
   "execution_count": 2,
   "metadata": {},
   "outputs": [],
   "source": [
    "raw_df = pd.read_csv('source/usage_stats/103JourneyDataExtract28Mar2018-03Apr2018.csv')"
   ]
  },
  {
   "cell_type": "markdown",
   "metadata": {},
   "source": [
    "Visualiation:\\\n",
    "10.000 lignes x 9 colonnes.\\\n",
    "Le DF représente des trajets trajet à vélo au sein de Londres\n",
    "En précisant :\\\n",
    "l'Id de la station de départ et d'arrivé,\\\n",
    "l'Id du vélo utilisé,\\\n",
    "la durée en seconde,\\\n",
    "l'Id de la location.\\\n",
    "Nous avons également l'heure de départ et d'arrivée.\\\n",
    "\n",
    "Pas de nettoyage à prévoir"
   ]
  },
  {
   "cell_type": "markdown",
   "metadata": {},
   "source": [
    "Nettoyage:\\\n",
    "pas de donnée manquante.\\\n",
    "Cependant on trouve des non trajets\\\n",
    "Station départ = Station d'arrivé\\\n",
    "On trouve également des trajets particulièrement long\\\n",
    "350.000 seconde (4j) "
   ]
  },
  {
   "cell_type": "code",
   "execution_count": 3,
   "metadata": {
    "scrolled": true
   },
   "outputs": [
    {
     "data": {
      "text/html": [
       "<div>\n",
       "<style scoped>\n",
       "    .dataframe tbody tr th:only-of-type {\n",
       "        vertical-align: middle;\n",
       "    }\n",
       "\n",
       "    .dataframe tbody tr th {\n",
       "        vertical-align: top;\n",
       "    }\n",
       "\n",
       "    .dataframe thead th {\n",
       "        text-align: right;\n",
       "    }\n",
       "</style>\n",
       "<table border=\"1\" class=\"dataframe\">\n",
       "  <thead>\n",
       "    <tr style=\"text-align: right;\">\n",
       "      <th></th>\n",
       "      <th>Rental Id</th>\n",
       "      <th>Duration</th>\n",
       "      <th>Bike Id</th>\n",
       "      <th>End Date</th>\n",
       "      <th>EndStation Id</th>\n",
       "      <th>EndStation Name</th>\n",
       "      <th>Start Date</th>\n",
       "      <th>StartStation Id</th>\n",
       "      <th>StartStation Name</th>\n",
       "    </tr>\n",
       "  </thead>\n",
       "  <tbody>\n",
       "    <tr>\n",
       "      <th>0</th>\n",
       "      <td>74203872</td>\n",
       "      <td>120</td>\n",
       "      <td>13382</td>\n",
       "      <td>29/03/2018 11:35</td>\n",
       "      <td>754</td>\n",
       "      <td>Grenfell Road, Avondale</td>\n",
       "      <td>29/03/2018 11:33</td>\n",
       "      <td>442</td>\n",
       "      <td>Walmer Road, Avondale</td>\n",
       "    </tr>\n",
       "    <tr>\n",
       "      <th>2</th>\n",
       "      <td>74207162</td>\n",
       "      <td>360</td>\n",
       "      <td>6446</td>\n",
       "      <td>29/03/2018 15:14</td>\n",
       "      <td>442</td>\n",
       "      <td>Walmer Road, Avondale</td>\n",
       "      <td>29/03/2018 15:08</td>\n",
       "      <td>741</td>\n",
       "      <td>Freston Road, Avondale</td>\n",
       "    </tr>\n",
       "    <tr>\n",
       "      <th>3</th>\n",
       "      <td>74206214</td>\n",
       "      <td>180</td>\n",
       "      <td>13382</td>\n",
       "      <td>29/03/2018 13:51</td>\n",
       "      <td>741</td>\n",
       "      <td>Freston Road, Avondale</td>\n",
       "      <td>29/03/2018 13:48</td>\n",
       "      <td>754</td>\n",
       "      <td>Grenfell Road, Avondale</td>\n",
       "    </tr>\n",
       "    <tr>\n",
       "      <th>4</th>\n",
       "      <td>74243641</td>\n",
       "      <td>300</td>\n",
       "      <td>6</td>\n",
       "      <td>01/04/2018 17:41</td>\n",
       "      <td>16</td>\n",
       "      <td>Cartwright Gardens , Bloomsbury</td>\n",
       "      <td>01/04/2018 17:36</td>\n",
       "      <td>88</td>\n",
       "      <td>Bayley Street , Bloomsbury</td>\n",
       "    </tr>\n",
       "    <tr>\n",
       "      <th>5</th>\n",
       "      <td>74279057</td>\n",
       "      <td>600</td>\n",
       "      <td>4462</td>\n",
       "      <td>03/04/2018 22:56</td>\n",
       "      <td>95</td>\n",
       "      <td>Aldersgate Street, Barbican</td>\n",
       "      <td>03/04/2018 22:46</td>\n",
       "      <td>273</td>\n",
       "      <td>Belvedere Road 1, South Bank</td>\n",
       "    </tr>\n",
       "  </tbody>\n",
       "</table>\n",
       "</div>"
      ],
      "text/plain": [
       "   Rental Id  Duration  Bike Id          End Date  EndStation Id  \\\n",
       "0   74203872       120    13382  29/03/2018 11:35            754   \n",
       "2   74207162       360     6446  29/03/2018 15:14            442   \n",
       "3   74206214       180    13382  29/03/2018 13:51            741   \n",
       "4   74243641       300        6  01/04/2018 17:41             16   \n",
       "5   74279057       600     4462  03/04/2018 22:56             95   \n",
       "\n",
       "                   EndStation Name        Start Date  StartStation Id  \\\n",
       "0          Grenfell Road, Avondale  29/03/2018 11:33              442   \n",
       "2            Walmer Road, Avondale  29/03/2018 15:08              741   \n",
       "3           Freston Road, Avondale  29/03/2018 13:48              754   \n",
       "4  Cartwright Gardens , Bloomsbury  01/04/2018 17:36               88   \n",
       "5      Aldersgate Street, Barbican  03/04/2018 22:46              273   \n",
       "\n",
       "              StartStation Name  \n",
       "0         Walmer Road, Avondale  \n",
       "2        Freston Road, Avondale  \n",
       "3       Grenfell Road, Avondale  \n",
       "4    Bayley Street , Bloomsbury  \n",
       "5  Belvedere Road 1, South Bank  "
      ]
     },
     "execution_count": 3,
     "metadata": {},
     "output_type": "execute_result"
    }
   ],
   "source": [
    "raw_df.drop(raw_df[raw_df['StartStation Id'] == raw_df['EndStation Id']].index,inplace=True)\n",
    "raw_df.drop(raw_df[raw_df['Duration']>28800].index,inplace=True)\n",
    "df = raw_df\n",
    "df.head()"
   ]
  },
  {
   "cell_type": "markdown",
   "metadata": {},
   "source": [
    "# Etude des colonnes"
   ]
  },
  {
   "cell_type": "markdown",
   "metadata": {},
   "source": [
    "## Station"
   ]
  },
  {
   "cell_type": "markdown",
   "metadata": {},
   "source": [
    "nombre de station"
   ]
  },
  {
   "cell_type": "code",
   "execution_count": 4,
   "metadata": {},
   "outputs": [
    {
     "data": {
      "text/plain": [
       "(785, 785)"
      ]
     },
     "execution_count": 4,
     "metadata": {},
     "output_type": "execute_result"
    }
   ],
   "source": [
    "df['StartStation Id'].nunique(),df['EndStation Id'].nunique()"
   ]
  },
  {
   "cell_type": "markdown",
   "metadata": {},
   "source": [
    "Les deux ensemble de station (départ / arrivé) sont bien les mêmes"
   ]
  },
  {
   "cell_type": "code",
   "execution_count": 5,
   "metadata": {},
   "outputs": [
    {
     "data": {
      "text/plain": [
       "785"
      ]
     },
     "execution_count": 5,
     "metadata": {},
     "output_type": "execute_result"
    }
   ],
   "source": [
    "#Visiblement les deux listes sont identiques (pas de station en plus d'un coté ou de l'autre)\n",
    "total_station=[]\n",
    "for i in df['StartStation Id'].unique() :\n",
    "    total_station.append(i)\n",
    "for i in df['EndStation Id'].unique() :\n",
    "    if i not in total_station:\n",
    "        total_station.append(i)\n",
    "total_station=[]\n",
    "for i in df['EndStation Id'].unique() :\n",
    "    total_station.append(i)\n",
    "for i in df['StartStation Id'].unique() :\n",
    "    if i not in total_station:\n",
    "        print ('toto')\n",
    "        total_station.append(i)        \n",
    "len(total_station)\n"
   ]
  },
  {
   "cell_type": "markdown",
   "metadata": {},
   "source": [
    "Station qui a le plus de départ"
   ]
  },
  {
   "cell_type": "code",
   "execution_count": 6,
   "metadata": {},
   "outputs": [
    {
     "name": "stdout",
     "output_type": "stream",
     "text": [
      "Station 154 à vu 887 départ (max) et 779 arrivé\n"
     ]
    }
   ],
   "source": [
    "a = df.groupby(['StartStation Id']).size().idxmax()\n",
    "b = len(df.loc[df['StartStation Id']==a])\n",
    "c = len(df.loc[df['EndStation Id']==a])\n",
    "print (f\"Station {a} à vu {b} départ (max) et {c} arrivé\")"
   ]
  },
  {
   "cell_type": "code",
   "execution_count": 7,
   "metadata": {},
   "outputs": [
    {
     "name": "stdout",
     "output_type": "stream",
     "text": [
      "Station 14 à vu 861 départ et 758 arrivé (max)\n"
     ]
    }
   ],
   "source": [
    "a = df.groupby(['EndStation Id']).size().idxmax()\n",
    "c = len(df.loc[df['StartStation Id']==a])\n",
    "b = len(df.loc[df['EndStation Id']==a])\n",
    "print (f\"Station {a} à vu {b} départ et {c} arrivé (max)\")"
   ]
  },
  {
   "cell_type": "markdown",
   "metadata": {},
   "source": [
    "Montrer un graph donnant le nombre d'arrivé pour chaque station de départ"
   ]
  },
  {
   "cell_type": "markdown",
   "metadata": {},
   "source": [
    "# Stat sur les stations au départ"
   ]
  },
  {
   "cell_type": "code",
   "execution_count": 14,
   "metadata": {},
   "outputs": [
    {
     "data": {
      "image/png": "[encoded data removed]",
      "text/plain": [
       "<Figure size 432x288 with 1 Axes>"
      ]
     },
     "metadata": {
      "needs_background": "light"
     },
     "output_type": "display_data"
    }
   ],
   "source": [
    "#Stat sur les stations.\n",
    "df_used = df['StartStation Id']\n",
    "df_used.value_counts().plot(kind='box'\n",
    "                                         ,showfliers =False);\n",
    "#Les outliers sont des stations particulièrement utilisée"
   ]
  },
  {
   "cell_type": "code",
   "execution_count": 15,
   "metadata": {},
   "outputs": [
    {
     "data": {
      "text/plain": [
       "(64.0, 144.0, 208.0, 264.0)"
      ]
     },
     "execution_count": 15,
     "metadata": {},
     "output_type": "execute_result"
    }
   ],
   "source": [
    "#Les outliers sont des stations particulièrement utilisées :\n",
    "stat = list(df_used.value_counts())\n",
    "Q1,Q3,Q4= np.quantile(stat,[0.25,0.75,0.90])\n",
    "outliers = ((Q3-Q1)*1.5)+Q3\n",
    "nb1= Counter((df_used.value_counts() > outliers))[True]\n",
    "Station_used=list(df_used.value_counts().loc[(df_used.value_counts() > outliers)].index)\n",
    "Q1,Q3,Q4,outliers"
   ]
  },
  {
   "cell_type": "code",
   "execution_count": 16,
   "metadata": {},
   "outputs": [
    {
     "name": "stdout",
     "output_type": "stream",
     "text": [
      "il y a 42 stations sur utilisé (+264.0 fois) \n",
      "voici la liste le top10 :[154, 14, 191, 307, 248, 303, 194, 374, 132, 762]\n"
     ]
    }
   ],
   "source": [
    "print(f\"il y a {nb1} stations sur utilisé (+{outliers} fois) \\nvoici la liste le top10 :{Station_used[:10]}\")"
   ]
  },
  {
   "cell_type": "markdown",
   "metadata": {},
   "source": [
    "# Stat sur les stations à l'arrivé"
   ]
  },
  {
   "cell_type": "code",
   "execution_count": 17,
   "metadata": {},
   "outputs": [
    {
     "data": {
      "image/png": "[encoded data removed]",
      "text/plain": [
       "<Figure size 432x288 with 1 Axes>"
      ]
     },
     "metadata": {
      "needs_background": "light"
     },
     "output_type": "display_data"
    }
   ],
   "source": [
    "#Stat sur les stations.\n",
    "df_used = df['EndStation Id']\n",
    "df_used.value_counts().plot(kind='box'\n",
    "                                         ,showfliers =False);\n",
    "#Les outliers sont des stations particulièrement utilisée"
   ]
  },
  {
   "cell_type": "code",
   "execution_count": 18,
   "metadata": {},
   "outputs": [
    {
     "data": {
      "text/plain": [
       "(60.0, 144.0, 213.0, 270.0)"
      ]
     },
     "execution_count": 18,
     "metadata": {},
     "output_type": "execute_result"
    }
   ],
   "source": [
    "#Les outliers sont des stations particulièrement utilisées :\n",
    "stat = list(df_used.value_counts())\n",
    "Q1,Q3,Q4= np.quantile(stat,[0.25,0.75,0.90])\n",
    "outliers = ((Q3-Q1)*1.5)+Q3\n",
    "nb1= Counter((df_used.value_counts() > outliers))[True]\n",
    "Station_used=list(df_used.value_counts().loc[(df_used.value_counts() > outliers)].index)\n",
    "Q1,Q3,Q4,outliers"
   ]
  },
  {
   "cell_type": "code",
   "execution_count": 19,
   "metadata": {},
   "outputs": [
    {
     "name": "stdout",
     "output_type": "stream",
     "text": [
      "il y a 45 stations sur utilisé (+270.0 fois) \n",
      "voici la liste le top10 :[14, 154, 191, 194, 374, 251, 303, 307, 762, 248]\n"
     ]
    }
   ],
   "source": [
    "print(f\"il y a {nb1} stations sur utilisé (+{outliers} fois) \\nvoici la liste le top10 :{Station_used[:10]}\")"
   ]
  },
  {
   "cell_type": "markdown",
   "metadata": {},
   "source": [
    "# Par vélo"
   ]
  },
  {
   "cell_type": "markdown",
   "metadata": {},
   "source": [
    "Nombre de vélo"
   ]
  },
  {
   "cell_type": "code",
   "execution_count": null,
   "metadata": {},
   "outputs": [],
   "source": [
    "df['Bike Id'].nunique()"
   ]
  },
  {
   "cell_type": "markdown",
   "metadata": {},
   "source": [
    "Nombre d'utilisation par vélo"
   ]
  },
  {
   "cell_type": "code",
   "execution_count": null,
   "metadata": {},
   "outputs": [],
   "source": [
    "df['Bike Id'].value_counts()"
   ]
  },
  {
   "cell_type": "markdown",
   "metadata": {},
   "source": [
    "## Histogramme de l'utilisation des vélos"
   ]
  },
  {
   "cell_type": "code",
   "execution_count": null,
   "metadata": {
    "scrolled": true
   },
   "outputs": [],
   "source": [
    "df['Bike Id'].value_counts().plot(kind='hist'\n",
    "                                 ,figsize=(15,5)\n",
    "                                 ,bins=32\n",
    "                                 );"
   ]
  },
  {
   "cell_type": "code",
   "execution_count": null,
   "metadata": {},
   "outputs": [],
   "source": [
    "df['Bike Id'].value_counts().plot(kind='box'\n",
    "                                 ,showfliers =False\n",
    "                                 );\n",
    "stat = list(df['Bike Id'].value_counts())\n",
    "Q1,Q2,Q3,Q4= np.quantile(stat,[0.25,0.5,0.75,0.90])\n",
    "print(f\"Q1:{Q1}, moyenne : {Q2}, Q3:{Q3}\")"
   ]
  },
  {
   "cell_type": "code",
   "execution_count": null,
   "metadata": {},
   "outputs": [],
   "source": [
    "outliers = ((Q3-Q1)*1.5)+Q3\n",
    "nb1= Counter((df['Bike Id'].value_counts() > outliers))[True]\n",
    "print(f\"nombre de vélo sur utilisé :{nb1}\")"
   ]
  },
  {
   "cell_type": "markdown",
   "metadata": {},
   "source": [
    "# Résumé des chiffres :\n",
    "Nb de vélo : 10k\\\n",
    "dico {id Vélo : nb_utilisation} Stat : 1 / 17 / 38\\\n",
    "dico {nb_utilisation : nb_apparition} Stat : 0 / 267 / 718"
   ]
  },
  {
   "cell_type": "code",
   "execution_count": null,
   "metadata": {},
   "outputs": [],
   "source": []
  },
  {
   "cell_type": "markdown",
   "metadata": {},
   "source": [
    "## Temps de trajet"
   ]
  },
  {
   "cell_type": "code",
   "execution_count": null,
   "metadata": {},
   "outputs": [],
   "source": [
    "nettoyage_df = pd.read_csv('source/usage_stats/103JourneyDataExtract28Mar2018-03Apr2018.csv')"
   ]
  },
  {
   "cell_type": "code",
   "execution_count": null,
   "metadata": {},
   "outputs": [],
   "source": [
    "nettoyage_df['Duration'].max()"
   ]
  },
  {
   "cell_type": "code",
   "execution_count": null,
   "metadata": {},
   "outputs": [],
   "source": [
    "df1=nettoyage_df"
   ]
  },
  {
   "cell_type": "markdown",
   "metadata": {},
   "source": [
    "Voilà pourquoi on retire les trajet > 8h"
   ]
  },
  {
   "cell_type": "code",
   "execution_count": null,
   "metadata": {},
   "outputs": [],
   "source": [
    "df['Duration'].unique()"
   ]
  },
  {
   "cell_type": "code",
   "execution_count": null,
   "metadata": {},
   "outputs": [],
   "source": [
    "df['Duration'].value_counts().plot(kind='hist'\n",
    "                                   ,loglog =True\n",
    "                                  );"
   ]
  },
  {
   "cell_type": "markdown",
   "metadata": {},
   "source": [
    "#### On verra que les trajets au dela de 100 secondes ("
   ]
  },
  {
   "cell_type": "code",
   "execution_count": null,
   "metadata": {},
   "outputs": [],
   "source": [
    "df['Duration'].plot(kind='box'\n",
    "                                  ,showfliers =False\n",
    "                                  );\n",
    "stat = list(df['Duration'])\n",
    "Q1,Q2,Q3,Q4= np.quantile(stat,[0.25,0.5,0.75,0.90])\n",
    "print(f\"Q1:{Q1/60}, moyenne : {Q2/60}, Q3:{Q3/60} (minutes)\")"
   ]
  },
  {
   "cell_type": "code",
   "execution_count": null,
   "metadata": {},
   "outputs": [],
   "source": [
    "outliers = ((Q3-Q1)*1.5)+Q3\n",
    "nb1= Counter((df['Duration'] > outliers))[True]\n",
    "print(f\"Trajet 'trop important' :{nb1} > {outliers/60} minutes\")"
   ]
  },
  {
   "cell_type": "markdown",
   "metadata": {},
   "source": [
    "#### On ne prendra en compte que les trajets inférieur à 45 minutes."
   ]
  },
  {
   "cell_type": "code",
   "execution_count": null,
   "metadata": {},
   "outputs": [],
   "source": [
    "liste = df['Duration']\n",
    "Q1,Q2,Q3=np.quantile(liste,[1/4,1/2,3/4])\n",
    "max = Q3+(1.5*(Q3-Q1))\n",
    "plt.boxplot(df1.loc[df1['Duration']<max]['Duration'])\n",
    "print(f\"Outliers : {len(df1.loc[df1['Duration']>max]['Duration'])}, Durée max : {max/60} min, moyenne : {df1.loc[df1['Duration']<max]['Duration'].mean()/60}\")"
   ]
  },
  {
   "cell_type": "code",
   "execution_count": null,
   "metadata": {},
   "outputs": [],
   "source": [
    "df.groupby(['Duration']).ngroups"
   ]
  },
  {
   "cell_type": "code",
   "execution_count": null,
   "metadata": {},
   "outputs": [],
   "source": []
  },
  {
   "cell_type": "code",
   "execution_count": null,
   "metadata": {},
   "outputs": [],
   "source": [
    "df.groupby(['Duration']).get_group(120)"
   ]
  },
  {
   "cell_type": "markdown",
   "metadata": {},
   "source": [
    "ligne n'étant pas des trajets (station départ = station d'arrivé"
   ]
  },
  {
   "cell_type": "code",
   "execution_count": null,
   "metadata": {},
   "outputs": [],
   "source": [
    "df.iloc[no_trajet['Duration'].idxmax()]"
   ]
  },
  {
   "cell_type": "code",
   "execution_count": null,
   "metadata": {
    "scrolled": true
   },
   "outputs": [],
   "source": [
    "df.loc[df['Bike Id']==2388]"
   ]
  },
  {
   "cell_type": "code",
   "execution_count": null,
   "metadata": {},
   "outputs": [],
   "source": [
    "df.iloc[no_trajet['Duration'].idxmin()]"
   ]
  },
  {
   "cell_type": "markdown",
   "metadata": {},
   "source": [
    "Voici les lignes qui sont des non trajets et que l'on retire"
   ]
  },
  {
   "cell_type": "code",
   "execution_count": null,
   "metadata": {},
   "outputs": [],
   "source": [
    "len(nettoyage_df.loc[(nettoyage_df['StartStation Id'] != nettoyage_df['EndStation Id'])])-len(nettoyage_df)"
   ]
  },
  {
   "cell_type": "code",
   "execution_count": null,
   "metadata": {},
   "outputs": [],
   "source": [
    "nettoyage_df.loc[(nettoyage_df['StartStation Id'] == nettoyage_df['EndStation Id'])]"
   ]
  },
  {
   "cell_type": "markdown",
   "metadata": {},
   "source": [
    "Nombre de trajet par durée"
   ]
  },
  {
   "cell_type": "code",
   "execution_count": null,
   "metadata": {},
   "outputs": [],
   "source": [
    "#900 sec = 1h nb de trajet par heure\n",
    "trajet_15min = nb_travel_slice (900)\n",
    "trajet_15min"
   ]
  },
  {
   "cell_type": "code",
   "execution_count": null,
   "metadata": {},
   "outputs": [],
   "source": [
    "#3600 sec = 1h nb de trajet par heure\n",
    "trajet_1h = nb_travel_slice (3600)"
   ]
  },
  {
   "cell_type": "markdown",
   "metadata": {},
   "source": [
    "Trouver un graphique pour montrer la disparité des trajets par durée"
   ]
  },
  {
   "cell_type": "code",
   "execution_count": null,
   "metadata": {
    "scrolled": false
   },
   "outputs": [],
   "source": [
    "plt.plot(trajet_15min)\n",
    "plt.plot(trajet_1h)"
   ]
  },
  {
   "cell_type": "code",
   "execution_count": null,
   "metadata": {},
   "outputs": [],
   "source": [
    "df"
   ]
  },
  {
   "cell_type": "code",
   "execution_count": null,
   "metadata": {},
   "outputs": [],
   "source": []
  },
  {
   "cell_type": "code",
   "execution_count": null,
   "metadata": {},
   "outputs": [],
   "source": []
  },
  {
   "cell_type": "code",
   "execution_count": null,
   "metadata": {},
   "outputs": [],
   "source": []
  }
 ],
 "metadata": {
  "kernelspec": {
   "display_name": "Python 3",
   "language": "python",
   "name": "python3"
  },
  "language_info": {
   "codemirror_mode": {
    "name": "ipython",
    "version": 3
   },
   "file_extension": ".py",
   "mimetype": "text/x-python",
   "name": "python",
   "nbconvert_exporter": "python",
   "pygments_lexer": "ipython3",
   "version": "3.7.7"
  }
 },
 "nbformat": 4,
 "nbformat_minor": 4
}
