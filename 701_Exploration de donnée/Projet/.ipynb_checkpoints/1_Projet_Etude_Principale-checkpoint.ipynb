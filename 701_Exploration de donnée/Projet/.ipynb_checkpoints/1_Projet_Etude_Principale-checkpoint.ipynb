{
 "cells": [
  {
   "cell_type": "markdown",
   "metadata": {},
   "source": [
    "Projet réalisé par :\n",
    "- Calligaro Nicolas\n",
    "- Calvet Rodolphe"
   ]
  },
  {
   "cell_type": "code",
   "execution_count": 1,
   "metadata": {},
   "outputs": [],
   "source": [
    "import pandas as pd\n",
    "import matplotlib.pyplot as plt\n",
    "import numpy as np\n",
    "import datetime as dt\n",
    "from Algo_projet import *\n",
    "import pickle\n",
    "from ipyleaflet import Map, basemaps, MarkerCluster, FullScreenControl\n",
    "from collections import Counter"
   ]
  },
  {
   "cell_type": "markdown",
   "metadata": {},
   "source": [
    "# 1) Description des données"
   ]
  },
  {
   "cell_type": "markdown",
   "metadata": {},
   "source": [
    "Nous avons souhaité travailler sur un fichier portant sur les déplacements en vélo à Londres, principalement du 28 mars au 3 avril 2018.\n",
    "Le fichier, comme d'autres, est mis en ligne par la ville de Londres et des challenges Kaggles traitent du sujet.\n",
    "Le dataframe prend la forme suivante :"
   ]
  },
  {
   "cell_type": "raw",
   "metadata": {},
   "source": [
    "Int64Index: 91861 entries, 0 to 96173\n",
    "Data columns (total 9 columns):\n",
    " /   Column             Non-Null Count  Dtype         \n",
    "---  ------             --------------  -----         \n",
    " 0   Rental Id          91861 non-null  int64         \n",
    " 1   Duration           91861 non-null  int64         \n",
    " 2   Bike Id            91861 non-null  int64         \n",
    " 3   End Date           91861 non-null  datetime64[ns]\n",
    " 4   EndStation Id      91861 non-null  int64         \n",
    " 5   EndStation Name    91861 non-null  object        \n",
    " 6   Start Date         91861 non-null  datetime64[ns]\n",
    " 7   StartStation Id    91861 non-null  int64         \n",
    " 8   StartStation Name  91861 non-null  object        \n",
    "dtypes: datetime64[ns](2), int64(5), object(2)\n",
    "memory usage: 7.0+ MB"
   ]
  },
  {
   "cell_type": "markdown",
   "metadata": {},
   "source": [
    "On a donc 91861 entrées qui sont autant de trajets caractérisés par :\n",
    "- un numéro de transaction (Rental Id), identifiant unique d'un parcours, que nous n'avons pas utilisé,\n",
    "- un temps de parcours (Duration),\n",
    "- un identifiant de vélo (Bike Id),\n",
    "- un point et une heure de départ (StartStation Id et StartStation Name, Start Date),\n",
    "- un point et une heure d'arrivée (EndStation Id et EndStation Name, End Date).\n",
    "\n",
    "Les durées sont mesurées en secondes. Les IDs de vélo ou de station sont des nombres entiers, et les dates seront caster en DateTime et précis à la minute. Enfin les noms des stations sont un nom de rue adossé à un nom de quartier ou point caractéristique qui sont suffisants pour récupérer leurs coordonnées géographiques via une API (Arcgis featured by Geocoder).\n",
    "\n",
    "Notre attention s'est portée sur cette exploration après la lecture que nous avons faite d'un article de Eden Au, PhD en datascience, et qui a rédigé un post sur cette problématique richement doté en visualisation.\n",
    "https://towardsdatascience.com/visualizing-bike-mobility-in-london-using-interactive-maps-for-absolute-beginners-3b9f55ccb59#9f3c\n",
    "Même si nous ne souhaitions pas recoder à l'identique ni formuler les mêmes questions, ce point de départ nous garantissait un jeu de données exploitables, pluôt maniable a priori, avec la perspective de pouvoir répondre à des questions simples et aussi d'envisager de joindre l'étude de graphes et leur positionnement sur une carte.\n",
    "\n",
    "Nous avons finalement réduit l'analyse à ce fichier contenant une semaine de parcours, par manque de temps.\n",
    "Le fichier est téléchargeable au format xls à l'adresse suivante :\n",
    "https://cycling.data.tfl.gov.uk/\n",
    "La ville de Londres mets d'autre informations à disposition comme les rues impruntés, les places disponibles dans les stations. Données que nous n'avons pas exploité dans notre recherche.\n",
    "\n",
    "La récupération des coordonées Gps se fait par l'intermédiaire de la bibliothèque Geocoder et l'API Arcgis. l'extraction des données pour 800 stations prends 10 min.\n",
    "Ainsi nous avons utilisé la classe Pickle, pour nous affranchir de la récupération fastidieuse des coordonnées GPS des stations."
   ]
  },
  {
   "cell_type": "code",
   "execution_count": 2,
   "metadata": {},
   "outputs": [
    {
     "data": {
      "text/plain": [
       "(96174, 9)"
      ]
     },
     "execution_count": 2,
     "metadata": {},
     "output_type": "execute_result"
    }
   ],
   "source": [
    "raw_df = pd.read_csv('103JourneyDataExtract28Mar2018-03Apr2018.csv')\n",
    "raw_df.shape"
   ]
  },
  {
   "cell_type": "markdown",
   "metadata": {},
   "source": [
    "Les données sont valides. Il n'y a pas de correction a faire avant de les utiliser (pas de valeur erronée, ni de NAN)."
   ]
  },
  {
   "cell_type": "markdown",
   "metadata": {},
   "source": [
    "# 2) Nettoyage des données"
   ]
  },
  {
   "cell_type": "markdown",
   "metadata": {},
   "source": [
    "Suite aux premières explorations, des trajets aberrants ont été retirés, ceux dont l'arrivée correspondait au départ. Par commodité, nous avons également choisi d'écarter ceux dont la durée dépassait 8 heures.\n",
    "Nous avons le plus souvent utilisé la classe datetime afin de faciliter la manipulation des timestamps."
   ]
  },
  {
   "cell_type": "code",
   "execution_count": 3,
   "metadata": {},
   "outputs": [
    {
     "data": {
      "text/plain": [
       "4232"
      ]
     },
     "execution_count": 3,
     "metadata": {},
     "output_type": "execute_result"
    }
   ],
   "source": [
    "raw_df[raw_df['StartStation Id'] == raw_df['EndStation Id']].shape[0]"
   ]
  },
  {
   "cell_type": "code",
   "execution_count": 4,
   "metadata": {},
   "outputs": [
    {
     "data": {
      "text/plain": [
       "101"
      ]
     },
     "execution_count": 4,
     "metadata": {},
     "output_type": "execute_result"
    }
   ],
   "source": [
    "raw_df[raw_df['Duration']>28800].shape[0]"
   ]
  },
  {
   "cell_type": "code",
   "execution_count": 5,
   "metadata": {},
   "outputs": [
    {
     "name": "stdout",
     "output_type": "stream",
     "text": [
      "load from disque OK\n"
     ]
    },
    {
     "data": {
      "text/html": [
       "<div>\n",
       "<style scoped>\n",
       "    .dataframe tbody tr th:only-of-type {\n",
       "        vertical-align: middle;\n",
       "    }\n",
       "\n",
       "    .dataframe tbody tr th {\n",
       "        vertical-align: top;\n",
       "    }\n",
       "\n",
       "    .dataframe thead th {\n",
       "        text-align: right;\n",
       "    }\n",
       "</style>\n",
       "<table border=\"1\" class=\"dataframe\">\n",
       "  <thead>\n",
       "    <tr style=\"text-align: right;\">\n",
       "      <th></th>\n",
       "      <th>Rental Id</th>\n",
       "      <th>Duration</th>\n",
       "      <th>Bike Id</th>\n",
       "      <th>End Date</th>\n",
       "      <th>EndStation Id</th>\n",
       "      <th>EndStation Name</th>\n",
       "      <th>Start Date</th>\n",
       "      <th>StartStation Id</th>\n",
       "      <th>StartStation Name</th>\n",
       "    </tr>\n",
       "  </thead>\n",
       "  <tbody>\n",
       "    <tr>\n",
       "      <th>0</th>\n",
       "      <td>74203872</td>\n",
       "      <td>120</td>\n",
       "      <td>13382</td>\n",
       "      <td>2018-03-29 11:35:00</td>\n",
       "      <td>754</td>\n",
       "      <td>Grenfell Road, Avondale</td>\n",
       "      <td>2018-03-29 11:33:00</td>\n",
       "      <td>442</td>\n",
       "      <td>Walmer Road, Avondale</td>\n",
       "    </tr>\n",
       "  </tbody>\n",
       "</table>\n",
       "</div>"
      ],
      "text/plain": [
       "   Rental Id  Duration  Bike Id            End Date  EndStation Id  \\\n",
       "0   74203872       120    13382 2018-03-29 11:35:00            754   \n",
       "\n",
       "           EndStation Name          Start Date  StartStation Id  \\\n",
       "0  Grenfell Road, Avondale 2018-03-29 11:33:00              442   \n",
       "\n",
       "       StartStation Name  \n",
       "0  Walmer Road, Avondale  "
      ]
     },
     "execution_count": 5,
     "metadata": {},
     "output_type": "execute_result"
    }
   ],
   "source": [
    "#Voir la fonction complète de traitement des données dans le fichier .py\n",
    "df= Prod_Clean_Df()\n",
    "df.head(1)"
   ]
  },
  {
   "cell_type": "code",
   "execution_count": 24,
   "metadata": {},
   "outputs": [
    {
     "name": "stdout",
     "output_type": "stream",
     "text": [
      "Je télécharge les Coord ETA 10 minutes\n",
      "51.51198114/-0.212189452/Walmer Road, Avondale\n",
      "51.51018341/-0.217023329/Freston Road, Avondale\n",
      "51.51309423/-0.2150650481/Grenfell Road, Avondale\n",
      "51.5186473/-0.1319875345/Bayley Street , Bloomsbury\n",
      "51.50236639/-0.1178231156/Belvedere Road 1, South Bank\n",
      "51.51186783/-0.1071099419/Tallis Street, Temple\n",
      "51.51568035/-0.09978113782/Newgate Street , St. Paul's\n",
      "51.50916312/-0.08114765361/Lower Thames Street, Monument\n",
      "51.52971998/-0.05504999312/York Hall, Bethnal Green\n",
      "51.52170341/-0.05275265596/Cleveland Way, Stepney\n",
      "51.52468187/-0.08150495934/Leonard Circus , Shoreditch\n",
      "51.59716505/-0.2019799362/St. Mary & St. Michael Church, Stepney\n",
      "51.50370919/-0.09882371574/Union Street, The Borough\n",
      "51.53021519/-0.05262503737/Old Ford Road, Bethnal Green\n",
      "51.5441/-0.01525/Timber Lodge, Queen Elizabeth Olympic Park\n",
      "51.50745428/-0.06828286554/Nesham Street, Wapping\n",
      "51.51292524/-0.09912743605/Godliman Street, St. Paul's\n",
      "51.52669/-0.06257/Cephas Street, Bethnal Green\n",
      "51.52933611/-0.03419365511/Antill Road, Mile End\n",
      "51.53327035/-0.1119800167/Risinghill Street, Angel\n",
      "51.51994/-0.09466/Aldersgate Street, Barbican\n",
      "51.51078/-0.00419/Naval Row, Blackwall\n",
      "51.53646545/-0.1027503791/Islington Green, Angel\n",
      "51.50282/-0.1111/Waterloo Station 3, Waterloo\n",
      "51.51517152/0.01507394205/Vincent Street, Pimlico\n",
      "51.51367/-0.09161/Cheapside, Bank\n",
      "51.52373508/-0.06801297774/Cheshire Street, Bethnal Green\n",
      "51.50659/-0.0741/St. Katharine's Way, Tower\n",
      "51.51257466/-0.191108108/Ilchester Gardens, Bayswater\n",
      "51.48640938/-0.2241293083/Manbre Road, Hammersmith\n",
      "51.51344145/-0.2344657143/BBC White City, White City\n",
      "51.48063259/-0.2108041062/Aintree Street, Fulham\n",
      "51.4756/-0.19404/Eel Brook Common, Walham Green\n",
      "51.47783464/-0.1454463455/Battersea Park Road, Nine Elms\n",
      "51.53367391/-0.07164685923/Thurtle road, Haggerston\n",
      "51.53085464/-0.02583563841/Mostyn Grove, Bow\n",
      "51.49015505/-0.02229992767/Spindrift Avenue, Millwall\n",
      "51.50658667/-0.05985268713/Reardon Street, Wapping\n",
      "51.52081194/-0.1163123889/Theobald's Road , Holborn\n",
      "51.51260874/-0.1144057146/Arundel Street, Temple\n",
      "51.48738745/-0.1167365467/Sancroft Street, Vauxhall\n",
      "51.5364632/-0.1097170355/Cloudesley Road, Angel\n",
      "51.51159176/-0.07633993468/Crosswall, Tower\n",
      "51.48331/-0.11395/Kennington Oval, Oval\n",
      "51.54397321/-0.144132328/Castlehaven Road, Camden Town\n",
      "51.50940005/-0.05689493383/Wapping Lane, Wapping\n",
      "51.49898999/-0.02000574877/Lightermans Road, Millwall\n",
      "51.48834615/-0.2086063904/Vereker Road, West Kensington\n",
      "51.48571143/-0.2157847226/Greyhound Road, Hammersmith\n",
      "51.49711121/-0.1897551234/St. Mark's Road, North Kensington\n",
      "51.50320208/-0.2231198923/Shepherd's Bush Road North, Shepherd's Bush\n",
      "51.48856379/-0.2271317975/Crisp Road, Hammersmith\n",
      "51.45436711/-0.1949528628/Neville Gill Close, Wandsworth\n",
      "51.5370648/-0.07028651139/Belford House, Haggerston\n",
      "51.47357392/-0.1770474955/Vicarage Crescent, Battersea\n",
      "51.48959323/-0.00886666422/Stebondale Street, Cubitt Town\n",
      "51.51295707/-0.06412546959/Christian Street, Whitechapel\n",
      "51.50870363/-0.06475651049/Pennington Street, Wapping\n",
      "51.52837941/-0.05884672629/Clarkson Street, Bethnal Green\n",
      "51.519264/-0.0731100593/Fournier Street, Whitechapel\n",
      "51.5464551/-0.1688201645/Lancaster Drive, Blackwall\n",
      "51.52779/-0.02088996583/Bow Church Station, Bow\n",
      "51.52669/-0.06257/Bancroft Road, Bethnal Green\n",
      "51.51500784/-0.02386068945/Stainsby Road , Poplar\n",
      "51.53579916/-0.06096334897/Ada Street, Hackney Central\n",
      "51.51286504/-0.1581049059/Park Lane, Mayfair\n",
      "51.46409001/-0.1639299934/Grant Road East, Clapham Junction\n",
      "51.5030911/-0.2155693554/Hansard Mews, Holland Park\n",
      "51.53729223/-0.1427955949/Arlington Road, Camden Town\n",
      "51.51204587/-0.05665435966/Watney Street, Shadwell\n",
      "51.52969/-0.08697/Hoxton Station, Hoxton\n",
      "51.52991934/-0.1444963141/Albany Street, The Regent's Park\n",
      "51.51598734/-0.2089467463/Lansdowne Walk, Ladbroke Grove\n",
      "51.51619947/-0.09856374532/King Edward Street, St Pauls\n",
      "51.50443/-0.15215/Park Lane , Hyde Park\n",
      "51.49518004/-0.135964905/Rochester Row, Westminster\n",
      "51.59325021/-0.1638479394/Hertford Road, De Beauvoir Town\n",
      "51.47282831/-0.1603363852/Culvert Road, Battersea\n",
      "51.46762374/-0.2077751125/Ranelagh Gardens, Fulham\n",
      "51.49393778/-0.1291932323/Page Street, Westminster\n",
      "51.49820016/-0.02291645937/Alpha Grove, Millwall\n",
      "51.53206154/-0.1680457063/Greenberry Street, St.John's Wood\n",
      "51.52838815/-0.06835855377/Wellington Row, Bethnal Green\n",
      "51.52059501/-0.03899410419/Harford Street, Mile End\n",
      "51.52193572/-0.06320543204/Selby Street, Whitechapel\n",
      "51.49247998/-0.1256800164/Millbank Tower, Pimlico\n",
      "51.52160001/-0.06949000064/Buxton Street 1, Shoreditch\n",
      "51.53234171/-0.1195656581/Northdown Street, King's Cross\n",
      "51.45828012/-0.2010288448/Santos Road, Wandsworth\n",
      "51.49906/-0.19874/Halford Road, West Kensington\n",
      "51.5441/-0.01525/East Village, Queen Elizabeth Olympic Park\n",
      "51.49604005/-0.1259949245/Kings Gate House, Westminster\n",
      "51.50511506/-0.09962664501/Lavington Street, Bankside\n",
      "51.53325435/-0.1383584717/Harrington Square 2, Camden Town\n",
      "51.5305931/-0.04316303855/Twig Folly Bridge, Mile End\n",
      "51.52958582/-0.09354507168/Windsor Terrace, Hoxton\n",
      "51.52363002/-0.07648989562/Bethnal Green Road, Shoreditch\n",
      "51.52258006/-0.123852872/Guilford Street , Bloomsbury\n",
      "51.53470446/-0.1686423734/Charlbert Street, St. John's Wood\n",
      "51.53164031/-0.1390286026/Hampstead Road (Cartmel), Euston\n",
      "51.52204372/-0.1154806767/Northington Street , Holborn\n",
      "51.52911648/-0.1316412985/Doric Way , Somers Town\n",
      "51.51820218/-0.1198824032/Hatton Wall, Holborn\n",
      "51.5267077/-0.08200805324/Old Street Station, St. Luke's\n",
      "51.50282/-0.1111/Waterloo Station 1, Waterloo\n",
      "51.54329093/-0.03545561044/Victoria Park Road, Hackney Central\n",
      "51.52913327/-0.06613485149/Durant Street, Bethnal Green\n",
      "51.52496/-0.08141/Granby Street, Shoreditch\n",
      "51.46174736/-0.1971635533/Osiers Road, Wandsworth\n",
      "51.53942505/-0.07100993305/Shoreditch Court, Haggerston\n",
      "51.61249006/-0.1768345165/Kingsway Southbound, Strand\n",
      "51.52558736/-0.1316145863/Taviton Street, Bloomsbury\n",
      "51.52227896/-0.1429683848/Bolsover Street, Fitzrovia\n",
      "51.52641998/-0.1043400262/Finsbury Library , Finsbury\n",
      "51.52925814/-0.1095979399/River Street , Clerkenwell\n",
      "51.50994174/-0.1435179571/Grafton Street, Mayfair\n",
      "51.52351617/-0.166681406/Lisson Grove, St. John's Wood\n",
      "51.49061002/-0.1075200364/Cotton Garden Estate, Kennington\n",
      "51.52039466/-0.1291408782/Malet Street, Bloomsbury\n",
      "51.4908078/-0.1936859229/Penywern Road, Earl's Court\n",
      "51.53125084/-0.09409326699/Wenlock Road , Hoxton\n",
      "51.52432329/-0.07720201781/Shoreditch High Street, Shoreditch\n",
      "51.50002666/-0.07624902942/Tanner Street, Bermondsey\n",
      "51.51029974/-0.1543763548/Park Street, Bankside\n",
      "51.49325985/-0.1568515533/Sedding Street, Sloane Square\n",
      "51.52127999/-0.1012999937/Broadcasting House, Marylebone\n",
      "51.51879635/-0.1194247177/Red Lion Square, Holborn\n",
      "51.52318/-0.1837/Warwick Avenue Station, Maida Vale\n",
      "51.50672466/-0.1477122483/Curzon Street, Mayfair\n",
      "51.50950324/-0.1255879839/William IV Street, Strand\n",
      "51.51050378/-0.1446894116/Bruton Street, Mayfair\n",
      "51.51820218/-0.1198824032/Hatton Garden, Holborn\n",
      "51.52005759/-0.135577174/Scala Street, Fitzrovia\n",
      "51.51928837/-0.123583139/Great Russell Street, Bloomsbury\n",
      "51.51813504/-0.1111699362/Holborn Circus, Holborn\n",
      "51.52968975/-0.1233857136/Belgrove Street , King's Cross\n",
      "51.51863/-0.12522/British Museum, Bloomsbury\n",
      "51.49786826/-0.1951679963/Abingdon Villas, Kensington\n",
      "51.51745841/-0.08262246506/Pindar Street, Liverpool Street\n",
      "51.4903888/-0.1489074066/Ebury Bridge, Pimlico\n",
      "51.48738745/-0.1167365467/Sail Street, Vauxhall\n",
      "51.53570662/-0.03406499932/Gunmakers Lane, Old Ford\n",
      "51.52081549/-0.1266861651/Russell Square Station, Bloomsbury\n",
      "51.51605772/-0.1104203662/Breams Buildings, Holborn\n",
      "51.53291/-0.06538/Goldsmith's Row, Haggerston\n",
      "51.49635645/-0.1026128088/Gaywood  Street, Elephant & Castle\n",
      "51.51027789/-0.2199953176/Westfield Ariel Way, White City\n",
      "51.51949455/-0.1776525937/Bishop's Bridge Road West, Bayswater\n",
      "51.51968102/-0.1452681016/New Cavendish Street, Marylebone\n",
      "51.49787669/-0.1257190269/Abingdon Green, Westminster\n",
      "51.50746504/-0.1460448979/Clarges Street, Mayfair\n",
      "51.53849/-0.07555/Regent's Row , Haggerston \n",
      "51.52038347/-0.0858914293/Finsbury Square , Moorgate\n",
      "51.52196001/-0.04664998504/Stepney Green Station, Stepney\n",
      "51.51363811/-0.03902389323/Flamborough Street, Limehouse\n"
     ]
    },
    {
     "name": "stdout",
     "output_type": "stream",
     "text": [
      "51.49294999/-0.09949998003/Strata, Elephant & Castle\n",
      "51.4942156/-0.1538962058/Eaton Square (South), Belgravia\n",
      "51.51949714/-0.02825929505/Ackroyd Drive, Bow\n",
      "51.49583643/-0.228480067/Southerton Road, Hammersmith\n",
      "51.48019784/-0.124305467/South Lambeth Road, Vauxhall\n",
      "51.47568596/-0.2180783858/Finlay Street, Fulham\n",
      "51.51176/-0.11791/Somerset House, Strand\n",
      "51.51015/-0.08594/Monument Street, Monument\n",
      "51.51286941/-0.07663363747/Jewry Street, Aldgate\n",
      "51.51512/-0.13271/Soho Square , Soho\n",
      "51.50183605/-0.1664539487/Holy Trinity Brompton, Knightsbridge\n",
      "51.49230779/-0.1657971188/Sloane Avenue, Knightsbridge\n",
      "51.49182504/-0.1458648965/Eccleston Place, Victoria\n",
      "51.47037803/-0.160885415/Sheepcote Lane, Battersea\n",
      "51.49620225/-0.2191129501/Brook Green South, Brook Green\n",
      "51.48212411/-0.1798390563/World's End Place, West Chelsea\n",
      "51.48048659/-0.1841865793/Thorndike Close, West Chelsea\n",
      "51.494/-0.2360899654/Ravenscourt Park Station, Hammersmith\n",
      "51.46409001/-0.1639299934/Dorothy Road, Clapham Junction\n",
      "51.51817772/-0.09154830656/Fore Street, Guildhall\n",
      "51.51572/-0.01268/Langdon Park, Poplar\n",
      "51.51144537/-0.1798624248/Lancaster Gate , Bayswater\n",
      "51.50681/-0.14269/Green Park Station, Mayfair\n",
      "51.4888046/-0.1813386605/Drayton Gardens, West Chelsea\n",
      "51.47339/-0.19912/Parson's Green , Parson's Green\n",
      "51.5015354/-0.09292691594/Borough High Street, The Borough\n",
      "51.48016501/-0.1242852743/Lambeth Road, Vauxhall\n",
      "51.49893558/-0.1923023114/Wright's Lane, Kensington\n",
      "51.5270155/-0.2156526067/Ladbroke Grove Central, Ladbroke Grove\n",
      "51.51752927/-0.1172339075/Bury Place, Holborn\n",
      "51.59675051/0.02387769943/Queen Mary's, Mile End\n",
      "51.62163952/-0.2527109731/The Green Bridge, Mile End\n",
      "51.4713667/-0.2071803925/Elysium Place, Fulham\n",
      "51.50921/-0.02653/Westferry DLR, Limehouse\n",
      "51.4974808/-0.0190439312/Millharbour, Millwall\n",
      "51.53234263/-0.06141479092/Pritchard's Road, Bethnal Green\n",
      "51.51745841/-0.08262246506/Bell Lane, Liverpool Street\n",
      "51.51417774/-0.03450524985/Salmon Lane, Limehouse\n",
      "51.47778561/-0.1732932649/Battersea Church Road, Battersea\n",
      "51.49163078/-0.1950930888/Trebovir Road, Earl's Court\n",
      "51.49207884/-0.1746045132/Sumner Place, South Kensington\n",
      "51.51745841/-0.08262246506/Appold Street, Liverpool Street\n",
      "51.51702908/-0.1880299239/Porchester Place, Paddington\n",
      "51.52777238/-0.08795367027/East Road, Hoxton\n",
      "51.52258412/-0.0771792509/Commercial Street, Shoreditch\n",
      "51.52460004/-0.07771491077/New Inn Yard, Shoreditch\n",
      "51.5154172/-0.1917119472/Westbourne Grove, Bayswater\n",
      "51.51407827/-0.1473381392/Woodstock Street, Mayfair\n",
      "51.52113155/-0.1015299093/St. John Street, Finsbury\n",
      "51.49811/-0.14751/Eaton Square, Belgravia\n",
      "51.51280142/-0.1544305668/Green Street, Mayfair\n",
      "51.492018/-0.1881580179/Collingham Gardens, Earl's Court\n",
      "51.51356585/-0.1781363842/Gloucester Terrace, Bayswater\n",
      "51.49062084/-0.1408339211/Warwick Square, Pimlico\n",
      "51.48485/-0.11047/Kennington Road Post Office, Oval\n",
      "51.51421538/-0.1825712059/Cleveland Gardens, Bayswater\n",
      "51.51327667/-0.1992510766/Chepstow Villas, Notting Hill\n",
      "51.51243455/-0.1679155146/Bayswater Road, Hyde Park\n",
      "51.52238667/-0.105522112/Clerkenwell Green, Clerkenwell\n",
      "51.47623/-0.13056/Vauxhall Cross, Vauxhall\n",
      "51.5016591/-0.1592104463/Seville Street, Knightsbridge\n",
      "51.49813274/-0.1536188969/Belgrave Square, Belgravia\n",
      "51.48194975/-0.1368334593/Riverlight North, Nine Elms\n",
      "51.51775541/-0.112698271/Southampton Place, Holborn\n",
      "51.48945409/-0.1435834287/Alderney Street, Pimlico\n",
      "51.49794053/-0.1796306177/Queen's Gate (South), South Kensington\n",
      "51.49121/-0.134240035/Hop Exchange, The Borough\n",
      "51.51511303/-0.1466526217/Chapel Place, Marylebone\n",
      "51.49287208/-0.200378257/West Cromwell Road, Earl's Court\n",
      "51.49602098/-0.1895235747/Lexham Gardens, Kensington\n",
      "51.49452947/-0.09638258851/New Kent Road, The Borough\n",
      "51.5009961/-0.1989609627/Phillimore Gardens, Kensington\n",
      "51.50779952/-0.0964218349/New Globe Walk, Bankside\n",
      "51.52693252/-0.1371812226/Drummond Street , Euston\n",
      "51.51337516/-0.1079444426/Bouverie Street, Temple\n",
      "51.52266976/-0.1616447614/Dorset Square, Marylebone\n",
      "51.51774004/-0.1049348899/West Smithfield Rotunda, Farringdon\n",
      "51.5133149/-0.04732192565/LMU Commercial Road, Whitechapel\n",
      "51.51893004/-0.08842492139/Moorfields, Moorgate\n",
      "51.48701/-0.11312/Kennington Cross, Kennington\n",
      "51.50752/-0.13287/Waterloo Place, St. James's\n",
      "51.49401701/-0.1124581731/Walnut Tree Walk, Vauxhall\n",
      "51.50748772/-0.124875502/Craven Street, Strand\n",
      "51.49417887/-0.1740325728/South Kensington Station, South Kensington\n",
      "51.49754/-0.17459/Exhibition Road Museums, South Kensington\n",
      "51.50412188/-0.06314507585/Hermitage Court, Wapping\n",
      "51.53501158/-0.07000756418/Whiston Road, Haggerston\n",
      "51.48874346/-0.005655513403/Saunders Ness Road, Cubitt Town\n",
      "51.53186045/-0.1056731472/Goswell Road (City Uni), Finsbury\n",
      "51.49749627/-0.1099414106/King Edward Walk, Waterloo\n",
      "51.49612/-0.17639/Natural History Museum, South Kensington\n",
      "51.5065665/-0.1518473342/Stanhope Gate, Mayfair\n",
      "51.51688091/-0.1588403033/George Place Mews, Marylebone\n",
      "51.49462/-0.18262/Gloucester Road Station, South Kensington\n",
      "51.49823366/-0.1323906372/Abbey Orchard Street, Westminster\n",
      "51.51745841/-0.08262246506/Norton Folgate, Liverpool Street\n",
      "51.48508026/-0.1498872344/Chelsea Bridge, Pimlico\n",
      "51.5003/-0.12481/Butler Place, Westminster\n",
      "51.49990275/-0.1765433952/Prince Consort Road, Knightsbridge\n",
      "51.45819879/-0.2054939519/Manfred Road, East Putney\n",
      "51.50105504/0.06776504687/Warren Street Station, Euston\n",
      "51.46514305/-0.1077015351/Hartington Road, Stockwell\n",
      "51.45682/-0.19452/Putney Pier, Wandsworth\n",
      "51.53936471/-0.1408248621/Greenland Road, Camden Town\n",
      "51.4822288/-0.1163316167/Ashmole Estate, Oval\n",
      "51.52384/-0.15757/Edgware Road Station, Marylebone\n",
      "51.4882633/-0.110253093/Cleaver Street, Kennington\n",
      "51.48823/-0.10597/Kennington Station, Kennington\n",
      "51.46821067/-0.1952254814/Peterborough Road, Sands End\n",
      "51.52690999/-0.02477003263/Bow Road Station, Bow\n",
      "51.50541/-0.08919/Southwark Station 2, Southwark\n",
      "51.50150001/-0.1745679016/Exhibition Road, Knightsbridge\n",
      "51.49872837/-0.1051366245/Westminster Bridge Road, Elephant & Castle\n",
      "51.51508042/-0.118124637/Sardinia Street, Holborn\n",
      "51.50212/-0.19439/Kensington Town Hall, Kensington\n",
      "51.52372645/-0.1628007378/Boston Place, Marylebone\n",
      "51.48981636/-0.168299232/Roscoe Street, St. Luke's\n",
      "51.53281555/-0.1172706056/Calshot Street , King's Cross\n",
      "51.51370136/-0.05676478173/Watney Market, Stepney\n",
      "51.51238989/-0.04727326395/Albert Gardens, Stepney\n",
      "51.51947236/-0.05421436549/Ansell House, Stepney\n",
      "51.50012761/-0.2113026559/Russell Gardens, Olympia\n",
      "51.53410398/-0.03417961487/Ford Road, Old Ford\n",
      "51.48960887/-0.1737528666/South Parade, Chelsea\n",
      "51.50951004/-0.05525493066/Garnet Street, Shadwell\n",
      "51.49851165/-0.01087406752/East Ferry Road, Cubitt Town\n",
      "51.54175801/-0.1396301115/Bonny Street, Camden Town\n",
      "51.5273/-0.05549/Bethnal Green Garden, Bethnal Green\n",
      "51.51767221/-0.06256067302/New Road 1 , Whitechapel\n",
      "51.50311419/-0.01872678093/Jubilee Plaza, Canary Wharf\n",
      "51.49170269/-0.09130239053/Rodney Road , Walworth\n",
      "51.51536/-0.18893/Whiteley's, Bayswater\n",
      "51.52120512/-0.1507230253/Beaumont Street, Marylebone\n",
      "51.52563123/-0.1793134145/Clifton Road, Maida Vale\n",
      "51.50255971/-0.07391733073/Curlew Street, Shad Thames\n",
      "51.53354/-0.14606/The Tennis Courts, The Regent's Park\n",
      "51.53265007/-0.02738291653/Hewison Street, Old Ford\n",
      "51.51455841/-0.1412333543/Little Argyll Street, West End\n",
      "51.53084443/-0.1346203287/Eversholt Street , Camden Town\n",
      "51.50142585/-0.1914076223/Derry Street, Kensington\n",
      "51.49952991/-0.09750461554/Dickens Square, Borough\n",
      "51.49297331/-0.1957419803/Nevern Place, Earl's Court\n",
      "51.50483767/-0.1152161776/Concert Hall Approach 1, South Bank\n",
      "51.50088324/-0.1126701977/Lower Marsh, Waterloo\n",
      "51.5132719/-0.1435831304/St. George Street, Mayfair\n",
      "51.49401618/-0.1909782986/Knaresborough Place, Earl's Court\n",
      "51.52690604/-0.08917064483/Baldwin Street, St. Luke's\n",
      "51.53574/-0.15573/London Zoo,  The Regent's Park\n",
      "51.50379426/-0.08099581379/Tooley Street, Bermondsey\n",
      "51.49301477/-0.1393555863/Tachbrook Street, Victoria\n",
      "51.5122835/-0.02327155314/Canton Street, Poplar\n",
      "51.50466/-0.01704/South Quay East, Canary Wharf\n",
      "51.52271716/-0.01752024832/Devons Road, Bow\n",
      "51.53287924/-0.03662363698/Driffield Road, Old Ford\n",
      "51.50183605/-0.1664539487/Imperial College, Knightsbridge\n",
      "51.51377844/-0.02230462014/Lindfield Street, Poplar\n"
     ]
    },
    {
     "name": "stdout",
     "output_type": "stream",
     "text": [
      "51.48449849/-0.1201901153/Vauxhall Walk, Vauxhall\n",
      "51.51515704/-0.1487392501/Marylebone Lane, Marylebone\n",
      "51.50248491/-0.1584881406/Albert Gate, Hyde Park\n",
      "51.4869/-0.11489/Kennington Lane Tesco, Vauxhall\n",
      "51.53135663/-0.09837899255/Graham Street, Angel\n",
      "51.53982/-0.09417998609/New North Road 2, Hoxton\n",
      "51.5165691/-0.1794266882/Eastbourne Mews, Paddington\n",
      "51.51745841/-0.08262246506/Wormwood Street, Liverpool Street\n",
      "51.50816355/-0.09521630697/Poured Lines, Bankside\n",
      "51.5287308/-0.0967187446/Macclesfield Rd, St Lukes\n",
      "51.51253505/-0.1332549099/Wardour Street, Soho\n",
      "51.50355641/-0.08294448717/Bermondsey Street, Bermondsey\n",
      "51.49348505/-0.1905849065/Bramham Gardens, Earl's Court\n",
      "51.49488005/-0.1304945549/Horseferry Road, Westminster\n",
      "51.507963/-0.1331710002/Charles II Street, West End\n",
      "51.53222896/-0.1053961887/Torrens Street, Angel\n",
      "51.52492304/-0.129630137/Tavistock Place, Bloomsbury\n",
      "51.53230999/-0.1386999619/Harrington Square 1, Camden Town\n",
      "51.52616/-0.09545/Finsbury Leisure Centre, St. Luke's\n",
      "51.51698005/-0.151004931/Hinde Street, Marylebone\n",
      "51.50832743/-0.1997252614/Campden Hill Road, Notting Hill\n",
      "51.48401489/-0.1204045236/Kennington Road  , Vauxhall\n",
      "51.50993088/-0.06815442675/Dock Street, Wapping\n",
      "51.51631653/-0.1287980486/Earnshaw Street , Covent Garden\n",
      "51.4933976/-0.2012237091/Warwick Road, Olympia\n",
      "51.48668397/-0.1378696774/Claverton Street, Pimlico\n",
      "51.49955174/-0.1658995992/Montpelier Street, Knightsbridge\n",
      "51.51838175/-0.1354394606/Rathbone Street, Fitzrovia\n",
      "51.49480593/-0.1342331271/Greycoat Street , Westminster\n",
      "51.50328624/-0.1509126815/Hyde Park Corner, Hyde Park\n",
      "51.51520005/-0.111894887/Carey Street, Holborn\n",
      "51.47951099/-0.1188136654/Oval Way, Vauxhall\n",
      "51.5003/-0.12481/Howick Place, Westminster\n",
      "51.52009136/-0.1327720647/Alfred Place, Bloomsbury\n",
      "51.49219288/-0.1205731276/Black Prince Road, Vauxhall\n",
      "51.53166806/-0.17698651/Grove End Road, St. John's Wood\n",
      "51.51177083/-0.1210483777/Tavistock Street, Covent Garden\n",
      "51.53004/-0.14452/St. John's Wood Church, The Regent's Park\n",
      "51.51148666/0.054680453/Harper Road, The Borough\n",
      "51.52659494/-0.1088292001/Tysoe Street, Clerkenwell\n",
      "51.51375623/-0.1967737674/Pembridge Villas, Notting Hill\n",
      "51.46870476/-0.2189970819/Embankment (Savoy), Strand\n",
      "51.5223934/-0.08322902559/Clifton Street, Shoreditch\n",
      "51.49712294/-0.1009584269/Ontario Street, Elephant & Castle\n",
      "51.5319208/-0.1255350019/Pancras Road, King's Cross\n",
      "51.51868377/-0.1349935846/Charlotte Street, Fitzrovia\n",
      "51.51441504/-0.1320448984/Frith Street, Soho\n",
      "51.50151/-0.20611/Holland Park, Kensington\n",
      "51.50714728/-0.1362088637/St. James's Square, St. James's\n",
      "51.51904737/-0.07617473882/Brushfield Street, Liverpool Street\n",
      "51.52365757/-0.100473061/Berry Street, Clerkenwell\n",
      "51.51688091/-0.1588403033/George Street, Marylebone\n",
      "51.55973434/-0.1223361761/Empire Square, The Borough\n",
      "51.5224187/-0.1063053089/Farringdon Lane, Clerkenwell\n",
      "51.49577697/-0.1860553405/Emperor's Gate, South Kensington\n",
      "51.52585139/-0.1037503927/Percival Street, Finsbury\n",
      "51.51727503/-0.107900982/New Fetter Lane, Holborn\n",
      "51.53356/-0.08697/Shoreditch Park, Hoxton\n",
      "51.52541963/-0.1345503562/Gower Place , Euston\n",
      "51.5034/-0.02059/Heron Quays DLR, Canary Wharf\n",
      "51.51572374/-0.1056842993/Stonecutter Street, Holborn\n",
      "51.49871004/-0.1055499539/Waterloo Road, South Bank\n",
      "51.50786/-0.12683/Strand, Strand\n",
      "51.53084599/-0.08940834628/Murray Grove , Hoxton\n",
      "51.51574205/-0.04869054611/Aylward Street, Stepney\n",
      "51.53089504/-0.1095249039/Claremont Square, Angel\n",
      "51.50075371/-0.1017022248/Webber Street , Southwark\n",
      "51.51813376/-0.1137511828/Chancery Lane, Holborn\n",
      "51.49951617/-0.1836693979/Gloucester Road (North), Kensington\n",
      "51.51324698/-0.1369906448/Broadwick Street, Soho\n",
      "51.51587/-0.09193/The Guildhall, Guildhall\n",
      "51.49794053/-0.1796306177/Queen's Gate (North), Kensington\n",
      "51.49569832/-0.1273057214/Smith Square, Westminster\n",
      "51.48886002/-0.2549299273/Wood Street, Guildhall\n",
      "51.47417599/-0.2003290184/Irene Road, Parsons Green\n",
      "51.49887/-0.1022/LSBU (Borough Road), Elephant & Castle\n",
      "51.48887325/-0.1358491525/St. George's Square, Pimlico\n",
      "51.46095/-0.13922/Sugden Road, Clapham\n",
      "51.46796105/-0.1988446426/Broomhouse Lane, Parsons Green\n",
      "51.46409001/-0.1639299934/Grant Road West, Clapham Junction\n",
      "51.46147/-0.18725/Wandsworth Town Station, Wandsworth\n",
      "51.51162504/-0.1224849187/Kingsway, Covent Garden\n",
      "51.50287002/-0.1900500153/West Kensington Station, West Kensington\n",
      "51.46484005/-0.1803549194/Hibbert Street, Battersea\n",
      "51.53538753/-0.1147069098/Carnegie Street, King's Cross\n",
      "51.47946599/-0.1957218577/Erin Close, Walham Green\n",
      "51.45385597/-0.06863179342/Cadogan Close, Victoria Park\n",
      "51.46316503/-0.2155349405/Montserrat Road , Putney\n",
      "51.47785846/-0.1647473882/Albert Bridge Road, Battersea Park\n",
      "51.51409878/-0.1398982999/Great Marlborough Street, Soho\n",
      "51.49618977/-0.1409071656/Ashley Place, Victoria\n",
      "51.50151/-0.20611/Abbotsbury Road, Holland Park\n",
      "51.52227069/-0.1458432172/Portland Place, Marylebone\n",
      "51.51672865/-0.1635068536/Nutford Place, Marylebone\n",
      "51.50757563/-0.1063891301/Milroy Walk, South Bank\n",
      "51.51048/-0.18426/Orsett Terrace, Bayswater\n",
      "51.51285968/-0.153340641/North Audley Street, Mayfair\n",
      "51.51745841/-0.08262246506/Finsbury Circus, Liverpool Street\n",
      "51.52065999/-0.1699050215/Bell Street , Marylebone\n",
      "51.46409001/-0.1639299934/Simpson Street, Clapham Junction\n",
      "51.48218394/-0.2214150305/Crabtree Lane, Fulham\n",
      "51.4850216/-0.167690085/Phene Street, Chelsea\n",
      "51.47390503/-0.1553248801/Austin Road, Battersea Park\n",
      "51.48747/-0.22108/Charing Cross Hospital, Hammersmith\n",
      "51.52042462/-0.1559997216/Paddington Street, Marylebone\n",
      "51.52199029/-0.1421084089/Great Titchfield Street, Fitzrovia\n",
      "51.53628504/-0.02638489009/Wendon Street, Old Ford\n",
      "51.46212619/-0.2070390966/Putney Bridge Road, East Putney\n",
      "51.47118/-0.18704/Stephendale Road, Sands End\n",
      "51.45932079/-0.1861063998/Alma Road, Wandsworth\n",
      "51.51598734/-0.2089467463/Blenheim Crescent, Ladbroke Grove\n",
      "51.50953082/-0.1317083586/Panton Street, West End\n",
      "51.47417599/-0.2003290184/Hurlingham Park, Parsons Green\n",
      "51.50360969/-0.1045755034/Blackfriars Road, Southwark\n",
      "51.51522471/-0.1176381047/Lincoln's Inn Fields, Holborn\n",
      "51.50829/-0.09786/Tate Modern, Bankside\n",
      "51.51039456/-0.08247728629/Great Tower Street, Monument\n",
      "51.52637098/-0.1317374871/Endsleigh Gardens, Euston\n",
      "51.49057499/-0.186180726/Old Brompton Road, South Kensington\n",
      "51.49794053/-0.1796306177/Queen's Gate (Central), South Kensington\n",
      "51.50803436/-0.1301461517/Pall Mall East, West End\n",
      "51.46844721/-0.1526183779/Dunston Road , Haggerston\n",
      "51.48469747/-0.179847958/Limerston Street, West Chelsea\n",
      "51.50443/-0.15215/Triangle Car Park, Hyde Park\n",
      "51.50867836/-0.1996353496/Notting Hill Gate Station, Notting Hill\n",
      "51.50483591/-0.09482736803/Colombo Street, Southwark\n",
      "51.53402012/-0.08292236257/Pitfield Street Central, Hoxton\n",
      "51.52623149/-0.1260445011/Cartwright Gardens , Bloomsbury\n",
      "51.52227002/-0.1548200381/Westminster University, Marylebone\n",
      "51.50078541/-0.1781299432/Kensington Gore, Knightsbridge\n",
      "51.50044615/-0.1109685806/Baylis Road, Waterloo\n",
      "51.51991001/-0.09312001061/Barbican Centre, Barbican\n",
      "51.50657505/-0.1504749014/South Audley Street, Mayfair\n",
      "51.51707106/-0.1744101489/Winsland Street, Paddington\n",
      "51.51551363/-0.1059882892/St. Bride Street, Holborn\n",
      "51.46888086/-0.1843560211/William Morris Way, Sands End\n",
      "51.48016833/-0.1964039264/Fulham Broadway, Walham Green\n",
      "51.48179531/-0.1852397405/Hortensia Road, West Brompton\n",
      "51.47783813/-0.1826469045/Lots Road, West Chelsea\n",
      "51.47368325/-0.1914631051/Sandilands Road, Walham Green\n",
      "51.51715/-0.08704/Museum of London, Barbican\n",
      "51.52893/-0.13448/Euston Road, Euston\n",
      "51.51641085/-0.07938882724/Devonshire Square, Liverpool Street\n",
      "51.4991622/-0.09703688491/Borough Road, Elephant & Castle\n",
      "51.49396049/-0.0855644895/Bricklayers Arms, Borough\n",
      "51.53354/-0.14606/Longford Street, The Regent's Park\n",
      "51.49308/-0.25514/Sadlers Sports Centre, Finsbury\n",
      "51.49104566/-0.1344587235/Vauxhall Bridge , Pimlico\n",
      "51.53077304/-0.07870951704/Falkirk Street, Hoxton\n",
      "51.48738745/-0.1167365467/Lollard Street, Vauxhall\n",
      "51.48981636/-0.168299232/Bath Street, St. Luke's\n",
      "51.53164031/-0.1390286026/Hampstead Road, Euston\n",
      "51.47695578/-0.1201514207/Albert Embankment, Vauxhall\n",
      "51.49143433/-0.1802164588/Gloucester Road (Central), South Kensington\n",
      "51.51424868/-0.07243307154/Braham Street, Aldgate\n"
     ]
    },
    {
     "name": "stdout",
     "output_type": "stream",
     "text": [
      "51.50906/-0.07565/Tower Gardens , Tower\n",
      "51.51838788/-0.06662452006/Old Montague Street, Whitechapel\n",
      "51.50658878/-0.2212432431/Westfield Southern Terrace ,Shepherd's Bush\n",
      "51.52942759/-0.08130971442/Fanshaw Street, Hoxton\n",
      "51.51554002/-0.07014001723/Central House, Aldgate\n",
      "51.60734001/-0.07516002286/Queen Street 1, Bank\n",
      "51.47001/-0.11249/Clarence Walk, Stockwell\n",
      "51.5041511/-0.1922886297/Vicarage Gate, Kensington\n",
      "51.52257001/-0.1577399007/Baker Street, Marylebone\n",
      "51.5351855/-0.08945047154/Eagle Wharf Road, Hoxton\n",
      "51.50597413/-0.08721252186/Duke Street Hill, London Bridge\n",
      "51.49035309/-0.1323811617/Rampayne Street, Pimlico\n",
      "51.50163345/-0.1530006718/Grosvenor Crescent, Belgravia\n",
      "51.51935974/-0.1509601666/Mallory Street, Marylebone\n",
      "51.50183605/-0.1664539487/Knightsbridge, Hyde Park\n",
      "51.52779503/-0.05709488413/Hollybush Gardens, Bethnal Green\n",
      "51.50912504/-0.2196449229/Westfield Library Corner, Shepherd's Bush\n",
      "51.51949455/-0.1776525937/Bishop's Bridge Road East, Bayswater\n",
      "51.50135959/-0.2084430666/Addison Road, Holland Park\n",
      "51.48517558/-0.1045110707/Doddington Grove, Kennington\n",
      "51.47695566/-0.1147864261/Caldwell Street, Stockwell\n",
      "51.51968981/-0.1632912457/Seymour Place, Marylebone\n",
      "51.47500073/-0.1318280388/Wandsworth Rd, Isley Court, Wandsworth Road\n",
      "51.50065099/-0.2028812707/Ilchester Place, Kensington\n",
      "51.49199397/-0.09983811449/Hampton Street, Walworth\n",
      "51.47795889/-0.1437890219/Bradmead, Battersea Park\n",
      "51.49906/-0.19874/Coomer Place, West Kensington\n",
      "51.48329272/-0.2236533494/Rainville Road, Hammersmith\n",
      "51.5001/-0.12803/Buckingham Gate, Westminster\n",
      "51.4717726/-0.1119142885/Teversham Lane, Stockwell\n",
      "51.47567/-0.20072/Parsons Green Station, Parsons Green\n",
      "51.47612479/-0.1717218554/Westbridge Road, Battersea\n",
      "51.45567432/-0.1761098088/Spencer Park, Wandsworth Common\n",
      "51.57186/-0.1441300102/South Park, Sands End\n",
      "51.50343899/-0.2174200761/Richmond Way, Shepherd's Bush\n",
      "51.51053/-0.01166/All Saints Church, Portobello\n",
      "51.46409001/-0.1639299934/Grant Road Central, Clapham Junction\n",
      "51.47417422/-0.1716025575/Orbel Street, Battersea\n",
      "51.48871661/-0.2206867312/Beryl Road, Hammersmith\n",
      "51.5360574/-0.1126724709/Charlotte Terrace, Angel\n",
      "51.52529395/-0.05872972092/Finnis Street, Bethnal Green\n",
      "51.47888859/-0.208509291/St. Peter's Terrace, Fulham\n",
      "51.50646/-0.23581/Queensdale Road, Shepherd's Bush\n",
      "51.48749273/-0.161051075/Ormonde Gate, Chelsea\n",
      "51.48419613/-0.2124409419/Humbolt Road, Fulham\n",
      "51.47001/-0.11249/Binfield Road, Stockwell\n",
      "51.51644376/-0.08061714857/Houndsditch, Aldgate\n",
      "51.5441/-0.01525/Lee Valley VeloPark, Queen Elizabeth Olympic Park\n",
      "51.53105555/-0.129975156/Ossulston Street, Somers Town\n",
      "51.53631/-0.122419959/Good's Way, King's Cross\n",
      "51.50589474/-0.02643462129/Westferry Circus, Canary Wharf\n",
      "51.46919271/-0.1132349243/Wynne Road, Stockwell\n",
      "51.53401448/-0.1738227749/Wellington Road, St. John's Wood\n",
      "51.50466004/-0.1978699119/Black Lion Gate, Kensington Gardens\n",
      "51.50310002/-0.07720998492/One Tower Bridge, Bermondsey\n",
      "51.46069326/-0.1127584524/Saltoun Road, Brixton\n",
      "51.46718004/-0.2126599477/Putney Bridge Station, Fulham\n",
      "51.49242123/-0.2166065017/Colet Gardens, Hammersmith\n",
      "51.47657004/-0.1490449487/Queen's Circus, Battersea Park\n",
      "51.48624183/-0.2077065268/Normand Park, West Kensington\n",
      "51.51126954/-0.1373102844/Golden Square, Soho\n",
      "51.51316513/-0.09049214276/Queen Victoria Street, St. Paul's\n",
      "51.49697949/-0.1609202489/Pont Street, Knightsbridge\n",
      "51.50839532/-0.008728907595/Preston's Road, Cubitt Town\n",
      "51.50630325/-0.01663950059/Upper Bank Street, Canary Wharf\n",
      "51.52906005/-0.04584993238/Globe Town Market, Bethnal Green\n",
      "51.52725503/-0.08013992108/Hoxton Street, Hoxton\n",
      "51.47010691/-0.1460905696/Silverthorne Road, Battersea\n",
      "51.50003503/-0.2702699417/All Saints' Road, Portobello\n",
      "51.50646/-0.23581/Blythe Road West, Shepherd's Bush\n",
      "51.47714504/-0.168434931/Ethelburga Estate, Battersea Park\n",
      "51.46918736/-0.1515340526/Stanley Grove, Battersea\n",
      "51.46619786/-0.2206343681/Felsham Road, Putney\n",
      "51.48971209/-0.2097167675/Barons Court Station, West Kensington\n",
      "51.49981398/-0.08707378718/Long Lane , Bermondsey\n",
      "51.49139972/-0.228959061/Bridge Avenue, Hammersmith\n",
      "51.49252/-0.2340199706/Hammersmith Town Hall, Hammersmith\n",
      "51.48515299/-0.1750738085/The Vale, Chelsea\n",
      "51.50046138/-0.1296142261/Storey's Gate, Westminster\n",
      "51.47367503/-0.133499913/Thessaly Road North, Wandsworth Road\n",
      "51.4751476/-0.1508474851/Alfreda Street, Battersea Park\n",
      "51.59391594/-0.09584144052/Sirdar Road, Avondale\n",
      "51.46162902/-0.2121005549/Oxford Road, Putney\n",
      "51.48755053/-0.1867048486/Harcourt Terrace, West Brompton\n",
      "51.51842071/-0.1941367888/Westbourne Park Road, Portobello\n",
      "51.49620225/-0.2191129501/Little Brook Green, Brook Green\n",
      "51.4601754/-0.167263635/Abyssinia Close, Clapham Junction\n",
      "51.54071/-0.001719966532/Stratford Station, Stratford\n",
      "51.49384638/-0.215150924/Hammersmith Road, Hammersmith\n",
      "51.50326817/-0.2167145056/Woodstock Grove, Shepherd's Bush\n",
      "51.47588505/-0.1696899115/Surrey Lane, Battersea\n",
      "51.46409001/-0.1639299934/Falcon Road, Clapham Junction\n",
      "51.52496/-0.08141/Palissy Street, Shoreditch\n",
      "51.50932497/-0.1299156115/St. Martin's Street, West End\n",
      "51.51446/-0.08758/Bank of England Museum, Bank\n",
      "51.51796331/-0.1277231511/Cromer Street, Bloomsbury\n",
      "51.49906/-0.19874/Bevington Road West, North Kensington\n",
      "51.49300006/0.04085008523/Allington street, Westminster\n",
      "51.50283718/-0.1013436069/Great Suffolk Street, The Borough\n",
      "51.51113003/-0.2181799338/Evesham Street, Avondale\n",
      "51.58488927/-0.09527044342/Clarendon Road, Avondale\n",
      "51.4676/-0.1629/Heath Road, Battersea\n",
      "51.4727376/-0.2152034839/Bishop's Avenue, Fulham\n",
      "51.51506701/-0.07165209966/Leman Street, Aldgate\n",
      "51.49372702/-0.1648343868/Denyer Street, Knightsbridge\n",
      "51.50259/-0.15071/Wellington Arch, Hyde Park\n",
      "51.46344/-0.16881/St. John's Road, Clapham Junction\n",
      "51.46119491/-0.2005727415/Northfields, Wandsworth\n",
      "51.50238835/-0.08300322815/Snowsfields, London Bridge\n",
      "51.51778545/-0.1736868729/South Wharf Road, Paddington\n",
      "51.50816355/-0.09521630697/Bankside Mix, Bankside\n",
      "51.52715012/-0.1112899841/Margery Street, Clerkenwell\n",
      "51.49265039/-0.1417641333/Guildhouse Street, Victoria\n",
      "51.50130242/-0.1963912599/Argyll Road, Kensington\n",
      "51.50927252/-0.2164333992/Rifle Place, Avondale\n",
      "51.47358002/-0.1832699357/Imperial Wharf Station, Sands End\n",
      "51.46929425/-0.122480625/Clapham Road, Lingham Street, Stockwell\n",
      "51.47469004/-0.1813099115/Chelsea Green, Chelsea\n",
      "51.52966621/-0.1121949263/Great Percy Street, Clerkenwell\n",
      "51.53591171/-0.1071119982/Liverpool Road (N1 Centre), Angel\n",
      "51.51742942/-0.1640472186/Harrowby Street, Marylebone\n",
      "51.50948951/-0.1483018144/Farm Street, Mayfair\n",
      "51.51403173/-0.1803058343/Devonshire Terrace, Bayswater\n",
      "51.52235/-0.07163/Brick Lane Market, Shoreditch\n",
      "51.52496/-0.08141/Columbia Road, Shoreditch\n",
      "51.51651/-0.11968/Wren Street, Holborn\n",
      "51.50600721/-0.02282454907/Fisherman's Walk West, Canary Wharf\n",
      "51.5441/-0.01525/Aquatic Centre, Queen Elizabeth Olympic Park\n",
      "51.47001/-0.11249/Albert Square, Stockwell\n",
      "51.4972184/-0.1196297693/Lambeth Palace Road, Waterloo\n",
      "51.48194975/-0.1368334593/Riverlight South, Nine Elms\n",
      "51.57961275/-0.07029392519/Ferndale Road, Brixton. \n",
      "51.51831402/-0.1225946523/Brunswick Square, Bloomsbury\n",
      "51.51485767/-0.1224469939/Drury Lane, Covent Garden\n",
      "51.51384/-0.19381/Hereford Road, Bayswater\n",
      "51.50074512/-0.1849159169/De Vere Gardens, Kensington\n",
      "51.51452192/-0.05323080613/Jubilee Street, Stepney\n",
      "51.53402012/-0.08292236257/Pitfield Street North,Hoxton\n",
      "51.48706632/-0.1258133583/Kennington Lane Rail Bridge, Vauxhall\n",
      "51.5086309/-0.1950478403/Kensington Church Street, Kensington\n",
      "51.41743942/-0.1769491226/Jubilee Gardens, South Bank\n",
      "51.51478418/-0.08075481137/St. Mary Axe, Aldgate\n",
      "51.49203289/-0.146341888/Elizabeth Bridge, Victoria\n",
      "51.49944789/-0.09427405373/Swan Street, The Borough\n",
      "51.51605076/-0.1369418451/Wells Street, Fitzrovia\n",
      "51.49391/-0.14044/Queen Mother Sports Centre, Victoria\n",
      "51.53235001/-0.08651004177/New North Road 1, Hoxton\n",
      "51.5441/-0.01525/Podium, Queen Elizabeth Olympic Park\n",
      "51.48932931/0.06490055784/Wellington Street , Strand\n",
      "51.52963614/-0.1216316404/Birkenhead Street, King's Cross\n",
      "51.50236639/-0.1178231156/Belvedere Road 2, South Bank\n",
      "51.47366404/-0.1115946059/Normandy Road, Stockwell\n",
      "51.48314508/-0.1727061313/Danvers Street, West Chelsea\n",
      "51.46979389/-0.1180822796/Sidney Road, Stockwell\n"
     ]
    },
    {
     "name": "stdout",
     "output_type": "stream",
     "text": [
      "51.52794354/-0.01548120275/Bromley High Street, Bow\n",
      "51.51590165/-0.1546406776/Portman Square, Marylebone\n",
      "51.51322/-0.01532/Chrisp Street Market, Poplar\n",
      "51.49463498/-0.1323645527/Regency Street, Westminster\n",
      "51.48971001/-0.1625899785/Royal Avenue 2, Chelsea\n",
      "51.51846/-0.05994/Royal London Hospital, Whitechapel\n",
      "51.46563298/-0.1629929398/Battersea Power Station, Battersea Park\n",
      "51.51947638/-0.161310241/Crawford Street, Marylebone\n",
      "51.52420504/-0.09562494238/Golden Lane, Barbican\n",
      "51.50117935/-0.09302888305/Great Dover Street, The Borough\n",
      "51.50699762/-0.1154677335/Waterloo Bridge, South Bank\n",
      "51.51131159/-0.122461127/Southampton Street, Strand\n",
      "51.49329059/-0.1604818317/Cadogan Gardens, Chelsea\n",
      "51.49884/-0.11185/Lambeth North Station, Waterloo\n",
      "51.49622506/-0.1058699331/Geraldine Street, Elephant & Castle\n",
      "51.49286529/-0.1338560593/Vincent Square, Westminster\n",
      "51.50098816/-0.08273712068/Tyers Gate, Bermondsey\n",
      "51.5456082/-0.03377969833/Monier Road, Hackney Wick\n",
      "51.50541/-0.08919/Southwark Station 1, Southwark\n",
      "51.47420001/-0.1243099943/Lansdowne Way Bus Garage, Stockwell\n",
      "51.51796331/-0.1277231511/Coram Street, Bloomsbury\n",
      "51.46182623/-0.1813384626/Nantes Close, Wandsworth\n",
      "51.47232662/-0.13138727/Courland Grove, Wandsworth Road\n",
      "51.52491235/-0.09061801232/Bunhill Row, Moorgate\n",
      "51.50919002/-0.1943899971/Palace Gardens Terrace, Notting Hill\n",
      "51.50660134/-0.1090666632/Stamford Street, South Bank\n",
      "51.51085784/-0.1514801067/Grosvenor Square, Mayfair\n",
      "51.49794053/-0.1796306177/Queen's Gate, Kensington Gardens\n",
      "51.49002999/-0.1620800235/Royal Avenue 1, Chelsea\n",
      "51.51687825/-0.1705830683/Southwick Street, Paddington\n",
      "51.52473/-0.08754/City Road, Angel\n",
      "51.49557958/-0.1922463221/Marloes Road, Kensington\n",
      "51.46409001/-0.1639299934/Plough Terrace, Clapham Junction\n",
      "51.51162504/-0.1224849187/Newton Street, Covent Garden\n",
      "51.4581254/-0.1920920377/Ram Street, Wandsworth\n",
      "51.46130164/-0.1555288457/Clapham Common North Side, Clapham Common\n",
      "51.53424548/-0.1216721951/Crinan Street, King's Cross\n",
      "51.5215345/-0.137514954/Howland Street, Fitzrovia\n",
      "51.50458/-0.05599/Wapping High Street, Wapping\n",
      "51.52776675/-0.1082742582/Hardwick Street, Clerkenwell\n",
      "51.53576003/-0.07196372634/Haggerston Road, Haggerston\n",
      "51.51649492/-0.1239601541/High Holborn , Covent Garden\n",
      "51.49755773/-0.2117414048/Maclise Road, Olympia\n",
      "51.46409001/-0.1639299934/Spanish Road, Clapham Junction\n",
      "51.46125/-0.21687/Putney Rail Station, Putney\n",
      "51.49585/-0.11732/Archbishop's Park, Waterloo\n",
      "51.53956053/-0.1364390659/Royal College Street, Camden Town\n",
      "51.47623/-0.13056/Fire Brigade Pier, Vauxhall\n",
      "51.52518888/-0.1757410307/Aberdeen Place, St. John's Wood\n",
      "51.51828334/-0.1639471626/Shouldham Street, Marylebone\n",
      "51.52692308/-0.1636679813/Park Road (Baker Street), The Regent's Park\n",
      "51.46964646/-0.17388916/Fawcett Close, Battersea\n",
      "51.51417446/-0.02813858269/Burdett Road, Mile End\n",
      "51.51004163/-0.0121036744/Newby Place, Poplar\n",
      "51.53745209/-0.1453456328/Parkway, Camden Town\n",
      "51.5379829/-0.1487540682/Gloucester Avenue, Camden Town\n",
      "51.47585506/-0.2057999047/Chesilton Road, Fulham\n",
      "51.56614006/0.01189006493/Michael Road, Walham Green\n",
      "51.47871052/-0.1828137958/Upcerne Road, West Chelsea\n",
      "51.47485506/-0.1664949396/Prince of Wales Drive, Battersea Park\n",
      "51.5189/-0.03069/Mile End Park Leisure Centre, Mile End\n",
      "51.49651/-0.17206/Victoria & Albert Museum, South Kensington\n",
      "51.5441/-0.01525/Copper Box Arena, Queen Elizabeth Olympic Park\n",
      "51.52707873/-0.1343809413/Melton Street, Euston\n",
      "51.53743559/-0.1250632012/Handyside Street, King's Cross\n",
      "51.4878225/-0.1226379423/New Spring Gardens Walk, Vauxhall\n",
      "51.49269003/-0.09228990883/Victory Place, Walworth\n",
      "51.49697972/-0.1575744425/Cadogan Place, Knightsbridge\n",
      "51.55820001/-0.1943899971/St. Luke's Church, Chelsea\n",
      "51.50597502/-0.1255405778/Whitehall Place, Strand\n",
      "51.5410556/-0.1432147595/Hawley Crescent, Camden Town\n",
      "51.48719382/-0.2058176938/Star Road, West Kensington\n",
      "51.51843937/-0.07291899453/Fashion Street, Whitechapel\n",
      "51.49009069/-0.1403562305/Gloucester Street, Pimlico\n",
      "51.53040467/-0.1067074603/Chadwell Street, Angel\n",
      "51.52420661/-0.1662353234/Broadley Terrace, Marylebone\n",
      "51.52513004/-0.1642131877/Rossmore Road, Marylebone\n",
      "51.46409001/-0.1639299934/Limburg Road, Clapham Junction\n",
      "51.51290033/-0.1927051382/Princes Square, Bayswater\n",
      "51.49320907/-0.1441510485/Belgrave Road, Victoria\n",
      "51.51885287/-0.1752756192/North Wharf Road, Paddington\n",
      "51.52985727/-0.1694539956/St. John's Wood Road, St. John's Wood\n",
      "51.49792/-0.2103899607/Kensington Olympia Station, Olympia\n",
      "51.51958446/-0.1395675949/Foley Street, Fitzrovia\n",
      "51.50953015/-0.1383135277/Sackville Street, Mayfair\n",
      "51.53749898/-0.1512439763/Prince Albert Road, The Regent's Park\n",
      "51.50483767/-0.1152161776/Concert Hall Approach 2, South Bank\n",
      "51.53673575/-0.1491884703/London Zoo Car Park, The Regent's Park\n",
      "51.56538531/0.03831278983/Northumberland Avenue, Strand\n",
      "51.50282/-0.1111/Waterloo Station 2, Waterloo\n",
      "51.51244/-0.20639/Turquoise Island, Notting Hill\n",
      "51.5134904/-0.1299762958/Moor Street, Soho\n",
      "51.51726662/-0.103543837/Snow Hill, Farringdon\n",
      "51.50065014/-0.1840112049/Palace Gate, Kensington Gardens\n",
      "51.49328867/-0.1003923893/Walworth Road, Elephant & Castle\n",
      "51.51923264/-0.1170409632/Red Lion Street, Holborn\n",
      "51.51608531/-0.05898458601/Philpot Street, Whitechapel\n",
      "51.48830314/-0.02085097527/Napier Avenue, Millwall\n",
      "51.51790061/-0.03838882032/Aston Street, Stepney\n",
      "51.52950752/-0.02731199216/Malmesbury Road, Bow\n",
      "51.52690504/-0.05743493794/Pott Street, Bethnal Green\n",
      "51.48790272/-0.1717987141/Manresa Road, Chelsea\n",
      "51.53347135/-0.06989343823/Queensbridge Road, Haggerston\n",
      "51.51406364/-0.005858825214/Aberfeldy Street, Poplar\n",
      "51.51871988/-0.04458681098/Rectory Square, Stepney\n",
      "51.5258847/-0.02676873907/Merchant Street, Bow\n",
      "51.49717/-0.00961/St. John's Park, Cubitt Town\n",
      "51.51224304/-0.05365855483/Sutton Street, Shadwell\n",
      "51.52641104/-0.03664926748/Clinton Road, Mile End\n",
      "51.50828628/-0.2098576695/Princedale Road , Holland Park\n",
      "51.51598734/-0.2089467463/Lansdowne Road, Ladbroke Grove\n",
      "51.60726/-0.0755200256/Queen Street 2, Bank\n",
      "51.47242072/-0.2074682288/Fulham Park Road, Fulham\n",
      "51.53853487/-0.1387397683/St Martins Close, Camden Town\n",
      "51.46554248/-0.1160219521/Stockwell Roundabout, Stockwell\n",
      "51.4621049/-0.210620522/Esmond Street, Putney\n",
      "51.47949579/-0.1097366767/Cranmer Road, Stockwell\n",
      "51.46889346/-0.1569541286/Holden Street, Battersea\n",
      "51.52928413/-0.1229590929/St. Chad's Street, King's Cross\n",
      "51.5234812/-0.03066395544/Southern Grove, Bow\n",
      "51.48125695/-0.1479002054/Sopwith Way, Battersea Park\n",
      "51.52273416/-0.1272154376/Bedford Way, Bloomsbury\n",
      "51.51365005/-0.1577549196/Old Quebec Street, Marylebone\n",
      "51.5138195/-0.1166349194/Houghton Street, Strand\n",
      "51.47663797/-0.142268017/Stewart's Road, Wandsworth Road\n",
      "51.51018/-0.15116/Millennium Hotel, Mayfair\n",
      "51.52042462/-0.1559997216/Frampton Street, Paddington\n",
      "51.50483591/-0.09482736803/Southwark Street, Bankside\n",
      "51.5441/-0.01525/Here East North, Queen Elizabeth Olympic Park\n",
      "51.48850505/-0.1296949061/Grosvenor Road, Pimlico\n",
      "51.51814943/-0.02175856589/Furze Green, Bow\n",
      "51.52147225/-0.1695920128/Penfold Street, Marylebone\n",
      "51.5441/-0.01525/Here East South, Queen Elizabeth Olympic Park\n",
      "51.46129389/-0.2146147065/Disraeli Road, Putney\n",
      "51.47175684/-0.1329274581/Union Grove, Wandsworth Road\n",
      "51.46409001/-0.1639299934/Usk Road, Clapham Junction\n",
      "51.46727814/-0.1509920107/Ashley Crescent, Battersea\n",
      "51.45813531/-0.2029448598/Mexfield Road, East Putney\n",
      "51.48379843/-0.2163581608/Everington Street, Fulham\n",
      "51.49107967/-0.2094917456/Gwendwr Road, West Kensington\n",
      "51.46616003/-0.1119001365/St John's Crescent, Brixton\n",
      "51.50024621/-0.1593002339/Harriet Street, Knightsbridge\n",
      "51.49351988/-0.008144207331/Jubilee Crescent, Cubitt Town\n",
      "51.52164484/-0.02685446986/Cantrell Road, Bow\n",
      "51.51078/-0.00419/East India DLR, Blackwall\n",
      "51.49369/-0.00767/Mudchute DLR, Cubitt Town\n",
      "51.52028/-0.17071/Paddington Green Police Station, Paddington\n",
      "51.52880002/-0.1690999512/Lodge Road, St. John's Wood\n",
      "51.46409001/-0.1639299934/Ingrave Street, Clapham Junction\n",
      "51.5194384/-0.01163446041/Teviot Street, Poplar\n",
      "51.49811004/-0.01074991655/Castalia Square, Cubitt Town\n",
      "51.49649/-0.21083/Olympia Way, Olympia\n",
      "51.54118999/-0.09561002259/Thornfield House, Poplar\n",
      "51.4866622/-0.1657283776/Flood Street, Chelsea\n",
      "51.48449849/-0.1201901153/Vauxhall Street, Vauxhall\n"
     ]
    },
    {
     "name": "stdout",
     "output_type": "stream",
     "text": [
      "51.52904958/-0.1706336129/Lord's, St. John's Wood\n",
      "51.52059/-0.17572/Paddington Green, Paddington\n",
      "51.49906/-0.19874/Bevington Road, North Kensington\n",
      "51.51053223/-0.1534185543/Upper Grosvenor Street, Mayfair\n",
      "51.47483275/-0.1862704299/Imperial Road, Sands End\n",
      "51.45994925/-0.1901464751/Morie Street, Wandsworth\n",
      "51.53284122/-0.1185184011/Killick Street, King's Cross\n",
      "DF produit et sauvegardé\n"
     ]
    },
    {
     "data": {
      "text/html": [
       "<div>\n",
       "<style scoped>\n",
       "    .dataframe tbody tr th:only-of-type {\n",
       "        vertical-align: middle;\n",
       "    }\n",
       "\n",
       "    .dataframe tbody tr th {\n",
       "        vertical-align: top;\n",
       "    }\n",
       "\n",
       "    .dataframe thead th {\n",
       "        text-align: right;\n",
       "    }\n",
       "</style>\n",
       "<table border=\"1\" class=\"dataframe\">\n",
       "  <thead>\n",
       "    <tr style=\"text-align: right;\">\n",
       "      <th></th>\n",
       "      <th>Station_Name</th>\n",
       "      <th>latitude</th>\n",
       "      <th>longitude</th>\n",
       "    </tr>\n",
       "    <tr>\n",
       "      <th>Station_Id</th>\n",
       "      <th></th>\n",
       "      <th></th>\n",
       "      <th></th>\n",
       "    </tr>\n",
       "  </thead>\n",
       "  <tbody>\n",
       "    <tr>\n",
       "      <th>1</th>\n",
       "      <td>River Street , Clerkenwell</td>\n",
       "      <td>51.529258</td>\n",
       "      <td>-0.109598</td>\n",
       "    </tr>\n",
       "  </tbody>\n",
       "</table>\n",
       "</div>"
      ],
      "text/plain": [
       "                          Station_Name   latitude  longitude\n",
       "Station_Id                                                  \n",
       "1           River Street , Clerkenwell  51.529258  -0.109598"
      ]
     },
     "execution_count": 24,
     "metadata": {},
     "output_type": "execute_result"
    }
   ],
   "source": [
    "#Voir la fonction complète de récupération des coordonées Gps sur le fichier .py\n",
    "df_Coord_Gps=Prod_Coord_Df(df)\n",
    "df_Coord_Gps.head(1)"
   ]
  },
  {
   "cell_type": "markdown",
   "metadata": {},
   "source": [
    "# 3) Analyse sommaire des données"
   ]
  },
  {
   "cell_type": "markdown",
   "metadata": {},
   "source": [
    "Une première étude statistiques de toutes les colonnes et données a été réalisé."
   ]
  },
  {
   "cell_type": "markdown",
   "metadata": {},
   "source": [
    "## 3.1) Colonne Station"
   ]
  },
  {
   "cell_type": "markdown",
   "metadata": {},
   "source": [
    "Utililsation des stations : fréquence et distribution."
   ]
  },
  {
   "cell_type": "code",
   "execution_count": 8,
   "metadata": {},
   "outputs": [
    {
     "data": {
      "text/plain": [
       "(785, 785)"
      ]
     },
     "execution_count": 8,
     "metadata": {},
     "output_type": "execute_result"
    }
   ],
   "source": [
    "df_used_start = df['StartStation Id']\n",
    "df_used_end = df['EndStation Id']\n",
    "df_used_start.nunique(),df_used_end.nunique()"
   ]
  },
  {
   "cell_type": "code",
   "execution_count": 9,
   "metadata": {},
   "outputs": [
    {
     "data": {
      "text/plain": [
       "154    887\n",
       "14     758\n",
       "191    731\n",
       "307    531\n",
       "248    462\n",
       "      ... \n",
       "474     10\n",
       "519      9\n",
       "659      7\n",
       "805      5\n",
       "672      4\n",
       "Name: StartStation Id, Length: 785, dtype: int64"
      ]
     },
     "execution_count": 9,
     "metadata": {},
     "output_type": "execute_result"
    }
   ],
   "source": [
    "df_used = df_used_start\n",
    "df_used.value_counts()"
   ]
  },
  {
   "cell_type": "markdown",
   "metadata": {},
   "source": [
    "Les deux colones StartStation et EndStation sont identique.\\\n",
    "Nous allons nous intéresser au nombre de départ d'une même station."
   ]
  },
  {
   "cell_type": "code",
   "execution_count": 10,
   "metadata": {},
   "outputs": [
    {
     "data": {
      "image/png": "[encoded data removed]",
      "text/plain": [
       "<Figure size 1440x360 with 1 Axes>"
      ]
     },
     "metadata": {
      "needs_background": "light"
     },
     "output_type": "display_data"
    }
   ],
   "source": [
    "df_used.value_counts().plot(kind='hist' ,figsize=(20,5) ,bins=32 );"
   ]
  },
  {
   "cell_type": "markdown",
   "metadata": {},
   "source": [
    "Nous voyons qu'il s'agit d'une distribution de Poisson : l'usage des vélos/stations est naturellemnt plus élevé dans certaines zones de plus forte demande. Probablement les premières stations ont t'elles été installées dans le coeur de Londres où la demande était potentiellement la plus forte et l'offre la plus visible, avant de s'étendre à des zones moins denses. Ainsi les numéros de stations du centre sont t'elles numérotées parmi les 100 ou 200 premières.\n",
    "\n",
    "Ci dessous nous voyons encore une forte disparité, avec une utilisation moyenne de 100 départs environ par station en une semaine, la ville comptant 785 stations."
   ]
  },
  {
   "cell_type": "code",
   "execution_count": 11,
   "metadata": {},
   "outputs": [
    {
     "name": "stdout",
     "output_type": "stream",
     "text": [
      "La moitié des stations est utilisée entre 64 et 144 fois par semaine, et 5% d'entre elles plus de 266 fois, le max étant à 887\n"
     ]
    },
    {
     "data": {
      "image/png": "[encoded data removed]",
      "text/plain": [
       "<Figure size 432x288 with 1 Axes>"
      ]
     },
     "metadata": {
      "needs_background": "light"
     },
     "output_type": "display_data"
    }
   ],
   "source": [
    "df['StartStation Id'].value_counts().plot(kind='box',showfliers =False ,notch=True,\n",
    "        title =\"Etude Statistique de l'utilisaiton des stations\");\n",
    "stat = list(df_used.value_counts())\n",
    "Q1,Q2,Q3,Q4= np.quantile(stat,[0.25,0.50,0.75,0.95])\n",
    "print(f\"La moitié des stations est utilisée entre {int(Q1)} et {int(Q3)} fois par semaine, et 5% d'entre elles plus de {int(Q4)} fois, le max étant à {max(stat)}\")"
   ]
  },
  {
   "cell_type": "markdown",
   "metadata": {},
   "source": [
    "Une définition conventionnelle des outliers est proposée par certains packages en terme d'écart à la moyenne. Nous reprenons un tel critère ci_dessous :"
   ]
  },
  {
   "cell_type": "code",
   "execution_count": 12,
   "metadata": {},
   "outputs": [
    {
     "name": "stdout",
     "output_type": "stream",
     "text": [
      "Au delà de 264 utilisations on considère une station comme 'sur utilisée'\n",
      "Il y a 42 stations dans ce cas soit 5.35%\n",
      "top10 : [14, 132, 154, 191, 194, 248, 303, 307, 374, 762]\n"
     ]
    }
   ],
   "source": [
    "#Les outliers sont des stations particulièrement utilisées :\n",
    "outliers = ((Q3-Q1)*1.5)+Q3\n",
    "nb1= Counter((df_used.value_counts() > outliers))[True]\n",
    "Station_used=list(df_used.value_counts().loc[(df_used.value_counts() > outliers)].index)\n",
    "print(f\"Au delà de {int(outliers)} utilisations on considère une station comme 'sur utilisée'\")\n",
    "print(f\"Il y a {nb1} stations dans ce cas soit {round(nb1/df['StartStation Id'].nunique()*100,2)}%\")\n",
    "print(f\"top10 : {sorted(Station_used[:10])}\")"
   ]
  },
  {
   "cell_type": "markdown",
   "metadata": {},
   "source": [
    "## 3.2) Colonne Vélo"
   ]
  },
  {
   "cell_type": "markdown",
   "metadata": {},
   "source": [
    "Utilisation des vélos : Fréquence et distribution.\\\n",
    "10126 vélos constituent le parc de Londres."
   ]
  },
  {
   "cell_type": "code",
   "execution_count": 13,
   "metadata": {},
   "outputs": [
    {
     "data": {
      "text/plain": [
       "10126"
      ]
     },
     "execution_count": 13,
     "metadata": {},
     "output_type": "execute_result"
    }
   ],
   "source": [
    "df_used = df['Bike Id']\n",
    "df_used.nunique()"
   ]
  },
  {
   "cell_type": "code",
   "execution_count": 14,
   "metadata": {},
   "outputs": [
    {
     "data": {
      "text/plain": [
       "(10126,\n",
       " 6713     33\n",
       " 15818    32\n",
       " 4189     32\n",
       " 4583     32\n",
       " 5565     32\n",
       "          ..\n",
       " 4044      1\n",
       " 11848     1\n",
       " 8942      1\n",
       " 7438      1\n",
       " 7150      1\n",
       " Name: Bike Id, Length: 10126, dtype: int64)"
      ]
     },
     "execution_count": 14,
     "metadata": {},
     "output_type": "execute_result"
    }
   ],
   "source": [
    "df_used.nunique(),df_used.value_counts()"
   ]
  },
  {
   "cell_type": "markdown",
   "metadata": {},
   "source": [
    "La statistique de distribution des fréquences d'utilisation des vélos a la forme suivante :"
   ]
  },
  {
   "cell_type": "code",
   "execution_count": 15,
   "metadata": {},
   "outputs": [
    {
     "data": {
      "image/png": "[encoded data removed]",
      "text/plain": [
       "<Figure size 1440x360 with 1 Axes>"
      ]
     },
     "metadata": {
      "needs_background": "light"
     },
     "output_type": "display_data"
    }
   ],
   "source": [
    "df_used = df['Bike Id']\n",
    "df_used.value_counts().plot(kind='hist' ,figsize=(20,5) ,bins=32 );"
   ]
  },
  {
   "cell_type": "code",
   "execution_count": 16,
   "metadata": {},
   "outputs": [
    {
     "name": "stdout",
     "output_type": "stream",
     "text": [
      "La moitié des vélos est utilisée entre 5 et 12 fois, 5% le sont plus de 19 fois, et au maximum 33 fois.\n"
     ]
    },
    {
     "data": {
      "image/png": "[encoded data removed]",
      "text/plain": [
       "<Figure size 432x288 with 1 Axes>"
      ]
     },
     "metadata": {
      "needs_background": "light"
     },
     "output_type": "display_data"
    }
   ],
   "source": [
    "df_used.value_counts().plot(kind='box' ,showfliers =False ,notch=True ,title =\"Etude Statistique de l'utilisaiton des vélos\");\n",
    "stat = list(df_used.value_counts())\n",
    "Q1,Q2,Q3,Q4= np.quantile(stat,[0.25,0.50,0.75,0.95])\n",
    "print(f\"La moitié des vélos est utilisée entre {int(Q1)} et {int(Q3)} fois, 5% le sont plus de {int(Q4)} fois, et au maximum {max(stat)} fois.\")"
   ]
  },
  {
   "cell_type": "markdown",
   "metadata": {},
   "source": [
    "Etude des outliers :"
   ]
  },
  {
   "cell_type": "code",
   "execution_count": 17,
   "metadata": {},
   "outputs": [
    {
     "name": "stdout",
     "output_type": "stream",
     "text": [
      "Au delà de 22 utilisations on considère un vélo comme 'sur utilisé'\n",
      "Il y a 152 vélos dans ce cas soit 1.5% du parc.\n"
     ]
    }
   ],
   "source": [
    "#Les outliers sont des vélos particulièrement utilisées :\n",
    "outliers = ((Q3-Q1)*1.5)+Q3\n",
    "nb1= Counter((df_used.value_counts() > outliers))[True]\n",
    "Bike_used=list(df_used.value_counts().loc[(df_used.value_counts() > outliers)].index)\n",
    "print(f\"Au delà de {int(outliers)} utilisations on considère un vélo comme 'sur utilisé'\")\n",
    "print(f\"Il y a {nb1} vélos dans ce cas soit {(nb1/df['Bike Id'].nunique())*100:.2}% du parc.\")"
   ]
  },
  {
   "cell_type": "markdown",
   "metadata": {},
   "source": [
    "## 3.3) Colonne Durée"
   ]
  },
  {
   "cell_type": "markdown",
   "metadata": {},
   "source": [
    "Durée des trajets : fréquence et distribution."
   ]
  },
  {
   "cell_type": "code",
   "execution_count": 18,
   "metadata": {},
   "outputs": [
    {
     "data": {
      "image/png": "[encoded data removed]",
      "text/plain": [
       "<Figure size 1440x360 with 1 Axes>"
      ]
     },
     "metadata": {
      "needs_background": "light"
     },
     "output_type": "display_data"
    }
   ],
   "source": [
    "df_used = df['Duration']\n",
    "df_used.plot(kind='hist',figsize=(20,5),bins=100 );"
   ]
  },
  {
   "cell_type": "code",
   "execution_count": 19,
   "metadata": {},
   "outputs": [
    {
     "name": "stdout",
     "output_type": "stream",
     "text": [
      "La moitié des trajets a une durée entre 7 et 20 min, 5% d'entre eux dépasse 38 min et un outlier max est relevé à 8 heures.\n"
     ]
    },
    {
     "data": {
      "image/png": "[encoded data removed]",
      "text/plain": [
       "<Figure size 432x288 with 1 Axes>"
      ]
     },
     "metadata": {
      "needs_background": "light"
     },
     "output_type": "display_data"
    }
   ],
   "source": [
    "df_used.plot(kind='box',showfliers =False,notch=True,title =\"Etude Statistique de l'utilisaiton des vélos\" );\n",
    "stat = list(df_used)\n",
    "Q1,Q2,Q3,Q4= np.quantile(stat,[0.25,0.50,0.75,0.95])\n",
    "print(f\"La moitié des trajets a une durée entre {int(Q1/60)} et {int(Q3/60)} min, 5% d'entre eux dépasse {int(Q4/60)} min et un outlier max est relevé à {int(np.round(max(stat)/3600))} heures.\")"
   ]
  },
  {
   "cell_type": "markdown",
   "metadata": {},
   "source": [
    "Etude des outliers"
   ]
  },
  {
   "cell_type": "code",
   "execution_count": 20,
   "metadata": {},
   "outputs": [
    {
     "name": "stdout",
     "output_type": "stream",
     "text": [
      "Au delà de 39 min on pourrait considérer le trajet aberrant, non représentatif, et donc ne pas le traiter.\n",
      "Cela représente 4301 trajets, soit 4.682%\n"
     ]
    }
   ],
   "source": [
    "outliers = ((Q3-Q1)*1.5)+Q3\n",
    "nb1= Counter((df_used > outliers))[True]\n",
    "Too_long=list(df_used.value_counts().loc[(df_used.value_counts() > outliers)].index)\n",
    "print(f\"Au delà de {int(outliers/60)} min on pourrait considérer le trajet aberrant, non représentatif, et donc ne pas le traiter.\")\n",
    "print(f\"Cela représente {nb1} trajets, soit {nb1/df['Duration'].shape[0]*100:.4}%\")"
   ]
  },
  {
   "cell_type": "markdown",
   "metadata": {},
   "source": [
    "## 3.4) Série temporelle"
   ]
  },
  {
   "cell_type": "markdown",
   "metadata": {},
   "source": [
    "Nombre de trajets par heure durant le Week End :"
   ]
  },
  {
   "cell_type": "code",
   "execution_count": 21,
   "metadata": {},
   "outputs": [
    {
     "data": {
      "image/png": "[encoded data removed]",
      "text/plain": [
       "<Figure size 432x288 with 1 Axes>"
      ]
     },
     "metadata": {
      "needs_background": "light"
     },
     "output_type": "display_data"
    }
   ],
   "source": [
    "dF_Wend = df.loc[df['Start Date'].dt.strftime('%a').str.contains('^[S]')]\n",
    "time_arr = []\n",
    "time_dep = []\n",
    "for i in range(24):\n",
    "    time_dep.append(len(dF_Wend.loc[df['Start Date'].dt.hour == i]))\n",
    "    time_arr.append(len(dF_Wend.loc[df['End Date'].dt.hour == i]))\n",
    "plt.plot(time_dep),plt.plot(time_arr);"
   ]
  },
  {
   "cell_type": "markdown",
   "metadata": {},
   "source": [
    "Nombre de trajets par heure durant la semaine :"
   ]
  },
  {
   "cell_type": "code",
   "execution_count": 22,
   "metadata": {},
   "outputs": [
    {
     "data": {
      "image/png": "[encoded data removed]",
      "text/plain": [
       "<Figure size 432x288 with 1 Axes>"
      ]
     },
     "metadata": {
      "needs_background": "light"
     },
     "output_type": "display_data"
    }
   ],
   "source": [
    "dF_Work = df.loc[~df['Start Date'].dt.strftime('%a').str.contains('^[S]')]\n",
    "time_arr = []\n",
    "time_dep = []\n",
    "for i in range(24):\n",
    "    time_dep.append(len(dF_Work.loc[df['Start Date'].dt.hour == i]))\n",
    "    time_arr.append(len(dF_Work.loc[df['End Date'].dt.hour == i]))\n",
    "plt.plot(time_dep),plt.plot(time_arr);"
   ]
  },
  {
   "cell_type": "markdown",
   "metadata": {},
   "source": [
    "On voit clairement deux types d'usage différents apparaître : \n",
    "- En semaine, deux créneaux d'utilisation dominent (autour de 8h et 17h), i.e. les horaires de bureau,\n",
    "- En week end, l'utilisation n'est pas vraiment contrainte et se répartit dans la journée de 10 à 17h, avec un pic vers 15h et après."
   ]
  },
  {
   "cell_type": "markdown",
   "metadata": {},
   "source": [
    "# 4) Première conclusion"
   ]
  },
  {
   "cell_type": "markdown",
   "metadata": {},
   "source": [
    "Suite a cette première étude plusieurs pistes de réflexion sont possible :\n",
    "- Etude d'un forfait en fonction de la durée des trajets et des périodes (semaine week end)\n",
    "- Etude des trajets *'aberrant'* +8h ou d'une station vers une autre afin d'identifié des défauts et éviter une surfacturation.\n",
    "- Etude des vélos *'trop'* utilisés afin d'anticiper une réparation ou d'envisager un cycle de collecte pour les faire tourner et éviter une usure prématuré de certain\n",
    "- Etude des stations *'trop'* fréquenté afin d'anticiper un agrandissement de la station ou aménagement du voisinage.\n",
    "\n",
    "Pour notre projet l'étude se protera sur les stations et les vélos.\\\n",
    "La durée sera restreinte à une semaine *(un fichier)*, mais elle pourrait être étendu en concaténant plusieurs fichier xls.\n",
    "\n",
    "Durant notre étude, l'utilisation des propriétés des graphs (connectivité) sera utilisé.\\\n",
    "Voir le fichier .py pour la description des fonctions et notions utilisés."
   ]
  },
  {
   "cell_type": "markdown",
   "metadata": {},
   "source": [
    "### Visualisation de l'ensemble des stations"
   ]
  },
  {
   "cell_type": "code",
   "execution_count": 23,
   "metadata": {},
   "outputs": [
    {
     "data": {
      "application/vnd.jupyter.widget-view+json": {
       "model_id": "9611c50775b8474cbedd2d394b22771a",
       "version_major": 2,
       "version_minor": 0
      },
      "text/plain": [
       "Map(center=[51.5, -0.12], controls=(ZoomControl(options=['position', 'zoom_in_text', 'zoom_in_title', 'zoom_ou…"
      ]
     },
     "metadata": {},
     "output_type": "display_data"
    }
   ],
   "source": [
    "#Affiche l'ensemble des stations\n",
    "m = Map(center=(51.50, -0.12), zoom=10,basemap=basemaps.Esri.WorldTopoMap)\n",
    "m.add_control(FullScreenControl())\n",
    "#Prends le DF contenant les Coord Gps et affiche l'ensemble des stations en clustered.\n",
    "Clustered_Markers = Give_Marker_Cluster(df_Coord_Gps)\n",
    "m.add_layer(Clustered_Markers)\n",
    "display(m)"
   ]
  },
  {
   "cell_type": "markdown",
   "metadata": {},
   "source": [
    "# 5) Sujet 1: Etude des flux et Stations"
   ]
  },
  {
   "cell_type": "markdown",
   "metadata": {},
   "source": [
    "## Voir le jupyter : Etude Série temporelle"
   ]
  },
  {
   "cell_type": "markdown",
   "metadata": {},
   "source": [
    "# 6) Sujet 2 : Etude des vélos"
   ]
  },
  {
   "cell_type": "markdown",
   "metadata": {},
   "source": [
    "## Voir le jupyter : Etude des vélos et stations"
   ]
  }
 ],
 "metadata": {
  "kernelspec": {
   "display_name": "Python 3",
   "language": "python",
   "name": "python3"
  },
  "language_info": {
   "codemirror_mode": {
    "name": "ipython",
    "version": 3
   },
   "file_extension": ".py",
   "mimetype": "text/x-python",
   "name": "python",
   "nbconvert_exporter": "python",
   "pygments_lexer": "ipython3",
   "version": "3.7.7"
  }
 },
 "nbformat": 4,
 "nbformat_minor": 4
}
