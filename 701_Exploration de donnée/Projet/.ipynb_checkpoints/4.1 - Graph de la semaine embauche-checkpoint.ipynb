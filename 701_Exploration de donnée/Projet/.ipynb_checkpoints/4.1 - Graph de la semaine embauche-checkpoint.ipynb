{
 "cells": [
  {
   "cell_type": "markdown",
   "metadata": {},
   "source": [
    "# Thématique : graph"
   ]
  },
  {
   "cell_type": "markdown",
   "metadata": {},
   "source": [
    "On veux un graph qui représente les stations (noeud) et les trajet les reliant (non orienté)\n",
    "2 (orienté départ > arrivé) \n",
    "3 le poids pourra être le temps d'un trajet \n",
    "4 Temps moyen sur ce trajet \n",
    "5 Temps moyen sur ce trajet en fct du créneau d'horraire"
   ]
  },
  {
   "cell_type": "code",
   "execution_count": 71,
   "metadata": {},
   "outputs": [],
   "source": [
    "import pandas as pd\n",
    "import matplotlib.pyplot as plt\n",
    "import numpy as np\n",
    "import statistics as stat\n",
    "from scipy.sparse import coo_matrix"
   ]
  },
  {
   "cell_type": "code",
   "execution_count": 72,
   "metadata": {},
   "outputs": [],
   "source": [
    "raw_df = pd.read_csv('source/usage_stats/103JourneyDataExtract28Mar2018-03Apr2018.csv')\n",
    "#Attention, on retire les non trajets\n",
    "raw_df.drop(raw_df[raw_df['StartStation Id'] == raw_df['EndStation Id']].index,inplace=True)\n",
    "#On retire les trajet supérieur à 8h\n",
    "raw_df.drop(raw_df[raw_df['Duration']>28800].index,inplace=True)"
   ]
  },
  {
   "cell_type": "code",
   "execution_count": 73,
   "metadata": {
    "collapsed": true
   },
   "outputs": [
    {
     "data": {
      "text/html": [
       "<div>\n",
       "<style scoped>\n",
       "    .dataframe tbody tr th:only-of-type {\n",
       "        vertical-align: middle;\n",
       "    }\n",
       "\n",
       "    .dataframe tbody tr th {\n",
       "        vertical-align: top;\n",
       "    }\n",
       "\n",
       "    .dataframe thead th {\n",
       "        text-align: right;\n",
       "    }\n",
       "</style>\n",
       "<table border=\"1\" class=\"dataframe\">\n",
       "  <thead>\n",
       "    <tr style=\"text-align: right;\">\n",
       "      <th></th>\n",
       "      <th>Rental Id</th>\n",
       "      <th>Duration</th>\n",
       "      <th>Bike Id</th>\n",
       "      <th>End Date</th>\n",
       "      <th>EndStation Id</th>\n",
       "      <th>EndStation Name</th>\n",
       "      <th>Start Date</th>\n",
       "      <th>StartStation Id</th>\n",
       "      <th>StartStation Name</th>\n",
       "    </tr>\n",
       "  </thead>\n",
       "  <tbody>\n",
       "    <tr>\n",
       "      <th>0</th>\n",
       "      <td>74203872</td>\n",
       "      <td>120</td>\n",
       "      <td>13382</td>\n",
       "      <td>29/03/2018 11:35</td>\n",
       "      <td>754</td>\n",
       "      <td>Grenfell Road, Avondale</td>\n",
       "      <td>29/03/2018 11:33</td>\n",
       "      <td>442</td>\n",
       "      <td>Walmer Road, Avondale</td>\n",
       "    </tr>\n",
       "    <tr>\n",
       "      <th>2</th>\n",
       "      <td>74207162</td>\n",
       "      <td>360</td>\n",
       "      <td>6446</td>\n",
       "      <td>29/03/2018 15:14</td>\n",
       "      <td>442</td>\n",
       "      <td>Walmer Road, Avondale</td>\n",
       "      <td>29/03/2018 15:08</td>\n",
       "      <td>741</td>\n",
       "      <td>Freston Road, Avondale</td>\n",
       "    </tr>\n",
       "    <tr>\n",
       "      <th>3</th>\n",
       "      <td>74206214</td>\n",
       "      <td>180</td>\n",
       "      <td>13382</td>\n",
       "      <td>29/03/2018 13:51</td>\n",
       "      <td>741</td>\n",
       "      <td>Freston Road, Avondale</td>\n",
       "      <td>29/03/2018 13:48</td>\n",
       "      <td>754</td>\n",
       "      <td>Grenfell Road, Avondale</td>\n",
       "    </tr>\n",
       "    <tr>\n",
       "      <th>4</th>\n",
       "      <td>74243641</td>\n",
       "      <td>300</td>\n",
       "      <td>6</td>\n",
       "      <td>01/04/2018 17:41</td>\n",
       "      <td>16</td>\n",
       "      <td>Cartwright Gardens , Bloomsbury</td>\n",
       "      <td>01/04/2018 17:36</td>\n",
       "      <td>88</td>\n",
       "      <td>Bayley Street , Bloomsbury</td>\n",
       "    </tr>\n",
       "    <tr>\n",
       "      <th>5</th>\n",
       "      <td>74279057</td>\n",
       "      <td>600</td>\n",
       "      <td>4462</td>\n",
       "      <td>03/04/2018 22:56</td>\n",
       "      <td>95</td>\n",
       "      <td>Aldersgate Street, Barbican</td>\n",
       "      <td>03/04/2018 22:46</td>\n",
       "      <td>273</td>\n",
       "      <td>Belvedere Road 1, South Bank</td>\n",
       "    </tr>\n",
       "    <tr>\n",
       "      <th>...</th>\n",
       "      <td>...</td>\n",
       "      <td>...</td>\n",
       "      <td>...</td>\n",
       "      <td>...</td>\n",
       "      <td>...</td>\n",
       "      <td>...</td>\n",
       "      <td>...</td>\n",
       "      <td>...</td>\n",
       "      <td>...</td>\n",
       "    </tr>\n",
       "    <tr>\n",
       "      <th>96169</th>\n",
       "      <td>74260511</td>\n",
       "      <td>780</td>\n",
       "      <td>9963</td>\n",
       "      <td>03/04/2018 09:05</td>\n",
       "      <td>335</td>\n",
       "      <td>Tavistock Street, Covent Garden</td>\n",
       "      <td>03/04/2018 08:52</td>\n",
       "      <td>540</td>\n",
       "      <td>Albany Street, The Regent's Park</td>\n",
       "    </tr>\n",
       "    <tr>\n",
       "      <th>96170</th>\n",
       "      <td>74217014</td>\n",
       "      <td>360</td>\n",
       "      <td>990</td>\n",
       "      <td>30/03/2018 09:56</td>\n",
       "      <td>33</td>\n",
       "      <td>Central House, Aldgate</td>\n",
       "      <td>30/03/2018 09:50</td>\n",
       "      <td>552</td>\n",
       "      <td>Watney Street, Shadwell</td>\n",
       "    </tr>\n",
       "    <tr>\n",
       "      <th>96171</th>\n",
       "      <td>74197758</td>\n",
       "      <td>900</td>\n",
       "      <td>4773</td>\n",
       "      <td>29/03/2018 08:35</td>\n",
       "      <td>475</td>\n",
       "      <td>Lightermans Road, Millwall</td>\n",
       "      <td>29/03/2018 08:20</td>\n",
       "      <td>552</td>\n",
       "      <td>Watney Street, Shadwell</td>\n",
       "    </tr>\n",
       "    <tr>\n",
       "      <th>96172</th>\n",
       "      <td>74233093</td>\n",
       "      <td>240</td>\n",
       "      <td>10539</td>\n",
       "      <td>01/04/2018 00:21</td>\n",
       "      <td>488</td>\n",
       "      <td>Reardon Street, Wapping</td>\n",
       "      <td>01/04/2018 00:17</td>\n",
       "      <td>552</td>\n",
       "      <td>Watney Street, Shadwell</td>\n",
       "    </tr>\n",
       "    <tr>\n",
       "      <th>96173</th>\n",
       "      <td>74227626</td>\n",
       "      <td>480</td>\n",
       "      <td>1388</td>\n",
       "      <td>31/03/2018 15:28</td>\n",
       "      <td>587</td>\n",
       "      <td>Monument Street, Monument</td>\n",
       "      <td>31/03/2018 15:20</td>\n",
       "      <td>552</td>\n",
       "      <td>Watney Street, Shadwell</td>\n",
       "    </tr>\n",
       "  </tbody>\n",
       "</table>\n",
       "<p>91861 rows × 9 columns</p>\n",
       "</div>"
      ],
      "text/plain": [
       "       Rental Id  Duration  Bike Id          End Date  EndStation Id  \\\n",
       "0       74203872       120    13382  29/03/2018 11:35            754   \n",
       "2       74207162       360     6446  29/03/2018 15:14            442   \n",
       "3       74206214       180    13382  29/03/2018 13:51            741   \n",
       "4       74243641       300        6  01/04/2018 17:41             16   \n",
       "5       74279057       600     4462  03/04/2018 22:56             95   \n",
       "...          ...       ...      ...               ...            ...   \n",
       "96169   74260511       780     9963  03/04/2018 09:05            335   \n",
       "96170   74217014       360      990  30/03/2018 09:56             33   \n",
       "96171   74197758       900     4773  29/03/2018 08:35            475   \n",
       "96172   74233093       240    10539  01/04/2018 00:21            488   \n",
       "96173   74227626       480     1388  31/03/2018 15:28            587   \n",
       "\n",
       "                       EndStation Name        Start Date  StartStation Id  \\\n",
       "0              Grenfell Road, Avondale  29/03/2018 11:33              442   \n",
       "2                Walmer Road, Avondale  29/03/2018 15:08              741   \n",
       "3               Freston Road, Avondale  29/03/2018 13:48              754   \n",
       "4      Cartwright Gardens , Bloomsbury  01/04/2018 17:36               88   \n",
       "5          Aldersgate Street, Barbican  03/04/2018 22:46              273   \n",
       "...                                ...               ...              ...   \n",
       "96169  Tavistock Street, Covent Garden  03/04/2018 08:52              540   \n",
       "96170           Central House, Aldgate  30/03/2018 09:50              552   \n",
       "96171       Lightermans Road, Millwall  29/03/2018 08:20              552   \n",
       "96172          Reardon Street, Wapping  01/04/2018 00:17              552   \n",
       "96173        Monument Street, Monument  31/03/2018 15:20              552   \n",
       "\n",
       "                      StartStation Name  \n",
       "0                 Walmer Road, Avondale  \n",
       "2                Freston Road, Avondale  \n",
       "3               Grenfell Road, Avondale  \n",
       "4            Bayley Street , Bloomsbury  \n",
       "5          Belvedere Road 1, South Bank  \n",
       "...                                 ...  \n",
       "96169  Albany Street, The Regent's Park  \n",
       "96170           Watney Street, Shadwell  \n",
       "96171           Watney Street, Shadwell  \n",
       "96172           Watney Street, Shadwell  \n",
       "96173           Watney Street, Shadwell  \n",
       "\n",
       "[91861 rows x 9 columns]"
      ]
     },
     "execution_count": 73,
     "metadata": {},
     "output_type": "execute_result"
    }
   ],
   "source": [
    "df = raw_df\n",
    "df"
   ]
  },
  {
   "cell_type": "markdown",
   "metadata": {},
   "source": [
    "#### Récupérer la liste des stations pour créer la matrice"
   ]
  },
  {
   "cell_type": "code",
   "execution_count": 66,
   "metadata": {},
   "outputs": [
    {
     "data": {
      "text/plain": [
       "(96174, 96174, 96174)"
      ]
     },
     "execution_count": 66,
     "metadata": {},
     "output_type": "execute_result"
    }
   ],
   "source": [
    "Liste_EStation = df['EndStation Id']\n",
    "Travel_Time = df['Duration']\n",
    "len(Liste_SStation),len(Liste_EStation),len(Travel_Time)"
   ]
  },
  {
   "cell_type": "code",
   "execution_count": 74,
   "metadata": {},
   "outputs": [],
   "source": [
    "row=np.array(df['StartStation Id'])\n",
    "col=np.array(df['EndStation Id'])\n",
    "data=np.array(df['Duration'])"
   ]
  },
  {
   "cell_type": "code",
   "execution_count": 83,
   "metadata": {},
   "outputs": [
    {
     "data": {
      "text/plain": [
       "(91861, 91861, 91861)"
      ]
     },
     "execution_count": 83,
     "metadata": {},
     "output_type": "execute_result"
    }
   ],
   "source": [
    "row,col,data\n",
    "len(data),len(row),len(col)"
   ]
  },
  {
   "cell_type": "code",
   "execution_count": 82,
   "metadata": {},
   "outputs": [
    {
     "data": {
      "text/plain": [
       "91861"
      ]
     },
     "execution_count": 82,
     "metadata": {},
     "output_type": "execute_result"
    }
   ],
   "source": [
    "a = coo_matrix((data, (row, col)))\n",
    "a.toarray()\n",
    "a.nnz\n"
   ]
  },
  {
   "cell_type": "code",
   "execution_count": null,
   "metadata": {},
   "outputs": [],
   "source": []
  },
  {
   "cell_type": "markdown",
   "metadata": {},
   "source": [
    "#### Produire la matrice Noeud / lien "
   ]
  },
  {
   "cell_type": "code",
   "execution_count": null,
   "metadata": {},
   "outputs": [],
   "source": []
  },
  {
   "cell_type": "markdown",
   "metadata": {},
   "source": [
    "#### Afficher le graph et faire différent calcul dessus"
   ]
  }
 ],
 "metadata": {
  "kernelspec": {
   "display_name": "Python 3",
   "language": "python",
   "name": "python3"
  },
  "language_info": {
   "codemirror_mode": {
    "name": "ipython",
    "version": 3
   },
   "file_extension": ".py",
   "mimetype": "text/x-python",
   "name": "python",
   "nbconvert_exporter": "python",
   "pygments_lexer": "ipython3",
   "version": "3.7.7"
  }
 },
 "nbformat": 4,
 "nbformat_minor": 4
}
