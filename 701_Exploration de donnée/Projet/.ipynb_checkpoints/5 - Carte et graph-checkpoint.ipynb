{
 "cells": [
  {
   "cell_type": "markdown",
   "metadata": {},
   "source": [
    "# Création du DataFrame des coordonnées Gps des stations"
   ]
  },
  {
   "cell_type": "code",
   "execution_count": 229,
   "metadata": {},
   "outputs": [],
   "source": [
    "import pandas as pd\n",
    "import geocoder\n",
    "import pickle\n",
    "from ipyleaflet import Map, Marker, MarkerCluster, basemaps, FullScreenControl\n",
    "import geopandas"
   ]
  },
  {
   "cell_type": "code",
   "execution_count": 2,
   "metadata": {
    "collapsed": true
   },
   "outputs": [
    {
     "data": {
      "text/html": [
       "<div>\n",
       "<style scoped>\n",
       "    .dataframe tbody tr th:only-of-type {\n",
       "        vertical-align: middle;\n",
       "    }\n",
       "\n",
       "    .dataframe tbody tr th {\n",
       "        vertical-align: top;\n",
       "    }\n",
       "\n",
       "    .dataframe thead th {\n",
       "        text-align: right;\n",
       "    }\n",
       "</style>\n",
       "<table border=\"1\" class=\"dataframe\">\n",
       "  <thead>\n",
       "    <tr style=\"text-align: right;\">\n",
       "      <th></th>\n",
       "      <th>Rental Id</th>\n",
       "      <th>Duration</th>\n",
       "      <th>Bike Id</th>\n",
       "      <th>End Date</th>\n",
       "      <th>EndStation Id</th>\n",
       "      <th>EndStation Name</th>\n",
       "      <th>Start Date</th>\n",
       "      <th>StartStation Id</th>\n",
       "      <th>StartStation Name</th>\n",
       "    </tr>\n",
       "  </thead>\n",
       "  <tbody>\n",
       "    <tr>\n",
       "      <th>0</th>\n",
       "      <td>74203872</td>\n",
       "      <td>120</td>\n",
       "      <td>13382</td>\n",
       "      <td>2018-03-29 11:35:00</td>\n",
       "      <td>754</td>\n",
       "      <td>Grenfell Road, Avondale</td>\n",
       "      <td>2018-03-29 11:33:00</td>\n",
       "      <td>442</td>\n",
       "      <td>Walmer Road, Avondale</td>\n",
       "    </tr>\n",
       "    <tr>\n",
       "      <th>2</th>\n",
       "      <td>74207162</td>\n",
       "      <td>360</td>\n",
       "      <td>6446</td>\n",
       "      <td>2018-03-29 15:14:00</td>\n",
       "      <td>442</td>\n",
       "      <td>Walmer Road, Avondale</td>\n",
       "      <td>2018-03-29 15:08:00</td>\n",
       "      <td>741</td>\n",
       "      <td>Freston Road, Avondale</td>\n",
       "    </tr>\n",
       "    <tr>\n",
       "      <th>3</th>\n",
       "      <td>74206214</td>\n",
       "      <td>180</td>\n",
       "      <td>13382</td>\n",
       "      <td>2018-03-29 13:51:00</td>\n",
       "      <td>741</td>\n",
       "      <td>Freston Road, Avondale</td>\n",
       "      <td>2018-03-29 13:48:00</td>\n",
       "      <td>754</td>\n",
       "      <td>Grenfell Road, Avondale</td>\n",
       "    </tr>\n",
       "    <tr>\n",
       "      <th>4</th>\n",
       "      <td>74243641</td>\n",
       "      <td>300</td>\n",
       "      <td>6</td>\n",
       "      <td>2018-04-01 17:41:00</td>\n",
       "      <td>16</td>\n",
       "      <td>Cartwright Gardens , Bloomsbury</td>\n",
       "      <td>2018-04-01 17:36:00</td>\n",
       "      <td>88</td>\n",
       "      <td>Bayley Street , Bloomsbury</td>\n",
       "    </tr>\n",
       "    <tr>\n",
       "      <th>5</th>\n",
       "      <td>74279057</td>\n",
       "      <td>600</td>\n",
       "      <td>4462</td>\n",
       "      <td>2018-04-03 22:56:00</td>\n",
       "      <td>95</td>\n",
       "      <td>Aldersgate Street, Barbican</td>\n",
       "      <td>2018-04-03 22:46:00</td>\n",
       "      <td>273</td>\n",
       "      <td>Belvedere Road 1, South Bank</td>\n",
       "    </tr>\n",
       "    <tr>\n",
       "      <th>...</th>\n",
       "      <td>...</td>\n",
       "      <td>...</td>\n",
       "      <td>...</td>\n",
       "      <td>...</td>\n",
       "      <td>...</td>\n",
       "      <td>...</td>\n",
       "      <td>...</td>\n",
       "      <td>...</td>\n",
       "      <td>...</td>\n",
       "    </tr>\n",
       "    <tr>\n",
       "      <th>96169</th>\n",
       "      <td>74260511</td>\n",
       "      <td>780</td>\n",
       "      <td>9963</td>\n",
       "      <td>2018-04-03 09:05:00</td>\n",
       "      <td>335</td>\n",
       "      <td>Tavistock Street, Covent Garden</td>\n",
       "      <td>2018-04-03 08:52:00</td>\n",
       "      <td>540</td>\n",
       "      <td>Albany Street, The Regent's Park</td>\n",
       "    </tr>\n",
       "    <tr>\n",
       "      <th>96170</th>\n",
       "      <td>74217014</td>\n",
       "      <td>360</td>\n",
       "      <td>990</td>\n",
       "      <td>2018-03-30 09:56:00</td>\n",
       "      <td>33</td>\n",
       "      <td>Central House, Aldgate</td>\n",
       "      <td>2018-03-30 09:50:00</td>\n",
       "      <td>552</td>\n",
       "      <td>Watney Street, Shadwell</td>\n",
       "    </tr>\n",
       "    <tr>\n",
       "      <th>96171</th>\n",
       "      <td>74197758</td>\n",
       "      <td>900</td>\n",
       "      <td>4773</td>\n",
       "      <td>2018-03-29 08:35:00</td>\n",
       "      <td>475</td>\n",
       "      <td>Lightermans Road, Millwall</td>\n",
       "      <td>2018-03-29 08:20:00</td>\n",
       "      <td>552</td>\n",
       "      <td>Watney Street, Shadwell</td>\n",
       "    </tr>\n",
       "    <tr>\n",
       "      <th>96172</th>\n",
       "      <td>74233093</td>\n",
       "      <td>240</td>\n",
       "      <td>10539</td>\n",
       "      <td>2018-04-01 00:21:00</td>\n",
       "      <td>488</td>\n",
       "      <td>Reardon Street, Wapping</td>\n",
       "      <td>2018-04-01 00:17:00</td>\n",
       "      <td>552</td>\n",
       "      <td>Watney Street, Shadwell</td>\n",
       "    </tr>\n",
       "    <tr>\n",
       "      <th>96173</th>\n",
       "      <td>74227626</td>\n",
       "      <td>480</td>\n",
       "      <td>1388</td>\n",
       "      <td>2018-03-31 15:28:00</td>\n",
       "      <td>587</td>\n",
       "      <td>Monument Street, Monument</td>\n",
       "      <td>2018-03-31 15:20:00</td>\n",
       "      <td>552</td>\n",
       "      <td>Watney Street, Shadwell</td>\n",
       "    </tr>\n",
       "  </tbody>\n",
       "</table>\n",
       "<p>91861 rows × 9 columns</p>\n",
       "</div>"
      ],
      "text/plain": [
       "       Rental Id  Duration  Bike Id            End Date  EndStation Id  \\\n",
       "0       74203872       120    13382 2018-03-29 11:35:00            754   \n",
       "2       74207162       360     6446 2018-03-29 15:14:00            442   \n",
       "3       74206214       180    13382 2018-03-29 13:51:00            741   \n",
       "4       74243641       300        6 2018-04-01 17:41:00             16   \n",
       "5       74279057       600     4462 2018-04-03 22:56:00             95   \n",
       "...          ...       ...      ...                 ...            ...   \n",
       "96169   74260511       780     9963 2018-04-03 09:05:00            335   \n",
       "96170   74217014       360      990 2018-03-30 09:56:00             33   \n",
       "96171   74197758       900     4773 2018-03-29 08:35:00            475   \n",
       "96172   74233093       240    10539 2018-04-01 00:21:00            488   \n",
       "96173   74227626       480     1388 2018-03-31 15:28:00            587   \n",
       "\n",
       "                       EndStation Name          Start Date  StartStation Id  \\\n",
       "0              Grenfell Road, Avondale 2018-03-29 11:33:00              442   \n",
       "2                Walmer Road, Avondale 2018-03-29 15:08:00              741   \n",
       "3               Freston Road, Avondale 2018-03-29 13:48:00              754   \n",
       "4      Cartwright Gardens , Bloomsbury 2018-04-01 17:36:00               88   \n",
       "5          Aldersgate Street, Barbican 2018-04-03 22:46:00              273   \n",
       "...                                ...                 ...              ...   \n",
       "96169  Tavistock Street, Covent Garden 2018-04-03 08:52:00              540   \n",
       "96170           Central House, Aldgate 2018-03-30 09:50:00              552   \n",
       "96171       Lightermans Road, Millwall 2018-03-29 08:20:00              552   \n",
       "96172          Reardon Street, Wapping 2018-04-01 00:17:00              552   \n",
       "96173        Monument Street, Monument 2018-03-31 15:20:00              552   \n",
       "\n",
       "                      StartStation Name  \n",
       "0                 Walmer Road, Avondale  \n",
       "2                Freston Road, Avondale  \n",
       "3               Grenfell Road, Avondale  \n",
       "4            Bayley Street , Bloomsbury  \n",
       "5          Belvedere Road 1, South Bank  \n",
       "...                                 ...  \n",
       "96169  Albany Street, The Regent's Park  \n",
       "96170           Watney Street, Shadwell  \n",
       "96171           Watney Street, Shadwell  \n",
       "96172           Watney Street, Shadwell  \n",
       "96173           Watney Street, Shadwell  \n",
       "\n",
       "[91861 rows x 9 columns]"
      ]
     },
     "execution_count": 2,
     "metadata": {},
     "output_type": "execute_result"
    }
   ],
   "source": [
    "raw_df = pd.read_csv('source/usage_stats/103JourneyDataExtract28Mar2018-03Apr2018.csv')\n",
    "\n",
    "raw_df.drop(raw_df[raw_df['StartStation Id'] == raw_df['EndStation Id']].index,inplace=True)\n",
    "raw_df.drop(raw_df[raw_df['Duration']>28800].index,inplace=True)\n",
    "raw_df['Start Date'] = pd.to_datetime(raw_df['Start Date'], format=\"%d/%m/%Y %H:%M\")\n",
    "raw_df['End Date'] = pd.to_datetime(raw_df['End Date'], format=\"%d/%m/%Y %H:%M\")\n",
    "df = raw_df\n",
    "df"
   ]
  },
  {
   "cell_type": "code",
   "execution_count": 108,
   "metadata": {},
   "outputs": [],
   "source": [
    "def prod_Coord_Gps(x):\n",
    "    g = geocoder.arcgis(f\"{x},London\")\n",
    "    print(f\"{g.json['lat']:.10}/{g.json['lng']:.10}/{x}\")\n",
    "    return g.json['lat'],g.json['lng']"
   ]
  },
  {
   "cell_type": "markdown",
   "metadata": {},
   "source": [
    "#### Attention création très longue (10min). On vérifie avant si l'objet n'existe pas déjà en pickle"
   ]
  },
  {
   "cell_type": "code",
   "execution_count": 166,
   "metadata": {},
   "outputs": [
    {
     "name": "stdout",
     "output_type": "stream",
     "text": [
      "Je télécharge les Coord ETA 10 minutes\n"
     ]
    },
    {
     "data": {
      "text/html": [
       "<div>\n",
       "<style scoped>\n",
       "    .dataframe tbody tr th:only-of-type {\n",
       "        vertical-align: middle;\n",
       "    }\n",
       "\n",
       "    .dataframe tbody tr th {\n",
       "        vertical-align: top;\n",
       "    }\n",
       "\n",
       "    .dataframe thead th {\n",
       "        text-align: right;\n",
       "    }\n",
       "</style>\n",
       "<table border=\"1\" class=\"dataframe\">\n",
       "  <thead>\n",
       "    <tr style=\"text-align: right;\">\n",
       "      <th></th>\n",
       "      <th>Station_Id</th>\n",
       "      <th>Station_Name</th>\n",
       "      <th>latitude</th>\n",
       "      <th>longitude</th>\n",
       "    </tr>\n",
       "  </thead>\n",
       "  <tbody>\n",
       "    <tr>\n",
       "      <th>0</th>\n",
       "      <td>442</td>\n",
       "      <td>Walmer Road, Avondale</td>\n",
       "      <td>51.5108</td>\n",
       "      <td>-0.21176</td>\n",
       "    </tr>\n",
       "  </tbody>\n",
       "</table>\n",
       "</div>"
      ],
      "text/plain": [
       "   Station_Id           Station_Name  latitude  longitude\n",
       "0         442  Walmer Road, Avondale   51.5108   -0.21176"
      ]
     },
     "execution_count": 166,
     "metadata": {},
     "output_type": "execute_result"
    }
   ],
   "source": [
    "%%time\n",
    "try :\n",
    "    df_Coord_Gps=pickle.Unpickler(open(\"df_Coord_Gps.pkl\",'rb')).load()\n",
    "except:\n",
    "    print(\"Je télécharge les Coord ETA 10 minutes\")\n",
    "    df_Coord_GPS = pd.DataFrame({'Station_Id': df['StartStation Id'].unique(), 'Station_Name': df['StartStation Name'].unique()})\n",
    "    df_Coord_GPS[['latitude','longitude']]=list(df_Coord_GPS['Station_Name'].apply(lambda x:prod_Coord_Gps(x)))\n",
    "    pickle.Pickler(open(\"df_Coord_Gps.pkl\",'wb')).dump(df_Coord_Gps)\n",
    "else:\n",
    "    print('Donnée déjà présente')\n",
    "df_Coord_GPS.head(1)\n",
    "    "
   ]
  },
  {
   "cell_type": "code",
   "execution_count": 224,
   "metadata": {},
   "outputs": [],
   "source": [
    "def Give_Marcker_cluster(df):\n",
    "    marker={}\n",
    "    for Station_Id,name,lat,lng in df.values.tolist():\n",
    "        marker[Station_Id]=Marker(location=(lat,lng),draggable=False,title=name.split(',')[0])\n",
    "\n",
    "    return MarkerCluster(markers=([m for m in marker.values()]))"
   ]
  },
  {
   "cell_type": "code",
   "execution_count": 225,
   "metadata": {},
   "outputs": [
    {
     "data": {
      "application/vnd.jupyter.widget-view+json": {
       "model_id": "f7918b0ecdc842ab9184bc81daffee6c",
       "version_major": 2,
       "version_minor": 0
      },
      "text/plain": [
       "Map(center=[51.5, -0.12], controls=(ZoomControl(options=['position', 'zoom_in_text', 'zoom_in_title', 'zoom_ou…"
      ]
     },
     "metadata": {},
     "output_type": "display_data"
    }
   ],
   "source": [
    "m = Map(center=(51.50, -0.12), zoom=11,basemap=basemaps.OpenStreetMap.Mapnik)\n",
    "\n",
    "m.add_control(FullScreenControl())\n",
    "maker_cluster = Give_Marcker_cluster(df_Coord_GPS)\n",
    "m.add_layer(marker_cluster);\n",
    "\n",
    "display(m)"
   ]
  },
  {
   "cell_type": "markdown",
   "metadata": {},
   "source": [
    "# Map avec des stations sur utilisées"
   ]
  },
  {
   "cell_type": "code",
   "execution_count": 208,
   "metadata": {
    "collapsed": true
   },
   "outputs": [
    {
     "data": {
      "text/plain": [
       "[154,\n",
       " 14,\n",
       " 191,\n",
       " 307,\n",
       " 248,\n",
       " 303,\n",
       " 194,\n",
       " 374,\n",
       " 132,\n",
       " 762,\n",
       " 251,\n",
       " 213,\n",
       " 217,\n",
       " 104,\n",
       " 101,\n",
       " 732,\n",
       " 553,\n",
       " 341,\n",
       " 427,\n",
       " 111,\n",
       " 574,\n",
       " 404,\n",
       " 39,\n",
       " 215,\n",
       " 73,\n",
       " 55,\n",
       " 71,\n",
       " 350,\n",
       " 46,\n",
       " 229,\n",
       " 356,\n",
       " 66,\n",
       " 109,\n",
       " 130,\n",
       " 107,\n",
       " 153,\n",
       " 361,\n",
       " 95,\n",
       " 737,\n",
       " 270,\n",
       " 717,\n",
       " 272]"
      ]
     },
     "execution_count": 208,
     "metadata": {},
     "output_type": "execute_result"
    }
   ],
   "source": [
    "df_used = df['StartStation Id']\n",
    "stat = list(df_used.value_counts())\n",
    "Q1,Q3= np.quantile(stat,[0.25,0.75])\n",
    "outliers = ((Q3-Q1)*1.5)+Q3\n",
    "Station_used=list(df_used.value_counts().loc[(df_used.value_counts() > outliers)].index)\n",
    "Station_used"
   ]
  },
  {
   "cell_type": "code",
   "execution_count": 223,
   "metadata": {},
   "outputs": [],
   "source": [
    "df_most_used_station = df_Coord_Gps.loc[df_Coord_Gps['Station_Id'].isin (Station_used)]"
   ]
  },
  {
   "cell_type": "code",
   "execution_count": 227,
   "metadata": {},
   "outputs": [
    {
     "data": {
      "application/vnd.jupyter.widget-view+json": {
       "model_id": "5128a853ef5343beab7937f3e42629f3",
       "version_major": 2,
       "version_minor": 0
      },
      "text/plain": [
       "Map(center=[51.5, -0.12], controls=(ZoomControl(options=['position', 'zoom_in_text', 'zoom_in_title', 'zoom_ou…"
      ]
     },
     "metadata": {},
     "output_type": "display_data"
    }
   ],
   "source": [
    "m2 = Map(center=(51.50, -0.12), zoom=11,basemap=basemaps.OpenStreetMap.Mapnik)\n",
    "\n",
    "m2.add_control(FullScreenControl())\n",
    "\n",
    "my_cluster = Give_Marcker_cluster(df_most_used_station)\n",
    "\n",
    "m2.add_layer(my_cluster);\n",
    "\n",
    "display(m2)"
   ]
  }
 ],
 "metadata": {
  "kernelspec": {
   "display_name": "Python 3",
   "language": "python",
   "name": "python3"
  },
  "language_info": {
   "codemirror_mode": {
    "name": "ipython",
    "version": 3
   },
   "file_extension": ".py",
   "mimetype": "text/x-python",
   "name": "python",
   "nbconvert_exporter": "python",
   "pygments_lexer": "ipython3",
   "version": "3.7.7"
  }
 },
 "nbformat": 4,
 "nbformat_minor": 4
}
