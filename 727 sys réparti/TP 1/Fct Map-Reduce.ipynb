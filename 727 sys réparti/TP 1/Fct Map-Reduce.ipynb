{
 "cells": [
  {
   "cell_type": "markdown",
   "metadata": {},
   "source": [
    "## Fonction Input / Split\n",
    "- Input\n",
    "prend un nom de fichier, le lit et le traduit en string\n",
    "\n",
    "- Split :\n",
    "prend une string et un nb de machine.\n",
    "Subdivise la string en autant de sous-string"
   ]
  },
  {
   "cell_type": "code",
   "execution_count": 97,
   "metadata": {
    "collapsed": true
   },
   "outputs": [
    {
     "name": "stdout",
     "output_type": "stream",
     "text": [
      "1473\n",
      "1485\n",
      "1487\n",
      "1487\n",
      "1486\n",
      "1486\n",
      "1487\n",
      "1485\n",
      "1487\n",
      "1506\n"
     ]
    }
   ],
   "source": [
    "def Input (filename):\n",
    "    with open(filename) as f:\n",
    "        text = f.read()\n",
    "    return (text)\n",
    "\n",
    "\n",
    "def Split(text,NB_Machine)\n",
    "    NB_Slice = NB_Machine\n",
    "    #Nombre de tranche / machine répartie\n",
    "\n",
    "    Size_Slice = len(text) // NB_Slice\n",
    "    #Taille de la tranche (division entière)\n",
    "\n",
    "    Slice =[]\n",
    "    #la liste qui contiendra chaque tranche <string>\n",
    "\n",
    "    for i in range (NB_Slice-1): #on parcours les n-1 tranches prévues\n",
    "        k = Size_Slice #On prend la taille normal d'une tranche\n",
    "        while (k>0): #dans le cas où une tranche n'aurait aucun espace \n",
    "            if text[k] == \" \" :\n",
    "                #print ('espace vu ')\n",
    "                #print (k)\n",
    "                Slice.append(text[:k])\n",
    "                text = text[k+1:]\n",
    "                break #on sort de la boucle\n",
    "            else : #on ne tombe pas sur un espace \n",
    "                #print ('espace non vu ')\n",
    "                k = k-1\n",
    "        #Non traité : cas où la tranche ne contient aucun espace mais qu'il reste plus de caractère\n",
    "        \n",
    "    Slice.append(text) #dernière tranche. on prend tout ce qu'il reste indépendamment de la taille\n",
    "\n",
    "    #Boucle de test\n",
    "    for i in range(len(Slice)):\n",
    "        #pass\n",
    "        print (len(Slice[i]))\n",
    "        #print (f'{Slice[i]:<20} taille: {len(Slice[i])}')\n",
    "    #print ('ce qui reste :',text)\n",
    "    #print (len(Slice))\n",
    "    Return (Slice)"
   ]
  },
  {
   "cell_type": "markdown",
   "metadata": {},
   "source": [
    "## Fonction Map\n",
    "- Entrée : String.\n",
    "- Sortie : Une liste de dictionnaire\n",
    "- Action : \n",
    "Je recoit une string.\n",
    "Je la subdivise en mot\n",
    "Je créer une liste de mot dictionnaire {mot : 1 } pour chaque mot. (pas d'unicité)\n",
    "j'en fait une liste"
   ]
  },
  {
   "cell_type": "code",
   "execution_count": 31,
   "metadata": {},
   "outputs": [],
   "source": [
    "def map (La_String):\n",
    "    La_Liste = []\n",
    "    words = La_String.split()\n",
    "    for word in words :\n",
    "        La_Liste.append({word : 1})\n",
    "    return La_Liste\n",
    "\n",
    "#il faut faire une liste de liste. \n",
    "#chaque liste contient autant de fois le mot qu'il apparait "
   ]
  },
  {
   "cell_type": "markdown",
   "metadata": {},
   "source": [
    "## Fonction Shuffle\n",
    "- Entrée : La liste des dictionnaires + le Nombre de machine\n",
    "- Sortie : Un dictionnaire avec {mot unique : hash}\n",
    "- Action :\n",
    "\n",
    "A modifier : On prend en entrée une liste de liste de mot.\n",
    "on découpe et on crééer le dictionnaire associé"
   ]
  },
  {
   "cell_type": "code",
   "execution_count": 186,
   "metadata": {},
   "outputs": [],
   "source": [
    "def Shuffle (Liste_de_Liste_de_Mot,NB_Machine):\n",
    "    new_dico = {}\n",
    "    for i in Liste_de_Liste_de_Mot :\n",
    "        #on vas parcourir la liste. prendre un dico à la fois\n",
    "        cle = i[0] #on prend la seule clé du 1er dico\n",
    "        new_dico[cle] = new_dico.get(cle, (hash (cle) % NB_Machine ))\n",
    "        #Si la clé existe on continue, sinon on y met la clé + hash\n",
    "    return (new_dico)"
   ]
  },
  {
   "cell_type": "markdown",
   "metadata": {},
   "source": [
    "## Fonction Reduce\n",
    "On prend une liste de dictionnaire \n",
    "on compte le nombre d'itération"
   ]
  },
  {
   "cell_type": "code",
   "execution_count": 182,
   "metadata": {},
   "outputs": [
    {
     "name": "stdout",
     "output_type": "stream",
     "text": [
      "{'babi': 4, 'bubu': 7}\n"
     ]
    }
   ],
   "source": [
    "Liste_de_Dico = [{'babi' : 1},{'bubu' : 1}]\n",
    "\n",
    "new_dico = {} #un dictionnaire qui contient chaque clé et l'indice machine associée\n",
    "for i in Liste_de_Dico :\n",
    "        #on vas parcourir la liste. prendre un dico à la fois\n",
    "    cle = list(i)[0]\n",
    "    new_dico[cle] = new_dico.get(cle, (hash (cle) % NB_Machine ))\n",
    "print (new_dico)\n",
    "        "
   ]
  },
  {
   "cell_type": "code",
   "execution_count": 181,
   "metadata": {},
   "outputs": [
    {
     "data": {
      "text/plain": [
       "'babi'"
      ]
     },
     "execution_count": 181,
     "metadata": {},
     "output_type": "execute_result"
    }
   ],
   "source": []
  },
  {
   "cell_type": "code",
   "execution_count": 187,
   "metadata": {},
   "outputs": [
    {
     "data": {
      "text/plain": [
       "{'bi': 1, 'ba': 2}"
      ]
     },
     "execution_count": 187,
     "metadata": {},
     "output_type": "execute_result"
    }
   ],
   "source": [
    "Liste_de_Liste_de_Mot = [['bi','bi','bi'],['ba','ba','ba']]\n",
    "\n",
    "test = Shuffle (Liste_de_Liste_de_Mot,5)\n",
    "\n",
    "test"
   ]
  },
  {
   "cell_type": "code",
   "execution_count": null,
   "metadata": {},
   "outputs": [],
   "source": []
  }
 ],
 "metadata": {
  "kernelspec": {
   "display_name": "Python 3",
   "language": "python",
   "name": "python3"
  },
  "language_info": {
   "codemirror_mode": {
    "name": "ipython",
    "version": 3
   },
   "file_extension": ".py",
   "mimetype": "text/x-python",
   "name": "python",
   "nbconvert_exporter": "python",
   "pygments_lexer": "ipython3",
   "version": "3.7.7"
  }
 },
 "nbformat": 4,
 "nbformat_minor": 4
}
