{
 "cells": [
  {
   "cell_type": "markdown",
   "metadata": {},
   "source": [
    "#### Algo1\n",
    "Entrée : un fichier txt\n",
    "Sortie : un dictionnaire avec {mot : itération}"
   ]
  },
  {
   "cell_type": "markdown",
   "metadata": {},
   "source": [
    "## 1er Etape\n",
    "Lire un txt et en faire une string"
   ]
  },
  {
   "cell_type": "code",
   "execution_count": 67,
   "metadata": {},
   "outputs": [
    {
     "data": {
      "text/plain": [
       "'We are not what, we should be\\nWe are not what. we need to be\\nBut at least we are not what we used to be\\n  -- Football Coach\\n\\n'"
      ]
     },
     "execution_count": 67,
     "metadata": {},
     "output_type": "execute_result"
    }
   ],
   "source": [
    "with open('small.txt') as f:\n",
    "    text = f.read()\n",
    "    \n",
    "text"
   ]
  },
  {
   "cell_type": "markdown",
   "metadata": {},
   "source": [
    "## 2e Etape\n",
    "Transformer la string en mot dans un dictionnaire"
   ]
  },
  {
   "cell_type": "code",
   "execution_count": 81,
   "metadata": {},
   "outputs": [
    {
     "name": "stdout",
     "output_type": "stream",
     "text": [
      "Wall time: 0 ns\n"
     ]
    },
    {
     "data": {
      "text/plain": [
       "{'we': 6,\n",
       " 'are': 3,\n",
       " 'not': 3,\n",
       " 'what,': 1,\n",
       " 'should': 1,\n",
       " 'be': 3,\n",
       " 'what.': 1,\n",
       " 'need': 1,\n",
       " 'to': 2,\n",
       " 'but': 1,\n",
       " 'at': 1,\n",
       " 'least': 1,\n",
       " 'what': 1,\n",
       " 'used': 1,\n",
       " '--': 1,\n",
       " 'football': 1,\n",
       " 'coach': 1}"
      ]
     },
     "execution_count": 81,
     "metadata": {},
     "output_type": "execute_result"
    }
   ],
   "source": [
    "%%time\n",
    "#La string en mot\n",
    "words = text.split()\n",
    "#chaque mot créé une clé dans le dico, si elle exsite déjà on incrément la val\n",
    "dico = {}\n",
    "for word in words:\n",
    "    word = word.lower()\n",
    "    dico[word] = dico.get(word, 0) + 1 #get retourne la val de la clé ou la créé sinon\n",
    "    \n",
    "dico"
   ]
  },
  {
   "cell_type": "code",
   "execution_count": 69,
   "metadata": {},
   "outputs": [],
   "source": [
    "%%time\n",
    "dico = dico\n",
    "def draw (dico) :\n",
    "    print (dico)\n",
    "    return"
   ]
  },
  {
   "cell_type": "code",
   "execution_count": 85,
   "metadata": {},
   "outputs": [
    {
     "name": "stdout",
     "output_type": "stream",
     "text": [
      "Wall time: 0 ns\n"
     ]
    }
   ],
   "source": [
    "%%time\n",
    "def draw_alpha(dico):\n",
    "    \n",
    "    new = sorted (dico.items(), key= lambda x : x[0],reverse = False)\n",
    "    for k,v in new :\n",
    "        print (k ,\" , \", v)    \n",
    "    return\n",
    "\n",
    "\n"
   ]
  },
  {
   "cell_type": "markdown",
   "metadata": {},
   "source": [
    "#### "
   ]
  },
  {
   "cell_type": "code",
   "execution_count": 84,
   "metadata": {},
   "outputs": [
    {
     "name": "stdout",
     "output_type": "stream",
     "text": [
      "{'we': 6, 'are': 3, 'not': 3, 'what,': 1, 'should': 1, 'be': 3, 'what.': 1, 'need': 1, 'to': 2, 'but': 1, 'at': 1, 'least': 1, 'what': 1, 'used': 1, '--': 1, 'football': 1, 'coach': 1}\n"
     ]
    }
   ],
   "source": [
    "draw(dico)"
   ]
  },
  {
   "cell_type": "code",
   "execution_count": null,
   "metadata": {},
   "outputs": [],
   "source": []
  },
  {
   "cell_type": "code",
   "execution_count": 80,
   "metadata": {
    "collapsed": true
   },
   "outputs": [
    {
     "name": "stdout",
     "output_type": "stream",
     "text": [
      "--  ,  1\n",
      "are  ,  3\n",
      "at  ,  1\n",
      "be  ,  3\n",
      "but  ,  1\n",
      "coach  ,  1\n",
      "football  ,  1\n",
      "least  ,  1\n",
      "need  ,  1\n",
      "not  ,  3\n",
      "should  ,  1\n",
      "to  ,  2\n",
      "used  ,  1\n",
      "we  ,  6\n",
      "what  ,  1\n",
      "what,  ,  1\n",
      "what.  ,  1\n"
     ]
    }
   ],
   "source": [
    "draw_alpha(dico)"
   ]
  },
  {
   "cell_type": "code",
   "execution_count": 63,
   "metadata": {},
   "outputs": [
    {
     "name": "stdout",
     "output_type": "stream",
     "text": [
      "un  ,  1\n",
      "deux  ,  2\n"
     ]
    }
   ],
   "source": [
    "dico = {'un' : 1, 'deux' : 2}\n",
    "new = sorted (dico.items(), key= lambda x : x[1])\n",
    "\n",
    "for k,v in new :\n",
    "    print (k ,\" , \", v)\n",
    "#sort_orders = sorted(orders.items(), key=lambda x: x[1], reverse=True)"
   ]
  },
  {
   "cell_type": "code",
   "execution_count": 55,
   "metadata": {},
   "outputs": [
    {
     "data": {
      "text/plain": [
       "dict_keys(['un', 'deux'])"
      ]
     },
     "execution_count": 55,
     "metadata": {},
     "output_type": "execute_result"
    }
   ],
   "source": [
    "x = 'un'\n",
    "dico.keys()"
   ]
  },
  {
   "cell_type": "code",
   "execution_count": null,
   "metadata": {},
   "outputs": [],
   "source": []
  }
 ],
 "metadata": {
  "kernelspec": {
   "display_name": "Python 3",
   "language": "python",
   "name": "python3"
  },
  "language_info": {
   "codemirror_mode": {
    "name": "ipython",
    "version": 3
   },
   "file_extension": ".py",
   "mimetype": "text/x-python",
   "name": "python",
   "nbconvert_exporter": "python",
   "pygments_lexer": "ipython3",
   "version": "3.7.7"
  }
 },
 "nbformat": 4,
 "nbformat_minor": 4
}
