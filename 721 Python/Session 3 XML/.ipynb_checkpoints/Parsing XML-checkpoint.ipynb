{
 "cells": [
  {
   "cell_type": "markdown",
   "metadata": {},
   "source": [
    "## Parsing XML (Extensible Markup Language)"
   ]
  },
  {
   "cell_type": "markdown",
   "metadata": {},
   "source": [
    "Documentation : https://fr.wikipedia.org/wiki/Extensible_Markup_Language\n",
    "\n",
    "Librairie lxml : https://lxml.de/tutorial.html"
   ]
  },
  {
   "cell_type": "code",
   "execution_count": null,
   "metadata": {},
   "outputs": [],
   "source": [
    "# imports\n",
    "import pandas as pd\n",
    "from lxml import etree\n",
    "\n",
    "# options d'affichage\n",
    "pd.set_option(\"display.min_rows\", 16)"
   ]
  },
  {
   "cell_type": "markdown",
   "metadata": {},
   "source": [
    "**Exemple**\n",
    "\n",
    "Les 150 propositions de la Convention Citoyenne pour le Climat\n",
    "\n",
    "https://www.data.gouv.fr/fr/datasets/les-150-propositions-de-la-convention-citoyenne-pour-le-climat/"
   ]
  },
  {
   "cell_type": "code",
   "execution_count": null,
   "metadata": {},
   "outputs": [],
   "source": [
    "# visualisation du fichier\n",
    "%pycat propositions.xml"
   ]
  },
  {
   "cell_type": "code",
   "execution_count": null,
   "metadata": {},
   "outputs": [],
   "source": [
    "# parsing XML\n",
    "root = etree.parse('propositions.xml')"
   ]
  },
  {
   "cell_type": "code",
   "execution_count": null,
   "metadata": {},
   "outputs": [],
   "source": [
    "# type\n",
    "type(root)"
   ]
  },
  {
   "cell_type": "code",
   "execution_count": null,
   "metadata": {},
   "outputs": [],
   "source": [
    "# trouver un élément\n",
    "element = root.find('categorie')"
   ]
  },
  {
   "cell_type": "code",
   "execution_count": null,
   "metadata": {},
   "outputs": [],
   "source": [
    "# type\n",
    "type(element)"
   ]
  },
  {
   "cell_type": "code",
   "execution_count": null,
   "metadata": {},
   "outputs": [],
   "source": [
    "# parent\n",
    "element.getparent()"
   ]
  },
  {
   "cell_type": "code",
   "execution_count": null,
   "metadata": {},
   "outputs": [],
   "source": [
    "# attribut\n",
    "element.attrib['titre']"
   ]
  },
  {
   "cell_type": "code",
   "execution_count": null,
   "metadata": {},
   "outputs": [],
   "source": [
    "# trouver un élément\n",
    "element = root.find('categorie').find('sousCategorie').find('proposition')"
   ]
  },
  {
   "cell_type": "code",
   "execution_count": null,
   "metadata": {},
   "outputs": [],
   "source": [
    "# text\n",
    "element.text"
   ]
  },
  {
   "cell_type": "code",
   "execution_count": null,
   "metadata": {},
   "outputs": [],
   "source": [
    "# nombre de catégories: getiterator\n",
    "len([node for node in root.getiterator('categorie')])"
   ]
  },
  {
   "cell_type": "code",
   "execution_count": null,
   "metadata": {},
   "outputs": [],
   "source": [
    "# nombre de sous-catégories: getiterator\n",
    "len([node for node in root.getiterator('sousCategorie')])"
   ]
  },
  {
   "cell_type": "code",
   "execution_count": null,
   "metadata": {},
   "outputs": [],
   "source": [
    "# nombre de propositions: getiterator\n",
    "len([node for node in root.getiterator('proposition')])"
   ]
  },
  {
   "cell_type": "code",
   "execution_count": null,
   "metadata": {},
   "outputs": [],
   "source": [
    "# print categorie / sousCategorie / proposition\n",
    "for node_categorie in root.getiterator('categorie'):\n",
    "    \n",
    "    print(node_categorie.attrib['titre'])\n",
    "    \n",
    "    for node_sousCategorie in node_categorie.getiterator('sousCategorie'):\n",
    "        \n",
    "        print('> ', node_sousCategorie.attrib['titre'])\n",
    "        \n",
    "        for node_proposition in node_sousCategorie.getiterator('proposition'):\n",
    "            \n",
    "            print('>> ', node_proposition.text)"
   ]
  },
  {
   "cell_type": "code",
   "execution_count": null,
   "metadata": {},
   "outputs": [],
   "source": [
    "# imports\n",
    "import pandas as pd\n",
    "\n",
    "# fabrication d'un DataFrame à partir d'une liste de dict\n",
    "l = [\n",
    "    {'a': 1, 'b': 2},\n",
    "    {'a': 3, 'b': 4},\n",
    "    {'a': 5, 'b': 6},\n",
    "]\n",
    "\n",
    "pd.DataFrame(l)"
   ]
  },
  {
   "cell_type": "code",
   "execution_count": null,
   "metadata": {},
   "outputs": [],
   "source": [
    "# fabrication d'un DataFrame à partir du XML\n",
    "liste = [\n",
    "    {'categorie': node_category.attrib['titre'],\n",
    "    'sousCategorie': node_subcategory.attrib['titre'],\n",
    "    'proposition': node_proposition.text}\n",
    "        for node_category in root.getiterator('categorie')\n",
    "            for node_subcategory in node_category.getiterator('sousCategorie')\n",
    "                for node_proposition in node_subcategory.getiterator('proposition')]\n",
    "\n",
    "df = pd.DataFrame(liste)\n",
    "df"
   ]
  },
  {
   "cell_type": "code",
   "execution_count": null,
   "metadata": {},
   "outputs": [],
   "source": [
    "# catégories\n",
    "df['categorie'].value_counts()"
   ]
  },
  {
   "cell_type": "code",
   "execution_count": null,
   "metadata": {},
   "outputs": [],
   "source": [
    "# requêtes\n",
    "df['proposition'].str.contains('biodiversité').sum()"
   ]
  },
  {
   "cell_type": "code",
   "execution_count": null,
   "metadata": {},
   "outputs": [],
   "source": [
    "# requêtes\n",
    "print(*df.loc[df['proposition'].str.contains('biodiversité'), 'proposition'].values, sep='\\n')"
   ]
  },
  {
   "cell_type": "code",
   "execution_count": null,
   "metadata": {},
   "outputs": [],
   "source": [
    "# requêtes\n",
    "df['proposition'].str.contains('énergie').sum()"
   ]
  },
  {
   "cell_type": "code",
   "execution_count": null,
   "metadata": {},
   "outputs": [],
   "source": [
    "# requêtes\n",
    "print(*df.loc[df['proposition'].str.contains('énergie'), 'proposition'].values, sep='\\n')"
   ]
  },
  {
   "cell_type": "markdown",
   "metadata": {},
   "source": [
    "**Exercice 1**\n",
    "\n",
    "Produire un DataFrame avec les colonnes : categorie, sousCategorie, oui (float)."
   ]
  },
  {
   "cell_type": "code",
   "execution_count": null,
   "metadata": {
    "scrolled": true
   },
   "outputs": [],
   "source": [
    "# fabrication d'un DataFrame à partir du XML\n",
    "liste = [\n",
    "    {'categorie': node_category.attrib['titre'],\n",
    "    'sousCategorie': node_subcategory.attrib['titre'],\n",
    "    'oui': node_oui.text    \n",
    "    }\n",
    "        for node_category in root.getiterator('categorie')\n",
    "            for node_subcategory in node_category.getiterator('sousCategorie')\n",
    "                for node_oui in node_subcategory.getiterator('oui')]\n",
    "\n",
    "df = pd.DataFrame(liste)\n",
    "df[\"oui\"]=df[\"oui\"].str.replace(',','.',1).astype(float)\n",
    "df.head()"
   ]
  },
  {
   "cell_type": "markdown",
   "metadata": {},
   "source": [
    "**Exercice 2**\n",
    "\n",
    "- Produire un DataFrame avec les colonnes : categorie, sousCategorie, oui (float), non (float), blancs (float).\n",
    "- Calculer les sommes oui + non + blancs et oui + non &#9786;"
   ]
  },
  {
   "cell_type": "code",
   "execution_count": null,
   "metadata": {
    "scrolled": true
   },
   "outputs": [],
   "source": [
    "# fabrication d'un DataFrame à partir du XML\n",
    "liste = [\n",
    "    {'categorie': node_category.attrib['titre'],\n",
    "     'sousCategorie': node_subcategory.attrib['titre'],\n",
    "     'oui': node_vote.find(\"oui\").text,\n",
    "     'non': node_vote.find(\"non\").text,\n",
    "     'blancs': node_vote.find(\"blancs\").text\n",
    "    }\n",
    "        for node_category in root.getiterator('categorie')\n",
    "            for node_subcategory in node_category.getiterator('sousCategorie')\n",
    "                for node_vote in node_subcategory.getiterator('vote')\n",
    "]\n",
    "\n",
    "df = pd.DataFrame(liste)\n",
    "df[\"oui\"]=df[\"oui\"].str.replace(',','.',1).astype(float)\n",
    "df[[\"non\",\"blancs\"]]=df[[\"non\",\"blancs\"]]\\\n",
    "    .applymap(lambda x : x.replace(',','.',1)).astype(float)\n",
    "df"
   ]
  },
  {
   "cell_type": "code",
   "execution_count": null,
   "metadata": {},
   "outputs": [],
   "source": [
    "df[[\"oui\",\"non\"]].sum(axis=1)"
   ]
  },
  {
   "cell_type": "markdown",
   "metadata": {},
   "source": [
    "**Exercice 3**\n",
    "\n",
    "- Calculer un dictionnaire fréquentiel des mots  des propositions.\n",
    "- Le mettre dans un objet de type Series."
   ]
  },
  {
   "cell_type": "code",
   "execution_count": null,
   "metadata": {},
   "outputs": [],
   "source": [
    "# re.findall()\n",
    "import re\n",
    "re.findall('[A-Za-zÀ-ÿ0-9]+', 'la fonction findall est très utile.')"
   ]
  },
  {
   "cell_type": "code",
   "execution_count": null,
   "metadata": {},
   "outputs": [],
   "source": [
    "from collections import Counter\n",
    "c = Counter()\n",
    "df_prop[\"proposition\"].apply(lambda x: c.update(re.findall('[A-Za-zÀ-ÿ0-9]+',x.lower())))\n",
    "voc = pd.Series(dict(c))\n",
    "voc = voc.sort_values(ascending=False)\n",
    "voc #stopword > nltk.corpus stopwords"
   ]
  },
  {
   "cell_type": "code",
   "execution_count": null,
   "metadata": {},
   "outputs": [],
   "source": [
    "# Counter\n",
    "from collections import Counter\n",
    "x = Counter()\n",
    "#x.update(a)\n",
    "#[(l,k) for k,l in sorted([(j,i) for i,j in x.items()], reverse=True)]"
   ]
  },
  {
   "cell_type": "markdown",
   "metadata": {},
   "source": [
    "#### Validation XML / XSD"
   ]
  },
  {
   "cell_type": "markdown",
   "metadata": {},
   "source": [
    "Il existe un langage de description de schéma XML appelé XSD (XML Schema Definition). Un fichier XML peut être écrit selon un schéma XSD particulier. Il existe une librairie Python qui peut vérifier qu'un fichier XML est valide selon un schéma XSD donné.\n",
    "\n",
    "Librairie xmlschema :\n",
    "https://pypi.org/project/xmlschema/\n",
    "\n",
    "L'utilisation de la librairie est assez simple :\n",
    "\n",
    "<pre>\n",
    ">>> # vérification que le fichier \"file.xml\" est valide dans le schéma \"schema.xsd\"\n",
    ">>> import xmlschema\n",
    ">>> my_schema = xmlschema.XMLSchema('schema.xsd')\n",
    ">>> #\n",
    ">>> # retourne un booléen selon la validité\n",
    ">>> my_schema.is_valid('file.xml')\n",
    "</pre>"
   ]
  }
 ],
 "metadata": {
  "kernelspec": {
   "display_name": "Python 3",
   "language": "python",
   "name": "python3"
  },
  "language_info": {
   "codemirror_mode": {
    "name": "ipython",
    "version": 3
   },
   "file_extension": ".py",
   "mimetype": "text/x-python",
   "name": "python",
   "nbconvert_exporter": "python",
   "pygments_lexer": "ipython3",
   "version": "3.7.6"
  }
 },
 "nbformat": 4,
 "nbformat_minor": 4
}
