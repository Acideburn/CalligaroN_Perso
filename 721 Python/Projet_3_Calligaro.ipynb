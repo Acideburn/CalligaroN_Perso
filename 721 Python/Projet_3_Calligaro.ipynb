{
 "cells": [
  {
   "cell_type": "markdown",
   "metadata": {},
   "source": [
    "# Projet 3"
   ]
  },
  {
   "cell_type": "code",
   "execution_count": 2,
   "metadata": {},
   "outputs": [],
   "source": [
    "import unittest\n",
    "import requests\n",
    "import re\n",
    "from bs4 import BeautifulSoup"
   ]
  },
  {
   "cell_type": "code",
   "execution_count": 5,
   "metadata": {},
   "outputs": [],
   "source": [
    "URL_PAGE2 = \"https://kim.fspot.org/cours/page2.html\"\n",
    "URL_PAGE3 = \"https://kim.fspot.org/cours/page3.html\"\n",
    "URL_PAGE4 = \"https://www.beerwulf.com/fr-fr/p/bieres/brouwerij-t-verzet-super-noah.33\"\n",
    "URL_PAGE5 = \"https://www.beerwulf.com/fr-FR/api/search/searchProducts?country=Autriche&container=Bouteille\""
   ]
  },
  {
   "cell_type": "code",
   "execution_count": 62,
   "metadata": {},
   "outputs": [
    {
     "data": {
      "text/plain": [
       "{'Personal': {'prices': '$5', 'storage': '1GB', 'database': '1'},\n",
       " 'Small Business': {'prices': '$25', 'storage': '10GB', 'database': '5'},\n",
       " 'Enterprise': {'prices': '$45', 'storage': '100GB', 'database': '25'}}"
      ]
     },
     "execution_count": 62,
     "metadata": {},
     "output_type": "execute_result"
    }
   ],
   "source": [
    "r = requests.get('https://kim.fspot.org/cours/page2.html')\n",
    "content = r.content.decode('utf-8')\n",
    "soup = BeautifulSoup(content,features = 'lxml')\n",
    "\n",
    "\n",
    "prices = {i.find('h2').text : \n",
    "           {\n",
    "            'prices' : i.find('span',{'class' : ['pricing-table-price']}).text.split()[0],\n",
    "            'storage' : i.find('ul').find_all('li')[3].text.split()[0],  \n",
    "            'database' : i.find('ul').find_all('li')[4].text.split()[0], \n",
    "           }   \n",
    "         for i in soup.find_all('div',{'class' : ['pricing-table']})\n",
    "         }\n",
    "prices\n",
    "    \n",
    "    "
   ]
  },
  {
   "cell_type": "code",
   "execution_count": null,
   "metadata": {},
   "outputs": [],
   "source": []
  },
  {
   "cell_type": "code",
   "execution_count": null,
   "metadata": {},
   "outputs": [],
   "source": []
  },
  {
   "cell_type": "code",
   "execution_count": 1,
   "metadata": {},
   "outputs": [],
   "source": [
    "def get_prices_from_url(url):\n",
    "\"\"\"\n",
    "1er solution avec les regex\n",
    "\"\"\"\n",
    "    r = requests.get(url)\n",
    "    content = r.content.decode('utf-8')\n",
    "    soup = BeautifulSoup(content,)\n",
    "    subtitre = soup.find_all('h2')\n",
    "    cat = []\n",
    "    for i in subtitre :\n",
    "        cat.append(i.text)\n",
    "    #print (cat)\n",
    "    rx = re.compile('\"pricing-table-price\">\\\\n\\s*(\\$\\d*)|<li>(\\d*\\w*) file storage</li>|<li>(\\d*) databases*</li>')\n",
    "    l = []\n",
    "    for match in rx.finditer(content):\n",
    "        if match.group(1) :\n",
    "            l.append(match.group(1))\n",
    "        elif match.group(2) :\n",
    "            l.append(match.group(2))\n",
    "        elif match.group(3) :\n",
    "            l.append(match.group(3))\n",
    "\n",
    "    #print (l)\n",
    "    d = dict()\n",
    "    for i in range(len(l)//3):\n",
    "        d[cat[i]] = dict(zip(['price','storage','database'],l))\n",
    "        l=l[3:]\n",
    "    #print (l)\n",
    "    #print(cat)\n",
    "    #print (d)\n",
    "    return d\n",
    "\n",
    "def get_prices_from_url2(url):\n",
    "\"\"\"\n",
    "1er solution avec le parsing XML et BeautifulSoup\n",
    "\"\"\"\n",
    "    r = requests.get('https://kim.fspot.org/cours/page2.html')\n",
    "    content = r.content.decode('utf-8')\n",
    "    soup = BeautifulSoup(content,features = 'lxml')\n",
    "    prices = {i.find('h2').text : \n",
    "           {\n",
    "            'prices' : i.find('span',{'class' : ['pricing-table-price']}).text.split()[0],\n",
    "            'storage' : i.find('ul').find_all('li')[3].text.split()[0],  \n",
    "            'database' : i.find('ul').find_all('li')[4].text.split()[0], \n",
    "           }   \n",
    "         for i in soup.find_all('div',{'class' : ['pricing-table']})\n",
    "         }\n",
    "    return prices"
   ]
  },
  {
   "cell_type": "code",
   "execution_count": 4,
   "metadata": {},
   "outputs": [],
   "source": [
    "BeautifulSoup?\n"
   ]
  },
  {
   "cell_type": "code",
   "execution_count": 46,
   "metadata": {},
   "outputs": [
    {
     "data": {
      "text/plain": [
       "{'Personal': {'price': '$5', 'storage': '1GB', 'database': '1'},\n",
       " 'Small Business': {'price': '$25', 'storage': '10GB', 'database': '5'},\n",
       " 'Enterprise': {'price': '$45', 'storage': '100GB', 'database': '25'}}"
      ]
     },
     "execution_count": 46,
     "metadata": {},
     "output_type": "execute_result"
    }
   ],
   "source": [
    "get_prices_from_url(URL_PAGE2)\n"
   ]
  },
  {
   "cell_type": "code",
   "execution_count": 49,
   "metadata": {
    "scrolled": true
   },
   "outputs": [
    {
     "data": {
      "text/plain": [
       "{'Personal': {'price': '$5', 'storage': '1GB', 'database': '1'},\n",
       " 'Small Business': {'price': '$25', 'storage': '10GB', 'database': '5'},\n",
       " 'Enterprise': {'price': '$45', 'storage': '100GB', 'database': '25'},\n",
       " 'Privilege': {'price': '$99', 'storage': '1TB', 'database': '100'}}"
      ]
     },
     "execution_count": 49,
     "metadata": {},
     "output_type": "execute_result"
    }
   ],
   "source": [
    "get_prices_from_url(URL_PAGE3)"
   ]
  },
  {
   "cell_type": "code",
   "execution_count": 3,
   "metadata": {},
   "outputs": [],
   "source": [
    "def extract_beer_infos(url):\n",
    "    infos = {\n",
    "        'name': None,\n",
    "        'note': None,\n",
    "        'price': None,\n",
    "        'volume': None,\n",
    "    }\n",
    "    r = requests.get(url)\n",
    "    content = r.content.decode('utf-8')\n",
    "    soup = BeautifulSoup(content)\n",
    "    \n",
    "    name = soup.find('h1')\n",
    "    infos['name'] = name.text\n",
    "    \n",
    "    price_raw = soup.find('span', {'class': \"price\"})\n",
    "    price = re.search('(\\d+,\\d+) €',price_raw.text).group(1)\n",
    "    infos['price'] = price\n",
    "    \n",
    "    volume_raw = soup.find_all('span')\n",
    "    volume = re.search('(\\d+) cl',str(volume_raw)).group(1)\n",
    "    infos['volume'] = volume\n",
    "    \n",
    "    note_raw = soup.select('div.stars')\n",
    "    note = re.search('<div class=\"stars\" data-percent=\"(\\d+)\"></div>',str(note_raw[0])).group(1)\n",
    "    infos['note'] = note\n",
    "        \n",
    "    return infos"
   ]
  },
  {
   "cell_type": "code",
   "execution_count": 189,
   "metadata": {},
   "outputs": [
    {
     "data": {
      "text/plain": [
       "{'name': \"Brouwerij 'T Verzet Super NoAH\",\n",
       " 'note': '70',\n",
       " 'price': '2,59',\n",
       " 'volume': '33'}"
      ]
     },
     "execution_count": 189,
     "metadata": {},
     "output_type": "execute_result"
    }
   ],
   "source": [
    "info = extract_beer_infos(URL_PAGE4)\n",
    "info"
   ]
  },
  {
   "cell_type": "code",
   "execution_count": 4,
   "metadata": {},
   "outputs": [],
   "source": [
    "def extract_beer_list_infos(url):\n",
    "    response = requests.get(f'{url}')\n",
    "    data = response.json()\n",
    "    # Collecter les pages de bières à partir du JSON\n",
    "    beer_pages = []\n",
    "    for i in data['items']:\n",
    "        beer_pages.append(\"https://www.beerwulf.com\" + i['contentReference'])\n",
    "    \n",
    "    \n",
    "    # Sequential version (slow):\n",
    "    beers = []\n",
    "    for i in beer_pages :\n",
    "        beers.append(extract_beer_infos(i))\n",
    "        #print (i,' page traité')\n",
    "        \n",
    "\n",
    "    # Parallel version (faster):\n",
    "    # beers = []\n",
    "\n",
    "    return beers"
   ]
  },
  {
   "cell_type": "code",
   "execution_count": 6,
   "metadata": {},
   "outputs": [
    {
     "name": "stdout",
     "output_type": "stream",
     "text": [
      "https://www.beerwulf.com/fr-fr/p/bieres/engelzell-trappisten-weibe-bottle-.33  page traité\n",
      "https://www.beerwulf.com/fr-fr/p/bieres/engelszell-gregorius.33  page traité\n",
      "https://www.beerwulf.com/fr-fr/p/bieres/engelszell-benno.33  page traité\n",
      "https://www.beerwulf.com/fr-fr/p/bieres/bevog-rudeen-black-ipa.33  page traité\n",
      "https://www.beerwulf.com/fr-fr/p/bieres/bevog-tak-pale-ale.33  page traité\n",
      "https://www.beerwulf.com/fr-fr/p/bieres/brew-age-affenkonig.33  page traité\n",
      "https://www.beerwulf.com/fr-fr/p/bieres/stiegl-goldbrau.33  page traité\n",
      "https://www.beerwulf.com/fr-fr/p/bieres/stiegl-columbus-149233  page traité\n",
      "https://www.beerwulf.com/fr-fr/p/bieres/brew-age-hopfenauflauf.33  page traité\n",
      "Wall time: 4.79 s\n"
     ]
    }
   ],
   "source": [
    "%%time\n",
    "sol = extract_beer_list_infos(URL_PAGE5)\n",
    "sol"
   ]
  },
  {
   "cell_type": "markdown",
   "metadata": {},
   "source": [
    "Version parallèle"
   ]
  },
  {
   "cell_type": "code",
   "execution_count": 8,
   "metadata": {},
   "outputs": [],
   "source": [
    "from multiprocessing import Pool\n",
    "def extract_beer_list_infos_P(url):\n",
    "    response = requests.get(f'{url}')\n",
    "    data = response.json()\n",
    "    # Collecter les pages de bières à partir du JSON\n",
    "    beer_pages = []\n",
    "    for i in data['items']:\n",
    "        beer_pages.append(\"https://www.beerwulf.com\" + i['contentReference'])\n",
    "    \n",
    "    \n",
    "    # Sequential version (slow):\n",
    "    #beers = []\n",
    "    #for i in beer_pages :\n",
    "    #    beers.append(extract_beer_infos(i))\n",
    "        \n",
    "\n",
    "    # Parallel version (faster):\n",
    "    beers = []\n",
    "    with Pool(9) as p :\n",
    "        print (p.map(extract_beer_infos,beer_pages))\n",
    "\n",
    "    return beers"
   ]
  },
  {
   "cell_type": "code",
   "execution_count": null,
   "metadata": {},
   "outputs": [],
   "source": [
    "%%time\n",
    "extract_beer_list_infos_P(URL_PAGE5)\n"
   ]
  },
  {
   "cell_type": "code",
   "execution_count": null,
   "metadata": {},
   "outputs": [],
   "source": []
  }
 ],
 "metadata": {
  "kernelspec": {
   "display_name": "Python 3",
   "language": "python",
   "name": "python3"
  },
  "language_info": {
   "codemirror_mode": {
    "name": "ipython",
    "version": 3
   },
   "file_extension": ".py",
   "mimetype": "text/x-python",
   "name": "python",
   "nbconvert_exporter": "python",
   "pygments_lexer": "ipython3",
   "version": "3.7.6"
  }
 },
 "nbformat": 4,
 "nbformat_minor": 4
}
